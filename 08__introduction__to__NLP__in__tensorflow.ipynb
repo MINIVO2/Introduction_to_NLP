{
  "nbformat": 4,
  "nbformat_minor": 0,
  "metadata": {
    "colab": {
      "provenance": [],
      "authorship_tag": "ABX9TyP+Vz0j/DgAW9GuUGXEyhuW",
      "include_colab_link": true
    },
    "kernelspec": {
      "name": "python3",
      "display_name": "Python 3"
    },
    "language_info": {
      "name": "python"
    }
  },
  "cells": [
    {
      "cell_type": "markdown",
      "metadata": {
        "id": "view-in-github",
        "colab_type": "text"
      },
      "source": [
        "<a href=\"https://colab.research.google.com/github/MINIVO2/Introduction_to_NLP/blob/main/08__introduction__to__NLP__in__tensorflow.ipynb\" target=\"_parent\"><img src=\"https://colab.research.google.com/assets/colab-badge.svg\" alt=\"Open In Colab\"/></a>"
      ]
    },
    {
      "cell_type": "markdown",
      "source": [
        "#introduction to NLP Fundamentals in tensorflow\n",
        "\n",
        "also known as sequence to sequence problem"
      ],
      "metadata": {
        "id": "iCDnd2esN8B3"
      }
    },
    {
      "cell_type": "markdown",
      "source": [
        "##Get Helper Functions"
      ],
      "metadata": {
        "id": "O2xGnPhgOxBR"
      }
    },
    {
      "cell_type": "code",
      "source": [
        "pip install tf_keras"
      ],
      "metadata": {
        "colab": {
          "base_uri": "https://localhost:8080/"
        },
        "id": "G7ZFCDzyYQAY",
        "outputId": "55be839f-baf5-44c5-fa7f-b1e3861665c6"
      },
      "execution_count": null,
      "outputs": [
        {
          "output_type": "stream",
          "name": "stdout",
          "text": [
            "Requirement already satisfied: tf_keras in /usr/local/lib/python3.11/dist-packages (2.18.0)\n",
            "Requirement already satisfied: tensorflow<2.19,>=2.18 in /usr/local/lib/python3.11/dist-packages (from tf_keras) (2.18.0)\n",
            "Requirement already satisfied: absl-py>=1.0.0 in /usr/local/lib/python3.11/dist-packages (from tensorflow<2.19,>=2.18->tf_keras) (1.4.0)\n",
            "Requirement already satisfied: astunparse>=1.6.0 in /usr/local/lib/python3.11/dist-packages (from tensorflow<2.19,>=2.18->tf_keras) (1.6.3)\n",
            "Requirement already satisfied: flatbuffers>=24.3.25 in /usr/local/lib/python3.11/dist-packages (from tensorflow<2.19,>=2.18->tf_keras) (25.2.10)\n",
            "Requirement already satisfied: gast!=0.5.0,!=0.5.1,!=0.5.2,>=0.2.1 in /usr/local/lib/python3.11/dist-packages (from tensorflow<2.19,>=2.18->tf_keras) (0.6.0)\n",
            "Requirement already satisfied: google-pasta>=0.1.1 in /usr/local/lib/python3.11/dist-packages (from tensorflow<2.19,>=2.18->tf_keras) (0.2.0)\n",
            "Requirement already satisfied: libclang>=13.0.0 in /usr/local/lib/python3.11/dist-packages (from tensorflow<2.19,>=2.18->tf_keras) (18.1.1)\n",
            "Requirement already satisfied: opt-einsum>=2.3.2 in /usr/local/lib/python3.11/dist-packages (from tensorflow<2.19,>=2.18->tf_keras) (3.4.0)\n",
            "Requirement already satisfied: packaging in /usr/local/lib/python3.11/dist-packages (from tensorflow<2.19,>=2.18->tf_keras) (24.2)\n",
            "Requirement already satisfied: protobuf!=4.21.0,!=4.21.1,!=4.21.2,!=4.21.3,!=4.21.4,!=4.21.5,<6.0.0dev,>=3.20.3 in /usr/local/lib/python3.11/dist-packages (from tensorflow<2.19,>=2.18->tf_keras) (5.29.4)\n",
            "Requirement already satisfied: requests<3,>=2.21.0 in /usr/local/lib/python3.11/dist-packages (from tensorflow<2.19,>=2.18->tf_keras) (2.32.3)\n",
            "Requirement already satisfied: setuptools in /usr/local/lib/python3.11/dist-packages (from tensorflow<2.19,>=2.18->tf_keras) (75.1.0)\n",
            "Requirement already satisfied: six>=1.12.0 in /usr/local/lib/python3.11/dist-packages (from tensorflow<2.19,>=2.18->tf_keras) (1.17.0)\n",
            "Requirement already satisfied: termcolor>=1.1.0 in /usr/local/lib/python3.11/dist-packages (from tensorflow<2.19,>=2.18->tf_keras) (2.5.0)\n",
            "Requirement already satisfied: typing-extensions>=3.6.6 in /usr/local/lib/python3.11/dist-packages (from tensorflow<2.19,>=2.18->tf_keras) (4.12.2)\n",
            "Requirement already satisfied: wrapt>=1.11.0 in /usr/local/lib/python3.11/dist-packages (from tensorflow<2.19,>=2.18->tf_keras) (1.17.2)\n",
            "Requirement already satisfied: grpcio<2.0,>=1.24.3 in /usr/local/lib/python3.11/dist-packages (from tensorflow<2.19,>=2.18->tf_keras) (1.71.0)\n",
            "Requirement already satisfied: tensorboard<2.19,>=2.18 in /usr/local/lib/python3.11/dist-packages (from tensorflow<2.19,>=2.18->tf_keras) (2.18.0)\n",
            "Requirement already satisfied: keras>=3.5.0 in /usr/local/lib/python3.11/dist-packages (from tensorflow<2.19,>=2.18->tf_keras) (3.8.0)\n",
            "Requirement already satisfied: numpy<2.1.0,>=1.26.0 in /usr/local/lib/python3.11/dist-packages (from tensorflow<2.19,>=2.18->tf_keras) (2.0.2)\n",
            "Requirement already satisfied: h5py>=3.11.0 in /usr/local/lib/python3.11/dist-packages (from tensorflow<2.19,>=2.18->tf_keras) (3.13.0)\n",
            "Requirement already satisfied: ml-dtypes<0.5.0,>=0.4.0 in /usr/local/lib/python3.11/dist-packages (from tensorflow<2.19,>=2.18->tf_keras) (0.4.1)\n",
            "Requirement already satisfied: tensorflow-io-gcs-filesystem>=0.23.1 in /usr/local/lib/python3.11/dist-packages (from tensorflow<2.19,>=2.18->tf_keras) (0.37.1)\n",
            "Requirement already satisfied: wheel<1.0,>=0.23.0 in /usr/local/lib/python3.11/dist-packages (from astunparse>=1.6.0->tensorflow<2.19,>=2.18->tf_keras) (0.45.1)\n",
            "Requirement already satisfied: rich in /usr/local/lib/python3.11/dist-packages (from keras>=3.5.0->tensorflow<2.19,>=2.18->tf_keras) (13.9.4)\n",
            "Requirement already satisfied: namex in /usr/local/lib/python3.11/dist-packages (from keras>=3.5.0->tensorflow<2.19,>=2.18->tf_keras) (0.0.8)\n",
            "Requirement already satisfied: optree in /usr/local/lib/python3.11/dist-packages (from keras>=3.5.0->tensorflow<2.19,>=2.18->tf_keras) (0.14.1)\n",
            "Requirement already satisfied: charset-normalizer<4,>=2 in /usr/local/lib/python3.11/dist-packages (from requests<3,>=2.21.0->tensorflow<2.19,>=2.18->tf_keras) (3.4.1)\n",
            "Requirement already satisfied: idna<4,>=2.5 in /usr/local/lib/python3.11/dist-packages (from requests<3,>=2.21.0->tensorflow<2.19,>=2.18->tf_keras) (3.10)\n",
            "Requirement already satisfied: urllib3<3,>=1.21.1 in /usr/local/lib/python3.11/dist-packages (from requests<3,>=2.21.0->tensorflow<2.19,>=2.18->tf_keras) (2.3.0)\n",
            "Requirement already satisfied: certifi>=2017.4.17 in /usr/local/lib/python3.11/dist-packages (from requests<3,>=2.21.0->tensorflow<2.19,>=2.18->tf_keras) (2025.1.31)\n",
            "Requirement already satisfied: markdown>=2.6.8 in /usr/local/lib/python3.11/dist-packages (from tensorboard<2.19,>=2.18->tensorflow<2.19,>=2.18->tf_keras) (3.7)\n",
            "Requirement already satisfied: tensorboard-data-server<0.8.0,>=0.7.0 in /usr/local/lib/python3.11/dist-packages (from tensorboard<2.19,>=2.18->tensorflow<2.19,>=2.18->tf_keras) (0.7.2)\n",
            "Requirement already satisfied: werkzeug>=1.0.1 in /usr/local/lib/python3.11/dist-packages (from tensorboard<2.19,>=2.18->tensorflow<2.19,>=2.18->tf_keras) (3.1.3)\n",
            "Requirement already satisfied: MarkupSafe>=2.1.1 in /usr/local/lib/python3.11/dist-packages (from werkzeug>=1.0.1->tensorboard<2.19,>=2.18->tensorflow<2.19,>=2.18->tf_keras) (3.0.2)\n",
            "Requirement already satisfied: markdown-it-py>=2.2.0 in /usr/local/lib/python3.11/dist-packages (from rich->keras>=3.5.0->tensorflow<2.19,>=2.18->tf_keras) (3.0.0)\n",
            "Requirement already satisfied: pygments<3.0.0,>=2.13.0 in /usr/local/lib/python3.11/dist-packages (from rich->keras>=3.5.0->tensorflow<2.19,>=2.18->tf_keras) (2.18.0)\n",
            "Requirement already satisfied: mdurl~=0.1 in /usr/local/lib/python3.11/dist-packages (from markdown-it-py>=2.2.0->rich->keras>=3.5.0->tensorflow<2.19,>=2.18->tf_keras) (0.1.2)\n"
          ]
        }
      ]
    },
    {
      "cell_type": "code",
      "source": [
        "!wget https://raw.githubusercontent.com/mrdbourke/tensorflow-deep-learning/main/extras/helper_functions.py"
      ],
      "metadata": {
        "colab": {
          "base_uri": "https://localhost:8080/"
        },
        "id": "xBNpd1UD7fa3",
        "outputId": "3ddaaed0-af83-41db-c4d8-695e1bfcf9e1"
      },
      "execution_count": null,
      "outputs": [
        {
          "output_type": "stream",
          "name": "stdout",
          "text": [
            "--2025-03-27 10:28:34--  https://raw.githubusercontent.com/mrdbourke/tensorflow-deep-learning/main/extras/helper_functions.py\n",
            "Resolving raw.githubusercontent.com (raw.githubusercontent.com)... 185.199.108.133, 185.199.109.133, 185.199.110.133, ...\n",
            "Connecting to raw.githubusercontent.com (raw.githubusercontent.com)|185.199.108.133|:443... connected.\n",
            "HTTP request sent, awaiting response... 200 OK\n",
            "Length: 10246 (10K) [text/plain]\n",
            "Saving to: ‘helper_functions.py’\n",
            "\n",
            "\rhelper_functions.py   0%[                    ]       0  --.-KB/s               \rhelper_functions.py 100%[===================>]  10.01K  --.-KB/s    in 0s      \n",
            "\n",
            "2025-03-27 10:28:34 (73.0 MB/s) - ‘helper_functions.py’ saved [10246/10246]\n",
            "\n"
          ]
        }
      ]
    },
    {
      "cell_type": "code",
      "source": [
        "from helper_functions import unzip_data,walk_through_dir, create_tensorboard_callback, plot_loss_curves, compare_historys"
      ],
      "metadata": {
        "id": "dMhtoQEP7i2i"
      },
      "execution_count": null,
      "outputs": []
    },
    {
      "cell_type": "markdown",
      "source": [
        "##Get a text dataset\n",
        " we are using kaggles introduction to NLP dataset\n",
        "\n",
        " https://www.kaggle.com/competitions/nlp-getting-started"
      ],
      "metadata": {
        "id": "xUsBfAFa8aPJ"
      }
    },
    {
      "cell_type": "code",
      "source": [
        "!wget https://storage.googleapis.com/ztm_tf_course/nlp_getting_started.zip#mean time i have got the resource from mrdbourke github"
      ],
      "metadata": {
        "colab": {
          "base_uri": "https://localhost:8080/"
        },
        "id": "QtNVepP78kex",
        "outputId": "f0d2facd-0b4d-4549-8327-0d248e917649"
      },
      "execution_count": null,
      "outputs": [
        {
          "output_type": "stream",
          "name": "stdout",
          "text": [
            "--2025-03-27 10:28:42--  https://storage.googleapis.com/ztm_tf_course/nlp_getting_started.zip\n",
            "Resolving storage.googleapis.com (storage.googleapis.com)... 74.125.197.207, 74.125.135.207, 74.125.142.207, ...\n",
            "Connecting to storage.googleapis.com (storage.googleapis.com)|74.125.197.207|:443... connected.\n",
            "HTTP request sent, awaiting response... 200 OK\n",
            "Length: 607343 (593K) [application/zip]\n",
            "Saving to: ‘nlp_getting_started.zip’\n",
            "\n",
            "\rnlp_getting_started   0%[                    ]       0  --.-KB/s               \rnlp_getting_started 100%[===================>] 593.11K  --.-KB/s    in 0.01s   \n",
            "\n",
            "2025-03-27 10:28:42 (58.5 MB/s) - ‘nlp_getting_started.zip’ saved [607343/607343]\n",
            "\n",
            "--2025-03-27 10:28:42--  http://time/\n",
            "Resolving time (time)... failed: Name or service not known.\n",
            "wget: unable to resolve host address ‘time’\n",
            "--2025-03-27 10:28:42--  http://i/\n",
            "Resolving i (i)... failed: Name or service not known.\n",
            "wget: unable to resolve host address ‘i’\n",
            "--2025-03-27 10:28:42--  http://have/\n",
            "Resolving have (have)... failed: Name or service not known.\n",
            "wget: unable to resolve host address ‘have’\n",
            "--2025-03-27 10:28:42--  http://got/\n",
            "Resolving got (got)... failed: No address associated with hostname.\n",
            "wget: unable to resolve host address ‘got’\n",
            "--2025-03-27 10:28:42--  http://the/\n",
            "Resolving the (the)... failed: Name or service not known.\n",
            "wget: unable to resolve host address ‘the’\n",
            "--2025-03-27 10:28:42--  http://resource/\n",
            "Resolving resource (resource)... failed: Name or service not known.\n",
            "wget: unable to resolve host address ‘resource’\n",
            "--2025-03-27 10:28:42--  http://from/\n",
            "Resolving from (from)... failed: Name or service not known.\n",
            "wget: unable to resolve host address ‘from’\n",
            "--2025-03-27 10:28:42--  http://mrdbourke/\n",
            "Resolving mrdbourke (mrdbourke)... failed: Name or service not known.\n",
            "wget: unable to resolve host address ‘mrdbourke’\n",
            "--2025-03-27 10:28:43--  http://github/\n",
            "Resolving github (github)... failed: Name or service not known.\n",
            "wget: unable to resolve host address ‘github’\n",
            "FINISHED --2025-03-27 10:28:43--\n",
            "Total wall clock time: 0.7s\n",
            "Downloaded: 1 files, 593K in 0.01s (58.5 MB/s)\n"
          ]
        }
      ]
    },
    {
      "cell_type": "code",
      "source": [
        "#unzip the data\n",
        "\n",
        "unzip_data(\"/content/nlp_getting_started.zip\")\n",
        "\n"
      ],
      "metadata": {
        "id": "EGse2Z9B9fLR"
      },
      "execution_count": null,
      "outputs": []
    },
    {
      "cell_type": "markdown",
      "source": [
        "##Become one with the data"
      ],
      "metadata": {
        "id": "yFHIOj5b-TV8"
      }
    },
    {
      "cell_type": "code",
      "source": [
        "import pandas as pd\n",
        "\n",
        "test_data = pd.read_csv(\"/content/test.csv\")\n",
        "train_data = pd.read_csv(\"/content/train.csv\")\n",
        "\n"
      ],
      "metadata": {
        "id": "5cl4p8L6_mWm"
      },
      "execution_count": null,
      "outputs": []
    },
    {
      "cell_type": "code",
      "source": [
        "#print(test_data.to_string())"
      ],
      "metadata": {
        "id": "SSvXcISjQ47A"
      },
      "execution_count": null,
      "outputs": []
    },
    {
      "cell_type": "code",
      "source": [
        "pd.DataFrame(test_data)\n",
        "train_data.head()\n"
      ],
      "metadata": {
        "colab": {
          "base_uri": "https://localhost:8080/",
          "height": 206
        },
        "id": "BHEKtRGhCh97",
        "outputId": "b40f0a86-2736-417c-aefe-0f6bd7d65c13"
      },
      "execution_count": null,
      "outputs": [
        {
          "output_type": "execute_result",
          "data": {
            "text/plain": [
              "   id keyword location                                               text  \\\n",
              "0   1     NaN      NaN  Our Deeds are the Reason of this #earthquake M...   \n",
              "1   4     NaN      NaN             Forest fire near La Ronge Sask. Canada   \n",
              "2   5     NaN      NaN  All residents asked to 'shelter in place' are ...   \n",
              "3   6     NaN      NaN  13,000 people receive #wildfires evacuation or...   \n",
              "4   7     NaN      NaN  Just got sent this photo from Ruby #Alaska as ...   \n",
              "\n",
              "   target  \n",
              "0       1  \n",
              "1       1  \n",
              "2       1  \n",
              "3       1  \n",
              "4       1  "
            ],
            "text/html": [
              "\n",
              "  <div id=\"df-bd1e3662-3f31-43a1-b9c4-fa29b41a20fe\" class=\"colab-df-container\">\n",
              "    <div>\n",
              "<style scoped>\n",
              "    .dataframe tbody tr th:only-of-type {\n",
              "        vertical-align: middle;\n",
              "    }\n",
              "\n",
              "    .dataframe tbody tr th {\n",
              "        vertical-align: top;\n",
              "    }\n",
              "\n",
              "    .dataframe thead th {\n",
              "        text-align: right;\n",
              "    }\n",
              "</style>\n",
              "<table border=\"1\" class=\"dataframe\">\n",
              "  <thead>\n",
              "    <tr style=\"text-align: right;\">\n",
              "      <th></th>\n",
              "      <th>id</th>\n",
              "      <th>keyword</th>\n",
              "      <th>location</th>\n",
              "      <th>text</th>\n",
              "      <th>target</th>\n",
              "    </tr>\n",
              "  </thead>\n",
              "  <tbody>\n",
              "    <tr>\n",
              "      <th>0</th>\n",
              "      <td>1</td>\n",
              "      <td>NaN</td>\n",
              "      <td>NaN</td>\n",
              "      <td>Our Deeds are the Reason of this #earthquake M...</td>\n",
              "      <td>1</td>\n",
              "    </tr>\n",
              "    <tr>\n",
              "      <th>1</th>\n",
              "      <td>4</td>\n",
              "      <td>NaN</td>\n",
              "      <td>NaN</td>\n",
              "      <td>Forest fire near La Ronge Sask. Canada</td>\n",
              "      <td>1</td>\n",
              "    </tr>\n",
              "    <tr>\n",
              "      <th>2</th>\n",
              "      <td>5</td>\n",
              "      <td>NaN</td>\n",
              "      <td>NaN</td>\n",
              "      <td>All residents asked to 'shelter in place' are ...</td>\n",
              "      <td>1</td>\n",
              "    </tr>\n",
              "    <tr>\n",
              "      <th>3</th>\n",
              "      <td>6</td>\n",
              "      <td>NaN</td>\n",
              "      <td>NaN</td>\n",
              "      <td>13,000 people receive #wildfires evacuation or...</td>\n",
              "      <td>1</td>\n",
              "    </tr>\n",
              "    <tr>\n",
              "      <th>4</th>\n",
              "      <td>7</td>\n",
              "      <td>NaN</td>\n",
              "      <td>NaN</td>\n",
              "      <td>Just got sent this photo from Ruby #Alaska as ...</td>\n",
              "      <td>1</td>\n",
              "    </tr>\n",
              "  </tbody>\n",
              "</table>\n",
              "</div>\n",
              "    <div class=\"colab-df-buttons\">\n",
              "\n",
              "  <div class=\"colab-df-container\">\n",
              "    <button class=\"colab-df-convert\" onclick=\"convertToInteractive('df-bd1e3662-3f31-43a1-b9c4-fa29b41a20fe')\"\n",
              "            title=\"Convert this dataframe to an interactive table.\"\n",
              "            style=\"display:none;\">\n",
              "\n",
              "  <svg xmlns=\"http://www.w3.org/2000/svg\" height=\"24px\" viewBox=\"0 -960 960 960\">\n",
              "    <path d=\"M120-120v-720h720v720H120Zm60-500h600v-160H180v160Zm220 220h160v-160H400v160Zm0 220h160v-160H400v160ZM180-400h160v-160H180v160Zm440 0h160v-160H620v160ZM180-180h160v-160H180v160Zm440 0h160v-160H620v160Z\"/>\n",
              "  </svg>\n",
              "    </button>\n",
              "\n",
              "  <style>\n",
              "    .colab-df-container {\n",
              "      display:flex;\n",
              "      gap: 12px;\n",
              "    }\n",
              "\n",
              "    .colab-df-convert {\n",
              "      background-color: #E8F0FE;\n",
              "      border: none;\n",
              "      border-radius: 50%;\n",
              "      cursor: pointer;\n",
              "      display: none;\n",
              "      fill: #1967D2;\n",
              "      height: 32px;\n",
              "      padding: 0 0 0 0;\n",
              "      width: 32px;\n",
              "    }\n",
              "\n",
              "    .colab-df-convert:hover {\n",
              "      background-color: #E2EBFA;\n",
              "      box-shadow: 0px 1px 2px rgba(60, 64, 67, 0.3), 0px 1px 3px 1px rgba(60, 64, 67, 0.15);\n",
              "      fill: #174EA6;\n",
              "    }\n",
              "\n",
              "    .colab-df-buttons div {\n",
              "      margin-bottom: 4px;\n",
              "    }\n",
              "\n",
              "    [theme=dark] .colab-df-convert {\n",
              "      background-color: #3B4455;\n",
              "      fill: #D2E3FC;\n",
              "    }\n",
              "\n",
              "    [theme=dark] .colab-df-convert:hover {\n",
              "      background-color: #434B5C;\n",
              "      box-shadow: 0px 1px 3px 1px rgba(0, 0, 0, 0.15);\n",
              "      filter: drop-shadow(0px 1px 2px rgba(0, 0, 0, 0.3));\n",
              "      fill: #FFFFFF;\n",
              "    }\n",
              "  </style>\n",
              "\n",
              "    <script>\n",
              "      const buttonEl =\n",
              "        document.querySelector('#df-bd1e3662-3f31-43a1-b9c4-fa29b41a20fe button.colab-df-convert');\n",
              "      buttonEl.style.display =\n",
              "        google.colab.kernel.accessAllowed ? 'block' : 'none';\n",
              "\n",
              "      async function convertToInteractive(key) {\n",
              "        const element = document.querySelector('#df-bd1e3662-3f31-43a1-b9c4-fa29b41a20fe');\n",
              "        const dataTable =\n",
              "          await google.colab.kernel.invokeFunction('convertToInteractive',\n",
              "                                                    [key], {});\n",
              "        if (!dataTable) return;\n",
              "\n",
              "        const docLinkHtml = 'Like what you see? Visit the ' +\n",
              "          '<a target=\"_blank\" href=https://colab.research.google.com/notebooks/data_table.ipynb>data table notebook</a>'\n",
              "          + ' to learn more about interactive tables.';\n",
              "        element.innerHTML = '';\n",
              "        dataTable['output_type'] = 'display_data';\n",
              "        await google.colab.output.renderOutput(dataTable, element);\n",
              "        const docLink = document.createElement('div');\n",
              "        docLink.innerHTML = docLinkHtml;\n",
              "        element.appendChild(docLink);\n",
              "      }\n",
              "    </script>\n",
              "  </div>\n",
              "\n",
              "\n",
              "<div id=\"df-b65730b9-1c15-40dc-bff8-e7ec3172d1e5\">\n",
              "  <button class=\"colab-df-quickchart\" onclick=\"quickchart('df-b65730b9-1c15-40dc-bff8-e7ec3172d1e5')\"\n",
              "            title=\"Suggest charts\"\n",
              "            style=\"display:none;\">\n",
              "\n",
              "<svg xmlns=\"http://www.w3.org/2000/svg\" height=\"24px\"viewBox=\"0 0 24 24\"\n",
              "     width=\"24px\">\n",
              "    <g>\n",
              "        <path d=\"M19 3H5c-1.1 0-2 .9-2 2v14c0 1.1.9 2 2 2h14c1.1 0 2-.9 2-2V5c0-1.1-.9-2-2-2zM9 17H7v-7h2v7zm4 0h-2V7h2v10zm4 0h-2v-4h2v4z\"/>\n",
              "    </g>\n",
              "</svg>\n",
              "  </button>\n",
              "\n",
              "<style>\n",
              "  .colab-df-quickchart {\n",
              "      --bg-color: #E8F0FE;\n",
              "      --fill-color: #1967D2;\n",
              "      --hover-bg-color: #E2EBFA;\n",
              "      --hover-fill-color: #174EA6;\n",
              "      --disabled-fill-color: #AAA;\n",
              "      --disabled-bg-color: #DDD;\n",
              "  }\n",
              "\n",
              "  [theme=dark] .colab-df-quickchart {\n",
              "      --bg-color: #3B4455;\n",
              "      --fill-color: #D2E3FC;\n",
              "      --hover-bg-color: #434B5C;\n",
              "      --hover-fill-color: #FFFFFF;\n",
              "      --disabled-bg-color: #3B4455;\n",
              "      --disabled-fill-color: #666;\n",
              "  }\n",
              "\n",
              "  .colab-df-quickchart {\n",
              "    background-color: var(--bg-color);\n",
              "    border: none;\n",
              "    border-radius: 50%;\n",
              "    cursor: pointer;\n",
              "    display: none;\n",
              "    fill: var(--fill-color);\n",
              "    height: 32px;\n",
              "    padding: 0;\n",
              "    width: 32px;\n",
              "  }\n",
              "\n",
              "  .colab-df-quickchart:hover {\n",
              "    background-color: var(--hover-bg-color);\n",
              "    box-shadow: 0 1px 2px rgba(60, 64, 67, 0.3), 0 1px 3px 1px rgba(60, 64, 67, 0.15);\n",
              "    fill: var(--button-hover-fill-color);\n",
              "  }\n",
              "\n",
              "  .colab-df-quickchart-complete:disabled,\n",
              "  .colab-df-quickchart-complete:disabled:hover {\n",
              "    background-color: var(--disabled-bg-color);\n",
              "    fill: var(--disabled-fill-color);\n",
              "    box-shadow: none;\n",
              "  }\n",
              "\n",
              "  .colab-df-spinner {\n",
              "    border: 2px solid var(--fill-color);\n",
              "    border-color: transparent;\n",
              "    border-bottom-color: var(--fill-color);\n",
              "    animation:\n",
              "      spin 1s steps(1) infinite;\n",
              "  }\n",
              "\n",
              "  @keyframes spin {\n",
              "    0% {\n",
              "      border-color: transparent;\n",
              "      border-bottom-color: var(--fill-color);\n",
              "      border-left-color: var(--fill-color);\n",
              "    }\n",
              "    20% {\n",
              "      border-color: transparent;\n",
              "      border-left-color: var(--fill-color);\n",
              "      border-top-color: var(--fill-color);\n",
              "    }\n",
              "    30% {\n",
              "      border-color: transparent;\n",
              "      border-left-color: var(--fill-color);\n",
              "      border-top-color: var(--fill-color);\n",
              "      border-right-color: var(--fill-color);\n",
              "    }\n",
              "    40% {\n",
              "      border-color: transparent;\n",
              "      border-right-color: var(--fill-color);\n",
              "      border-top-color: var(--fill-color);\n",
              "    }\n",
              "    60% {\n",
              "      border-color: transparent;\n",
              "      border-right-color: var(--fill-color);\n",
              "    }\n",
              "    80% {\n",
              "      border-color: transparent;\n",
              "      border-right-color: var(--fill-color);\n",
              "      border-bottom-color: var(--fill-color);\n",
              "    }\n",
              "    90% {\n",
              "      border-color: transparent;\n",
              "      border-bottom-color: var(--fill-color);\n",
              "    }\n",
              "  }\n",
              "</style>\n",
              "\n",
              "  <script>\n",
              "    async function quickchart(key) {\n",
              "      const quickchartButtonEl =\n",
              "        document.querySelector('#' + key + ' button');\n",
              "      quickchartButtonEl.disabled = true;  // To prevent multiple clicks.\n",
              "      quickchartButtonEl.classList.add('colab-df-spinner');\n",
              "      try {\n",
              "        const charts = await google.colab.kernel.invokeFunction(\n",
              "            'suggestCharts', [key], {});\n",
              "      } catch (error) {\n",
              "        console.error('Error during call to suggestCharts:', error);\n",
              "      }\n",
              "      quickchartButtonEl.classList.remove('colab-df-spinner');\n",
              "      quickchartButtonEl.classList.add('colab-df-quickchart-complete');\n",
              "    }\n",
              "    (() => {\n",
              "      let quickchartButtonEl =\n",
              "        document.querySelector('#df-b65730b9-1c15-40dc-bff8-e7ec3172d1e5 button');\n",
              "      quickchartButtonEl.style.display =\n",
              "        google.colab.kernel.accessAllowed ? 'block' : 'none';\n",
              "    })();\n",
              "  </script>\n",
              "</div>\n",
              "\n",
              "    </div>\n",
              "  </div>\n"
            ],
            "application/vnd.google.colaboratory.intrinsic+json": {
              "type": "dataframe",
              "variable_name": "train_data",
              "summary": "{\n  \"name\": \"train_data\",\n  \"rows\": 7613,\n  \"fields\": [\n    {\n      \"column\": \"id\",\n      \"properties\": {\n        \"dtype\": \"number\",\n        \"std\": 3137,\n        \"min\": 1,\n        \"max\": 10873,\n        \"num_unique_values\": 7613,\n        \"samples\": [\n          3796,\n          3185,\n          7769\n        ],\n        \"semantic_type\": \"\",\n        \"description\": \"\"\n      }\n    },\n    {\n      \"column\": \"keyword\",\n      \"properties\": {\n        \"dtype\": \"category\",\n        \"num_unique_values\": 221,\n        \"samples\": [\n          \"injury\",\n          \"nuclear%20reactor\",\n          \"engulfed\"\n        ],\n        \"semantic_type\": \"\",\n        \"description\": \"\"\n      }\n    },\n    {\n      \"column\": \"location\",\n      \"properties\": {\n        \"dtype\": \"category\",\n        \"num_unique_values\": 3341,\n        \"samples\": [\n          \"Oklahoma\",\n          \"Starling City\",\n          \"Trinidad and Tobago\"\n        ],\n        \"semantic_type\": \"\",\n        \"description\": \"\"\n      }\n    },\n    {\n      \"column\": \"text\",\n      \"properties\": {\n        \"dtype\": \"string\",\n        \"num_unique_values\": 7503,\n        \"samples\": [\n          \"Three Homes Demolished in Unrecognized Arab Village - International Middle East Media Center http://t.co/ik8m4Yi9T4\",\n          \"Reid Lake fire prompts campground evacuation order http://t.co/jBODKM6rBU\",\n          \"FAAN orders evacuation of abandoned aircraft at MMA http://t.co/dEvYbnVXGQ via @todayng\"\n        ],\n        \"semantic_type\": \"\",\n        \"description\": \"\"\n      }\n    },\n    {\n      \"column\": \"target\",\n      \"properties\": {\n        \"dtype\": \"number\",\n        \"std\": 0,\n        \"min\": 0,\n        \"max\": 1,\n        \"num_unique_values\": 2,\n        \"samples\": [\n          0,\n          1\n        ],\n        \"semantic_type\": \"\",\n        \"description\": \"\"\n      }\n    }\n  ]\n}"
            }
          },
          "metadata": {},
          "execution_count": 8
        }
      ]
    },
    {
      "cell_type": "code",
      "source": [
        "train_data[\"text\"][0]"
      ],
      "metadata": {
        "colab": {
          "base_uri": "https://localhost:8080/",
          "height": 36
        },
        "id": "YECTbC-pDtwl",
        "outputId": "99036c69-2ddf-4d98-af44-64d9ad25d768"
      },
      "execution_count": null,
      "outputs": [
        {
          "output_type": "execute_result",
          "data": {
            "text/plain": [
              "'Our Deeds are the Reason of this #earthquake May ALLAH Forgive us all'"
            ],
            "application/vnd.google.colaboratory.intrinsic+json": {
              "type": "string"
            }
          },
          "metadata": {},
          "execution_count": 9
        }
      ]
    },
    {
      "cell_type": "markdown",
      "source": [
        "###Shuffle the present data using pandas methods sample"
      ],
      "metadata": {
        "id": "RrSh8_U0SEKq"
      }
    },
    {
      "cell_type": "code",
      "source": [
        "train_data_shuffled = train_data.sample(frac = 1, random_state = 42) #frac 1 means 100% of the data, we can o.1 as 10% of the data\n",
        "train_data_shuffled"
      ],
      "metadata": {
        "colab": {
          "base_uri": "https://localhost:8080/",
          "height": 423
        },
        "id": "bwMmRuLdP5aU",
        "outputId": "bf249c01-7bac-4740-8fca-d0c756210f9c"
      },
      "execution_count": null,
      "outputs": [
        {
          "output_type": "execute_result",
          "data": {
            "text/plain": [
              "         id       keyword                        location  \\\n",
              "2644   3796   destruction                             NaN   \n",
              "2227   3185        deluge                             NaN   \n",
              "5448   7769        police                              UK   \n",
              "132     191    aftershock                             NaN   \n",
              "6845   9810        trauma           Montgomery County, MD   \n",
              "...     ...           ...                             ...   \n",
              "5226   7470  obliteration                         Merica!   \n",
              "5390   7691         panic                             NaN   \n",
              "860    1242         blood                             NaN   \n",
              "7603  10862           NaN                             NaN   \n",
              "7270  10409     whirlwind  Stamford & Cork (& Shropshire)   \n",
              "\n",
              "                                                   text  target  \n",
              "2644  So you have a new weapon that can cause un-ima...       1  \n",
              "2227  The f$&amp;@ing things I do for #GISHWHES Just...       0  \n",
              "5448  DT @georgegalloway: RT @Galloway4Mayor: ÛÏThe...       1  \n",
              "132   Aftershock back to school kick off was great. ...       0  \n",
              "6845  in response to trauma Children of Addicts deve...       0  \n",
              "...                                                 ...     ...  \n",
              "5226  @Eganator2000 There aren't many Obliteration s...       0  \n",
              "5390  just had a panic attack bc I don't have enough...       0  \n",
              "860   Omron HEM-712C Automatic Blood Pressure Monito...       0  \n",
              "7603  Officials say a quarantine is in place at an A...       1  \n",
              "7270  I moved to England five years ago today. What ...       1  \n",
              "\n",
              "[7613 rows x 5 columns]"
            ],
            "text/html": [
              "\n",
              "  <div id=\"df-8e177948-bc2c-4b22-a229-b5f51d2e7356\" class=\"colab-df-container\">\n",
              "    <div>\n",
              "<style scoped>\n",
              "    .dataframe tbody tr th:only-of-type {\n",
              "        vertical-align: middle;\n",
              "    }\n",
              "\n",
              "    .dataframe tbody tr th {\n",
              "        vertical-align: top;\n",
              "    }\n",
              "\n",
              "    .dataframe thead th {\n",
              "        text-align: right;\n",
              "    }\n",
              "</style>\n",
              "<table border=\"1\" class=\"dataframe\">\n",
              "  <thead>\n",
              "    <tr style=\"text-align: right;\">\n",
              "      <th></th>\n",
              "      <th>id</th>\n",
              "      <th>keyword</th>\n",
              "      <th>location</th>\n",
              "      <th>text</th>\n",
              "      <th>target</th>\n",
              "    </tr>\n",
              "  </thead>\n",
              "  <tbody>\n",
              "    <tr>\n",
              "      <th>2644</th>\n",
              "      <td>3796</td>\n",
              "      <td>destruction</td>\n",
              "      <td>NaN</td>\n",
              "      <td>So you have a new weapon that can cause un-ima...</td>\n",
              "      <td>1</td>\n",
              "    </tr>\n",
              "    <tr>\n",
              "      <th>2227</th>\n",
              "      <td>3185</td>\n",
              "      <td>deluge</td>\n",
              "      <td>NaN</td>\n",
              "      <td>The f$&amp;amp;@ing things I do for #GISHWHES Just...</td>\n",
              "      <td>0</td>\n",
              "    </tr>\n",
              "    <tr>\n",
              "      <th>5448</th>\n",
              "      <td>7769</td>\n",
              "      <td>police</td>\n",
              "      <td>UK</td>\n",
              "      <td>DT @georgegalloway: RT @Galloway4Mayor: ÛÏThe...</td>\n",
              "      <td>1</td>\n",
              "    </tr>\n",
              "    <tr>\n",
              "      <th>132</th>\n",
              "      <td>191</td>\n",
              "      <td>aftershock</td>\n",
              "      <td>NaN</td>\n",
              "      <td>Aftershock back to school kick off was great. ...</td>\n",
              "      <td>0</td>\n",
              "    </tr>\n",
              "    <tr>\n",
              "      <th>6845</th>\n",
              "      <td>9810</td>\n",
              "      <td>trauma</td>\n",
              "      <td>Montgomery County, MD</td>\n",
              "      <td>in response to trauma Children of Addicts deve...</td>\n",
              "      <td>0</td>\n",
              "    </tr>\n",
              "    <tr>\n",
              "      <th>...</th>\n",
              "      <td>...</td>\n",
              "      <td>...</td>\n",
              "      <td>...</td>\n",
              "      <td>...</td>\n",
              "      <td>...</td>\n",
              "    </tr>\n",
              "    <tr>\n",
              "      <th>5226</th>\n",
              "      <td>7470</td>\n",
              "      <td>obliteration</td>\n",
              "      <td>Merica!</td>\n",
              "      <td>@Eganator2000 There aren't many Obliteration s...</td>\n",
              "      <td>0</td>\n",
              "    </tr>\n",
              "    <tr>\n",
              "      <th>5390</th>\n",
              "      <td>7691</td>\n",
              "      <td>panic</td>\n",
              "      <td>NaN</td>\n",
              "      <td>just had a panic attack bc I don't have enough...</td>\n",
              "      <td>0</td>\n",
              "    </tr>\n",
              "    <tr>\n",
              "      <th>860</th>\n",
              "      <td>1242</td>\n",
              "      <td>blood</td>\n",
              "      <td>NaN</td>\n",
              "      <td>Omron HEM-712C Automatic Blood Pressure Monito...</td>\n",
              "      <td>0</td>\n",
              "    </tr>\n",
              "    <tr>\n",
              "      <th>7603</th>\n",
              "      <td>10862</td>\n",
              "      <td>NaN</td>\n",
              "      <td>NaN</td>\n",
              "      <td>Officials say a quarantine is in place at an A...</td>\n",
              "      <td>1</td>\n",
              "    </tr>\n",
              "    <tr>\n",
              "      <th>7270</th>\n",
              "      <td>10409</td>\n",
              "      <td>whirlwind</td>\n",
              "      <td>Stamford &amp; Cork (&amp; Shropshire)</td>\n",
              "      <td>I moved to England five years ago today. What ...</td>\n",
              "      <td>1</td>\n",
              "    </tr>\n",
              "  </tbody>\n",
              "</table>\n",
              "<p>7613 rows × 5 columns</p>\n",
              "</div>\n",
              "    <div class=\"colab-df-buttons\">\n",
              "\n",
              "  <div class=\"colab-df-container\">\n",
              "    <button class=\"colab-df-convert\" onclick=\"convertToInteractive('df-8e177948-bc2c-4b22-a229-b5f51d2e7356')\"\n",
              "            title=\"Convert this dataframe to an interactive table.\"\n",
              "            style=\"display:none;\">\n",
              "\n",
              "  <svg xmlns=\"http://www.w3.org/2000/svg\" height=\"24px\" viewBox=\"0 -960 960 960\">\n",
              "    <path d=\"M120-120v-720h720v720H120Zm60-500h600v-160H180v160Zm220 220h160v-160H400v160Zm0 220h160v-160H400v160ZM180-400h160v-160H180v160Zm440 0h160v-160H620v160ZM180-180h160v-160H180v160Zm440 0h160v-160H620v160Z\"/>\n",
              "  </svg>\n",
              "    </button>\n",
              "\n",
              "  <style>\n",
              "    .colab-df-container {\n",
              "      display:flex;\n",
              "      gap: 12px;\n",
              "    }\n",
              "\n",
              "    .colab-df-convert {\n",
              "      background-color: #E8F0FE;\n",
              "      border: none;\n",
              "      border-radius: 50%;\n",
              "      cursor: pointer;\n",
              "      display: none;\n",
              "      fill: #1967D2;\n",
              "      height: 32px;\n",
              "      padding: 0 0 0 0;\n",
              "      width: 32px;\n",
              "    }\n",
              "\n",
              "    .colab-df-convert:hover {\n",
              "      background-color: #E2EBFA;\n",
              "      box-shadow: 0px 1px 2px rgba(60, 64, 67, 0.3), 0px 1px 3px 1px rgba(60, 64, 67, 0.15);\n",
              "      fill: #174EA6;\n",
              "    }\n",
              "\n",
              "    .colab-df-buttons div {\n",
              "      margin-bottom: 4px;\n",
              "    }\n",
              "\n",
              "    [theme=dark] .colab-df-convert {\n",
              "      background-color: #3B4455;\n",
              "      fill: #D2E3FC;\n",
              "    }\n",
              "\n",
              "    [theme=dark] .colab-df-convert:hover {\n",
              "      background-color: #434B5C;\n",
              "      box-shadow: 0px 1px 3px 1px rgba(0, 0, 0, 0.15);\n",
              "      filter: drop-shadow(0px 1px 2px rgba(0, 0, 0, 0.3));\n",
              "      fill: #FFFFFF;\n",
              "    }\n",
              "  </style>\n",
              "\n",
              "    <script>\n",
              "      const buttonEl =\n",
              "        document.querySelector('#df-8e177948-bc2c-4b22-a229-b5f51d2e7356 button.colab-df-convert');\n",
              "      buttonEl.style.display =\n",
              "        google.colab.kernel.accessAllowed ? 'block' : 'none';\n",
              "\n",
              "      async function convertToInteractive(key) {\n",
              "        const element = document.querySelector('#df-8e177948-bc2c-4b22-a229-b5f51d2e7356');\n",
              "        const dataTable =\n",
              "          await google.colab.kernel.invokeFunction('convertToInteractive',\n",
              "                                                    [key], {});\n",
              "        if (!dataTable) return;\n",
              "\n",
              "        const docLinkHtml = 'Like what you see? Visit the ' +\n",
              "          '<a target=\"_blank\" href=https://colab.research.google.com/notebooks/data_table.ipynb>data table notebook</a>'\n",
              "          + ' to learn more about interactive tables.';\n",
              "        element.innerHTML = '';\n",
              "        dataTable['output_type'] = 'display_data';\n",
              "        await google.colab.output.renderOutput(dataTable, element);\n",
              "        const docLink = document.createElement('div');\n",
              "        docLink.innerHTML = docLinkHtml;\n",
              "        element.appendChild(docLink);\n",
              "      }\n",
              "    </script>\n",
              "  </div>\n",
              "\n",
              "\n",
              "<div id=\"df-4c9e5ef8-c800-460a-8fbb-27df2aee222d\">\n",
              "  <button class=\"colab-df-quickchart\" onclick=\"quickchart('df-4c9e5ef8-c800-460a-8fbb-27df2aee222d')\"\n",
              "            title=\"Suggest charts\"\n",
              "            style=\"display:none;\">\n",
              "\n",
              "<svg xmlns=\"http://www.w3.org/2000/svg\" height=\"24px\"viewBox=\"0 0 24 24\"\n",
              "     width=\"24px\">\n",
              "    <g>\n",
              "        <path d=\"M19 3H5c-1.1 0-2 .9-2 2v14c0 1.1.9 2 2 2h14c1.1 0 2-.9 2-2V5c0-1.1-.9-2-2-2zM9 17H7v-7h2v7zm4 0h-2V7h2v10zm4 0h-2v-4h2v4z\"/>\n",
              "    </g>\n",
              "</svg>\n",
              "  </button>\n",
              "\n",
              "<style>\n",
              "  .colab-df-quickchart {\n",
              "      --bg-color: #E8F0FE;\n",
              "      --fill-color: #1967D2;\n",
              "      --hover-bg-color: #E2EBFA;\n",
              "      --hover-fill-color: #174EA6;\n",
              "      --disabled-fill-color: #AAA;\n",
              "      --disabled-bg-color: #DDD;\n",
              "  }\n",
              "\n",
              "  [theme=dark] .colab-df-quickchart {\n",
              "      --bg-color: #3B4455;\n",
              "      --fill-color: #D2E3FC;\n",
              "      --hover-bg-color: #434B5C;\n",
              "      --hover-fill-color: #FFFFFF;\n",
              "      --disabled-bg-color: #3B4455;\n",
              "      --disabled-fill-color: #666;\n",
              "  }\n",
              "\n",
              "  .colab-df-quickchart {\n",
              "    background-color: var(--bg-color);\n",
              "    border: none;\n",
              "    border-radius: 50%;\n",
              "    cursor: pointer;\n",
              "    display: none;\n",
              "    fill: var(--fill-color);\n",
              "    height: 32px;\n",
              "    padding: 0;\n",
              "    width: 32px;\n",
              "  }\n",
              "\n",
              "  .colab-df-quickchart:hover {\n",
              "    background-color: var(--hover-bg-color);\n",
              "    box-shadow: 0 1px 2px rgba(60, 64, 67, 0.3), 0 1px 3px 1px rgba(60, 64, 67, 0.15);\n",
              "    fill: var(--button-hover-fill-color);\n",
              "  }\n",
              "\n",
              "  .colab-df-quickchart-complete:disabled,\n",
              "  .colab-df-quickchart-complete:disabled:hover {\n",
              "    background-color: var(--disabled-bg-color);\n",
              "    fill: var(--disabled-fill-color);\n",
              "    box-shadow: none;\n",
              "  }\n",
              "\n",
              "  .colab-df-spinner {\n",
              "    border: 2px solid var(--fill-color);\n",
              "    border-color: transparent;\n",
              "    border-bottom-color: var(--fill-color);\n",
              "    animation:\n",
              "      spin 1s steps(1) infinite;\n",
              "  }\n",
              "\n",
              "  @keyframes spin {\n",
              "    0% {\n",
              "      border-color: transparent;\n",
              "      border-bottom-color: var(--fill-color);\n",
              "      border-left-color: var(--fill-color);\n",
              "    }\n",
              "    20% {\n",
              "      border-color: transparent;\n",
              "      border-left-color: var(--fill-color);\n",
              "      border-top-color: var(--fill-color);\n",
              "    }\n",
              "    30% {\n",
              "      border-color: transparent;\n",
              "      border-left-color: var(--fill-color);\n",
              "      border-top-color: var(--fill-color);\n",
              "      border-right-color: var(--fill-color);\n",
              "    }\n",
              "    40% {\n",
              "      border-color: transparent;\n",
              "      border-right-color: var(--fill-color);\n",
              "      border-top-color: var(--fill-color);\n",
              "    }\n",
              "    60% {\n",
              "      border-color: transparent;\n",
              "      border-right-color: var(--fill-color);\n",
              "    }\n",
              "    80% {\n",
              "      border-color: transparent;\n",
              "      border-right-color: var(--fill-color);\n",
              "      border-bottom-color: var(--fill-color);\n",
              "    }\n",
              "    90% {\n",
              "      border-color: transparent;\n",
              "      border-bottom-color: var(--fill-color);\n",
              "    }\n",
              "  }\n",
              "</style>\n",
              "\n",
              "  <script>\n",
              "    async function quickchart(key) {\n",
              "      const quickchartButtonEl =\n",
              "        document.querySelector('#' + key + ' button');\n",
              "      quickchartButtonEl.disabled = true;  // To prevent multiple clicks.\n",
              "      quickchartButtonEl.classList.add('colab-df-spinner');\n",
              "      try {\n",
              "        const charts = await google.colab.kernel.invokeFunction(\n",
              "            'suggestCharts', [key], {});\n",
              "      } catch (error) {\n",
              "        console.error('Error during call to suggestCharts:', error);\n",
              "      }\n",
              "      quickchartButtonEl.classList.remove('colab-df-spinner');\n",
              "      quickchartButtonEl.classList.add('colab-df-quickchart-complete');\n",
              "    }\n",
              "    (() => {\n",
              "      let quickchartButtonEl =\n",
              "        document.querySelector('#df-4c9e5ef8-c800-460a-8fbb-27df2aee222d button');\n",
              "      quickchartButtonEl.style.display =\n",
              "        google.colab.kernel.accessAllowed ? 'block' : 'none';\n",
              "    })();\n",
              "  </script>\n",
              "</div>\n",
              "\n",
              "  <div id=\"id_d2af5862-d59d-4cce-b9f0-043225dfa096\">\n",
              "    <style>\n",
              "      .colab-df-generate {\n",
              "        background-color: #E8F0FE;\n",
              "        border: none;\n",
              "        border-radius: 50%;\n",
              "        cursor: pointer;\n",
              "        display: none;\n",
              "        fill: #1967D2;\n",
              "        height: 32px;\n",
              "        padding: 0 0 0 0;\n",
              "        width: 32px;\n",
              "      }\n",
              "\n",
              "      .colab-df-generate:hover {\n",
              "        background-color: #E2EBFA;\n",
              "        box-shadow: 0px 1px 2px rgba(60, 64, 67, 0.3), 0px 1px 3px 1px rgba(60, 64, 67, 0.15);\n",
              "        fill: #174EA6;\n",
              "      }\n",
              "\n",
              "      [theme=dark] .colab-df-generate {\n",
              "        background-color: #3B4455;\n",
              "        fill: #D2E3FC;\n",
              "      }\n",
              "\n",
              "      [theme=dark] .colab-df-generate:hover {\n",
              "        background-color: #434B5C;\n",
              "        box-shadow: 0px 1px 3px 1px rgba(0, 0, 0, 0.15);\n",
              "        filter: drop-shadow(0px 1px 2px rgba(0, 0, 0, 0.3));\n",
              "        fill: #FFFFFF;\n",
              "      }\n",
              "    </style>\n",
              "    <button class=\"colab-df-generate\" onclick=\"generateWithVariable('train_data_shuffled')\"\n",
              "            title=\"Generate code using this dataframe.\"\n",
              "            style=\"display:none;\">\n",
              "\n",
              "  <svg xmlns=\"http://www.w3.org/2000/svg\" height=\"24px\"viewBox=\"0 0 24 24\"\n",
              "       width=\"24px\">\n",
              "    <path d=\"M7,19H8.4L18.45,9,17,7.55,7,17.6ZM5,21V16.75L18.45,3.32a2,2,0,0,1,2.83,0l1.4,1.43a1.91,1.91,0,0,1,.58,1.4,1.91,1.91,0,0,1-.58,1.4L9.25,21ZM18.45,9,17,7.55Zm-12,3A5.31,5.31,0,0,0,4.9,8.1,5.31,5.31,0,0,0,1,6.5,5.31,5.31,0,0,0,4.9,4.9,5.31,5.31,0,0,0,6.5,1,5.31,5.31,0,0,0,8.1,4.9,5.31,5.31,0,0,0,12,6.5,5.46,5.46,0,0,0,6.5,12Z\"/>\n",
              "  </svg>\n",
              "    </button>\n",
              "    <script>\n",
              "      (() => {\n",
              "      const buttonEl =\n",
              "        document.querySelector('#id_d2af5862-d59d-4cce-b9f0-043225dfa096 button.colab-df-generate');\n",
              "      buttonEl.style.display =\n",
              "        google.colab.kernel.accessAllowed ? 'block' : 'none';\n",
              "\n",
              "      buttonEl.onclick = () => {\n",
              "        google.colab.notebook.generateWithVariable('train_data_shuffled');\n",
              "      }\n",
              "      })();\n",
              "    </script>\n",
              "  </div>\n",
              "\n",
              "    </div>\n",
              "  </div>\n"
            ],
            "application/vnd.google.colaboratory.intrinsic+json": {
              "type": "dataframe",
              "variable_name": "train_data_shuffled",
              "summary": "{\n  \"name\": \"train_data_shuffled\",\n  \"rows\": 7613,\n  \"fields\": [\n    {\n      \"column\": \"id\",\n      \"properties\": {\n        \"dtype\": \"number\",\n        \"std\": 3137,\n        \"min\": 1,\n        \"max\": 10873,\n        \"num_unique_values\": 7613,\n        \"samples\": [\n          7061,\n          843,\n          10603\n        ],\n        \"semantic_type\": \"\",\n        \"description\": \"\"\n      }\n    },\n    {\n      \"column\": \"keyword\",\n      \"properties\": {\n        \"dtype\": \"category\",\n        \"num_unique_values\": 221,\n        \"samples\": [\n          \"blazing\",\n          \"emergency\",\n          \"rescue\"\n        ],\n        \"semantic_type\": \"\",\n        \"description\": \"\"\n      }\n    },\n    {\n      \"column\": \"location\",\n      \"properties\": {\n        \"dtype\": \"category\",\n        \"num_unique_values\": 3341,\n        \"samples\": [\n          \"617-BTOWN-BEATDOWN\",\n          \"Newcastle Upon Tyne, England\",\n          \"Federal Capital Territory\"\n        ],\n        \"semantic_type\": \"\",\n        \"description\": \"\"\n      }\n    },\n    {\n      \"column\": \"text\",\n      \"properties\": {\n        \"dtype\": \"string\",\n        \"num_unique_values\": 7503,\n        \"samples\": [\n          \"This week first responders and DART members are participating in a four day intensive Technical Large Animal... http://t.co/tL93AOd3ER\",\n          \"My mom is watching a show about bridges breaking/falling and the people on them drowning in their cars aka one of my biggest fears ????\",\n          \"@NickLee8  i went to school in a bombed out East End of London3 families to one house no bathroom outside loo &amp; poor so whats yr point\"\n        ],\n        \"semantic_type\": \"\",\n        \"description\": \"\"\n      }\n    },\n    {\n      \"column\": \"target\",\n      \"properties\": {\n        \"dtype\": \"number\",\n        \"std\": 0,\n        \"min\": 0,\n        \"max\": 1,\n        \"num_unique_values\": 2,\n        \"samples\": [\n          0,\n          1\n        ],\n        \"semantic_type\": \"\",\n        \"description\": \"\"\n      }\n    }\n  ]\n}"
            }
          },
          "metadata": {},
          "execution_count": 38
        }
      ]
    },
    {
      "cell_type": "code",
      "source": [
        "test_data.head()"
      ],
      "metadata": {
        "colab": {
          "base_uri": "https://localhost:8080/",
          "height": 206
        },
        "id": "ShelJUdDS36W",
        "outputId": "30eb7c41-13d9-47b6-ed62-907c3b433009"
      },
      "execution_count": null,
      "outputs": [
        {
          "output_type": "execute_result",
          "data": {
            "text/plain": [
              "   id keyword location                                               text\n",
              "0   0     NaN      NaN                 Just happened a terrible car crash\n",
              "1   2     NaN      NaN  Heard about #earthquake is different cities, s...\n",
              "2   3     NaN      NaN  there is a forest fire at spot pond, geese are...\n",
              "3   9     NaN      NaN           Apocalypse lighting. #Spokane #wildfires\n",
              "4  11     NaN      NaN      Typhoon Soudelor kills 28 in China and Taiwan"
            ],
            "text/html": [
              "\n",
              "  <div id=\"df-3dd762d3-5167-4cbd-9c58-f9aed3ff14e8\" class=\"colab-df-container\">\n",
              "    <div>\n",
              "<style scoped>\n",
              "    .dataframe tbody tr th:only-of-type {\n",
              "        vertical-align: middle;\n",
              "    }\n",
              "\n",
              "    .dataframe tbody tr th {\n",
              "        vertical-align: top;\n",
              "    }\n",
              "\n",
              "    .dataframe thead th {\n",
              "        text-align: right;\n",
              "    }\n",
              "</style>\n",
              "<table border=\"1\" class=\"dataframe\">\n",
              "  <thead>\n",
              "    <tr style=\"text-align: right;\">\n",
              "      <th></th>\n",
              "      <th>id</th>\n",
              "      <th>keyword</th>\n",
              "      <th>location</th>\n",
              "      <th>text</th>\n",
              "    </tr>\n",
              "  </thead>\n",
              "  <tbody>\n",
              "    <tr>\n",
              "      <th>0</th>\n",
              "      <td>0</td>\n",
              "      <td>NaN</td>\n",
              "      <td>NaN</td>\n",
              "      <td>Just happened a terrible car crash</td>\n",
              "    </tr>\n",
              "    <tr>\n",
              "      <th>1</th>\n",
              "      <td>2</td>\n",
              "      <td>NaN</td>\n",
              "      <td>NaN</td>\n",
              "      <td>Heard about #earthquake is different cities, s...</td>\n",
              "    </tr>\n",
              "    <tr>\n",
              "      <th>2</th>\n",
              "      <td>3</td>\n",
              "      <td>NaN</td>\n",
              "      <td>NaN</td>\n",
              "      <td>there is a forest fire at spot pond, geese are...</td>\n",
              "    </tr>\n",
              "    <tr>\n",
              "      <th>3</th>\n",
              "      <td>9</td>\n",
              "      <td>NaN</td>\n",
              "      <td>NaN</td>\n",
              "      <td>Apocalypse lighting. #Spokane #wildfires</td>\n",
              "    </tr>\n",
              "    <tr>\n",
              "      <th>4</th>\n",
              "      <td>11</td>\n",
              "      <td>NaN</td>\n",
              "      <td>NaN</td>\n",
              "      <td>Typhoon Soudelor kills 28 in China and Taiwan</td>\n",
              "    </tr>\n",
              "  </tbody>\n",
              "</table>\n",
              "</div>\n",
              "    <div class=\"colab-df-buttons\">\n",
              "\n",
              "  <div class=\"colab-df-container\">\n",
              "    <button class=\"colab-df-convert\" onclick=\"convertToInteractive('df-3dd762d3-5167-4cbd-9c58-f9aed3ff14e8')\"\n",
              "            title=\"Convert this dataframe to an interactive table.\"\n",
              "            style=\"display:none;\">\n",
              "\n",
              "  <svg xmlns=\"http://www.w3.org/2000/svg\" height=\"24px\" viewBox=\"0 -960 960 960\">\n",
              "    <path d=\"M120-120v-720h720v720H120Zm60-500h600v-160H180v160Zm220 220h160v-160H400v160Zm0 220h160v-160H400v160ZM180-400h160v-160H180v160Zm440 0h160v-160H620v160ZM180-180h160v-160H180v160Zm440 0h160v-160H620v160Z\"/>\n",
              "  </svg>\n",
              "    </button>\n",
              "\n",
              "  <style>\n",
              "    .colab-df-container {\n",
              "      display:flex;\n",
              "      gap: 12px;\n",
              "    }\n",
              "\n",
              "    .colab-df-convert {\n",
              "      background-color: #E8F0FE;\n",
              "      border: none;\n",
              "      border-radius: 50%;\n",
              "      cursor: pointer;\n",
              "      display: none;\n",
              "      fill: #1967D2;\n",
              "      height: 32px;\n",
              "      padding: 0 0 0 0;\n",
              "      width: 32px;\n",
              "    }\n",
              "\n",
              "    .colab-df-convert:hover {\n",
              "      background-color: #E2EBFA;\n",
              "      box-shadow: 0px 1px 2px rgba(60, 64, 67, 0.3), 0px 1px 3px 1px rgba(60, 64, 67, 0.15);\n",
              "      fill: #174EA6;\n",
              "    }\n",
              "\n",
              "    .colab-df-buttons div {\n",
              "      margin-bottom: 4px;\n",
              "    }\n",
              "\n",
              "    [theme=dark] .colab-df-convert {\n",
              "      background-color: #3B4455;\n",
              "      fill: #D2E3FC;\n",
              "    }\n",
              "\n",
              "    [theme=dark] .colab-df-convert:hover {\n",
              "      background-color: #434B5C;\n",
              "      box-shadow: 0px 1px 3px 1px rgba(0, 0, 0, 0.15);\n",
              "      filter: drop-shadow(0px 1px 2px rgba(0, 0, 0, 0.3));\n",
              "      fill: #FFFFFF;\n",
              "    }\n",
              "  </style>\n",
              "\n",
              "    <script>\n",
              "      const buttonEl =\n",
              "        document.querySelector('#df-3dd762d3-5167-4cbd-9c58-f9aed3ff14e8 button.colab-df-convert');\n",
              "      buttonEl.style.display =\n",
              "        google.colab.kernel.accessAllowed ? 'block' : 'none';\n",
              "\n",
              "      async function convertToInteractive(key) {\n",
              "        const element = document.querySelector('#df-3dd762d3-5167-4cbd-9c58-f9aed3ff14e8');\n",
              "        const dataTable =\n",
              "          await google.colab.kernel.invokeFunction('convertToInteractive',\n",
              "                                                    [key], {});\n",
              "        if (!dataTable) return;\n",
              "\n",
              "        const docLinkHtml = 'Like what you see? Visit the ' +\n",
              "          '<a target=\"_blank\" href=https://colab.research.google.com/notebooks/data_table.ipynb>data table notebook</a>'\n",
              "          + ' to learn more about interactive tables.';\n",
              "        element.innerHTML = '';\n",
              "        dataTable['output_type'] = 'display_data';\n",
              "        await google.colab.output.renderOutput(dataTable, element);\n",
              "        const docLink = document.createElement('div');\n",
              "        docLink.innerHTML = docLinkHtml;\n",
              "        element.appendChild(docLink);\n",
              "      }\n",
              "    </script>\n",
              "  </div>\n",
              "\n",
              "\n",
              "<div id=\"df-9fba0a58-6b36-45e4-9987-30ec4af444ce\">\n",
              "  <button class=\"colab-df-quickchart\" onclick=\"quickchart('df-9fba0a58-6b36-45e4-9987-30ec4af444ce')\"\n",
              "            title=\"Suggest charts\"\n",
              "            style=\"display:none;\">\n",
              "\n",
              "<svg xmlns=\"http://www.w3.org/2000/svg\" height=\"24px\"viewBox=\"0 0 24 24\"\n",
              "     width=\"24px\">\n",
              "    <g>\n",
              "        <path d=\"M19 3H5c-1.1 0-2 .9-2 2v14c0 1.1.9 2 2 2h14c1.1 0 2-.9 2-2V5c0-1.1-.9-2-2-2zM9 17H7v-7h2v7zm4 0h-2V7h2v10zm4 0h-2v-4h2v4z\"/>\n",
              "    </g>\n",
              "</svg>\n",
              "  </button>\n",
              "\n",
              "<style>\n",
              "  .colab-df-quickchart {\n",
              "      --bg-color: #E8F0FE;\n",
              "      --fill-color: #1967D2;\n",
              "      --hover-bg-color: #E2EBFA;\n",
              "      --hover-fill-color: #174EA6;\n",
              "      --disabled-fill-color: #AAA;\n",
              "      --disabled-bg-color: #DDD;\n",
              "  }\n",
              "\n",
              "  [theme=dark] .colab-df-quickchart {\n",
              "      --bg-color: #3B4455;\n",
              "      --fill-color: #D2E3FC;\n",
              "      --hover-bg-color: #434B5C;\n",
              "      --hover-fill-color: #FFFFFF;\n",
              "      --disabled-bg-color: #3B4455;\n",
              "      --disabled-fill-color: #666;\n",
              "  }\n",
              "\n",
              "  .colab-df-quickchart {\n",
              "    background-color: var(--bg-color);\n",
              "    border: none;\n",
              "    border-radius: 50%;\n",
              "    cursor: pointer;\n",
              "    display: none;\n",
              "    fill: var(--fill-color);\n",
              "    height: 32px;\n",
              "    padding: 0;\n",
              "    width: 32px;\n",
              "  }\n",
              "\n",
              "  .colab-df-quickchart:hover {\n",
              "    background-color: var(--hover-bg-color);\n",
              "    box-shadow: 0 1px 2px rgba(60, 64, 67, 0.3), 0 1px 3px 1px rgba(60, 64, 67, 0.15);\n",
              "    fill: var(--button-hover-fill-color);\n",
              "  }\n",
              "\n",
              "  .colab-df-quickchart-complete:disabled,\n",
              "  .colab-df-quickchart-complete:disabled:hover {\n",
              "    background-color: var(--disabled-bg-color);\n",
              "    fill: var(--disabled-fill-color);\n",
              "    box-shadow: none;\n",
              "  }\n",
              "\n",
              "  .colab-df-spinner {\n",
              "    border: 2px solid var(--fill-color);\n",
              "    border-color: transparent;\n",
              "    border-bottom-color: var(--fill-color);\n",
              "    animation:\n",
              "      spin 1s steps(1) infinite;\n",
              "  }\n",
              "\n",
              "  @keyframes spin {\n",
              "    0% {\n",
              "      border-color: transparent;\n",
              "      border-bottom-color: var(--fill-color);\n",
              "      border-left-color: var(--fill-color);\n",
              "    }\n",
              "    20% {\n",
              "      border-color: transparent;\n",
              "      border-left-color: var(--fill-color);\n",
              "      border-top-color: var(--fill-color);\n",
              "    }\n",
              "    30% {\n",
              "      border-color: transparent;\n",
              "      border-left-color: var(--fill-color);\n",
              "      border-top-color: var(--fill-color);\n",
              "      border-right-color: var(--fill-color);\n",
              "    }\n",
              "    40% {\n",
              "      border-color: transparent;\n",
              "      border-right-color: var(--fill-color);\n",
              "      border-top-color: var(--fill-color);\n",
              "    }\n",
              "    60% {\n",
              "      border-color: transparent;\n",
              "      border-right-color: var(--fill-color);\n",
              "    }\n",
              "    80% {\n",
              "      border-color: transparent;\n",
              "      border-right-color: var(--fill-color);\n",
              "      border-bottom-color: var(--fill-color);\n",
              "    }\n",
              "    90% {\n",
              "      border-color: transparent;\n",
              "      border-bottom-color: var(--fill-color);\n",
              "    }\n",
              "  }\n",
              "</style>\n",
              "\n",
              "  <script>\n",
              "    async function quickchart(key) {\n",
              "      const quickchartButtonEl =\n",
              "        document.querySelector('#' + key + ' button');\n",
              "      quickchartButtonEl.disabled = true;  // To prevent multiple clicks.\n",
              "      quickchartButtonEl.classList.add('colab-df-spinner');\n",
              "      try {\n",
              "        const charts = await google.colab.kernel.invokeFunction(\n",
              "            'suggestCharts', [key], {});\n",
              "      } catch (error) {\n",
              "        console.error('Error during call to suggestCharts:', error);\n",
              "      }\n",
              "      quickchartButtonEl.classList.remove('colab-df-spinner');\n",
              "      quickchartButtonEl.classList.add('colab-df-quickchart-complete');\n",
              "    }\n",
              "    (() => {\n",
              "      let quickchartButtonEl =\n",
              "        document.querySelector('#df-9fba0a58-6b36-45e4-9987-30ec4af444ce button');\n",
              "      quickchartButtonEl.style.display =\n",
              "        google.colab.kernel.accessAllowed ? 'block' : 'none';\n",
              "    })();\n",
              "  </script>\n",
              "</div>\n",
              "\n",
              "    </div>\n",
              "  </div>\n"
            ],
            "application/vnd.google.colaboratory.intrinsic+json": {
              "type": "dataframe",
              "variable_name": "test_data",
              "summary": "{\n  \"name\": \"test_data\",\n  \"rows\": 3263,\n  \"fields\": [\n    {\n      \"column\": \"id\",\n      \"properties\": {\n        \"dtype\": \"number\",\n        \"std\": 3146,\n        \"min\": 0,\n        \"max\": 10875,\n        \"num_unique_values\": 3263,\n        \"samples\": [\n          8051,\n          425,\n          1330\n        ],\n        \"semantic_type\": \"\",\n        \"description\": \"\"\n      }\n    },\n    {\n      \"column\": \"keyword\",\n      \"properties\": {\n        \"dtype\": \"category\",\n        \"num_unique_values\": 221,\n        \"samples\": [\n          \"injury\",\n          \"nuclear%20reactor\",\n          \"engulfed\"\n        ],\n        \"semantic_type\": \"\",\n        \"description\": \"\"\n      }\n    },\n    {\n      \"column\": \"location\",\n      \"properties\": {\n        \"dtype\": \"category\",\n        \"num_unique_values\": 1602,\n        \"samples\": [\n          \"UAE\",\n          \"Tokio / Tokyo\",\n          \"Texas\"\n        ],\n        \"semantic_type\": \"\",\n        \"description\": \"\"\n      }\n    },\n    {\n      \"column\": \"text\",\n      \"properties\": {\n        \"dtype\": \"string\",\n        \"num_unique_values\": 3243,\n        \"samples\": [\n          \"Latest: USA: Huge sinkhole swallows up Brooklyn intersection http://t.co/vspKHg3nZy\",\n          \"I liked a @YouTube video http://t.co/a5YTAw9Vih S.O.S. Rona Guide - The Red Whirlwind\",\n          \"HitchBot travels Europe and greeted with open arms. Gets destroyed after two weeks in america. There's a lesson to be learned here.\"\n        ],\n        \"semantic_type\": \"\",\n        \"description\": \"\"\n      }\n    }\n  ]\n}"
            }
          },
          "metadata": {},
          "execution_count": 11
        }
      ]
    },
    {
      "cell_type": "code",
      "source": [
        "train_data.target.value_counts()"
      ],
      "metadata": {
        "colab": {
          "base_uri": "https://localhost:8080/",
          "height": 178
        },
        "id": "JsG43bSMS-mR",
        "outputId": "b785823b-b3db-4cab-c244-faa2c1bf2c54"
      },
      "execution_count": null,
      "outputs": [
        {
          "output_type": "execute_result",
          "data": {
            "text/plain": [
              "target\n",
              "0    4342\n",
              "1    3271\n",
              "Name: count, dtype: int64"
            ],
            "text/html": [
              "<div>\n",
              "<style scoped>\n",
              "    .dataframe tbody tr th:only-of-type {\n",
              "        vertical-align: middle;\n",
              "    }\n",
              "\n",
              "    .dataframe tbody tr th {\n",
              "        vertical-align: top;\n",
              "    }\n",
              "\n",
              "    .dataframe thead th {\n",
              "        text-align: right;\n",
              "    }\n",
              "</style>\n",
              "<table border=\"1\" class=\"dataframe\">\n",
              "  <thead>\n",
              "    <tr style=\"text-align: right;\">\n",
              "      <th></th>\n",
              "      <th>count</th>\n",
              "    </tr>\n",
              "    <tr>\n",
              "      <th>target</th>\n",
              "      <th></th>\n",
              "    </tr>\n",
              "  </thead>\n",
              "  <tbody>\n",
              "    <tr>\n",
              "      <th>0</th>\n",
              "      <td>4342</td>\n",
              "    </tr>\n",
              "    <tr>\n",
              "      <th>1</th>\n",
              "      <td>3271</td>\n",
              "    </tr>\n",
              "  </tbody>\n",
              "</table>\n",
              "</div><br><label><b>dtype:</b> int64</label>"
            ]
          },
          "metadata": {},
          "execution_count": 12
        }
      ]
    },
    {
      "cell_type": "code",
      "source": [
        "#total number of samples\n",
        "\n",
        "len(train_data), len(test_data)"
      ],
      "metadata": {
        "colab": {
          "base_uri": "https://localhost:8080/"
        },
        "id": "tTuTOJZDWOoG",
        "outputId": "0896facd-7d46-4f5a-fca3-3f68d167e011"
      },
      "execution_count": null,
      "outputs": [
        {
          "output_type": "execute_result",
          "data": {
            "text/plain": [
              "(7613, 3263)"
            ]
          },
          "metadata": {},
          "execution_count": 13
        }
      ]
    },
    {
      "cell_type": "markdown",
      "source": [
        "###visualize some training data"
      ],
      "metadata": {
        "id": "4_AfkvBlehDu"
      }
    },
    {
      "cell_type": "code",
      "source": [
        "#generate random samples\n",
        "\n",
        "import random\n",
        "random_index = random.randint(0, len(train_data)-5) #create random samples not higher than the training data\n",
        "for row in train_data_shuffled[[\"text\", \"target\"]][random_index: random_index+5].itertuples(): # https://pandas.pydata.org/docs/reference/api/pandas.DataFrame.itertuples.html\n",
        "  _, text, target = row\n",
        "\n",
        "  print(f\"Target: {target}\", \"(fake news)\" if target > 0 else \"(Not fake news)\")\n",
        "  print(f\"Text: \\n {text} \\n\")\n",
        "  print(\"____ \\n\")"
      ],
      "metadata": {
        "colab": {
          "base_uri": "https://localhost:8080/"
        },
        "id": "cF4VkGaAZinY",
        "outputId": "bfa20c77-ed4f-4dfd-b041-fcd25b9ae9f5"
      },
      "execution_count": null,
      "outputs": [
        {
          "output_type": "stream",
          "name": "stdout",
          "text": [
            "Target: 0 (Not fake news)\n",
            "Text: \n",
            " Beyonce Is my pick for http://t.co/nnMQlz91o9 Fan Army #Beyhive http://t.co/o91f3cYy0R 78 \n",
            "\n",
            "____ \n",
            "\n",
            "Target: 1 (fake news)\n",
            "Text: \n",
            " Learn how to evacuate your home in the event of a #wildfire view videos at http://t.co/bGeRLjamTE #CA #NV #UT #CO #OR http://t.co/sPuHuvgAsy \n",
            "\n",
            "____ \n",
            "\n",
            "Target: 1 (fake news)\n",
            "Text: \n",
            " #vaxshill 2 deaths from measles complications in 10 yrs everyone looses their shit. 8 dead from Legionnaires in a month &amp; crickets \n",
            "\n",
            "____ \n",
            "\n",
            "Target: 1 (fake news)\n",
            "Text: \n",
            " Summer heat drives bobcats to Calgary backyards ~ 3 http://t.co/kEstuUYc4t http://t.co/PzFBb1P1mj \n",
            "\n",
            "____ \n",
            "\n",
            "Target: 1 (fake news)\n",
            "Text: \n",
            " My baby girls car wreak this afternoon thank God no serious injuries and she was wearing her seatbelt!!!... http://t.co/NJQV45ndS2 \n",
            "\n",
            "____ \n",
            "\n"
          ]
        }
      ]
    },
    {
      "cell_type": "markdown",
      "source": [
        "###split the data into training and validation sets"
      ],
      "metadata": {
        "id": "ffY1a4i5tfii"
      }
    },
    {
      "cell_type": "code",
      "source": [
        "from sklearn.model_selection import train_test_split"
      ],
      "metadata": {
        "id": "XAyrXGJ0uSRD"
      },
      "execution_count": null,
      "outputs": []
    },
    {
      "cell_type": "code",
      "source": [
        "#Split training data into train_data and validation data\n",
        "val_sentences, train_sentences, val_labels, train_labels = train_test_split(train_data_shuffled[\"text\"].to_numpy(),\n",
        "                                                                             train_data_shuffled[\"target\"].to_numpy(),\n",
        "                                                                             train_size = 0.5, #use 10% of the data\n",
        "                                                                             random_state = 42)\n"
      ],
      "metadata": {
        "id": "lkEe_lzSvQ3C"
      },
      "execution_count": null,
      "outputs": []
    },
    {
      "cell_type": "code",
      "source": [
        "train_labels\n"
      ],
      "metadata": {
        "colab": {
          "base_uri": "https://localhost:8080/"
        },
        "id": "yrSiGmuF51EJ",
        "outputId": "bda553b2-9ad1-48b5-8e5a-9c1a1f80ff9c"
      },
      "execution_count": null,
      "outputs": [
        {
          "output_type": "execute_result",
          "data": {
            "text/plain": [
              "array([0, 0, 1, ..., 0, 0, 0])"
            ]
          },
          "metadata": {},
          "execution_count": 65
        }
      ]
    },
    {
      "cell_type": "code",
      "source": [
        "len(train_sentences), len(train_labels), len(val_sentences), len(val_labels)"
      ],
      "metadata": {
        "colab": {
          "base_uri": "https://localhost:8080/"
        },
        "id": "eV3Z5Tl56Dkf",
        "outputId": "b2d65a67-5e87-409e-df7a-b10237a2c276"
      },
      "execution_count": null,
      "outputs": [
        {
          "output_type": "execute_result",
          "data": {
            "text/plain": [
              "(3807, 3807, 3806, 3806)"
            ]
          },
          "metadata": {},
          "execution_count": 66
        }
      ]
    },
    {
      "cell_type": "code",
      "source": [
        "#check the first 10 samples\n",
        "train_sentences[:10], train_labels[:10]"
      ],
      "metadata": {
        "colab": {
          "base_uri": "https://localhost:8080/"
        },
        "id": "Rz0SCS-e6t3a",
        "outputId": "07b82b4f-380d-4c9b-cf4b-a8f3e73eb614"
      },
      "execution_count": null,
      "outputs": [
        {
          "output_type": "execute_result",
          "data": {
            "text/plain": [
              "(array(['DFR EP016 Monthly Meltdown - On Dnbheaven 2015.08.06 http://t.co/EjKRf8N8A8 #Drum and Bass #heavy #nasty http://t.co/SPHWE6wFI5',\n",
              "        'FedEx no longer to transport bioterror germs in wake of anthrax lab mishaps http://t.co/qZQc8WWwcN via @usatoday',\n",
              "        'Gunmen kill four in El Salvador bus attack: Suspected Salvadoran gang members killed four people and wounded s... http://t.co/CNtwB6ScZj',\n",
              "        '@camilacabello97 Internally and externally screaming',\n",
              "        'Radiation emergency #preparedness starts with knowing to: get inside stay inside and stay tuned http://t.co/RFFPqBAz2F via @CDCgov',\n",
              "        'Investigators rule catastrophic structural failure resulted in 2014 Virg.. Related Articles: http://t.co/Cy1LFeNyV8',\n",
              "        'How the West was burned: Thousands of wildfires ablaze in #California alone http://t.co/iCSjGZ9tE1 #climate #energy http://t.co/9FxmN0l0Bd',\n",
              "        \"Map: Typhoon Soudelor's predicted path as it approaches Taiwan; expected to make landfall over southern China by S\\x89Û_ http://t.co/JDVSGVhlIs\",\n",
              "        '\\x89Ûª93 blasts accused Yeda Yakub dies in Karachi of heart attack http://t.co/mfKqyxd8XG #Mumbai',\n",
              "        'My ears are bleeding  https://t.co/k5KnNwugwT'], dtype=object),\n",
              " array([0, 0, 1, 1, 1, 1, 1, 1, 1, 0]))"
            ]
          },
          "metadata": {},
          "execution_count": 67
        }
      ]
    },
    {
      "cell_type": "markdown",
      "source": [
        "##Converting text into numbers\n",
        "\n",
        "there are two methods:-\n",
        "1. Tokenization\n",
        "2. Embedding"
      ],
      "metadata": {
        "id": "_ddxcGe7AGRo"
      }
    },
    {
      "cell_type": "markdown",
      "source": [
        "###Text Vectorization(tokenization)"
      ],
      "metadata": {
        "id": "GJVKwHOXVBGp"
      }
    },
    {
      "cell_type": "code",
      "source": [
        "import tensorflow as tf\n",
        "from tensorflow.keras.layers import TextVectorization\n",
        "\n",
        "#use the default TextVectorization parameters\n",
        "\n",
        "text_vectorizer = TextVectorization(max_tokens = None, #how many words in the vocabulary, none means it will automate according to data(automatically add <00V>)\n",
        "                                    standardize = \"lower_and_strip_punctuation\",\n",
        "                                    split = \"whitespace\", #white spaces between the sample\n",
        "                                    ngrams = None, # create a group of n-words eg: 2 words as 1 ngram\n",
        "                                    output_mode = 'int',#how to map tokens to numbers\n",
        "                                    output_sequence_length = None, #how long do you want your sentences to be\n",
        "                                    pad_to_max_tokens = False # if you want to pad then set max_tokens to a value\n",
        "                                    )"
      ],
      "metadata": {
        "id": "93dBPm7CVe_C"
      },
      "execution_count": null,
      "outputs": []
    },
    {
      "cell_type": "code",
      "source": [
        "len(train_sentences[0].split())"
      ],
      "metadata": {
        "colab": {
          "base_uri": "https://localhost:8080/"
        },
        "id": "3TPFpHK-mlAR",
        "outputId": "9cd6ca00-0cd5-429a-8670-6c12189d02f8"
      },
      "execution_count": null,
      "outputs": [
        {
          "output_type": "execute_result",
          "data": {
            "text/plain": [
              "15"
            ]
          },
          "metadata": {},
          "execution_count": 69
        }
      ]
    },
    {
      "cell_type": "code",
      "source": [
        "round(sum([len(i.split()) for i in train_sentences]))"
      ],
      "metadata": {
        "colab": {
          "base_uri": "https://localhost:8080/"
        },
        "id": "VvGQ4V5GpJ10",
        "outputId": "be4627d7-b6f8-4538-9161-37e5b98bd063"
      },
      "execution_count": null,
      "outputs": [
        {
          "output_type": "execute_result",
          "data": {
            "text/plain": [
              "56821"
            ]
          },
          "metadata": {},
          "execution_count": 70
        }
      ]
    },
    {
      "cell_type": "code",
      "source": [
        "#average number of tokens in training tweets\n",
        "round(sum([len(i.split()) for i in train_sentences])/len(train_sentences))"
      ],
      "metadata": {
        "colab": {
          "base_uri": "https://localhost:8080/"
        },
        "id": "pHqM-fwkXfxH",
        "outputId": "4634e430-1e85-4b41-93f3-02f0cdbe9d47"
      },
      "execution_count": null,
      "outputs": [
        {
          "output_type": "execute_result",
          "data": {
            "text/plain": [
              "15"
            ]
          },
          "metadata": {},
          "execution_count": 71
        }
      ]
    },
    {
      "cell_type": "code",
      "source": [
        "# re-setup textvectorization variables\n",
        "max_vocabulary_length = 10000 #max number of words to have in our vocabulary\n",
        "max_length = 15 #max length our sentences can be\n",
        "\n",
        "\n"
      ],
      "metadata": {
        "id": "HqzJqHTIo_kN"
      },
      "execution_count": null,
      "outputs": []
    },
    {
      "cell_type": "code",
      "source": [
        "text_vectorizer = TextVectorization(max_tokens = max_vocabulary_length,\n",
        "                                    output_mode = \"int\",\n",
        "                                    output_sequence_length = max_length\n",
        "                                    )"
      ],
      "metadata": {
        "id": "pgvkLohF_Vob"
      },
      "execution_count": null,
      "outputs": []
    },
    {
      "cell_type": "markdown",
      "source": [
        "###text_vectorizer.adapt()"
      ],
      "metadata": {
        "id": "31bLRkZD3Z-5"
      }
    },
    {
      "cell_type": "code",
      "source": [
        "#fit the text vectorizer to the training text\n",
        "text_vectorizer.adapt(train_sentences )"
      ],
      "metadata": {
        "id": "IEhYmWz8xCu9"
      },
      "execution_count": null,
      "outputs": []
    },
    {
      "cell_type": "code",
      "source": [
        "#create a sample sentence and tokenize it\n",
        "\n",
        "sample_sentence = \"Theres a flood in my street! \"\n",
        "text_vectorizer([sample_sentence]) #text_vectorizer accepts as a list\n",
        "\n"
      ],
      "metadata": {
        "colab": {
          "base_uri": "https://localhost:8080/"
        },
        "id": "sxpLYLmexnvK",
        "outputId": "4238bea6-2554-4100-88ef-5a6e2fcf3e9a"
      },
      "execution_count": null,
      "outputs": [
        {
          "output_type": "execute_result",
          "data": {
            "text/plain": [
              "<tf.Tensor: shape=(1, 15), dtype=int64, numpy=\n",
              "array([[489,   3, 199,   4,  13, 655,   0,   0,   0,   0,   0,   0,   0,\n",
              "          0,   0]])>"
            ]
          },
          "metadata": {},
          "execution_count": 75
        }
      ]
    },
    {
      "cell_type": "markdown",
      "source": [
        "the length is 6 for above code so the others is 0 which shows the need of output_sequence_length = 15"
      ],
      "metadata": {
        "id": "zBGcWtikzQOE"
      }
    },
    {
      "cell_type": "code",
      "source": [
        "random_sentence = random.choice(train_sentences)\n",
        "print(f\"Original Sentences : \\n{random_sentence} \\n\\n Vectorized sentence : \")\n",
        "text_vectorizer([random_sentence])"
      ],
      "metadata": {
        "colab": {
          "base_uri": "https://localhost:8080/"
        },
        "id": "4uY_ZHHGzjOo",
        "outputId": "34ca6039-c6db-441d-9810-e21183d7ed15"
      },
      "execution_count": null,
      "outputs": [
        {
          "output_type": "stream",
          "name": "stdout",
          "text": [
            "Original Sentences : \n",
            "@BroseidonRex @dapurplesharpie I skimmed through twitter and missed this body bagging. \n",
            "\n",
            " Vectorized sentence : \n"
          ]
        },
        {
          "output_type": "execute_result",
          "data": {
            "text/plain": [
              "<tf.Tensor: shape=(1, 15), dtype=int64, numpy=\n",
              "array([[   1,    1,    7, 5656,  286,  300,    8, 2368,   19,   92,  701,\n",
              "           0,    0,    0,    0]])>"
            ]
          },
          "metadata": {},
          "execution_count": 76
        }
      ]
    },
    {
      "cell_type": "markdown",
      "source": [
        "###text_vectorizer.get_vocabulary()"
      ],
      "metadata": {
        "id": "mtEhRJwz3QpL"
      }
    },
    {
      "cell_type": "code",
      "source": [
        "#Get the Unique words in the vocabulary\n",
        "\n",
        "words_in_vocab = text_vectorizer.get_vocabulary()# get all the unique words in our training words\n",
        "top_5_words= words_in_vocab[:5] #first 5\n",
        "less_5_words = words_in_vocab[-5:] #last 5\n",
        "\n",
        "top_5_words, less_5_words"
      ],
      "metadata": {
        "colab": {
          "base_uri": "https://localhost:8080/"
        },
        "id": "CqEdUe4G06zY",
        "outputId": "36d20fa1-4486-428f-a98e-e4fc02090d0e"
      },
      "execution_count": null,
      "outputs": [
        {
          "output_type": "execute_result",
          "data": {
            "text/plain": [
              "(['', '[UNK]', np.str_('the'), np.str_('a'), np.str_('in')],\n",
              " [np.str_('httptcocnqae9foj6'),\n",
              "  np.str_('httptcocmweiojj55'),\n",
              "  np.str_('httptcocmsgexm4fc'),\n",
              "  np.str_('httptcocm8uni1mrg'),\n",
              "  np.str_('httptcoclyj32l333')])"
            ]
          },
          "metadata": {},
          "execution_count": 77
        }
      ]
    },
    {
      "cell_type": "markdown",
      "source": [
        "# Create an Emmbedding layer\n",
        "\n",
        "The parameters we care most about for our embedding layer:\n",
        "\n",
        "input_dim = the size of our vocabulary\n",
        "\n",
        "\n",
        "output_dim = the size of the embedding vector, for eg:- a value of 100 would mean each token gets represented by a vector 100 long.\n",
        "\n",
        "input_length = length of the sequence being passed to the embedding layer\n",
        "\n",
        "https://www.tensorflow.org/text/guide/word_embeddings\n",
        "\n",
        "\n",
        "\n",
        "\n"
      ],
      "metadata": {
        "id": "JLTyTr1D6Hq4"
      }
    },
    {
      "cell_type": "code",
      "source": [
        "from tensorflow.keras.layers import Embedding\n",
        "\n",
        "embedding = Embedding(input_dim = max_vocabulary_length, #set input shape\n",
        "                      output_dim = 128, #divisible by 8\n",
        "                      embeddings_initializer = \"uniform\",#default value\n",
        "                      input_length = max_length) #how long is each input\n",
        "\n",
        "embedding\n"
      ],
      "metadata": {
        "colab": {
          "base_uri": "https://localhost:8080/"
        },
        "id": "_qNoNowP8P-L",
        "outputId": "c1d69e6c-6b23-416c-901c-547bd4312741"
      },
      "execution_count": null,
      "outputs": [
        {
          "output_type": "stream",
          "name": "stderr",
          "text": [
            "/usr/local/lib/python3.11/dist-packages/keras/src/layers/core/embedding.py:90: UserWarning: Argument `input_length` is deprecated. Just remove it.\n",
            "  warnings.warn(\n"
          ]
        },
        {
          "output_type": "execute_result",
          "data": {
            "text/plain": [
              "<Embedding name=embedding_2, built=False>"
            ]
          },
          "metadata": {},
          "execution_count": 78
        }
      ]
    },
    {
      "cell_type": "code",
      "source": [
        "#get a random sentence on the training set\n",
        "random_sentence = random.choice(train_sentences)\n",
        "\n",
        "print(f\"original sentences : {random_sentence} \\n \\n Embedded version :\"\n",
        "      )\n",
        "\n",
        "#get the random sentence into embedded version(turns positive integers (indexes) into dense vectors of fixed size.)\n",
        "embeded_sample = embedding(text_vectorizer([random_sentence])) #in text_vectorizer the sentence should go as a list\n",
        "\n",
        "embeded_sample\n"
      ],
      "metadata": {
        "colab": {
          "base_uri": "https://localhost:8080/"
        },
        "id": "9TW3o_-P_7s4",
        "outputId": "1c1ce2c1-57bc-4410-9f9f-11034fdc72f4"
      },
      "execution_count": null,
      "outputs": [
        {
          "output_type": "stream",
          "name": "stdout",
          "text": [
            "original sentences : #TBT Remember that time Patrick Kane attacked a cab driver over .20 \n",
            " \n",
            " Embedded version :\n"
          ]
        },
        {
          "output_type": "execute_result",
          "data": {
            "text/plain": [
              "<tf.Tensor: shape=(1, 15, 128), dtype=float32, numpy=\n",
              "array([[[-0.0088719 , -0.03012196,  0.04989265, ..., -0.00903078,\n",
              "         -0.02876428, -0.04797833],\n",
              "        [-0.04701139, -0.03343867,  0.01413875, ...,  0.03827201,\n",
              "          0.02835629, -0.04519594],\n",
              "        [ 0.04728333, -0.03747705, -0.02219138, ...,  0.02632814,\n",
              "         -0.04876266, -0.0344279 ],\n",
              "        ...,\n",
              "        [ 0.02404917, -0.01206158, -0.00340217, ...,  0.02877803,\n",
              "          0.00255629,  0.01426164],\n",
              "        [ 0.02404917, -0.01206158, -0.00340217, ...,  0.02877803,\n",
              "          0.00255629,  0.01426164],\n",
              "        [ 0.02404917, -0.01206158, -0.00340217, ...,  0.02877803,\n",
              "          0.00255629,  0.01426164]]], dtype=float32)>"
            ]
          },
          "metadata": {},
          "execution_count": 79
        }
      ]
    },
    {
      "cell_type": "code",
      "source": [
        "embeded_sample[0][0] , embeded_sample[0][0].shape, random_sentence[0]"
      ],
      "metadata": {
        "colab": {
          "base_uri": "https://localhost:8080/"
        },
        "id": "KmQCCZW_Dfho",
        "outputId": "03f7b1f3-05ee-4f88-d279-0f0f716e5560"
      },
      "execution_count": null,
      "outputs": [
        {
          "output_type": "execute_result",
          "data": {
            "text/plain": [
              "(<tf.Tensor: shape=(128,), dtype=float32, numpy=\n",
              " array([-0.0088719 , -0.03012196,  0.04989265, -0.01615018,  0.00524261,\n",
              "        -0.04142929,  0.03234838,  0.01403276, -0.02436771, -0.03298137,\n",
              "        -0.01794798, -0.00205457, -0.02991276,  0.04946334, -0.04346695,\n",
              "        -0.02424481, -0.04522957,  0.02825779, -0.02748313, -0.04366148,\n",
              "         0.03772565,  0.01202076, -0.04064751, -0.04672204, -0.04183923,\n",
              "        -0.00010184, -0.04221885, -0.02555157, -0.03920915, -0.02310388,\n",
              "        -0.04714621, -0.01757823,  0.04947406, -0.04180498,  0.0050538 ,\n",
              "        -0.02233582,  0.0141587 ,  0.02638016,  0.02601904, -0.01786359,\n",
              "        -0.00070983, -0.04313129,  0.00191562, -0.00364534, -0.04188645,\n",
              "         0.01031489, -0.00226891,  0.04679792,  0.01827185, -0.0139251 ,\n",
              "        -0.00698122, -0.00143267,  0.0307428 ,  0.04993891, -0.02108172,\n",
              "        -0.04097167, -0.02448876,  0.03294721, -0.02770618, -0.03953445,\n",
              "        -0.01111694,  0.00043485, -0.00289344,  0.02116934, -0.04969947,\n",
              "         0.00855353,  0.02660776,  0.01547662, -0.04106104,  0.00204555,\n",
              "         0.02994288, -0.03034726, -0.00817316,  0.00792643, -0.00633701,\n",
              "        -0.01129504,  0.02877041,  0.03317782,  0.04546405, -0.01332342,\n",
              "         0.01395073,  0.03215828, -0.006685  ,  0.00526214,  0.03464074,\n",
              "        -0.04664927,  0.03114777,  0.02297827,  0.01854134, -0.04225781,\n",
              "        -0.03002827,  0.02877859, -0.02755512,  0.00473025,  0.03858582,\n",
              "        -0.012448  , -0.03242911,  0.03332186, -0.03988697, -0.02610599,\n",
              "         0.01765255,  0.0392181 ,  0.0281789 , -0.04413491, -0.01036622,\n",
              "         0.04090318, -0.0091532 ,  0.01949496,  0.00142927, -0.04725349,\n",
              "         0.04555691,  0.01373737, -0.01487178,  0.03828379,  0.01052613,\n",
              "         0.04989982, -0.01311184, -0.04285686, -0.03523504, -0.00080369,\n",
              "         0.01712463, -0.04957708, -0.03397999,  0.01823911, -0.02633008,\n",
              "        -0.00903078, -0.02876428, -0.04797833], dtype=float32)>,\n",
              " TensorShape([128]),\n",
              " '#')"
            ]
          },
          "metadata": {},
          "execution_count": 80
        }
      ]
    },
    {
      "cell_type": "markdown",
      "source": [
        "##Modelling a text data set(running a series of experiments)\n",
        "\n",
        "Scikit-learn machine learning map\n"
      ],
      "metadata": {
        "id": "6FTokIfmEcUD"
      }
    },
    {
      "cell_type": "markdown",
      "source": [
        "##Model 0 : naive bayes (baseline)\n",
        "\n",
        "https://github.com/arseniyturin/nlp_multinomial_naive_bayes"
      ],
      "metadata": {
        "id": "u6p0vfBJZY9m"
      }
    },
    {
      "cell_type": "code",
      "source": [
        "from sklearn.naive_bayes import MultinomialNB # classifier\n",
        "from sklearn.feature_extraction.text import TfidfVectorizer\n",
        "from sklearn.pipeline import Pipeline\n",
        "\n",
        "model_0 = Pipeline([\n",
        "    (\"Tfidf\", TfidfVectorizer()),\n",
        "    (\"clf\", MultinomialNB())# clf means classifier\n",
        "])\n",
        "\n",
        "model_0.fit(train_sentences, train_labels)"
      ],
      "metadata": {
        "colab": {
          "base_uri": "https://localhost:8080/",
          "height": 155
        },
        "id": "hQewWIwfdPrT",
        "outputId": "be8571a7-5543-4f8e-bc64-1056f38d4596"
      },
      "execution_count": null,
      "outputs": [
        {
          "output_type": "execute_result",
          "data": {
            "text/plain": [
              "Pipeline(steps=[('Tfidf', TfidfVectorizer()), ('clf', MultinomialNB())])"
            ],
            "text/html": [
              "<style>#sk-container-id-2 {\n",
              "  /* Definition of color scheme common for light and dark mode */\n",
              "  --sklearn-color-text: #000;\n",
              "  --sklearn-color-text-muted: #666;\n",
              "  --sklearn-color-line: gray;\n",
              "  /* Definition of color scheme for unfitted estimators */\n",
              "  --sklearn-color-unfitted-level-0: #fff5e6;\n",
              "  --sklearn-color-unfitted-level-1: #f6e4d2;\n",
              "  --sklearn-color-unfitted-level-2: #ffe0b3;\n",
              "  --sklearn-color-unfitted-level-3: chocolate;\n",
              "  /* Definition of color scheme for fitted estimators */\n",
              "  --sklearn-color-fitted-level-0: #f0f8ff;\n",
              "  --sklearn-color-fitted-level-1: #d4ebff;\n",
              "  --sklearn-color-fitted-level-2: #b3dbfd;\n",
              "  --sklearn-color-fitted-level-3: cornflowerblue;\n",
              "\n",
              "  /* Specific color for light theme */\n",
              "  --sklearn-color-text-on-default-background: var(--sg-text-color, var(--theme-code-foreground, var(--jp-content-font-color1, black)));\n",
              "  --sklearn-color-background: var(--sg-background-color, var(--theme-background, var(--jp-layout-color0, white)));\n",
              "  --sklearn-color-border-box: var(--sg-text-color, var(--theme-code-foreground, var(--jp-content-font-color1, black)));\n",
              "  --sklearn-color-icon: #696969;\n",
              "\n",
              "  @media (prefers-color-scheme: dark) {\n",
              "    /* Redefinition of color scheme for dark theme */\n",
              "    --sklearn-color-text-on-default-background: var(--sg-text-color, var(--theme-code-foreground, var(--jp-content-font-color1, white)));\n",
              "    --sklearn-color-background: var(--sg-background-color, var(--theme-background, var(--jp-layout-color0, #111)));\n",
              "    --sklearn-color-border-box: var(--sg-text-color, var(--theme-code-foreground, var(--jp-content-font-color1, white)));\n",
              "    --sklearn-color-icon: #878787;\n",
              "  }\n",
              "}\n",
              "\n",
              "#sk-container-id-2 {\n",
              "  color: var(--sklearn-color-text);\n",
              "}\n",
              "\n",
              "#sk-container-id-2 pre {\n",
              "  padding: 0;\n",
              "}\n",
              "\n",
              "#sk-container-id-2 input.sk-hidden--visually {\n",
              "  border: 0;\n",
              "  clip: rect(1px 1px 1px 1px);\n",
              "  clip: rect(1px, 1px, 1px, 1px);\n",
              "  height: 1px;\n",
              "  margin: -1px;\n",
              "  overflow: hidden;\n",
              "  padding: 0;\n",
              "  position: absolute;\n",
              "  width: 1px;\n",
              "}\n",
              "\n",
              "#sk-container-id-2 div.sk-dashed-wrapped {\n",
              "  border: 1px dashed var(--sklearn-color-line);\n",
              "  margin: 0 0.4em 0.5em 0.4em;\n",
              "  box-sizing: border-box;\n",
              "  padding-bottom: 0.4em;\n",
              "  background-color: var(--sklearn-color-background);\n",
              "}\n",
              "\n",
              "#sk-container-id-2 div.sk-container {\n",
              "  /* jupyter's `normalize.less` sets `[hidden] { display: none; }`\n",
              "     but bootstrap.min.css set `[hidden] { display: none !important; }`\n",
              "     so we also need the `!important` here to be able to override the\n",
              "     default hidden behavior on the sphinx rendered scikit-learn.org.\n",
              "     See: https://github.com/scikit-learn/scikit-learn/issues/21755 */\n",
              "  display: inline-block !important;\n",
              "  position: relative;\n",
              "}\n",
              "\n",
              "#sk-container-id-2 div.sk-text-repr-fallback {\n",
              "  display: none;\n",
              "}\n",
              "\n",
              "div.sk-parallel-item,\n",
              "div.sk-serial,\n",
              "div.sk-item {\n",
              "  /* draw centered vertical line to link estimators */\n",
              "  background-image: linear-gradient(var(--sklearn-color-text-on-default-background), var(--sklearn-color-text-on-default-background));\n",
              "  background-size: 2px 100%;\n",
              "  background-repeat: no-repeat;\n",
              "  background-position: center center;\n",
              "}\n",
              "\n",
              "/* Parallel-specific style estimator block */\n",
              "\n",
              "#sk-container-id-2 div.sk-parallel-item::after {\n",
              "  content: \"\";\n",
              "  width: 100%;\n",
              "  border-bottom: 2px solid var(--sklearn-color-text-on-default-background);\n",
              "  flex-grow: 1;\n",
              "}\n",
              "\n",
              "#sk-container-id-2 div.sk-parallel {\n",
              "  display: flex;\n",
              "  align-items: stretch;\n",
              "  justify-content: center;\n",
              "  background-color: var(--sklearn-color-background);\n",
              "  position: relative;\n",
              "}\n",
              "\n",
              "#sk-container-id-2 div.sk-parallel-item {\n",
              "  display: flex;\n",
              "  flex-direction: column;\n",
              "}\n",
              "\n",
              "#sk-container-id-2 div.sk-parallel-item:first-child::after {\n",
              "  align-self: flex-end;\n",
              "  width: 50%;\n",
              "}\n",
              "\n",
              "#sk-container-id-2 div.sk-parallel-item:last-child::after {\n",
              "  align-self: flex-start;\n",
              "  width: 50%;\n",
              "}\n",
              "\n",
              "#sk-container-id-2 div.sk-parallel-item:only-child::after {\n",
              "  width: 0;\n",
              "}\n",
              "\n",
              "/* Serial-specific style estimator block */\n",
              "\n",
              "#sk-container-id-2 div.sk-serial {\n",
              "  display: flex;\n",
              "  flex-direction: column;\n",
              "  align-items: center;\n",
              "  background-color: var(--sklearn-color-background);\n",
              "  padding-right: 1em;\n",
              "  padding-left: 1em;\n",
              "}\n",
              "\n",
              "\n",
              "/* Toggleable style: style used for estimator/Pipeline/ColumnTransformer box that is\n",
              "clickable and can be expanded/collapsed.\n",
              "- Pipeline and ColumnTransformer use this feature and define the default style\n",
              "- Estimators will overwrite some part of the style using the `sk-estimator` class\n",
              "*/\n",
              "\n",
              "/* Pipeline and ColumnTransformer style (default) */\n",
              "\n",
              "#sk-container-id-2 div.sk-toggleable {\n",
              "  /* Default theme specific background. It is overwritten whether we have a\n",
              "  specific estimator or a Pipeline/ColumnTransformer */\n",
              "  background-color: var(--sklearn-color-background);\n",
              "}\n",
              "\n",
              "/* Toggleable label */\n",
              "#sk-container-id-2 label.sk-toggleable__label {\n",
              "  cursor: pointer;\n",
              "  display: flex;\n",
              "  width: 100%;\n",
              "  margin-bottom: 0;\n",
              "  padding: 0.5em;\n",
              "  box-sizing: border-box;\n",
              "  text-align: center;\n",
              "  align-items: start;\n",
              "  justify-content: space-between;\n",
              "  gap: 0.5em;\n",
              "}\n",
              "\n",
              "#sk-container-id-2 label.sk-toggleable__label .caption {\n",
              "  font-size: 0.6rem;\n",
              "  font-weight: lighter;\n",
              "  color: var(--sklearn-color-text-muted);\n",
              "}\n",
              "\n",
              "#sk-container-id-2 label.sk-toggleable__label-arrow:before {\n",
              "  /* Arrow on the left of the label */\n",
              "  content: \"▸\";\n",
              "  float: left;\n",
              "  margin-right: 0.25em;\n",
              "  color: var(--sklearn-color-icon);\n",
              "}\n",
              "\n",
              "#sk-container-id-2 label.sk-toggleable__label-arrow:hover:before {\n",
              "  color: var(--sklearn-color-text);\n",
              "}\n",
              "\n",
              "/* Toggleable content - dropdown */\n",
              "\n",
              "#sk-container-id-2 div.sk-toggleable__content {\n",
              "  max-height: 0;\n",
              "  max-width: 0;\n",
              "  overflow: hidden;\n",
              "  text-align: left;\n",
              "  /* unfitted */\n",
              "  background-color: var(--sklearn-color-unfitted-level-0);\n",
              "}\n",
              "\n",
              "#sk-container-id-2 div.sk-toggleable__content.fitted {\n",
              "  /* fitted */\n",
              "  background-color: var(--sklearn-color-fitted-level-0);\n",
              "}\n",
              "\n",
              "#sk-container-id-2 div.sk-toggleable__content pre {\n",
              "  margin: 0.2em;\n",
              "  border-radius: 0.25em;\n",
              "  color: var(--sklearn-color-text);\n",
              "  /* unfitted */\n",
              "  background-color: var(--sklearn-color-unfitted-level-0);\n",
              "}\n",
              "\n",
              "#sk-container-id-2 div.sk-toggleable__content.fitted pre {\n",
              "  /* unfitted */\n",
              "  background-color: var(--sklearn-color-fitted-level-0);\n",
              "}\n",
              "\n",
              "#sk-container-id-2 input.sk-toggleable__control:checked~div.sk-toggleable__content {\n",
              "  /* Expand drop-down */\n",
              "  max-height: 200px;\n",
              "  max-width: 100%;\n",
              "  overflow: auto;\n",
              "}\n",
              "\n",
              "#sk-container-id-2 input.sk-toggleable__control:checked~label.sk-toggleable__label-arrow:before {\n",
              "  content: \"▾\";\n",
              "}\n",
              "\n",
              "/* Pipeline/ColumnTransformer-specific style */\n",
              "\n",
              "#sk-container-id-2 div.sk-label input.sk-toggleable__control:checked~label.sk-toggleable__label {\n",
              "  color: var(--sklearn-color-text);\n",
              "  background-color: var(--sklearn-color-unfitted-level-2);\n",
              "}\n",
              "\n",
              "#sk-container-id-2 div.sk-label.fitted input.sk-toggleable__control:checked~label.sk-toggleable__label {\n",
              "  background-color: var(--sklearn-color-fitted-level-2);\n",
              "}\n",
              "\n",
              "/* Estimator-specific style */\n",
              "\n",
              "/* Colorize estimator box */\n",
              "#sk-container-id-2 div.sk-estimator input.sk-toggleable__control:checked~label.sk-toggleable__label {\n",
              "  /* unfitted */\n",
              "  background-color: var(--sklearn-color-unfitted-level-2);\n",
              "}\n",
              "\n",
              "#sk-container-id-2 div.sk-estimator.fitted input.sk-toggleable__control:checked~label.sk-toggleable__label {\n",
              "  /* fitted */\n",
              "  background-color: var(--sklearn-color-fitted-level-2);\n",
              "}\n",
              "\n",
              "#sk-container-id-2 div.sk-label label.sk-toggleable__label,\n",
              "#sk-container-id-2 div.sk-label label {\n",
              "  /* The background is the default theme color */\n",
              "  color: var(--sklearn-color-text-on-default-background);\n",
              "}\n",
              "\n",
              "/* On hover, darken the color of the background */\n",
              "#sk-container-id-2 div.sk-label:hover label.sk-toggleable__label {\n",
              "  color: var(--sklearn-color-text);\n",
              "  background-color: var(--sklearn-color-unfitted-level-2);\n",
              "}\n",
              "\n",
              "/* Label box, darken color on hover, fitted */\n",
              "#sk-container-id-2 div.sk-label.fitted:hover label.sk-toggleable__label.fitted {\n",
              "  color: var(--sklearn-color-text);\n",
              "  background-color: var(--sklearn-color-fitted-level-2);\n",
              "}\n",
              "\n",
              "/* Estimator label */\n",
              "\n",
              "#sk-container-id-2 div.sk-label label {\n",
              "  font-family: monospace;\n",
              "  font-weight: bold;\n",
              "  display: inline-block;\n",
              "  line-height: 1.2em;\n",
              "}\n",
              "\n",
              "#sk-container-id-2 div.sk-label-container {\n",
              "  text-align: center;\n",
              "}\n",
              "\n",
              "/* Estimator-specific */\n",
              "#sk-container-id-2 div.sk-estimator {\n",
              "  font-family: monospace;\n",
              "  border: 1px dotted var(--sklearn-color-border-box);\n",
              "  border-radius: 0.25em;\n",
              "  box-sizing: border-box;\n",
              "  margin-bottom: 0.5em;\n",
              "  /* unfitted */\n",
              "  background-color: var(--sklearn-color-unfitted-level-0);\n",
              "}\n",
              "\n",
              "#sk-container-id-2 div.sk-estimator.fitted {\n",
              "  /* fitted */\n",
              "  background-color: var(--sklearn-color-fitted-level-0);\n",
              "}\n",
              "\n",
              "/* on hover */\n",
              "#sk-container-id-2 div.sk-estimator:hover {\n",
              "  /* unfitted */\n",
              "  background-color: var(--sklearn-color-unfitted-level-2);\n",
              "}\n",
              "\n",
              "#sk-container-id-2 div.sk-estimator.fitted:hover {\n",
              "  /* fitted */\n",
              "  background-color: var(--sklearn-color-fitted-level-2);\n",
              "}\n",
              "\n",
              "/* Specification for estimator info (e.g. \"i\" and \"?\") */\n",
              "\n",
              "/* Common style for \"i\" and \"?\" */\n",
              "\n",
              ".sk-estimator-doc-link,\n",
              "a:link.sk-estimator-doc-link,\n",
              "a:visited.sk-estimator-doc-link {\n",
              "  float: right;\n",
              "  font-size: smaller;\n",
              "  line-height: 1em;\n",
              "  font-family: monospace;\n",
              "  background-color: var(--sklearn-color-background);\n",
              "  border-radius: 1em;\n",
              "  height: 1em;\n",
              "  width: 1em;\n",
              "  text-decoration: none !important;\n",
              "  margin-left: 0.5em;\n",
              "  text-align: center;\n",
              "  /* unfitted */\n",
              "  border: var(--sklearn-color-unfitted-level-1) 1pt solid;\n",
              "  color: var(--sklearn-color-unfitted-level-1);\n",
              "}\n",
              "\n",
              ".sk-estimator-doc-link.fitted,\n",
              "a:link.sk-estimator-doc-link.fitted,\n",
              "a:visited.sk-estimator-doc-link.fitted {\n",
              "  /* fitted */\n",
              "  border: var(--sklearn-color-fitted-level-1) 1pt solid;\n",
              "  color: var(--sklearn-color-fitted-level-1);\n",
              "}\n",
              "\n",
              "/* On hover */\n",
              "div.sk-estimator:hover .sk-estimator-doc-link:hover,\n",
              ".sk-estimator-doc-link:hover,\n",
              "div.sk-label-container:hover .sk-estimator-doc-link:hover,\n",
              ".sk-estimator-doc-link:hover {\n",
              "  /* unfitted */\n",
              "  background-color: var(--sklearn-color-unfitted-level-3);\n",
              "  color: var(--sklearn-color-background);\n",
              "  text-decoration: none;\n",
              "}\n",
              "\n",
              "div.sk-estimator.fitted:hover .sk-estimator-doc-link.fitted:hover,\n",
              ".sk-estimator-doc-link.fitted:hover,\n",
              "div.sk-label-container:hover .sk-estimator-doc-link.fitted:hover,\n",
              ".sk-estimator-doc-link.fitted:hover {\n",
              "  /* fitted */\n",
              "  background-color: var(--sklearn-color-fitted-level-3);\n",
              "  color: var(--sklearn-color-background);\n",
              "  text-decoration: none;\n",
              "}\n",
              "\n",
              "/* Span, style for the box shown on hovering the info icon */\n",
              ".sk-estimator-doc-link span {\n",
              "  display: none;\n",
              "  z-index: 9999;\n",
              "  position: relative;\n",
              "  font-weight: normal;\n",
              "  right: .2ex;\n",
              "  padding: .5ex;\n",
              "  margin: .5ex;\n",
              "  width: min-content;\n",
              "  min-width: 20ex;\n",
              "  max-width: 50ex;\n",
              "  color: var(--sklearn-color-text);\n",
              "  box-shadow: 2pt 2pt 4pt #999;\n",
              "  /* unfitted */\n",
              "  background: var(--sklearn-color-unfitted-level-0);\n",
              "  border: .5pt solid var(--sklearn-color-unfitted-level-3);\n",
              "}\n",
              "\n",
              ".sk-estimator-doc-link.fitted span {\n",
              "  /* fitted */\n",
              "  background: var(--sklearn-color-fitted-level-0);\n",
              "  border: var(--sklearn-color-fitted-level-3);\n",
              "}\n",
              "\n",
              ".sk-estimator-doc-link:hover span {\n",
              "  display: block;\n",
              "}\n",
              "\n",
              "/* \"?\"-specific style due to the `<a>` HTML tag */\n",
              "\n",
              "#sk-container-id-2 a.estimator_doc_link {\n",
              "  float: right;\n",
              "  font-size: 1rem;\n",
              "  line-height: 1em;\n",
              "  font-family: monospace;\n",
              "  background-color: var(--sklearn-color-background);\n",
              "  border-radius: 1rem;\n",
              "  height: 1rem;\n",
              "  width: 1rem;\n",
              "  text-decoration: none;\n",
              "  /* unfitted */\n",
              "  color: var(--sklearn-color-unfitted-level-1);\n",
              "  border: var(--sklearn-color-unfitted-level-1) 1pt solid;\n",
              "}\n",
              "\n",
              "#sk-container-id-2 a.estimator_doc_link.fitted {\n",
              "  /* fitted */\n",
              "  border: var(--sklearn-color-fitted-level-1) 1pt solid;\n",
              "  color: var(--sklearn-color-fitted-level-1);\n",
              "}\n",
              "\n",
              "/* On hover */\n",
              "#sk-container-id-2 a.estimator_doc_link:hover {\n",
              "  /* unfitted */\n",
              "  background-color: var(--sklearn-color-unfitted-level-3);\n",
              "  color: var(--sklearn-color-background);\n",
              "  text-decoration: none;\n",
              "}\n",
              "\n",
              "#sk-container-id-2 a.estimator_doc_link.fitted:hover {\n",
              "  /* fitted */\n",
              "  background-color: var(--sklearn-color-fitted-level-3);\n",
              "}\n",
              "</style><div id=\"sk-container-id-2\" class=\"sk-top-container\"><div class=\"sk-text-repr-fallback\"><pre>Pipeline(steps=[(&#x27;Tfidf&#x27;, TfidfVectorizer()), (&#x27;clf&#x27;, MultinomialNB())])</pre><b>In a Jupyter environment, please rerun this cell to show the HTML representation or trust the notebook. <br />On GitHub, the HTML representation is unable to render, please try loading this page with nbviewer.org.</b></div><div class=\"sk-container\" hidden><div class=\"sk-item sk-dashed-wrapped\"><div class=\"sk-label-container\"><div class=\"sk-label fitted sk-toggleable\"><input class=\"sk-toggleable__control sk-hidden--visually\" id=\"sk-estimator-id-4\" type=\"checkbox\" ><label for=\"sk-estimator-id-4\" class=\"sk-toggleable__label fitted sk-toggleable__label-arrow\"><div><div>Pipeline</div></div><div><a class=\"sk-estimator-doc-link fitted\" rel=\"noreferrer\" target=\"_blank\" href=\"https://scikit-learn.org/1.6/modules/generated/sklearn.pipeline.Pipeline.html\">?<span>Documentation for Pipeline</span></a><span class=\"sk-estimator-doc-link fitted\">i<span>Fitted</span></span></div></label><div class=\"sk-toggleable__content fitted\"><pre>Pipeline(steps=[(&#x27;Tfidf&#x27;, TfidfVectorizer()), (&#x27;clf&#x27;, MultinomialNB())])</pre></div> </div></div><div class=\"sk-serial\"><div class=\"sk-item\"><div class=\"sk-estimator fitted sk-toggleable\"><input class=\"sk-toggleable__control sk-hidden--visually\" id=\"sk-estimator-id-5\" type=\"checkbox\" ><label for=\"sk-estimator-id-5\" class=\"sk-toggleable__label fitted sk-toggleable__label-arrow\"><div><div>TfidfVectorizer</div></div><div><a class=\"sk-estimator-doc-link fitted\" rel=\"noreferrer\" target=\"_blank\" href=\"https://scikit-learn.org/1.6/modules/generated/sklearn.feature_extraction.text.TfidfVectorizer.html\">?<span>Documentation for TfidfVectorizer</span></a></div></label><div class=\"sk-toggleable__content fitted\"><pre>TfidfVectorizer()</pre></div> </div></div><div class=\"sk-item\"><div class=\"sk-estimator fitted sk-toggleable\"><input class=\"sk-toggleable__control sk-hidden--visually\" id=\"sk-estimator-id-6\" type=\"checkbox\" ><label for=\"sk-estimator-id-6\" class=\"sk-toggleable__label fitted sk-toggleable__label-arrow\"><div><div>MultinomialNB</div></div><div><a class=\"sk-estimator-doc-link fitted\" rel=\"noreferrer\" target=\"_blank\" href=\"https://scikit-learn.org/1.6/modules/generated/sklearn.naive_bayes.MultinomialNB.html\">?<span>Documentation for MultinomialNB</span></a></div></label><div class=\"sk-toggleable__content fitted\"><pre>MultinomialNB()</pre></div> </div></div></div></div></div></div>"
            ]
          },
          "metadata": {},
          "execution_count": 81
        }
      ]
    },
    {
      "cell_type": "code",
      "source": [
        "### evaluate our baseline model_0\n",
        "baseline_score = model_0.score(val_sentences, val_labels)\n",
        "baseline_score\n",
        "\n",
        "print(f\"it attend an accuracy of {baseline_score *100:.2f}%\")"
      ],
      "metadata": {
        "colab": {
          "base_uri": "https://localhost:8080/"
        },
        "id": "vMKg7DOqjiTk",
        "outputId": "f5b99e9f-e7d5-4bfa-8c02-50fa9e56a5c9"
      },
      "execution_count": null,
      "outputs": [
        {
          "output_type": "stream",
          "name": "stdout",
          "text": [
            "it attend an accuracy of 79.19%\n"
          ]
        }
      ]
    },
    {
      "cell_type": "code",
      "source": [
        "train_data.target.value_counts() #it is a 60 - 40 split nearly so the guessing might be at 55%"
      ],
      "metadata": {
        "colab": {
          "base_uri": "https://localhost:8080/",
          "height": 178
        },
        "id": "FplEv58vkiaU",
        "outputId": "27205f52-8af0-49af-d107-a2873e706f44"
      },
      "execution_count": null,
      "outputs": [
        {
          "output_type": "execute_result",
          "data": {
            "text/plain": [
              "target\n",
              "0    4342\n",
              "1    3271\n",
              "Name: count, dtype: int64"
            ],
            "text/html": [
              "<div>\n",
              "<style scoped>\n",
              "    .dataframe tbody tr th:only-of-type {\n",
              "        vertical-align: middle;\n",
              "    }\n",
              "\n",
              "    .dataframe tbody tr th {\n",
              "        vertical-align: top;\n",
              "    }\n",
              "\n",
              "    .dataframe thead th {\n",
              "        text-align: right;\n",
              "    }\n",
              "</style>\n",
              "<table border=\"1\" class=\"dataframe\">\n",
              "  <thead>\n",
              "    <tr style=\"text-align: right;\">\n",
              "      <th></th>\n",
              "      <th>count</th>\n",
              "    </tr>\n",
              "    <tr>\n",
              "      <th>target</th>\n",
              "      <th></th>\n",
              "    </tr>\n",
              "  </thead>\n",
              "  <tbody>\n",
              "    <tr>\n",
              "      <th>0</th>\n",
              "      <td>4342</td>\n",
              "    </tr>\n",
              "    <tr>\n",
              "      <th>1</th>\n",
              "      <td>3271</td>\n",
              "    </tr>\n",
              "  </tbody>\n",
              "</table>\n",
              "</div><br><label><b>dtype:</b> int64</label>"
            ]
          },
          "metadata": {},
          "execution_count": 85
        }
      ]
    },
    {
      "cell_type": "code",
      "source": [
        "#make predictions\n",
        "baseline_preds = model_0.predict(val_sentences)\n",
        "baseline_preds[:10]"
      ],
      "metadata": {
        "colab": {
          "base_uri": "https://localhost:8080/"
        },
        "id": "H-9QmReWk1WV",
        "outputId": "460bf820-1897-41a7-91a3-2a78cd27ad59"
      },
      "execution_count": null,
      "outputs": [
        {
          "output_type": "execute_result",
          "data": {
            "text/plain": [
              "array([1, 0, 1, 0, 1, 0, 0, 0, 0, 0])"
            ]
          },
          "metadata": {},
          "execution_count": 86
        }
      ]
    },
    {
      "cell_type": "code",
      "source": [
        "val_sentences[:10]"
      ],
      "metadata": {
        "colab": {
          "base_uri": "https://localhost:8080/"
        },
        "id": "WNo12odylIkl",
        "outputId": "87197586-9e59-4a6b-ffa5-e59cca09da2a"
      },
      "execution_count": null,
      "outputs": [
        {
          "output_type": "execute_result",
          "data": {
            "text/plain": [
              "array(['#?? #?? #??? #??? Suicide bomber kills 15 in Saudi security site mosque - Reuters  http://t.co/LgpNe5HkaO',\n",
              "       'Sitting around a fire sounds great right about now',\n",
              "       'Deputies: Dog dispute leads to fatal shooting in Person County http://t.co/OazgHoZGYa #gunfail #nra',\n",
              "       'What really happened in the Taken King Story Trailer. A space battle that ripped a hole in Saturn. @EyTay @neur0sis http://t.co/ZYRZX6dfki',\n",
              "       '.@KurtSchlichter Yep considering that *millions* of Japanese fatalities were projected for Downfall. @_FreeMarketeer @dibang',\n",
              "       'and he almost collapsed bc he said his wish came true moderately FUCK',\n",
              "       \"@AaronTheFM guys to scared to show his real name anyway he knows I'll bomb him\",\n",
              "       'New RAN report from the frontlines of human rights abuses and forest destruction for fashion.: http://t.co/tYDXauuEnQ',\n",
              "       'That sounds about right. Our building will have a thunderstorm inside one day when the air masses collide. https://t.co/2rTQ9QmGPB',\n",
              "       \"@bonhomme37 wouldn't that have sunk the sub?\"], dtype=object)"
            ]
          },
          "metadata": {},
          "execution_count": 87
        }
      ]
    },
    {
      "cell_type": "markdown",
      "source": [
        "### creating and evaluation function for our model experiments\n",
        "compare our models predictions with truth labels using following metrics\n",
        "\n",
        "accuracy\n",
        "\n",
        "precesion recall\n",
        "\n",
        "f1-score\n",
        "\n",
        "confusion matrix\n",
        "\n",
        "https://scikit-learn.org/stable/modules/model_evaluation.html"
      ],
      "metadata": {
        "id": "hL20pV89lo9A"
      }
    },
    {
      "cell_type": "markdown",
      "source": [
        "###calculate_results()"
      ],
      "metadata": {
        "id": "_HsEsey-0Xb_"
      }
    },
    {
      "cell_type": "code",
      "source": [
        "# Function to evalaute: accuracy, precision, recall, F1-score\n",
        "from sklearn.metrics import accuracy_score, precision_recall_fscore_support\n",
        "\n",
        "def calculate_results_advanced(y_true, y_pred):\n",
        "  \"\"\"\n",
        "  Calculates model accuracy, precision, recall and f1 score of a binary classification model.\n",
        "\n",
        "  Args:\n",
        "  ----\n",
        "  y_true = true labels in the form of a 1D array\n",
        "  y_pred = predicted label in the form of a 1D array\n",
        "\n",
        "  Returns a dictionary of accuracy, precision, recall and f1-score between y_true and y_pred.\n",
        "  \"\"\"\n",
        "  # Calculate model accuracy\n",
        "  model_accuracy = accuracy_score(y_true, y_pred) * 100 # get accuracy score in percentage value\n",
        "  # Calculate model precision, recall and f1 score using \"weighted\" avergage\n",
        "  model_precision, model_recall, model_f1, _ = precision_recall_fscore_support(y_true, y_pred, average=\"weighted\") #'_' cause we dont wanty support, it acts like a blank\n",
        "  # Create a dictionary of model results\n",
        "  model_results = {\"accuracy\": model_accuracy,\n",
        "                   \"precision\": model_precision,\n",
        "                   \"recall\": model_recall,\n",
        "                   \"f1\": model_f1}\n",
        "  return model_results\n",
        "\n",
        "\n"
      ],
      "metadata": {
        "id": "rJkj4DrYoC9E"
      },
      "execution_count": null,
      "outputs": []
    },
    {
      "cell_type": "code",
      "source": [
        "#function to evaluate: accuracy, precesion, recall, f1_score\n",
        "\n",
        "from sklearn.metrics import accuracy_score, recall_score, precision_score, f1_score\n",
        "\n",
        "def calculate_results(test_labels, predictions): #y_true = test_labels, y_pred = predictions made by the model\n",
        "\n",
        "  '''\n",
        "  calculates models accuracy, precesion, recall, and F1-score of a binary classification\n",
        "\n",
        "  '''\n",
        "\n",
        "  #finding the accuracy score\n",
        "  accuracy = accuracy_score(test_labels, predictions)\n",
        "\n",
        "  #finding precesion score\n",
        "  precision = precision_score(test_labels, predictions)\n",
        "\n",
        "  #finding the recall_score\n",
        "  recall = recall_score(test_labels, predictions)\n",
        "\n",
        "  #finding the f1-score\n",
        "  f1score = f1_score(test_labels, predictions)\n",
        "\n",
        "\n",
        "  print(f\"The accuracy score is {accuracy *100:.2f}\")\n",
        "  print(f\"The precesion score is {precision *100:.2f}\")\n",
        "  print(f\"The recall score is {recall *100:.2f}\")\n",
        "  print(f\"The f1_score is {f1score *100:.2f}\")"
      ],
      "metadata": {
        "id": "tBOLVGWuruLb"
      },
      "execution_count": null,
      "outputs": []
    },
    {
      "cell_type": "code",
      "source": [
        "calculate_results(val_labels, baseline_preds)"
      ],
      "metadata": {
        "colab": {
          "base_uri": "https://localhost:8080/"
        },
        "id": "MhxL8_E0tsDU",
        "outputId": "ba0ce6c5-7fe8-40db-f929-1e461081dd90"
      },
      "execution_count": null,
      "outputs": [
        {
          "output_type": "stream",
          "name": "stdout",
          "text": [
            "The accuracy score is 79.19\n",
            "The precesion score is 84.03\n",
            "The recall score is 62.08\n",
            "The f1_score is 71.41\n"
          ]
        }
      ]
    },
    {
      "cell_type": "code",
      "source": [
        "baseline_results =calculate_results_advanced(val_labels, baseline_preds)\n",
        "baseline_results"
      ],
      "metadata": {
        "colab": {
          "base_uri": "https://localhost:8080/"
        },
        "id": "iDWM4rJcuVAV",
        "outputId": "0a7bf3d8-bbfd-480a-8369-cdbcecede948"
      },
      "execution_count": null,
      "outputs": [
        {
          "output_type": "execute_result",
          "data": {
            "text/plain": [
              "{'accuracy': 79.1907514450867,\n",
              " 'precision': 0.7995604528658318,\n",
              " 'recall': 0.791907514450867,\n",
              " 'f1': 0.7852209208324513}"
            ]
          },
          "metadata": {},
          "execution_count": 91
        }
      ]
    },
    {
      "cell_type": "markdown",
      "source": [
        "##Model1 : A simple Dense model"
      ],
      "metadata": {
        "id": "gLw6jz3386ak"
      }
    },
    {
      "cell_type": "code",
      "source": [
        "from helper_functions import create_tensorboard_callback\n",
        "\n",
        "\n",
        "#create a directory to save tensorboard logs\n",
        "\n",
        "SAVE_DIR = \"model_logs\""
      ],
      "metadata": {
        "id": "T5M4kyty9HFZ"
      },
      "execution_count": null,
      "outputs": []
    },
    {
      "cell_type": "code",
      "source": [
        "#Build model with the functional API\n",
        "from tensorflow.keras import layers\n",
        "\n",
        "input = layers.Input(shape = (1,), dtype = tf.string) #inputs are oone_directional as binary classification\n",
        "x= text_vectorizer(input) #turn the input text into numbers\n",
        "x = embedding(x) #create an embedding of numberised input\n",
        "x = layers.GlobalAveragePooling1D()(x) #condense the feature vetor for each token to one vector\n",
        "#x = layers.GlobalMaxPool1D()(x)\n",
        "output = layers.Dense(1, activation = \"sigmoid\")(x) #as it is a binary classification\n",
        "model_1 = tf.keras.Model(input, output, name= \"model_1_dense\")"
      ],
      "metadata": {
        "id": "Xmv1KvE59jIy"
      },
      "execution_count": null,
      "outputs": []
    },
    {
      "cell_type": "code",
      "source": [
        "model_1.summary()"
      ],
      "metadata": {
        "colab": {
          "base_uri": "https://localhost:8080/",
          "height": 321
        },
        "id": "UDPZ7KJgBTER",
        "outputId": "1aa15191-852f-4574-9a12-cce788ba3983"
      },
      "execution_count": null,
      "outputs": [
        {
          "output_type": "display_data",
          "data": {
            "text/plain": [
              "\u001b[1mModel: \"model_1_dense\"\u001b[0m\n"
            ],
            "text/html": [
              "<pre style=\"white-space:pre;overflow-x:auto;line-height:normal;font-family:Menlo,'DejaVu Sans Mono',consolas,'Courier New',monospace\"><span style=\"font-weight: bold\">Model: \"model_1_dense\"</span>\n",
              "</pre>\n"
            ]
          },
          "metadata": {}
        },
        {
          "output_type": "display_data",
          "data": {
            "text/plain": [
              "┏━━━━━━━━━━━━━━━━━━━━━━━━━━━━━━━━━━━━━━┳━━━━━━━━━━━━━━━━━━━━━━━━━━━━━┳━━━━━━━━━━━━━━━━━┓\n",
              "┃\u001b[1m \u001b[0m\u001b[1mLayer (type)                        \u001b[0m\u001b[1m \u001b[0m┃\u001b[1m \u001b[0m\u001b[1mOutput Shape               \u001b[0m\u001b[1m \u001b[0m┃\u001b[1m \u001b[0m\u001b[1m        Param #\u001b[0m\u001b[1m \u001b[0m┃\n",
              "┡━━━━━━━━━━━━━━━━━━━━━━━━━━━━━━━━━━━━━━╇━━━━━━━━━━━━━━━━━━━━━━━━━━━━━╇━━━━━━━━━━━━━━━━━┩\n",
              "│ input_layer (\u001b[38;5;33mInputLayer\u001b[0m)             │ (\u001b[38;5;45mNone\u001b[0m, \u001b[38;5;34m1\u001b[0m)                   │               \u001b[38;5;34m0\u001b[0m │\n",
              "├──────────────────────────────────────┼─────────────────────────────┼─────────────────┤\n",
              "│ text_vectorization_5                 │ (\u001b[38;5;45mNone\u001b[0m, \u001b[38;5;34m15\u001b[0m)                  │               \u001b[38;5;34m0\u001b[0m │\n",
              "│ (\u001b[38;5;33mTextVectorization\u001b[0m)                  │                             │                 │\n",
              "├──────────────────────────────────────┼─────────────────────────────┼─────────────────┤\n",
              "│ embedding_2 (\u001b[38;5;33mEmbedding\u001b[0m)              │ (\u001b[38;5;45mNone\u001b[0m, \u001b[38;5;34m15\u001b[0m, \u001b[38;5;34m128\u001b[0m)             │       \u001b[38;5;34m1,280,000\u001b[0m │\n",
              "├──────────────────────────────────────┼─────────────────────────────┼─────────────────┤\n",
              "│ global_average_pooling1d             │ (\u001b[38;5;45mNone\u001b[0m, \u001b[38;5;34m128\u001b[0m)                 │               \u001b[38;5;34m0\u001b[0m │\n",
              "│ (\u001b[38;5;33mGlobalAveragePooling1D\u001b[0m)             │                             │                 │\n",
              "├──────────────────────────────────────┼─────────────────────────────┼─────────────────┤\n",
              "│ dense (\u001b[38;5;33mDense\u001b[0m)                        │ (\u001b[38;5;45mNone\u001b[0m, \u001b[38;5;34m1\u001b[0m)                   │             \u001b[38;5;34m129\u001b[0m │\n",
              "└──────────────────────────────────────┴─────────────────────────────┴─────────────────┘\n"
            ],
            "text/html": [
              "<pre style=\"white-space:pre;overflow-x:auto;line-height:normal;font-family:Menlo,'DejaVu Sans Mono',consolas,'Courier New',monospace\">┏━━━━━━━━━━━━━━━━━━━━━━━━━━━━━━━━━━━━━━┳━━━━━━━━━━━━━━━━━━━━━━━━━━━━━┳━━━━━━━━━━━━━━━━━┓\n",
              "┃<span style=\"font-weight: bold\"> Layer (type)                         </span>┃<span style=\"font-weight: bold\"> Output Shape                </span>┃<span style=\"font-weight: bold\">         Param # </span>┃\n",
              "┡━━━━━━━━━━━━━━━━━━━━━━━━━━━━━━━━━━━━━━╇━━━━━━━━━━━━━━━━━━━━━━━━━━━━━╇━━━━━━━━━━━━━━━━━┩\n",
              "│ input_layer (<span style=\"color: #0087ff; text-decoration-color: #0087ff\">InputLayer</span>)             │ (<span style=\"color: #00d7ff; text-decoration-color: #00d7ff\">None</span>, <span style=\"color: #00af00; text-decoration-color: #00af00\">1</span>)                   │               <span style=\"color: #00af00; text-decoration-color: #00af00\">0</span> │\n",
              "├──────────────────────────────────────┼─────────────────────────────┼─────────────────┤\n",
              "│ text_vectorization_5                 │ (<span style=\"color: #00d7ff; text-decoration-color: #00d7ff\">None</span>, <span style=\"color: #00af00; text-decoration-color: #00af00\">15</span>)                  │               <span style=\"color: #00af00; text-decoration-color: #00af00\">0</span> │\n",
              "│ (<span style=\"color: #0087ff; text-decoration-color: #0087ff\">TextVectorization</span>)                  │                             │                 │\n",
              "├──────────────────────────────────────┼─────────────────────────────┼─────────────────┤\n",
              "│ embedding_2 (<span style=\"color: #0087ff; text-decoration-color: #0087ff\">Embedding</span>)              │ (<span style=\"color: #00d7ff; text-decoration-color: #00d7ff\">None</span>, <span style=\"color: #00af00; text-decoration-color: #00af00\">15</span>, <span style=\"color: #00af00; text-decoration-color: #00af00\">128</span>)             │       <span style=\"color: #00af00; text-decoration-color: #00af00\">1,280,000</span> │\n",
              "├──────────────────────────────────────┼─────────────────────────────┼─────────────────┤\n",
              "│ global_average_pooling1d             │ (<span style=\"color: #00d7ff; text-decoration-color: #00d7ff\">None</span>, <span style=\"color: #00af00; text-decoration-color: #00af00\">128</span>)                 │               <span style=\"color: #00af00; text-decoration-color: #00af00\">0</span> │\n",
              "│ (<span style=\"color: #0087ff; text-decoration-color: #0087ff\">GlobalAveragePooling1D</span>)             │                             │                 │\n",
              "├──────────────────────────────────────┼─────────────────────────────┼─────────────────┤\n",
              "│ dense (<span style=\"color: #0087ff; text-decoration-color: #0087ff\">Dense</span>)                        │ (<span style=\"color: #00d7ff; text-decoration-color: #00d7ff\">None</span>, <span style=\"color: #00af00; text-decoration-color: #00af00\">1</span>)                   │             <span style=\"color: #00af00; text-decoration-color: #00af00\">129</span> │\n",
              "└──────────────────────────────────────┴─────────────────────────────┴─────────────────┘\n",
              "</pre>\n"
            ]
          },
          "metadata": {}
        },
        {
          "output_type": "display_data",
          "data": {
            "text/plain": [
              "\u001b[1m Total params: \u001b[0m\u001b[38;5;34m1,280,129\u001b[0m (4.88 MB)\n"
            ],
            "text/html": [
              "<pre style=\"white-space:pre;overflow-x:auto;line-height:normal;font-family:Menlo,'DejaVu Sans Mono',consolas,'Courier New',monospace\"><span style=\"font-weight: bold\"> Total params: </span><span style=\"color: #00af00; text-decoration-color: #00af00\">1,280,129</span> (4.88 MB)\n",
              "</pre>\n"
            ]
          },
          "metadata": {}
        },
        {
          "output_type": "display_data",
          "data": {
            "text/plain": [
              "\u001b[1m Trainable params: \u001b[0m\u001b[38;5;34m1,280,129\u001b[0m (4.88 MB)\n"
            ],
            "text/html": [
              "<pre style=\"white-space:pre;overflow-x:auto;line-height:normal;font-family:Menlo,'DejaVu Sans Mono',consolas,'Courier New',monospace\"><span style=\"font-weight: bold\"> Trainable params: </span><span style=\"color: #00af00; text-decoration-color: #00af00\">1,280,129</span> (4.88 MB)\n",
              "</pre>\n"
            ]
          },
          "metadata": {}
        },
        {
          "output_type": "display_data",
          "data": {
            "text/plain": [
              "\u001b[1m Non-trainable params: \u001b[0m\u001b[38;5;34m0\u001b[0m (0.00 B)\n"
            ],
            "text/html": [
              "<pre style=\"white-space:pre;overflow-x:auto;line-height:normal;font-family:Menlo,'DejaVu Sans Mono',consolas,'Courier New',monospace\"><span style=\"font-weight: bold\"> Non-trainable params: </span><span style=\"color: #00af00; text-decoration-color: #00af00\">0</span> (0.00 B)\n",
              "</pre>\n"
            ]
          },
          "metadata": {}
        }
      ]
    },
    {
      "cell_type": "code",
      "source": [
        "#compile the model\n",
        "\n",
        "model_1.compile(\n",
        "    loss = \"binary_crossentropy\",\n",
        "    optimizer = tf.keras.optimizers.Adam(),\n",
        "    metrics = [\"accuracy\"]\n",
        ")\n"
      ],
      "metadata": {
        "id": "QPFsrlTeBy9r"
      },
      "execution_count": null,
      "outputs": []
    },
    {
      "cell_type": "code",
      "source": [
        "#fit the model\n",
        "model_1_history = model_1.fit(train_sentences,\n",
        "                              train_labels,\n",
        "                              epochs = 5,\n",
        "                              validation_data = (val_sentences, val_labels), # as a tuple\n",
        "                              callbacks = [create_tensorboard_callback(dir_name= SAVE_DIR,\n",
        "                                                                       experiment_name = \"model_1_dense\")]) # as a list"
      ],
      "metadata": {
        "colab": {
          "base_uri": "https://localhost:8080/"
        },
        "id": "ciJD4NBECzpb",
        "outputId": "d5815b76-5cc1-4ff8-a506-108230748f5e"
      },
      "execution_count": null,
      "outputs": [
        {
          "output_type": "stream",
          "name": "stdout",
          "text": [
            "Saving TensorBoard log files to: model_logs/model_1_dense/20250327-105906\n",
            "Epoch 1/5\n",
            "\u001b[1m119/119\u001b[0m \u001b[32m━━━━━━━━━━━━━━━━━━━━\u001b[0m\u001b[37m\u001b[0m \u001b[1m5s\u001b[0m 20ms/step - accuracy: 0.6062 - loss: 0.6710 - val_accuracy: 0.6968 - val_loss: 0.5992\n",
            "Epoch 2/5\n",
            "\u001b[1m119/119\u001b[0m \u001b[32m━━━━━━━━━━━━━━━━━━━━\u001b[0m\u001b[37m\u001b[0m \u001b[1m4s\u001b[0m 16ms/step - accuracy: 0.7712 - loss: 0.5531 - val_accuracy: 0.7672 - val_loss: 0.5118\n",
            "Epoch 3/5\n",
            "\u001b[1m119/119\u001b[0m \u001b[32m━━━━━━━━━━━━━━━━━━━━\u001b[0m\u001b[37m\u001b[0m \u001b[1m2s\u001b[0m 17ms/step - accuracy: 0.8335 - loss: 0.4238 - val_accuracy: 0.7914 - val_loss: 0.4758\n",
            "Epoch 4/5\n",
            "\u001b[1m119/119\u001b[0m \u001b[32m━━━━━━━━━━━━━━━━━━━━\u001b[0m\u001b[37m\u001b[0m \u001b[1m3s\u001b[0m 17ms/step - accuracy: 0.8769 - loss: 0.3293 - val_accuracy: 0.7924 - val_loss: 0.4665\n",
            "Epoch 5/5\n",
            "\u001b[1m119/119\u001b[0m \u001b[32m━━━━━━━━━━━━━━━━━━━━\u001b[0m\u001b[37m\u001b[0m \u001b[1m3s\u001b[0m 18ms/step - accuracy: 0.9054 - loss: 0.2697 - val_accuracy: 0.7901 - val_loss: 0.4689\n"
          ]
        }
      ]
    },
    {
      "cell_type": "code",
      "source": [
        "# evaluate the model\n",
        "\n",
        "model_1.evaluate(val_sentences, val_labels)"
      ],
      "metadata": {
        "colab": {
          "base_uri": "https://localhost:8080/"
        },
        "id": "j4R5-vZPYu5G",
        "outputId": "d9fcb7af-5826-4afc-9c30-179e807ab495"
      },
      "execution_count": null,
      "outputs": [
        {
          "output_type": "stream",
          "name": "stdout",
          "text": [
            "\u001b[1m119/119\u001b[0m \u001b[32m━━━━━━━━━━━━━━━━━━━━\u001b[0m\u001b[37m\u001b[0m \u001b[1m0s\u001b[0m 3ms/step - accuracy: 0.7826 - loss: 0.4767\n"
          ]
        },
        {
          "output_type": "execute_result",
          "data": {
            "text/plain": [
              "[0.4688521921634674, 0.7900683283805847]"
            ]
          },
          "metadata": {},
          "execution_count": 97
        }
      ]
    },
    {
      "cell_type": "code",
      "source": [
        "model_1_predict = model_1.predict(val_sentences)\n",
        "model_1_predict[0]"
      ],
      "metadata": {
        "colab": {
          "base_uri": "https://localhost:8080/"
        },
        "id": "O6NjcUO0ZkWZ",
        "outputId": "89d3cbc0-0507-470d-d4d2-a4d7fdd66f86"
      },
      "execution_count": null,
      "outputs": [
        {
          "output_type": "stream",
          "name": "stdout",
          "text": [
            "\u001b[1m119/119\u001b[0m \u001b[32m━━━━━━━━━━━━━━━━━━━━\u001b[0m\u001b[37m\u001b[0m \u001b[1m1s\u001b[0m 3ms/step\n"
          ]
        },
        {
          "output_type": "execute_result",
          "data": {
            "text/plain": [
              "array([0.99076897], dtype=float32)"
            ]
          },
          "metadata": {},
          "execution_count": 98
        }
      ]
    },
    {
      "cell_type": "code",
      "source": [
        "model_1_predict.shape #It is giving output for each token ie, 15 tokens\n",
        "                      #hence it should be (761,1) as output layer has 1 output layer\n",
        "                      # it is giving 1 prediction probability per sample\n",
        "                      # its creating output layer per token\n",
        "\n",
        "                      #apply GlobalAveragePooling1d to change 128 per token to whole thing as 128"
      ],
      "metadata": {
        "colab": {
          "base_uri": "https://localhost:8080/"
        },
        "id": "Igxc0IVmaqxB",
        "outputId": "aba4d780-3e31-4ff2-8d16-08659dbbc727"
      },
      "execution_count": null,
      "outputs": [
        {
          "output_type": "execute_result",
          "data": {
            "text/plain": [
              "(3806, 1)"
            ]
          },
          "metadata": {},
          "execution_count": 99
        }
      ]
    },
    {
      "cell_type": "code",
      "source": [
        "model_1_predict = tf.squeeze(tf.round(model_1_predict)) #to remove '1' dimension from (761,1) use squeeze\n",
        "model_1_predict[:10]"
      ],
      "metadata": {
        "colab": {
          "base_uri": "https://localhost:8080/"
        },
        "id": "AgM3jvg6fewQ",
        "outputId": "11131dc1-9d24-4e5e-f49a-635d4456ddc6"
      },
      "execution_count": null,
      "outputs": [
        {
          "output_type": "execute_result",
          "data": {
            "text/plain": [
              "<tf.Tensor: shape=(10,), dtype=float32, numpy=array([1., 0., 1., 0., 1., 0., 0., 0., 1., 0.], dtype=float32)>"
            ]
          },
          "metadata": {},
          "execution_count": 101
        }
      ]
    },
    {
      "cell_type": "code",
      "source": [
        "#calculate our results\n",
        "\n",
        "model_1_results = calculate_results_advanced(val_labels, model_1_predict )\n",
        "model_1_results"
      ],
      "metadata": {
        "colab": {
          "base_uri": "https://localhost:8080/"
        },
        "id": "ib1oGPv5gtEP",
        "outputId": "973c9bfe-7e5f-4d42-dc73-7e5fa9a0f703"
      },
      "execution_count": null,
      "outputs": [
        {
          "output_type": "execute_result",
          "data": {
            "text/plain": [
              "{'accuracy': 79.00683131897004,\n",
              " 'precision': 0.790606221110691,\n",
              " 'recall': 0.7900683131897005,\n",
              " 'f1': 0.7867599623625295}"
            ]
          },
          "metadata": {},
          "execution_count": 102
        }
      ]
    },
    {
      "cell_type": "code",
      "source": [
        "sample_sentence = \"what the hell is going on !!!!!!!\"\n",
        "text_vect = text_vectorizer([sample_sentence])\n",
        "\n",
        "\n"
      ],
      "metadata": {
        "id": "bzjize63TNE6"
      },
      "execution_count": null,
      "outputs": []
    },
    {
      "cell_type": "code",
      "source": [
        "def predict_tweet(tweet, model, text_vectorizer):\n",
        "    # Ensure the tweet is a list of a single string\n",
        "    tweet_vectorized = text_vectorizer([tweet])  # Correct input shape (1D list)\n",
        "\n",
        "    # Get the model prediction\n",
        "    prediction = model.predict(tweet_vectorized)\n",
        "\n",
        "    # Extract confidence score\n",
        "    confidence = round(float(prediction[0][0]) * 100, 2)\n",
        "\n",
        "    # Interpret the result\n",
        "    if prediction >= 0.5:\n",
        "        print(f\"🔴 Fake Tweet (Confidence: {confidence}%)\")\n",
        "    else:\n",
        "        print(f\"✅ Real Tweet (Confidence: {100 - confidence}%)\")"
      ],
      "metadata": {
        "id": "ba142Q7fV4_F"
      },
      "execution_count": null,
      "outputs": []
    },
    {
      "cell_type": "code",
      "source": [
        "predict_tweet(text_vect, model_1)"
      ],
      "metadata": {
        "colab": {
          "base_uri": "https://localhost:8080/",
          "height": 141
        },
        "id": "JAR1TcwiV9eq",
        "outputId": "ed3f02fb-77a2-4d0e-96c6-823507a18b67"
      },
      "execution_count": null,
      "outputs": [
        {
          "output_type": "error",
          "ename": "TypeError",
          "evalue": "predict_tweet() missing 1 required positional argument: 'text_vectorizer'",
          "traceback": [
            "\u001b[0;31m---------------------------------------------------------------------------\u001b[0m",
            "\u001b[0;31mTypeError\u001b[0m                                 Traceback (most recent call last)",
            "\u001b[0;32m<ipython-input-112-48c58c0e1f01>\u001b[0m in \u001b[0;36m<cell line: 0>\u001b[0;34m()\u001b[0m\n\u001b[0;32m----> 1\u001b[0;31m \u001b[0mpredict_tweet\u001b[0m\u001b[0;34m(\u001b[0m\u001b[0mtext_vect\u001b[0m\u001b[0;34m,\u001b[0m \u001b[0mmodel_1\u001b[0m \u001b[0;34m)\u001b[0m\u001b[0;34m\u001b[0m\u001b[0;34m\u001b[0m\u001b[0m\n\u001b[0m",
            "\u001b[0;31mTypeError\u001b[0m: predict_tweet() missing 1 required positional argument: 'text_vectorizer'"
          ]
        }
      ]
    },
    {
      "cell_type": "code",
      "source": [
        "baseline_results"
      ],
      "metadata": {
        "colab": {
          "base_uri": "https://localhost:8080/"
        },
        "id": "askXID5Vihq9",
        "outputId": "c64a94fd-5407-4921-88f3-d27e04d2e64e"
      },
      "execution_count": null,
      "outputs": [
        {
          "output_type": "execute_result",
          "data": {
            "text/plain": [
              "{'accuracy': 79.1907514450867,\n",
              " 'precision': 0.7995604528658318,\n",
              " 'recall': 0.791907514450867,\n",
              " 'f1': 0.7852209208324513}"
            ]
          },
          "metadata": {},
          "execution_count": 103
        }
      ]
    },
    {
      "cell_type": "markdown",
      "source": [
        "###compare two models\n"
      ],
      "metadata": {
        "id": "AE4jY_hBSxLV"
      }
    },
    {
      "cell_type": "code",
      "source": [
        "import numpy as np\n",
        "\n",
        "np.array(list(model_1_results.values())) > np.array(list(baseline_results.values()))"
      ],
      "metadata": {
        "colab": {
          "base_uri": "https://localhost:8080/"
        },
        "id": "6f9DJTXXhI4y",
        "outputId": "0cdc57f7-5a20-4ff8-d858-85a1d71edd47"
      },
      "execution_count": null,
      "outputs": [
        {
          "output_type": "execute_result",
          "data": {
            "text/plain": [
              "array([ True, False,  True,  True])"
            ]
          },
          "metadata": {},
          "execution_count": 53
        }
      ]
    },
    {
      "cell_type": "markdown",
      "source": [
        "#Visualizing Learned Embeddings"
      ],
      "metadata": {
        "id": "veSj0OmlGrTz"
      }
    },
    {
      "cell_type": "code",
      "source": [
        "#Get the vocabulary from text vectorization layers\n",
        "\n",
        "words_in_vocab = text_vectorizer.get_vocabulary()\n",
        "\n",
        "len(words_in_vocab)"
      ],
      "metadata": {
        "colab": {
          "base_uri": "https://localhost:8080/"
        },
        "id": "GXk4wfh0MOHC",
        "outputId": "df76b227-12e2-49f7-da1b-e0782a7a61ac"
      },
      "execution_count": null,
      "outputs": [
        {
          "output_type": "execute_result",
          "data": {
            "text/plain": [
              "10000"
            ]
          },
          "metadata": {},
          "execution_count": 54
        }
      ]
    },
    {
      "cell_type": "code",
      "source": [
        "model_1.summary()"
      ],
      "metadata": {
        "colab": {
          "base_uri": "https://localhost:8080/",
          "height": 354
        },
        "id": "EnlVv2vOO0gP",
        "outputId": "defb377b-0015-497d-afa1-a0c8b82da289"
      },
      "execution_count": null,
      "outputs": [
        {
          "output_type": "display_data",
          "data": {
            "text/plain": [
              "\u001b[1mModel: \"model_1_dense\"\u001b[0m\n"
            ],
            "text/html": [
              "<pre style=\"white-space:pre;overflow-x:auto;line-height:normal;font-family:Menlo,'DejaVu Sans Mono',consolas,'Courier New',monospace\"><span style=\"font-weight: bold\">Model: \"model_1_dense\"</span>\n",
              "</pre>\n"
            ]
          },
          "metadata": {}
        },
        {
          "output_type": "display_data",
          "data": {
            "text/plain": [
              "┏━━━━━━━━━━━━━━━━━━━━━━━━━━━━━━━━━━━━━━┳━━━━━━━━━━━━━━━━━━━━━━━━━━━━━┳━━━━━━━━━━━━━━━━━┓\n",
              "┃\u001b[1m \u001b[0m\u001b[1mLayer (type)                        \u001b[0m\u001b[1m \u001b[0m┃\u001b[1m \u001b[0m\u001b[1mOutput Shape               \u001b[0m\u001b[1m \u001b[0m┃\u001b[1m \u001b[0m\u001b[1m        Param #\u001b[0m\u001b[1m \u001b[0m┃\n",
              "┡━━━━━━━━━━━━━━━━━━━━━━━━━━━━━━━━━━━━━━╇━━━━━━━━━━━━━━━━━━━━━━━━━━━━━╇━━━━━━━━━━━━━━━━━┩\n",
              "│ input_layer (\u001b[38;5;33mInputLayer\u001b[0m)             │ (\u001b[38;5;45mNone\u001b[0m, \u001b[38;5;34m1\u001b[0m)                   │               \u001b[38;5;34m0\u001b[0m │\n",
              "├──────────────────────────────────────┼─────────────────────────────┼─────────────────┤\n",
              "│ text_vectorization_1                 │ (\u001b[38;5;45mNone\u001b[0m, \u001b[38;5;34m15\u001b[0m)                  │               \u001b[38;5;34m0\u001b[0m │\n",
              "│ (\u001b[38;5;33mTextVectorization\u001b[0m)                  │                             │                 │\n",
              "├──────────────────────────────────────┼─────────────────────────────┼─────────────────┤\n",
              "│ embedding (\u001b[38;5;33mEmbedding\u001b[0m)                │ (\u001b[38;5;45mNone\u001b[0m, \u001b[38;5;34m15\u001b[0m, \u001b[38;5;34m128\u001b[0m)             │       \u001b[38;5;34m1,280,000\u001b[0m │\n",
              "├──────────────────────────────────────┼─────────────────────────────┼─────────────────┤\n",
              "│ global_average_pooling1d             │ (\u001b[38;5;45mNone\u001b[0m, \u001b[38;5;34m128\u001b[0m)                 │               \u001b[38;5;34m0\u001b[0m │\n",
              "│ (\u001b[38;5;33mGlobalAveragePooling1D\u001b[0m)             │                             │                 │\n",
              "├──────────────────────────────────────┼─────────────────────────────┼─────────────────┤\n",
              "│ dense (\u001b[38;5;33mDense\u001b[0m)                        │ (\u001b[38;5;45mNone\u001b[0m, \u001b[38;5;34m1\u001b[0m)                   │             \u001b[38;5;34m129\u001b[0m │\n",
              "└──────────────────────────────────────┴─────────────────────────────┴─────────────────┘\n"
            ],
            "text/html": [
              "<pre style=\"white-space:pre;overflow-x:auto;line-height:normal;font-family:Menlo,'DejaVu Sans Mono',consolas,'Courier New',monospace\">┏━━━━━━━━━━━━━━━━━━━━━━━━━━━━━━━━━━━━━━┳━━━━━━━━━━━━━━━━━━━━━━━━━━━━━┳━━━━━━━━━━━━━━━━━┓\n",
              "┃<span style=\"font-weight: bold\"> Layer (type)                         </span>┃<span style=\"font-weight: bold\"> Output Shape                </span>┃<span style=\"font-weight: bold\">         Param # </span>┃\n",
              "┡━━━━━━━━━━━━━━━━━━━━━━━━━━━━━━━━━━━━━━╇━━━━━━━━━━━━━━━━━━━━━━━━━━━━━╇━━━━━━━━━━━━━━━━━┩\n",
              "│ input_layer (<span style=\"color: #0087ff; text-decoration-color: #0087ff\">InputLayer</span>)             │ (<span style=\"color: #00d7ff; text-decoration-color: #00d7ff\">None</span>, <span style=\"color: #00af00; text-decoration-color: #00af00\">1</span>)                   │               <span style=\"color: #00af00; text-decoration-color: #00af00\">0</span> │\n",
              "├──────────────────────────────────────┼─────────────────────────────┼─────────────────┤\n",
              "│ text_vectorization_1                 │ (<span style=\"color: #00d7ff; text-decoration-color: #00d7ff\">None</span>, <span style=\"color: #00af00; text-decoration-color: #00af00\">15</span>)                  │               <span style=\"color: #00af00; text-decoration-color: #00af00\">0</span> │\n",
              "│ (<span style=\"color: #0087ff; text-decoration-color: #0087ff\">TextVectorization</span>)                  │                             │                 │\n",
              "├──────────────────────────────────────┼─────────────────────────────┼─────────────────┤\n",
              "│ embedding (<span style=\"color: #0087ff; text-decoration-color: #0087ff\">Embedding</span>)                │ (<span style=\"color: #00d7ff; text-decoration-color: #00d7ff\">None</span>, <span style=\"color: #00af00; text-decoration-color: #00af00\">15</span>, <span style=\"color: #00af00; text-decoration-color: #00af00\">128</span>)             │       <span style=\"color: #00af00; text-decoration-color: #00af00\">1,280,000</span> │\n",
              "├──────────────────────────────────────┼─────────────────────────────┼─────────────────┤\n",
              "│ global_average_pooling1d             │ (<span style=\"color: #00d7ff; text-decoration-color: #00d7ff\">None</span>, <span style=\"color: #00af00; text-decoration-color: #00af00\">128</span>)                 │               <span style=\"color: #00af00; text-decoration-color: #00af00\">0</span> │\n",
              "│ (<span style=\"color: #0087ff; text-decoration-color: #0087ff\">GlobalAveragePooling1D</span>)             │                             │                 │\n",
              "├──────────────────────────────────────┼─────────────────────────────┼─────────────────┤\n",
              "│ dense (<span style=\"color: #0087ff; text-decoration-color: #0087ff\">Dense</span>)                        │ (<span style=\"color: #00d7ff; text-decoration-color: #00d7ff\">None</span>, <span style=\"color: #00af00; text-decoration-color: #00af00\">1</span>)                   │             <span style=\"color: #00af00; text-decoration-color: #00af00\">129</span> │\n",
              "└──────────────────────────────────────┴─────────────────────────────┴─────────────────┘\n",
              "</pre>\n"
            ]
          },
          "metadata": {}
        },
        {
          "output_type": "display_data",
          "data": {
            "text/plain": [
              "\u001b[1m Total params: \u001b[0m\u001b[38;5;34m3,840,389\u001b[0m (14.65 MB)\n"
            ],
            "text/html": [
              "<pre style=\"white-space:pre;overflow-x:auto;line-height:normal;font-family:Menlo,'DejaVu Sans Mono',consolas,'Courier New',monospace\"><span style=\"font-weight: bold\"> Total params: </span><span style=\"color: #00af00; text-decoration-color: #00af00\">3,840,389</span> (14.65 MB)\n",
              "</pre>\n"
            ]
          },
          "metadata": {}
        },
        {
          "output_type": "display_data",
          "data": {
            "text/plain": [
              "\u001b[1m Trainable params: \u001b[0m\u001b[38;5;34m1,280,129\u001b[0m (4.88 MB)\n"
            ],
            "text/html": [
              "<pre style=\"white-space:pre;overflow-x:auto;line-height:normal;font-family:Menlo,'DejaVu Sans Mono',consolas,'Courier New',monospace\"><span style=\"font-weight: bold\"> Trainable params: </span><span style=\"color: #00af00; text-decoration-color: #00af00\">1,280,129</span> (4.88 MB)\n",
              "</pre>\n"
            ]
          },
          "metadata": {}
        },
        {
          "output_type": "display_data",
          "data": {
            "text/plain": [
              "\u001b[1m Non-trainable params: \u001b[0m\u001b[38;5;34m0\u001b[0m (0.00 B)\n"
            ],
            "text/html": [
              "<pre style=\"white-space:pre;overflow-x:auto;line-height:normal;font-family:Menlo,'DejaVu Sans Mono',consolas,'Courier New',monospace\"><span style=\"font-weight: bold\"> Non-trainable params: </span><span style=\"color: #00af00; text-decoration-color: #00af00\">0</span> (0.00 B)\n",
              "</pre>\n"
            ]
          },
          "metadata": {}
        },
        {
          "output_type": "display_data",
          "data": {
            "text/plain": [
              "\u001b[1m Optimizer params: \u001b[0m\u001b[38;5;34m2,560,260\u001b[0m (9.77 MB)\n"
            ],
            "text/html": [
              "<pre style=\"white-space:pre;overflow-x:auto;line-height:normal;font-family:Menlo,'DejaVu Sans Mono',consolas,'Courier New',monospace\"><span style=\"font-weight: bold\"> Optimizer params: </span><span style=\"color: #00af00; text-decoration-color: #00af00\">2,560,260</span> (9.77 MB)\n",
              "</pre>\n"
            ]
          },
          "metadata": {}
        }
      ]
    },
    {
      "cell_type": "code",
      "source": [
        "# Get the weight matrix of embedding layer\n",
        "#(these are the numerical representation of each token in our training data)\n",
        "embed_weights = model_1.get_layer(\"embedding\").get_weights()[0]\n",
        "\n",
        "embed_weights.shape #xame size as vocab and embedding dim"
      ],
      "metadata": {
        "colab": {
          "base_uri": "https://localhost:8080/"
        },
        "id": "6rR6OW0jOCFd",
        "outputId": "d73a8dd7-12e6-4979-9b97-f96adfb0a354"
      },
      "execution_count": null,
      "outputs": [
        {
          "output_type": "execute_result",
          "data": {
            "text/plain": [
              "(10000, 128)"
            ]
          },
          "metadata": {},
          "execution_count": 56
        }
      ]
    },
    {
      "cell_type": "markdown",
      "source": [
        "###create embedding file (we got from tensorflow's word embedding documentation)\n",
        "\n",
        "https://www.tensorflow.org/text/guide/word_embeddings\n",
        "\n",
        "embedding projection tool\n",
        "\n",
        "https://projector.tensorflow.org/"
      ],
      "metadata": {
        "id": "1OkUGqaon-tD"
      }
    },
    {
      "cell_type": "code",
      "source": [
        "import io\n",
        "\n",
        "out_v = io.open('vectors.tsv', 'w', encoding='utf-8')\n",
        "out_m = io.open('metadata.tsv', 'w', encoding='utf-8')\n",
        "\n",
        "for index, word in enumerate(words_in_vocab):\n",
        "  if index == 0:\n",
        "    continue  # skip 0, it's padding.\n",
        "  vec = embed_weights[index]\n",
        "  out_v.write('\\t'.join([str(x) for x in vec]) + \"\\n\")\n",
        "  out_m.write(word + \"\\n\")\n",
        "out_v.close()\n",
        "out_m.close()"
      ],
      "metadata": {
        "id": "ENCfjc-ToQoO"
      },
      "execution_count": null,
      "outputs": []
    },
    {
      "cell_type": "code",
      "source": [
        "#download files to from colab to upload to projector\n",
        "# try:\n",
        "#   from google.colab import files\n",
        "#   files.download('vectors.tsv')\n",
        "#   files.download('metadata.tsv')\n",
        "# except Exception:\n",
        "#   pass"
      ],
      "metadata": {
        "id": "B35NZVPpsqEY"
      },
      "execution_count": null,
      "outputs": []
    },
    {
      "cell_type": "markdown",
      "source": [
        "##Model 2: LSTM"
      ],
      "metadata": {
        "id": "VQhVMhu-bhcz"
      }
    },
    {
      "cell_type": "code",
      "source": [
        "from tensorflow.keras import layers\n",
        "\n",
        "inputs = layers.Input(shape=(1,), dtype = \"string\")\n",
        "x = text_vectorizer(inputs)\n",
        "x = embedding(x)\n",
        "# print(x.shape)\n",
        "# x= layers.LSTM(units = 64, return_sequences = True)(x) # when your stacking RNNs sequence together you need to return_sequences = TRUE\n",
        "# print(x.shape)\n",
        "x= layers.LSTM(64)(x)\n",
        "# print(x.shape)\n",
        "# x= layers.Dense(64, activation = 'relu')(x)\n",
        "outputs= layers.Dense(1,activation = \"sigmoid\")(x)\n",
        "model_2 = tf.keras.Model(inputs, outputs, name = \"model_2_LSTM\" )\n",
        "\n",
        "\n",
        "\n"
      ],
      "metadata": {
        "id": "P22Bfy2rnT-w"
      },
      "execution_count": null,
      "outputs": []
    },
    {
      "cell_type": "code",
      "source": [
        "model_2.summary()"
      ],
      "metadata": {
        "colab": {
          "base_uri": "https://localhost:8080/",
          "height": 322
        },
        "id": "j1yVTbimwv8p",
        "outputId": "b7c5653c-4068-4c56-cbe6-4eec19e63d63"
      },
      "execution_count": null,
      "outputs": [
        {
          "output_type": "display_data",
          "data": {
            "text/plain": [
              "\u001b[1mModel: \"model_2_LSTM\"\u001b[0m\n"
            ],
            "text/html": [
              "<pre style=\"white-space:pre;overflow-x:auto;line-height:normal;font-family:Menlo,'DejaVu Sans Mono',consolas,'Courier New',monospace\"><span style=\"font-weight: bold\">Model: \"model_2_LSTM\"</span>\n",
              "</pre>\n"
            ]
          },
          "metadata": {}
        },
        {
          "output_type": "display_data",
          "data": {
            "text/plain": [
              "┏━━━━━━━━━━━━━━━━━━━━━━━━━━━━━━━━━━━━━━┳━━━━━━━━━━━━━━━━━━━━━━━━━━━━━┳━━━━━━━━━━━━━━━━━┓\n",
              "┃\u001b[1m \u001b[0m\u001b[1mLayer (type)                        \u001b[0m\u001b[1m \u001b[0m┃\u001b[1m \u001b[0m\u001b[1mOutput Shape               \u001b[0m\u001b[1m \u001b[0m┃\u001b[1m \u001b[0m\u001b[1m        Param #\u001b[0m\u001b[1m \u001b[0m┃\n",
              "┡━━━━━━━━━━━━━━━━━━━━━━━━━━━━━━━━━━━━━━╇━━━━━━━━━━━━━━━━━━━━━━━━━━━━━╇━━━━━━━━━━━━━━━━━┩\n",
              "│ input_layer_1 (\u001b[38;5;33mInputLayer\u001b[0m)           │ (\u001b[38;5;45mNone\u001b[0m, \u001b[38;5;34m1\u001b[0m)                   │               \u001b[38;5;34m0\u001b[0m │\n",
              "├──────────────────────────────────────┼─────────────────────────────┼─────────────────┤\n",
              "│ text_vectorization_1                 │ (\u001b[38;5;45mNone\u001b[0m, \u001b[38;5;34m15\u001b[0m)                  │               \u001b[38;5;34m0\u001b[0m │\n",
              "│ (\u001b[38;5;33mTextVectorization\u001b[0m)                  │                             │                 │\n",
              "├──────────────────────────────────────┼─────────────────────────────┼─────────────────┤\n",
              "│ embedding (\u001b[38;5;33mEmbedding\u001b[0m)                │ (\u001b[38;5;45mNone\u001b[0m, \u001b[38;5;34m15\u001b[0m, \u001b[38;5;34m128\u001b[0m)             │       \u001b[38;5;34m1,280,000\u001b[0m │\n",
              "├──────────────────────────────────────┼─────────────────────────────┼─────────────────┤\n",
              "│ lstm (\u001b[38;5;33mLSTM\u001b[0m)                          │ (\u001b[38;5;45mNone\u001b[0m, \u001b[38;5;34m64\u001b[0m)                  │          \u001b[38;5;34m49,408\u001b[0m │\n",
              "├──────────────────────────────────────┼─────────────────────────────┼─────────────────┤\n",
              "│ dense_1 (\u001b[38;5;33mDense\u001b[0m)                      │ (\u001b[38;5;45mNone\u001b[0m, \u001b[38;5;34m1\u001b[0m)                   │              \u001b[38;5;34m65\u001b[0m │\n",
              "└──────────────────────────────────────┴─────────────────────────────┴─────────────────┘\n"
            ],
            "text/html": [
              "<pre style=\"white-space:pre;overflow-x:auto;line-height:normal;font-family:Menlo,'DejaVu Sans Mono',consolas,'Courier New',monospace\">┏━━━━━━━━━━━━━━━━━━━━━━━━━━━━━━━━━━━━━━┳━━━━━━━━━━━━━━━━━━━━━━━━━━━━━┳━━━━━━━━━━━━━━━━━┓\n",
              "┃<span style=\"font-weight: bold\"> Layer (type)                         </span>┃<span style=\"font-weight: bold\"> Output Shape                </span>┃<span style=\"font-weight: bold\">         Param # </span>┃\n",
              "┡━━━━━━━━━━━━━━━━━━━━━━━━━━━━━━━━━━━━━━╇━━━━━━━━━━━━━━━━━━━━━━━━━━━━━╇━━━━━━━━━━━━━━━━━┩\n",
              "│ input_layer_1 (<span style=\"color: #0087ff; text-decoration-color: #0087ff\">InputLayer</span>)           │ (<span style=\"color: #00d7ff; text-decoration-color: #00d7ff\">None</span>, <span style=\"color: #00af00; text-decoration-color: #00af00\">1</span>)                   │               <span style=\"color: #00af00; text-decoration-color: #00af00\">0</span> │\n",
              "├──────────────────────────────────────┼─────────────────────────────┼─────────────────┤\n",
              "│ text_vectorization_1                 │ (<span style=\"color: #00d7ff; text-decoration-color: #00d7ff\">None</span>, <span style=\"color: #00af00; text-decoration-color: #00af00\">15</span>)                  │               <span style=\"color: #00af00; text-decoration-color: #00af00\">0</span> │\n",
              "│ (<span style=\"color: #0087ff; text-decoration-color: #0087ff\">TextVectorization</span>)                  │                             │                 │\n",
              "├──────────────────────────────────────┼─────────────────────────────┼─────────────────┤\n",
              "│ embedding (<span style=\"color: #0087ff; text-decoration-color: #0087ff\">Embedding</span>)                │ (<span style=\"color: #00d7ff; text-decoration-color: #00d7ff\">None</span>, <span style=\"color: #00af00; text-decoration-color: #00af00\">15</span>, <span style=\"color: #00af00; text-decoration-color: #00af00\">128</span>)             │       <span style=\"color: #00af00; text-decoration-color: #00af00\">1,280,000</span> │\n",
              "├──────────────────────────────────────┼─────────────────────────────┼─────────────────┤\n",
              "│ lstm (<span style=\"color: #0087ff; text-decoration-color: #0087ff\">LSTM</span>)                          │ (<span style=\"color: #00d7ff; text-decoration-color: #00d7ff\">None</span>, <span style=\"color: #00af00; text-decoration-color: #00af00\">64</span>)                  │          <span style=\"color: #00af00; text-decoration-color: #00af00\">49,408</span> │\n",
              "├──────────────────────────────────────┼─────────────────────────────┼─────────────────┤\n",
              "│ dense_1 (<span style=\"color: #0087ff; text-decoration-color: #0087ff\">Dense</span>)                      │ (<span style=\"color: #00d7ff; text-decoration-color: #00d7ff\">None</span>, <span style=\"color: #00af00; text-decoration-color: #00af00\">1</span>)                   │              <span style=\"color: #00af00; text-decoration-color: #00af00\">65</span> │\n",
              "└──────────────────────────────────────┴─────────────────────────────┴─────────────────┘\n",
              "</pre>\n"
            ]
          },
          "metadata": {}
        },
        {
          "output_type": "display_data",
          "data": {
            "text/plain": [
              "\u001b[1m Total params: \u001b[0m\u001b[38;5;34m1,329,473\u001b[0m (5.07 MB)\n"
            ],
            "text/html": [
              "<pre style=\"white-space:pre;overflow-x:auto;line-height:normal;font-family:Menlo,'DejaVu Sans Mono',consolas,'Courier New',monospace\"><span style=\"font-weight: bold\"> Total params: </span><span style=\"color: #00af00; text-decoration-color: #00af00\">1,329,473</span> (5.07 MB)\n",
              "</pre>\n"
            ]
          },
          "metadata": {}
        },
        {
          "output_type": "display_data",
          "data": {
            "text/plain": [
              "\u001b[1m Trainable params: \u001b[0m\u001b[38;5;34m1,329,473\u001b[0m (5.07 MB)\n"
            ],
            "text/html": [
              "<pre style=\"white-space:pre;overflow-x:auto;line-height:normal;font-family:Menlo,'DejaVu Sans Mono',consolas,'Courier New',monospace\"><span style=\"font-weight: bold\"> Trainable params: </span><span style=\"color: #00af00; text-decoration-color: #00af00\">1,329,473</span> (5.07 MB)\n",
              "</pre>\n"
            ]
          },
          "metadata": {}
        },
        {
          "output_type": "display_data",
          "data": {
            "text/plain": [
              "\u001b[1m Non-trainable params: \u001b[0m\u001b[38;5;34m0\u001b[0m (0.00 B)\n"
            ],
            "text/html": [
              "<pre style=\"white-space:pre;overflow-x:auto;line-height:normal;font-family:Menlo,'DejaVu Sans Mono',consolas,'Courier New',monospace\"><span style=\"font-weight: bold\"> Non-trainable params: </span><span style=\"color: #00af00; text-decoration-color: #00af00\">0</span> (0.00 B)\n",
              "</pre>\n"
            ]
          },
          "metadata": {}
        }
      ]
    },
    {
      "cell_type": "code",
      "source": [
        "#compile the model\n",
        "model_2.compile(loss = \"binary_crossentropy\",\n",
        "                optimizer = tf.keras.optimizers.Adam(),\n",
        "                metrics = [\"accuracy\"])"
      ],
      "metadata": {
        "id": "hRX3Q-63w5Ix"
      },
      "execution_count": null,
      "outputs": []
    },
    {
      "cell_type": "code",
      "source": [
        "#fit the model\n",
        "model_2.fit(train_sentences,\n",
        "            train_labels,\n",
        "            epochs = 5,\n",
        "            validation_data = (val_sentences, val_labels),\n",
        "            callbacks = [create_tensorboard_callback(SAVE_DIR, \"model_2_LSTM\")])"
      ],
      "metadata": {
        "colab": {
          "base_uri": "https://localhost:8080/"
        },
        "id": "Rs550bKRxzJS",
        "outputId": "fae7a66e-742a-45f5-829b-24ea92d1c7cb"
      },
      "execution_count": null,
      "outputs": [
        {
          "output_type": "stream",
          "name": "stdout",
          "text": [
            "Saving TensorBoard log files to: model_logs/model_2_LSTM/20240914-120340\n",
            "Epoch 1/5\n",
            "\u001b[1m215/215\u001b[0m \u001b[32m━━━━━━━━━━━━━━━━━━━━\u001b[0m\u001b[37m\u001b[0m \u001b[1m8s\u001b[0m 25ms/step - accuracy: 0.9049 - loss: 0.2946 - val_accuracy: 0.7976 - val_loss: 0.5440\n",
            "Epoch 2/5\n",
            "\u001b[1m215/215\u001b[0m \u001b[32m━━━━━━━━━━━━━━━━━━━━\u001b[0m\u001b[37m\u001b[0m \u001b[1m10s\u001b[0m 22ms/step - accuracy: 0.9460 - loss: 0.1516 - val_accuracy: 0.7806 - val_loss: 0.6307\n",
            "Epoch 3/5\n",
            "\u001b[1m215/215\u001b[0m \u001b[32m━━━━━━━━━━━━━━━━━━━━\u001b[0m\u001b[37m\u001b[0m \u001b[1m6s\u001b[0m 25ms/step - accuracy: 0.9527 - loss: 0.1279 - val_accuracy: 0.7832 - val_loss: 0.7069\n",
            "Epoch 4/5\n",
            "\u001b[1m215/215\u001b[0m \u001b[32m━━━━━━━━━━━━━━━━━━━━\u001b[0m\u001b[37m\u001b[0m \u001b[1m10s\u001b[0m 23ms/step - accuracy: 0.9625 - loss: 0.1049 - val_accuracy: 0.7714 - val_loss: 0.7903\n",
            "Epoch 5/5\n",
            "\u001b[1m215/215\u001b[0m \u001b[32m━━━━━━━━━━━━━━━━━━━━\u001b[0m\u001b[37m\u001b[0m \u001b[1m6s\u001b[0m 30ms/step - accuracy: 0.9684 - loss: 0.0838 - val_accuracy: 0.7648 - val_loss: 0.9411\n"
          ]
        },
        {
          "output_type": "execute_result",
          "data": {
            "text/plain": [
              "<keras.src.callbacks.history.History at 0x7868cb857190>"
            ]
          },
          "metadata": {},
          "execution_count": 62
        }
      ]
    },
    {
      "cell_type": "code",
      "source": [
        "#Make predictions on LSTM Model\n",
        "model_2_LSTM_preds = model_2.predict(val_sentences)\n",
        "model_2_LSTM_preds[:10]"
      ],
      "metadata": {
        "colab": {
          "base_uri": "https://localhost:8080/"
        },
        "id": "beLmicjczC9Q",
        "outputId": "0d513c1d-34ac-4f4f-cc47-27b559e6d313"
      },
      "execution_count": null,
      "outputs": [
        {
          "output_type": "stream",
          "name": "stdout",
          "text": [
            "\u001b[1m24/24\u001b[0m \u001b[32m━━━━━━━━━━━━━━━━━━━━\u001b[0m\u001b[37m\u001b[0m \u001b[1m1s\u001b[0m 16ms/step\n"
          ]
        },
        {
          "output_type": "execute_result",
          "data": {
            "text/plain": [
              "array([[1.4553422e-03],\n",
              "       [7.4801631e-03],\n",
              "       [9.9872345e-01],\n",
              "       [9.9987471e-01],\n",
              "       [6.5516960e-04],\n",
              "       [5.2517251e-04],\n",
              "       [9.9122059e-01],\n",
              "       [9.9974138e-01],\n",
              "       [2.1830652e-02],\n",
              "       [5.6177708e-03]], dtype=float32)"
            ]
          },
          "metadata": {},
          "execution_count": 63
        }
      ]
    },
    {
      "cell_type": "code",
      "source": [
        "model_2_preds = tf.squeeze(tf.round(model_2_LSTM_preds))\n",
        "model_2_preds"
      ],
      "metadata": {
        "colab": {
          "base_uri": "https://localhost:8080/"
        },
        "id": "ClknhTDHz25G",
        "outputId": "5c42b82a-28cd-4101-a3b1-bf197ce9be3f"
      },
      "execution_count": null,
      "outputs": [
        {
          "output_type": "execute_result",
          "data": {
            "text/plain": [
              "<tf.Tensor: shape=(761,), dtype=float32, numpy=\n",
              "array([0., 0., 1., 1., 0., 0., 1., 1., 0., 0., 0., 0., 0., 0., 1., 0., 0.,\n",
              "       0., 0., 0., 0., 0., 0., 1., 0., 1., 0., 0., 0., 0., 0., 0., 0., 0.,\n",
              "       1., 0., 1., 0., 1., 0., 1., 0., 0., 0., 1., 1., 0., 0., 0., 1., 0.,\n",
              "       0., 0., 0., 0., 1., 0., 0., 0., 1., 1., 0., 0., 1., 0., 1., 0., 0.,\n",
              "       0., 0., 1., 0., 0., 1., 0., 0., 0., 1., 0., 0., 0., 1., 0., 0., 0.,\n",
              "       0., 0., 1., 0., 0., 1., 0., 0., 0., 0., 1., 1., 0., 0., 1., 0., 1.,\n",
              "       0., 0., 1., 1., 0., 0., 0., 0., 0., 0., 0., 1., 0., 1., 0., 1., 0.,\n",
              "       0., 1., 1., 0., 0., 1., 0., 1., 0., 0., 1., 0., 0., 0., 0., 1., 0.,\n",
              "       0., 0., 1., 1., 0., 0., 0., 1., 0., 0., 0., 0., 1., 0., 0., 0., 1.,\n",
              "       0., 0., 0., 1., 0., 0., 0., 1., 1., 0., 0., 0., 1., 0., 1., 0., 1.,\n",
              "       1., 1., 0., 0., 0., 0., 1., 1., 0., 0., 1., 0., 0., 0., 1., 0., 1.,\n",
              "       0., 0., 0., 1., 0., 1., 0., 1., 1., 1., 1., 1., 1., 0., 0., 0., 0.,\n",
              "       0., 1., 1., 0., 0., 0., 0., 1., 0., 1., 0., 0., 0., 0., 1., 0., 1.,\n",
              "       0., 1., 0., 1., 1., 0., 0., 0., 0., 0., 1., 1., 0., 1., 1., 0., 0.,\n",
              "       0., 0., 0., 0., 0., 1., 0., 1., 1., 1., 1., 0., 0., 0., 1., 0., 1.,\n",
              "       0., 0., 1., 0., 0., 1., 0., 0., 0., 0., 1., 1., 0., 0., 1., 0., 1.,\n",
              "       1., 1., 0., 0., 0., 0., 0., 1., 0., 0., 0., 1., 0., 0., 0., 0., 1.,\n",
              "       1., 0., 1., 1., 0., 0., 0., 0., 1., 1., 1., 1., 0., 0., 1., 1., 0.,\n",
              "       1., 1., 1., 0., 1., 0., 1., 0., 0., 0., 0., 1., 0., 1., 1., 0., 0.,\n",
              "       0., 0., 0., 1., 1., 0., 1., 0., 0., 1., 1., 0., 0., 0., 0., 1., 0.,\n",
              "       0., 0., 0., 1., 1., 0., 0., 0., 0., 0., 0., 0., 1., 0., 0., 0., 0.,\n",
              "       0., 0., 0., 1., 0., 0., 0., 0., 0., 0., 0., 1., 0., 1., 1., 0., 0.,\n",
              "       0., 0., 0., 0., 0., 1., 1., 0., 1., 1., 0., 1., 0., 0., 1., 1., 0.,\n",
              "       1., 1., 1., 0., 1., 0., 1., 0., 0., 0., 1., 0., 1., 0., 0., 0., 1.,\n",
              "       0., 1., 1., 1., 0., 0., 0., 1., 1., 0., 1., 0., 0., 0., 0., 0., 0.,\n",
              "       0., 1., 0., 1., 0., 1., 0., 0., 1., 1., 0., 0., 0., 1., 0., 0., 0.,\n",
              "       1., 0., 0., 0., 0., 0., 0., 1., 0., 1., 0., 0., 0., 0., 0., 1., 0.,\n",
              "       1., 1., 1., 0., 1., 0., 1., 0., 0., 0., 0., 0., 0., 1., 0., 0., 1.,\n",
              "       1., 1., 0., 0., 0., 1., 0., 0., 1., 0., 0., 0., 1., 0., 1., 0., 0.,\n",
              "       0., 0., 1., 0., 0., 1., 1., 0., 1., 1., 0., 0., 0., 0., 1., 0., 0.,\n",
              "       0., 1., 0., 1., 1., 0., 1., 0., 1., 1., 0., 1., 0., 0., 0., 0., 0.,\n",
              "       0., 1., 1., 0., 0., 1., 1., 0., 1., 1., 0., 1., 1., 0., 0., 0., 1.,\n",
              "       1., 0., 0., 0., 0., 1., 0., 1., 1., 0., 1., 0., 1., 1., 0., 0., 1.,\n",
              "       0., 0., 0., 0., 0., 1., 1., 0., 0., 1., 0., 0., 1., 0., 1., 1., 0.,\n",
              "       0., 0., 0., 0., 1., 1., 1., 1., 1., 0., 0., 0., 0., 0., 0., 1., 1.,\n",
              "       0., 0., 0., 0., 1., 1., 1., 0., 1., 0., 0., 0., 0., 1., 1., 0., 1.,\n",
              "       1., 0., 0., 0., 0., 0., 0., 0., 0., 0., 0., 0., 0., 1., 0., 0., 1.,\n",
              "       0., 0., 1., 1., 0., 1., 0., 1., 0., 1., 0., 0., 1., 1., 1., 0., 1.,\n",
              "       0., 1., 0., 0., 1., 1., 1., 1., 0., 1., 1., 1., 0., 0., 1., 1., 1.,\n",
              "       0., 0., 0., 1., 1., 0., 0., 1., 0., 0., 0., 1., 0., 1., 0., 0., 0.,\n",
              "       1., 0., 0., 1., 0., 1., 0., 0., 1., 1., 0., 1., 0., 0., 1., 1., 0.,\n",
              "       0., 0., 0., 0., 1., 1., 1., 1., 0., 1., 1., 1., 0., 0., 0., 1., 0.,\n",
              "       1., 0., 0., 1., 1., 0., 0., 0., 1., 1., 1., 1., 1., 0., 0., 0., 1.,\n",
              "       0., 1., 0., 0., 1., 0., 0., 1., 0., 1., 1., 0., 0., 1., 0., 1., 0.,\n",
              "       1., 0., 1., 1., 1., 0., 0., 0., 1., 0., 0., 0., 0.], dtype=float32)>"
            ]
          },
          "metadata": {},
          "execution_count": 64
        }
      ]
    },
    {
      "cell_type": "code",
      "source": [
        "val_labels"
      ],
      "metadata": {
        "colab": {
          "base_uri": "https://localhost:8080/"
        },
        "id": "g9hEnyxB0Cyj",
        "outputId": "38a930d6-acb0-4436-bfc0-4d27ed36b393"
      },
      "execution_count": null,
      "outputs": [
        {
          "output_type": "execute_result",
          "data": {
            "text/plain": [
              "array([0, 0, 1, 1, 0, 0, 0, 1, 1, 0, 1, 0, 0, 0, 0, 1, 0, 0, 0, 0, 0, 0,\n",
              "       0, 1, 0, 1, 0, 1, 0, 0, 1, 0, 1, 0, 1, 0, 1, 1, 1, 0, 1, 0, 1, 0,\n",
              "       0, 1, 0, 0, 0, 1, 0, 1, 0, 0, 1, 0, 0, 1, 0, 1, 1, 0, 0, 1, 0, 1,\n",
              "       0, 1, 0, 0, 1, 0, 0, 1, 0, 1, 0, 0, 0, 0, 0, 0, 0, 0, 0, 0, 0, 0,\n",
              "       0, 0, 0, 0, 0, 0, 0, 1, 0, 0, 1, 0, 0, 1, 0, 0, 1, 1, 0, 0, 0, 1,\n",
              "       0, 0, 0, 1, 0, 0, 1, 1, 0, 0, 1, 0, 0, 1, 0, 0, 1, 0, 0, 1, 0, 1,\n",
              "       1, 0, 1, 1, 1, 1, 1, 1, 0, 0, 0, 0, 0, 0, 0, 0, 1, 1, 1, 0, 1, 0,\n",
              "       0, 0, 1, 0, 0, 0, 1, 1, 0, 0, 0, 1, 0, 1, 0, 1, 1, 1, 0, 1, 0, 0,\n",
              "       0, 1, 1, 0, 1, 0, 0, 0, 1, 0, 1, 0, 0, 0, 1, 1, 1, 0, 1, 1, 0, 0,\n",
              "       0, 0, 0, 0, 0, 0, 0, 0, 1, 0, 0, 1, 0, 1, 0, 0, 0, 1, 0, 1, 1, 0,\n",
              "       0, 1, 1, 1, 0, 1, 0, 0, 0, 0, 0, 1, 1, 0, 1, 1, 0, 0, 0, 0, 1, 0,\n",
              "       0, 1, 0, 0, 1, 1, 0, 0, 0, 0, 1, 0, 1, 0, 0, 1, 1, 0, 0, 0, 1, 1,\n",
              "       0, 1, 0, 1, 0, 0, 0, 1, 1, 1, 0, 0, 1, 0, 0, 1, 1, 1, 0, 1, 0, 0,\n",
              "       0, 0, 1, 1, 1, 1, 1, 0, 0, 1, 0, 1, 1, 1, 1, 0, 0, 1, 1, 0, 1, 1,\n",
              "       0, 0, 0, 0, 1, 0, 0, 1, 0, 1, 0, 0, 1, 0, 0, 0, 0, 0, 0, 1, 1, 1,\n",
              "       1, 0, 1, 1, 0, 0, 0, 0, 0, 0, 0, 0, 0, 1, 1, 0, 0, 1, 0, 0, 0, 0,\n",
              "       1, 1, 0, 0, 1, 1, 0, 0, 1, 0, 0, 0, 0, 0, 0, 0, 0, 0, 1, 0, 0, 1,\n",
              "       0, 0, 1, 0, 0, 1, 1, 0, 1, 1, 1, 1, 0, 1, 0, 1, 0, 0, 1, 0, 0, 0,\n",
              "       0, 1, 0, 1, 0, 1, 0, 1, 0, 0, 0, 1, 0, 1, 0, 1, 1, 0, 1, 1, 1, 0,\n",
              "       1, 1, 0, 0, 1, 1, 0, 0, 0, 0, 0, 1, 1, 0, 0, 1, 0, 1, 0, 0, 1, 0,\n",
              "       0, 1, 0, 0, 0, 0, 0, 0, 0, 0, 0, 1, 0, 0, 1, 1, 0, 1, 0, 1, 1, 1,\n",
              "       0, 1, 0, 0, 0, 0, 1, 0, 0, 0, 0, 0, 0, 0, 1, 1, 0, 0, 0, 1, 1, 1,\n",
              "       1, 0, 1, 0, 1, 0, 1, 1, 0, 0, 1, 0, 0, 1, 1, 1, 1, 0, 1, 0, 1, 0,\n",
              "       0, 1, 1, 0, 0, 1, 0, 1, 1, 0, 1, 0, 1, 1, 0, 1, 0, 0, 0, 0, 0, 0,\n",
              "       1, 1, 1, 0, 0, 1, 0, 0, 0, 0, 1, 0, 0, 1, 0, 1, 1, 1, 0, 0, 0, 1,\n",
              "       0, 1, 0, 0, 0, 1, 1, 1, 0, 0, 0, 0, 1, 0, 0, 1, 1, 1, 0, 1, 1, 1,\n",
              "       1, 1, 0, 1, 1, 1, 0, 0, 0, 0, 1, 1, 0, 0, 1, 0, 1, 0, 0, 0, 1, 1,\n",
              "       1, 0, 0, 0, 0, 1, 1, 0, 0, 1, 0, 0, 0, 0, 1, 1, 0, 1, 0, 0, 1, 0,\n",
              "       0, 1, 0, 0, 0, 0, 0, 0, 0, 1, 1, 0, 0, 0, 0, 1, 0, 0, 1, 1, 0, 0,\n",
              "       0, 0, 1, 1, 1, 0, 0, 1, 0, 1, 1, 0, 0, 1, 1, 0, 0, 1, 1, 0, 0, 0,\n",
              "       0, 0, 0, 0, 1, 0, 1, 1, 0, 0, 1, 0, 0, 0, 1, 0, 1, 0, 0, 0, 1, 1,\n",
              "       0, 1, 0, 0, 0, 0, 1, 1, 0, 1, 0, 0, 1, 1, 0, 0, 0, 0, 0, 1, 1, 0,\n",
              "       0, 0, 1, 1, 1, 0, 0, 0, 1, 0, 1, 1, 0, 1, 1, 0, 0, 1, 1, 1, 1, 1,\n",
              "       1, 0, 0, 0, 0, 0, 1, 0, 0, 1, 1, 0, 1, 0, 1, 0, 1, 0, 1, 0, 1, 0,\n",
              "       1, 1, 0, 1, 1, 0, 0, 0, 1, 0, 1, 1, 0])"
            ]
          },
          "metadata": {},
          "execution_count": 65
        }
      ]
    },
    {
      "cell_type": "code",
      "source": [
        "model_2_results = calculate_results_advanced(y_true = val_labels, y_pred = model_2_preds)\n",
        "model_2_results"
      ],
      "metadata": {
        "colab": {
          "base_uri": "https://localhost:8080/"
        },
        "id": "X9MVgj8h0JHN",
        "outputId": "6faeed51-738a-4b4e-9b1e-abd75141d7ca"
      },
      "execution_count": null,
      "outputs": [
        {
          "output_type": "execute_result",
          "data": {
            "text/plain": [
              "{'accuracy': 76.47831800262811,\n",
              " 'precision': 0.762966884419267,\n",
              " 'recall': 0.7647831800262812,\n",
              " 'f1': 0.7631549805961875}"
            ]
          },
          "metadata": {},
          "execution_count": 66
        }
      ]
    },
    {
      "cell_type": "markdown",
      "source": [
        "##Model 3 : GRU\n",
        "Another popular and effective RNN component is the GRU or gated recurrent unit.\n"
      ],
      "metadata": {
        "id": "Q3BMt68-ASnk"
      }
    },
    {
      "cell_type": "code",
      "source": [
        "from tensorflow.keras import layers\n",
        "\n",
        "inputs = layers.Input(shape = (1,), dtype = \"string\")\n",
        "x = text_vectorizer(inputs)\n",
        "x= embedding(x)\n",
        "# print(x.shape)\n",
        "x = layers.GRU(units = 64, return_sequences = True )(x)  # when your stacking RNNs sequence together you need to return_sequences = TRUE\n",
        "# print(x.shape)\n",
        "x = layers.LSTM(42, return_sequences = True )(x)\n",
        "# print(x.shape)\n",
        "x = layers.GRU(99)(x)\n",
        "print(x.shape)\n",
        "x = layers.Dense(64,activation = 'relu')(x)\n",
        "# print(x.shape)\n",
        "# x = layers.GlobalAveragePooling1D()(x)\n",
        "outputs = layers.Dense(1,activation = 'sigmoid')(x)\n",
        "model_3 = tf.keras.Model(inputs, outputs,name = \"model_3_GRU\" )"
      ],
      "metadata": {
        "colab": {
          "base_uri": "https://localhost:8080/"
        },
        "id": "SF0fPq9fAWqi",
        "outputId": "43396c83-db8a-4990-dad4-cb540990b5b8"
      },
      "execution_count": null,
      "outputs": [
        {
          "output_type": "stream",
          "name": "stdout",
          "text": [
            "(None, 99)\n"
          ]
        }
      ]
    },
    {
      "cell_type": "code",
      "source": [
        "model_3.compile(loss = \"binary_crossentropy\",\n",
        "                optimizer = tf.keras.optimizers.Adam(),\n",
        "                metrics = [\"accuracy\"])\n",
        "\n",
        "model_3.fit(train_sentences,\n",
        "            train_labels,\n",
        "            epochs = 5,\n",
        "            validation_data=(val_sentences,val_labels),\n",
        "            callbacks = [create_tensorboard_callback(SAVE_DIR, \"model_3_GRU\")]\n",
        "            )"
      ],
      "metadata": {
        "colab": {
          "base_uri": "https://localhost:8080/"
        },
        "id": "6x_IQMurQzuh",
        "outputId": "6c6768b2-20fe-4a05-e1f6-cb92ae4329c8"
      },
      "execution_count": null,
      "outputs": [
        {
          "output_type": "stream",
          "name": "stdout",
          "text": [
            "Saving TensorBoard log files to: model_logs/model_3_GRU/20240914-120425\n",
            "Epoch 1/5\n",
            "\u001b[1m215/215\u001b[0m \u001b[32m━━━━━━━━━━━━━━━━━━━━\u001b[0m\u001b[37m\u001b[0m \u001b[1m20s\u001b[0m 58ms/step - accuracy: 0.9356 - loss: 0.2237 - val_accuracy: 0.7674 - val_loss: 0.7736\n",
            "Epoch 2/5\n",
            "\u001b[1m215/215\u001b[0m \u001b[32m━━━━━━━━━━━━━━━━━━━━\u001b[0m\u001b[37m\u001b[0m \u001b[1m18s\u001b[0m 48ms/step - accuracy: 0.9722 - loss: 0.0767 - val_accuracy: 0.7477 - val_loss: 1.2312\n",
            "Epoch 3/5\n",
            "\u001b[1m215/215\u001b[0m \u001b[32m━━━━━━━━━━━━━━━━━━━━\u001b[0m\u001b[37m\u001b[0m \u001b[1m20s\u001b[0m 45ms/step - accuracy: 0.9728 - loss: 0.0561 - val_accuracy: 0.7503 - val_loss: 1.1733\n",
            "Epoch 4/5\n",
            "\u001b[1m215/215\u001b[0m \u001b[32m━━━━━━━━━━━━━━━━━━━━\u001b[0m\u001b[37m\u001b[0m \u001b[1m9s\u001b[0m 44ms/step - accuracy: 0.9692 - loss: 0.0673 - val_accuracy: 0.7687 - val_loss: 1.3363\n",
            "Epoch 5/5\n",
            "\u001b[1m215/215\u001b[0m \u001b[32m━━━━━━━━━━━━━━━━━━━━\u001b[0m\u001b[37m\u001b[0m \u001b[1m12s\u001b[0m 55ms/step - accuracy: 0.9768 - loss: 0.0501 - val_accuracy: 0.7635 - val_loss: 1.5070\n"
          ]
        },
        {
          "output_type": "execute_result",
          "data": {
            "text/plain": [
              "<keras.src.callbacks.history.History at 0x7868c8d3aec0>"
            ]
          },
          "metadata": {},
          "execution_count": 68
        }
      ]
    },
    {
      "cell_type": "code",
      "source": [
        "model_3.summary()"
      ],
      "metadata": {
        "id": "paNdWPYRG6iq",
        "colab": {
          "base_uri": "https://localhost:8080/",
          "height": 434
        },
        "outputId": "947fd916-1fea-4978-8851-163953573678"
      },
      "execution_count": null,
      "outputs": [
        {
          "output_type": "display_data",
          "data": {
            "text/plain": [
              "\u001b[1mModel: \"model_3_GRU\"\u001b[0m\n"
            ],
            "text/html": [
              "<pre style=\"white-space:pre;overflow-x:auto;line-height:normal;font-family:Menlo,'DejaVu Sans Mono',consolas,'Courier New',monospace\"><span style=\"font-weight: bold\">Model: \"model_3_GRU\"</span>\n",
              "</pre>\n"
            ]
          },
          "metadata": {}
        },
        {
          "output_type": "display_data",
          "data": {
            "text/plain": [
              "┏━━━━━━━━━━━━━━━━━━━━━━━━━━━━━━━━━━━━━━┳━━━━━━━━━━━━━━━━━━━━━━━━━━━━━┳━━━━━━━━━━━━━━━━━┓\n",
              "┃\u001b[1m \u001b[0m\u001b[1mLayer (type)                        \u001b[0m\u001b[1m \u001b[0m┃\u001b[1m \u001b[0m\u001b[1mOutput Shape               \u001b[0m\u001b[1m \u001b[0m┃\u001b[1m \u001b[0m\u001b[1m        Param #\u001b[0m\u001b[1m \u001b[0m┃\n",
              "┡━━━━━━━━━━━━━━━━━━━━━━━━━━━━━━━━━━━━━━╇━━━━━━━━━━━━━━━━━━━━━━━━━━━━━╇━━━━━━━━━━━━━━━━━┩\n",
              "│ input_layer_2 (\u001b[38;5;33mInputLayer\u001b[0m)           │ (\u001b[38;5;45mNone\u001b[0m, \u001b[38;5;34m1\u001b[0m)                   │               \u001b[38;5;34m0\u001b[0m │\n",
              "├──────────────────────────────────────┼─────────────────────────────┼─────────────────┤\n",
              "│ text_vectorization_1                 │ (\u001b[38;5;45mNone\u001b[0m, \u001b[38;5;34m15\u001b[0m)                  │               \u001b[38;5;34m0\u001b[0m │\n",
              "│ (\u001b[38;5;33mTextVectorization\u001b[0m)                  │                             │                 │\n",
              "├──────────────────────────────────────┼─────────────────────────────┼─────────────────┤\n",
              "│ embedding (\u001b[38;5;33mEmbedding\u001b[0m)                │ (\u001b[38;5;45mNone\u001b[0m, \u001b[38;5;34m15\u001b[0m, \u001b[38;5;34m128\u001b[0m)             │       \u001b[38;5;34m1,280,000\u001b[0m │\n",
              "├──────────────────────────────────────┼─────────────────────────────┼─────────────────┤\n",
              "│ gru (\u001b[38;5;33mGRU\u001b[0m)                            │ (\u001b[38;5;45mNone\u001b[0m, \u001b[38;5;34m15\u001b[0m, \u001b[38;5;34m64\u001b[0m)              │          \u001b[38;5;34m37,248\u001b[0m │\n",
              "├──────────────────────────────────────┼─────────────────────────────┼─────────────────┤\n",
              "│ lstm_1 (\u001b[38;5;33mLSTM\u001b[0m)                        │ (\u001b[38;5;45mNone\u001b[0m, \u001b[38;5;34m15\u001b[0m, \u001b[38;5;34m42\u001b[0m)              │          \u001b[38;5;34m17,976\u001b[0m │\n",
              "├──────────────────────────────────────┼─────────────────────────────┼─────────────────┤\n",
              "│ gru_1 (\u001b[38;5;33mGRU\u001b[0m)                          │ (\u001b[38;5;45mNone\u001b[0m, \u001b[38;5;34m99\u001b[0m)                  │          \u001b[38;5;34m42,471\u001b[0m │\n",
              "├──────────────────────────────────────┼─────────────────────────────┼─────────────────┤\n",
              "│ dense_2 (\u001b[38;5;33mDense\u001b[0m)                      │ (\u001b[38;5;45mNone\u001b[0m, \u001b[38;5;34m64\u001b[0m)                  │           \u001b[38;5;34m6,400\u001b[0m │\n",
              "├──────────────────────────────────────┼─────────────────────────────┼─────────────────┤\n",
              "│ dense_3 (\u001b[38;5;33mDense\u001b[0m)                      │ (\u001b[38;5;45mNone\u001b[0m, \u001b[38;5;34m1\u001b[0m)                   │              \u001b[38;5;34m65\u001b[0m │\n",
              "└──────────────────────────────────────┴─────────────────────────────┴─────────────────┘\n"
            ],
            "text/html": [
              "<pre style=\"white-space:pre;overflow-x:auto;line-height:normal;font-family:Menlo,'DejaVu Sans Mono',consolas,'Courier New',monospace\">┏━━━━━━━━━━━━━━━━━━━━━━━━━━━━━━━━━━━━━━┳━━━━━━━━━━━━━━━━━━━━━━━━━━━━━┳━━━━━━━━━━━━━━━━━┓\n",
              "┃<span style=\"font-weight: bold\"> Layer (type)                         </span>┃<span style=\"font-weight: bold\"> Output Shape                </span>┃<span style=\"font-weight: bold\">         Param # </span>┃\n",
              "┡━━━━━━━━━━━━━━━━━━━━━━━━━━━━━━━━━━━━━━╇━━━━━━━━━━━━━━━━━━━━━━━━━━━━━╇━━━━━━━━━━━━━━━━━┩\n",
              "│ input_layer_2 (<span style=\"color: #0087ff; text-decoration-color: #0087ff\">InputLayer</span>)           │ (<span style=\"color: #00d7ff; text-decoration-color: #00d7ff\">None</span>, <span style=\"color: #00af00; text-decoration-color: #00af00\">1</span>)                   │               <span style=\"color: #00af00; text-decoration-color: #00af00\">0</span> │\n",
              "├──────────────────────────────────────┼─────────────────────────────┼─────────────────┤\n",
              "│ text_vectorization_1                 │ (<span style=\"color: #00d7ff; text-decoration-color: #00d7ff\">None</span>, <span style=\"color: #00af00; text-decoration-color: #00af00\">15</span>)                  │               <span style=\"color: #00af00; text-decoration-color: #00af00\">0</span> │\n",
              "│ (<span style=\"color: #0087ff; text-decoration-color: #0087ff\">TextVectorization</span>)                  │                             │                 │\n",
              "├──────────────────────────────────────┼─────────────────────────────┼─────────────────┤\n",
              "│ embedding (<span style=\"color: #0087ff; text-decoration-color: #0087ff\">Embedding</span>)                │ (<span style=\"color: #00d7ff; text-decoration-color: #00d7ff\">None</span>, <span style=\"color: #00af00; text-decoration-color: #00af00\">15</span>, <span style=\"color: #00af00; text-decoration-color: #00af00\">128</span>)             │       <span style=\"color: #00af00; text-decoration-color: #00af00\">1,280,000</span> │\n",
              "├──────────────────────────────────────┼─────────────────────────────┼─────────────────┤\n",
              "│ gru (<span style=\"color: #0087ff; text-decoration-color: #0087ff\">GRU</span>)                            │ (<span style=\"color: #00d7ff; text-decoration-color: #00d7ff\">None</span>, <span style=\"color: #00af00; text-decoration-color: #00af00\">15</span>, <span style=\"color: #00af00; text-decoration-color: #00af00\">64</span>)              │          <span style=\"color: #00af00; text-decoration-color: #00af00\">37,248</span> │\n",
              "├──────────────────────────────────────┼─────────────────────────────┼─────────────────┤\n",
              "│ lstm_1 (<span style=\"color: #0087ff; text-decoration-color: #0087ff\">LSTM</span>)                        │ (<span style=\"color: #00d7ff; text-decoration-color: #00d7ff\">None</span>, <span style=\"color: #00af00; text-decoration-color: #00af00\">15</span>, <span style=\"color: #00af00; text-decoration-color: #00af00\">42</span>)              │          <span style=\"color: #00af00; text-decoration-color: #00af00\">17,976</span> │\n",
              "├──────────────────────────────────────┼─────────────────────────────┼─────────────────┤\n",
              "│ gru_1 (<span style=\"color: #0087ff; text-decoration-color: #0087ff\">GRU</span>)                          │ (<span style=\"color: #00d7ff; text-decoration-color: #00d7ff\">None</span>, <span style=\"color: #00af00; text-decoration-color: #00af00\">99</span>)                  │          <span style=\"color: #00af00; text-decoration-color: #00af00\">42,471</span> │\n",
              "├──────────────────────────────────────┼─────────────────────────────┼─────────────────┤\n",
              "│ dense_2 (<span style=\"color: #0087ff; text-decoration-color: #0087ff\">Dense</span>)                      │ (<span style=\"color: #00d7ff; text-decoration-color: #00d7ff\">None</span>, <span style=\"color: #00af00; text-decoration-color: #00af00\">64</span>)                  │           <span style=\"color: #00af00; text-decoration-color: #00af00\">6,400</span> │\n",
              "├──────────────────────────────────────┼─────────────────────────────┼─────────────────┤\n",
              "│ dense_3 (<span style=\"color: #0087ff; text-decoration-color: #0087ff\">Dense</span>)                      │ (<span style=\"color: #00d7ff; text-decoration-color: #00d7ff\">None</span>, <span style=\"color: #00af00; text-decoration-color: #00af00\">1</span>)                   │              <span style=\"color: #00af00; text-decoration-color: #00af00\">65</span> │\n",
              "└──────────────────────────────────────┴─────────────────────────────┴─────────────────┘\n",
              "</pre>\n"
            ]
          },
          "metadata": {}
        },
        {
          "output_type": "display_data",
          "data": {
            "text/plain": [
              "\u001b[1m Total params: \u001b[0m\u001b[38;5;34m4,152,482\u001b[0m (15.84 MB)\n"
            ],
            "text/html": [
              "<pre style=\"white-space:pre;overflow-x:auto;line-height:normal;font-family:Menlo,'DejaVu Sans Mono',consolas,'Courier New',monospace\"><span style=\"font-weight: bold\"> Total params: </span><span style=\"color: #00af00; text-decoration-color: #00af00\">4,152,482</span> (15.84 MB)\n",
              "</pre>\n"
            ]
          },
          "metadata": {}
        },
        {
          "output_type": "display_data",
          "data": {
            "text/plain": [
              "\u001b[1m Trainable params: \u001b[0m\u001b[38;5;34m1,384,160\u001b[0m (5.28 MB)\n"
            ],
            "text/html": [
              "<pre style=\"white-space:pre;overflow-x:auto;line-height:normal;font-family:Menlo,'DejaVu Sans Mono',consolas,'Courier New',monospace\"><span style=\"font-weight: bold\"> Trainable params: </span><span style=\"color: #00af00; text-decoration-color: #00af00\">1,384,160</span> (5.28 MB)\n",
              "</pre>\n"
            ]
          },
          "metadata": {}
        },
        {
          "output_type": "display_data",
          "data": {
            "text/plain": [
              "\u001b[1m Non-trainable params: \u001b[0m\u001b[38;5;34m0\u001b[0m (0.00 B)\n"
            ],
            "text/html": [
              "<pre style=\"white-space:pre;overflow-x:auto;line-height:normal;font-family:Menlo,'DejaVu Sans Mono',consolas,'Courier New',monospace\"><span style=\"font-weight: bold\"> Non-trainable params: </span><span style=\"color: #00af00; text-decoration-color: #00af00\">0</span> (0.00 B)\n",
              "</pre>\n"
            ]
          },
          "metadata": {}
        },
        {
          "output_type": "display_data",
          "data": {
            "text/plain": [
              "\u001b[1m Optimizer params: \u001b[0m\u001b[38;5;34m2,768,322\u001b[0m (10.56 MB)\n"
            ],
            "text/html": [
              "<pre style=\"white-space:pre;overflow-x:auto;line-height:normal;font-family:Menlo,'DejaVu Sans Mono',consolas,'Courier New',monospace\"><span style=\"font-weight: bold\"> Optimizer params: </span><span style=\"color: #00af00; text-decoration-color: #00af00\">2,768,322</span> (10.56 MB)\n",
              "</pre>\n"
            ]
          },
          "metadata": {}
        }
      ]
    },
    {
      "cell_type": "code",
      "source": [
        "model_3_pred_GRU = model_3.predict(val_sentences)\n",
        "model_3_pred_GRU[:10]"
      ],
      "metadata": {
        "id": "IxNJ1ewMPVE_",
        "colab": {
          "base_uri": "https://localhost:8080/"
        },
        "outputId": "8068052b-e3c1-4b89-8e60-bc003f316e89"
      },
      "execution_count": null,
      "outputs": [
        {
          "output_type": "stream",
          "name": "stdout",
          "text": [
            "\u001b[1m24/24\u001b[0m \u001b[32m━━━━━━━━━━━━━━━━━━━━\u001b[0m\u001b[37m\u001b[0m \u001b[1m2s\u001b[0m 37ms/step\n"
          ]
        },
        {
          "output_type": "execute_result",
          "data": {
            "text/plain": [
              "array([[5.8825117e-05],\n",
              "       [4.1207131e-03],\n",
              "       [9.9978071e-01],\n",
              "       [9.9990278e-01],\n",
              "       [3.0758340e-05],\n",
              "       [1.2034756e-05],\n",
              "       [9.9955952e-01],\n",
              "       [9.9989343e-01],\n",
              "       [3.6441477e-05],\n",
              "       [4.4033168e-05]], dtype=float32)"
            ]
          },
          "metadata": {},
          "execution_count": 70
        }
      ]
    },
    {
      "cell_type": "code",
      "source": [
        "model_3_preds = tf.squeeze(tf.round(model_3_pred_GRU))\n",
        "model_3_preds"
      ],
      "metadata": {
        "id": "Ja_ij0jBQBSI",
        "colab": {
          "base_uri": "https://localhost:8080/"
        },
        "outputId": "ede031c4-2d7d-45af-f434-92fb222b6571"
      },
      "execution_count": null,
      "outputs": [
        {
          "output_type": "execute_result",
          "data": {
            "text/plain": [
              "<tf.Tensor: shape=(761,), dtype=float32, numpy=\n",
              "array([0., 0., 1., 1., 0., 0., 1., 1., 0., 0., 0., 0., 0., 0., 1., 0., 0.,\n",
              "       0., 0., 0., 0., 0., 0., 1., 0., 1., 0., 0., 0., 0., 0., 0., 0., 0.,\n",
              "       0., 0., 1., 0., 1., 0., 1., 0., 0., 0., 1., 1., 0., 0., 0., 1., 0.,\n",
              "       0., 0., 0., 0., 1., 0., 0., 0., 1., 1., 0., 0., 1., 0., 1., 0., 0.,\n",
              "       0., 0., 1., 0., 0., 1., 0., 0., 0., 0., 0., 0., 0., 1., 0., 0., 1.,\n",
              "       0., 0., 0., 0., 0., 1., 0., 0., 0., 0., 0., 1., 0., 0., 0., 0., 1.,\n",
              "       0., 0., 1., 1., 0., 0., 0., 0., 0., 0., 0., 1., 0., 1., 0., 1., 0.,\n",
              "       0., 1., 1., 0., 0., 1., 0., 1., 0., 0., 1., 0., 0., 0., 0., 1., 0.,\n",
              "       0., 0., 1., 1., 0., 0., 0., 1., 0., 0., 0., 0., 1., 0., 0., 0., 1.,\n",
              "       0., 0., 0., 1., 0., 0., 0., 1., 1., 0., 0., 0., 1., 1., 1., 0., 1.,\n",
              "       1., 1., 0., 0., 0., 0., 1., 1., 0., 0., 1., 0., 0., 0., 1., 0., 1.,\n",
              "       1., 0., 0., 1., 0., 0., 0., 1., 1., 1., 1., 1., 1., 0., 0., 0., 0.,\n",
              "       0., 1., 1., 0., 0., 0., 0., 1., 0., 1., 0., 0., 0., 0., 1., 0., 1.,\n",
              "       0., 1., 0., 1., 0., 0., 0., 0., 0., 1., 1., 1., 0., 1., 1., 0., 0.,\n",
              "       0., 0., 1., 0., 0., 1., 0., 1., 1., 1., 1., 0., 0., 0., 1., 1., 1.,\n",
              "       0., 0., 1., 0., 0., 1., 0., 1., 0., 0., 1., 1., 0., 0., 1., 0., 0.,\n",
              "       1., 1., 0., 0., 0., 0., 0., 1., 1., 0., 0., 1., 0., 0., 0., 0., 0.,\n",
              "       1., 0., 1., 1., 0., 0., 0., 0., 1., 1., 1., 1., 0., 0., 1., 1., 0.,\n",
              "       1., 1., 1., 0., 1., 0., 1., 0., 0., 0., 0., 1., 0., 1., 1., 0., 0.,\n",
              "       0., 0., 0., 0., 1., 0., 1., 0., 0., 1., 1., 0., 0., 0., 0., 1., 0.,\n",
              "       0., 0., 1., 1., 1., 0., 0., 1., 0., 0., 0., 0., 1., 0., 0., 0., 0.,\n",
              "       0., 0., 0., 1., 0., 0., 0., 0., 0., 0., 0., 1., 0., 1., 1., 0., 0.,\n",
              "       0., 0., 0., 0., 0., 1., 1., 0., 1., 1., 0., 1., 0., 0., 1., 1., 0.,\n",
              "       0., 1., 1., 0., 1., 0., 1., 0., 0., 0., 1., 0., 1., 0., 0., 0., 1.,\n",
              "       0., 1., 1., 1., 0., 0., 0., 1., 1., 1., 1., 0., 1., 0., 0., 0., 0.,\n",
              "       0., 0., 0., 1., 0., 1., 1., 0., 1., 1., 0., 0., 0., 1., 0., 0., 0.,\n",
              "       1., 0., 0., 0., 0., 0., 0., 1., 0., 1., 0., 0., 0., 0., 0., 1., 0.,\n",
              "       1., 1., 1., 0., 1., 0., 0., 0., 0., 0., 0., 0., 0., 1., 0., 0., 1.,\n",
              "       1., 1., 0., 0., 0., 1., 1., 0., 1., 0., 0., 0., 1., 0., 1., 0., 0.,\n",
              "       0., 0., 1., 0., 0., 1., 1., 0., 0., 1., 0., 0., 0., 0., 1., 0., 0.,\n",
              "       0., 1., 1., 0., 1., 0., 1., 0., 1., 1., 0., 1., 0., 0., 0., 0., 0.,\n",
              "       0., 1., 1., 0., 0., 1., 1., 0., 0., 0., 0., 1., 0., 0., 0., 0., 1.,\n",
              "       1., 0., 0., 0., 0., 1., 0., 1., 1., 0., 1., 0., 1., 1., 0., 0., 1.,\n",
              "       0., 0., 0., 0., 0., 1., 1., 0., 0., 1., 0., 0., 1., 0., 1., 1., 0.,\n",
              "       0., 0., 0., 0., 1., 1., 0., 1., 1., 0., 0., 0., 0., 0., 0., 1., 1.,\n",
              "       0., 0., 0., 0., 1., 1., 1., 0., 1., 0., 0., 0., 1., 1., 1., 0., 1.,\n",
              "       0., 0., 0., 0., 0., 0., 0., 0., 0., 0., 0., 0., 0., 1., 0., 0., 1.,\n",
              "       0., 0., 1., 1., 0., 1., 0., 1., 0., 1., 0., 0., 1., 1., 1., 1., 1.,\n",
              "       0., 1., 0., 0., 1., 1., 1., 0., 0., 1., 1., 0., 0., 0., 1., 0., 1.,\n",
              "       0., 0., 1., 1., 1., 0., 0., 1., 0., 0., 0., 1., 0., 1., 0., 0., 0.,\n",
              "       0., 0., 0., 1., 0., 1., 0., 0., 1., 1., 0., 1., 0., 0., 1., 1., 0.,\n",
              "       0., 0., 0., 0., 1., 1., 1., 1., 0., 1., 1., 1., 0., 0., 0., 1., 0.,\n",
              "       1., 0., 0., 1., 1., 0., 0., 0., 1., 1., 1., 1., 0., 0., 0., 0., 1.,\n",
              "       0., 1., 0., 0., 1., 0., 0., 1., 0., 1., 1., 0., 0., 1., 0., 1., 0.,\n",
              "       1., 0., 0., 1., 1., 0., 1., 0., 1., 0., 0., 0., 0.], dtype=float32)>"
            ]
          },
          "metadata": {},
          "execution_count": 71
        }
      ]
    },
    {
      "cell_type": "code",
      "source": [
        "model_3_results = calculate_results_advanced(y_true = val_labels, y_pred = model_3_preds)\n",
        "model_3_results"
      ],
      "metadata": {
        "id": "chd4GMIiQPuS",
        "colab": {
          "base_uri": "https://localhost:8080/"
        },
        "outputId": "a03b7ce5-c897-45c8-fcf6-b96d8a2f5c3c"
      },
      "execution_count": null,
      "outputs": [
        {
          "output_type": "execute_result",
          "data": {
            "text/plain": [
              "{'accuracy': 76.34691195795007,\n",
              " 'precision': 0.7614595973462698,\n",
              " 'recall': 0.7634691195795007,\n",
              " 'f1': 0.7612338443581166}"
            ]
          },
          "metadata": {},
          "execution_count": 72
        }
      ]
    },
    {
      "cell_type": "markdown",
      "source": [
        "##Model 4 : Bidirectional Model\n",
        "\n",
        "the representation(normally left to right) is done in both the ways (now both right to left and left to right)"
      ],
      "metadata": {
        "id": "NYvoM9V3S_no"
      }
    },
    {
      "cell_type": "code",
      "source": [
        "#Build a bidirectional Model\n",
        "\n",
        "from tensorflow.keras import layers\n",
        "\n",
        "inputs = layers.Input(shape= (1,), dtype = \"string\")\n",
        "x= text_vectorizer(inputs)\n",
        "x= embedding(x)\n",
        "# x= layers.Bidirectional(layers.LSTM(64, return_sequences = True))(x)\n",
        "# x= layers.Bidirectional(layers.GRU(64), return_sequences = True)(x)\n",
        "x= layers.Bidirectional(layers.LSTM(64))(x)\n",
        "# x= layers.Dense(64, activation = \"relu\")(x)\n",
        "outputs= layers.Dense(1, activation = \"sigmoid\")(x)\n",
        "\n",
        "model_4 = tf.keras.Model(inputs,outputs, name= \"model_4_bidirectional\")\n"
      ],
      "metadata": {
        "id": "XkKftHCoVoIC"
      },
      "execution_count": null,
      "outputs": []
    },
    {
      "cell_type": "code",
      "source": [
        "model_4.compile(loss = \"binary_crossentropy\",\n",
        "                optimizer = tf.keras.optimizers.Adam(),\n",
        "                metrics = [\"accuracy\"])\n",
        "\n",
        "model_4.fit(train_sentences,\n",
        "\n",
        "            train_labels,\n",
        "            epochs = 5,\n",
        "            validation_data = (val_sentences, val_labels),\n",
        "            callbacks = [create_tensorboard_callback(SAVE_DIR, \"model_4_Bidirectional\")]\n",
        "\n",
        ")"
      ],
      "metadata": {
        "id": "4JZDEF7ReEC2",
        "colab": {
          "base_uri": "https://localhost:8080/"
        },
        "outputId": "605f2814-d9dc-494c-d8a8-289138a3f4b5"
      },
      "execution_count": null,
      "outputs": [
        {
          "output_type": "stream",
          "name": "stdout",
          "text": [
            "Saving TensorBoard log files to: model_logs/model_4_Bidirectional/20240914-120547\n",
            "Epoch 1/5\n",
            "\u001b[1m215/215\u001b[0m \u001b[32m━━━━━━━━━━━━━━━━━━━━\u001b[0m\u001b[37m\u001b[0m \u001b[1m12s\u001b[0m 33ms/step - accuracy: 0.9439 - loss: 0.1990 - val_accuracy: 0.7569 - val_loss: 0.9426\n",
            "Epoch 2/5\n",
            "\u001b[1m215/215\u001b[0m \u001b[32m━━━━━━━━━━━━━━━━━━━━\u001b[0m\u001b[37m\u001b[0m \u001b[1m8s\u001b[0m 39ms/step - accuracy: 0.9750 - loss: 0.0586 - val_accuracy: 0.7727 - val_loss: 1.3148\n",
            "Epoch 3/5\n",
            "\u001b[1m215/215\u001b[0m \u001b[32m━━━━━━━━━━━━━━━━━━━━\u001b[0m\u001b[37m\u001b[0m \u001b[1m9s\u001b[0m 35ms/step - accuracy: 0.9780 - loss: 0.0461 - val_accuracy: 0.7438 - val_loss: 1.4464\n",
            "Epoch 4/5\n",
            "\u001b[1m215/215\u001b[0m \u001b[32m━━━━━━━━━━━━━━━━━━━━\u001b[0m\u001b[37m\u001b[0m \u001b[1m10s\u001b[0m 32ms/step - accuracy: 0.9821 - loss: 0.0397 - val_accuracy: 0.7503 - val_loss: 1.4380\n",
            "Epoch 5/5\n",
            "\u001b[1m215/215\u001b[0m \u001b[32m━━━━━━━━━━━━━━━━━━━━\u001b[0m\u001b[37m\u001b[0m \u001b[1m10s\u001b[0m 32ms/step - accuracy: 0.9806 - loss: 0.0409 - val_accuracy: 0.7569 - val_loss: 1.4497\n"
          ]
        },
        {
          "output_type": "execute_result",
          "data": {
            "text/plain": [
              "<keras.src.callbacks.history.History at 0x7868b54b6c50>"
            ]
          },
          "metadata": {},
          "execution_count": 74
        }
      ]
    },
    {
      "cell_type": "code",
      "source": [
        "model_4_preds = model_4.predict(val_sentences)\n",
        "model_4_preds"
      ],
      "metadata": {
        "id": "lzBDhxOGd2_h",
        "colab": {
          "base_uri": "https://localhost:8080/"
        },
        "outputId": "22aaa0d3-964d-4744-954a-7733f5197360"
      },
      "execution_count": null,
      "outputs": [
        {
          "output_type": "stream",
          "name": "stdout",
          "text": [
            "\u001b[1m24/24\u001b[0m \u001b[32m━━━━━━━━━━━━━━━━━━━━\u001b[0m\u001b[37m\u001b[0m \u001b[1m1s\u001b[0m 25ms/step\n"
          ]
        },
        {
          "output_type": "execute_result",
          "data": {
            "text/plain": [
              "array([[6.22412073e-04],\n",
              "       [2.78369822e-02],\n",
              "       [9.99915361e-01],\n",
              "       [9.99978602e-01],\n",
              "       [8.32816440e-05],\n",
              "       [3.26884983e-05],\n",
              "       [9.99977350e-01],\n",
              "       [9.99975622e-01],\n",
              "       [3.97480530e-04],\n",
              "       [1.63708557e-03],\n",
              "       [4.44459292e-05],\n",
              "       [1.19550336e-04],\n",
              "       [3.58215779e-01],\n",
              "       [7.48929456e-02],\n",
              "       [7.26900876e-01],\n",
              "       [3.51759970e-01],\n",
              "       [2.27282697e-04],\n",
              "       [1.70202315e-04],\n",
              "       [1.26050282e-02],\n",
              "       [5.22615016e-01],\n",
              "       [3.13059002e-01],\n",
              "       [1.29993277e-05],\n",
              "       [3.75762224e-01],\n",
              "       [9.99984205e-01],\n",
              "       [2.89771031e-03],\n",
              "       [9.99948263e-01],\n",
              "       [3.06555897e-01],\n",
              "       [9.38108133e-05],\n",
              "       [2.64212402e-04],\n",
              "       [2.41235476e-02],\n",
              "       [2.38967172e-04],\n",
              "       [1.93534695e-04],\n",
              "       [8.27075215e-04],\n",
              "       [1.62616387e-01],\n",
              "       [3.84939939e-01],\n",
              "       [2.63929274e-03],\n",
              "       [5.93156099e-01],\n",
              "       [2.80935565e-05],\n",
              "       [9.99981642e-01],\n",
              "       [1.51258113e-03],\n",
              "       [9.69061017e-01],\n",
              "       [2.59459927e-03],\n",
              "       [9.86030221e-01],\n",
              "       [4.45137412e-04],\n",
              "       [9.99648571e-01],\n",
              "       [9.99937117e-01],\n",
              "       [2.41124275e-04],\n",
              "       [4.21063487e-05],\n",
              "       [5.05366537e-04],\n",
              "       [9.98354554e-01],\n",
              "       [3.73176575e-01],\n",
              "       [1.36267990e-04],\n",
              "       [4.67023030e-02],\n",
              "       [1.76042377e-03],\n",
              "       [2.76517458e-05],\n",
              "       [9.99980152e-01],\n",
              "       [5.12993574e-05],\n",
              "       [3.08142183e-03],\n",
              "       [3.50396091e-04],\n",
              "       [9.95841920e-01],\n",
              "       [9.99989927e-01],\n",
              "       [3.40081781e-01],\n",
              "       [5.18681593e-02],\n",
              "       [9.79075909e-01],\n",
              "       [8.81867670e-03],\n",
              "       [9.99940991e-01],\n",
              "       [3.75762224e-01],\n",
              "       [7.47134502e-04],\n",
              "       [5.95410413e-04],\n",
              "       [5.12600382e-05],\n",
              "       [9.99988019e-01],\n",
              "       [7.97070854e-04],\n",
              "       [2.41926372e-01],\n",
              "       [8.64675999e-01],\n",
              "       [4.36000380e-04],\n",
              "       [5.95288220e-05],\n",
              "       [1.54421655e-02],\n",
              "       [4.40894365e-01],\n",
              "       [8.51621153e-05],\n",
              "       [8.74143094e-02],\n",
              "       [7.65111326e-05],\n",
              "       [9.31525230e-01],\n",
              "       [7.65872188e-04],\n",
              "       [8.59539141e-04],\n",
              "       [1.13696894e-02],\n",
              "       [2.66005645e-05],\n",
              "       [1.26393363e-01],\n",
              "       [4.60991776e-03],\n",
              "       [3.29141803e-05],\n",
              "       [4.22876239e-01],\n",
              "       [9.99716520e-01],\n",
              "       [4.32451535e-03],\n",
              "       [3.77700198e-05],\n",
              "       [3.54925978e-05],\n",
              "       [6.71499947e-05],\n",
              "       [1.09793827e-01],\n",
              "       [9.99938130e-01],\n",
              "       [3.20119262e-01],\n",
              "       [8.74265970e-05],\n",
              "       [9.04151380e-01],\n",
              "       [6.02209754e-03],\n",
              "       [9.99773860e-01],\n",
              "       [4.78622084e-03],\n",
              "       [9.65313427e-03],\n",
              "       [9.99933243e-01],\n",
              "       [9.99227583e-01],\n",
              "       [9.03575565e-05],\n",
              "       [4.44192177e-04],\n",
              "       [1.11873385e-04],\n",
              "       [9.94339585e-01],\n",
              "       [5.20540215e-03],\n",
              "       [1.71448320e-01],\n",
              "       [3.93648806e-04],\n",
              "       [9.99956608e-01],\n",
              "       [1.07014028e-03],\n",
              "       [9.99876380e-01],\n",
              "       [6.13097509e-05],\n",
              "       [9.99960482e-01],\n",
              "       [5.48110729e-05],\n",
              "       [1.02356344e-03],\n",
              "       [9.99972641e-01],\n",
              "       [9.98806775e-01],\n",
              "       [2.55139032e-03],\n",
              "       [7.27253919e-03],\n",
              "       [9.89342213e-01],\n",
              "       [4.61844720e-05],\n",
              "       [9.99986708e-01],\n",
              "       [1.51562039e-03],\n",
              "       [8.18787739e-05],\n",
              "       [9.99610245e-01],\n",
              "       [4.32817178e-04],\n",
              "       [9.96057689e-03],\n",
              "       [4.35195179e-05],\n",
              "       [2.19900208e-03],\n",
              "       [9.99980211e-01],\n",
              "       [1.77653754e-04],\n",
              "       [8.00563546e-04],\n",
              "       [3.43739334e-03],\n",
              "       [9.99797821e-01],\n",
              "       [9.99980032e-01],\n",
              "       [2.54780889e-01],\n",
              "       [5.23122959e-04],\n",
              "       [2.57978141e-02],\n",
              "       [9.99080479e-01],\n",
              "       [2.08526864e-04],\n",
              "       [2.02835500e-02],\n",
              "       [3.63937841e-04],\n",
              "       [5.99553023e-05],\n",
              "       [9.99990940e-01],\n",
              "       [1.96719896e-02],\n",
              "       [2.16568517e-03],\n",
              "       [4.15402830e-01],\n",
              "       [9.99966800e-01],\n",
              "       [3.80537203e-05],\n",
              "       [3.15168800e-05],\n",
              "       [3.73607676e-04],\n",
              "       [9.99949872e-01],\n",
              "       [3.36601697e-05],\n",
              "       [3.05193316e-05],\n",
              "       [2.14339234e-03],\n",
              "       [9.99984324e-01],\n",
              "       [9.99971032e-01],\n",
              "       [2.01275828e-03],\n",
              "       [2.58022249e-01],\n",
              "       [5.70158125e-04],\n",
              "       [9.99967396e-01],\n",
              "       [8.80811930e-01],\n",
              "       [9.99977648e-01],\n",
              "       [4.04665509e-04],\n",
              "       [9.99988556e-01],\n",
              "       [9.99515951e-01],\n",
              "       [8.26656699e-01],\n",
              "       [2.95292237e-03],\n",
              "       [3.40955994e-05],\n",
              "       [3.07882414e-03],\n",
              "       [2.71605077e-05],\n",
              "       [9.82207596e-01],\n",
              "       [9.99985278e-01],\n",
              "       [3.98115776e-02],\n",
              "       [1.77075504e-03],\n",
              "       [9.99976158e-01],\n",
              "       [7.49865721e-04],\n",
              "       [3.75762224e-01],\n",
              "       [2.09552181e-05],\n",
              "       [9.99985158e-01],\n",
              "       [2.32498068e-02],\n",
              "       [9.99970257e-01],\n",
              "       [9.99141395e-01],\n",
              "       [8.51405130e-05],\n",
              "       [7.17139046e-05],\n",
              "       [9.46655571e-01],\n",
              "       [2.91740580e-04],\n",
              "       [9.99585748e-01],\n",
              "       [6.77406462e-03],\n",
              "       [9.99495745e-01],\n",
              "       [2.42216066e-02],\n",
              "       [9.99953032e-01],\n",
              "       [7.47461200e-01],\n",
              "       [9.99703109e-01],\n",
              "       [9.99215007e-01],\n",
              "       [2.21893551e-05],\n",
              "       [2.58915679e-04],\n",
              "       [7.28866202e-04],\n",
              "       [3.57868612e-01],\n",
              "       [2.87333071e-01],\n",
              "       [9.96536255e-01],\n",
              "       [9.99446571e-01],\n",
              "       [6.91695750e-05],\n",
              "       [4.96420944e-05],\n",
              "       [3.96365707e-04],\n",
              "       [2.49687210e-01],\n",
              "       [1.66924730e-01],\n",
              "       [7.83709288e-01],\n",
              "       [9.99638975e-01],\n",
              "       [1.54231995e-04],\n",
              "       [4.15554932e-05],\n",
              "       [9.88312415e-04],\n",
              "       [2.46849015e-01],\n",
              "       [9.99954581e-01],\n",
              "       [4.46070218e-04],\n",
              "       [9.99944091e-01],\n",
              "       [2.26390630e-01],\n",
              "       [9.98589694e-01],\n",
              "       [7.87337543e-04],\n",
              "       [9.99627948e-01],\n",
              "       [6.37805045e-01],\n",
              "       [5.42507078e-05],\n",
              "       [2.05146334e-05],\n",
              "       [4.25531689e-05],\n",
              "       [2.43296521e-03],\n",
              "       [7.58853614e-01],\n",
              "       [9.99972105e-01],\n",
              "       [9.99974132e-01],\n",
              "       [5.30649500e-04],\n",
              "       [9.99986589e-01],\n",
              "       [9.99976099e-01],\n",
              "       [7.17890944e-05],\n",
              "       [4.65353696e-05],\n",
              "       [1.18608914e-04],\n",
              "       [1.03526247e-04],\n",
              "       [2.55660295e-01],\n",
              "       [2.85962620e-03],\n",
              "       [1.02504440e-04],\n",
              "       [9.99991000e-01],\n",
              "       [2.17872746e-02],\n",
              "       [9.99939382e-01],\n",
              "       [9.99986053e-01],\n",
              "       [9.99920309e-01],\n",
              "       [9.99967635e-01],\n",
              "       [2.81231478e-04],\n",
              "       [4.28832501e-01],\n",
              "       [5.97499384e-05],\n",
              "       [9.99620497e-01],\n",
              "       [9.65483487e-01],\n",
              "       [9.99975324e-01],\n",
              "       [9.88112837e-02],\n",
              "       [3.22236738e-04],\n",
              "       [7.57023215e-01],\n",
              "       [1.05890830e-03],\n",
              "       [7.77099550e-01],\n",
              "       [9.99942899e-01],\n",
              "       [5.54631829e-01],\n",
              "       [1.54464506e-02],\n",
              "       [1.12018827e-03],\n",
              "       [8.81244079e-04],\n",
              "       [9.99983072e-01],\n",
              "       [9.99934852e-01],\n",
              "       [3.93188834e-01],\n",
              "       [7.62218770e-05],\n",
              "       [9.99877691e-01],\n",
              "       [3.98264761e-04],\n",
              "       [2.81006873e-01],\n",
              "       [9.99963880e-01],\n",
              "       [9.99979973e-01],\n",
              "       [8.77338287e-04],\n",
              "       [6.39850332e-05],\n",
              "       [6.81145000e-04],\n",
              "       [2.61190784e-04],\n",
              "       [1.29289538e-01],\n",
              "       [9.99986887e-01],\n",
              "       [3.80313732e-02],\n",
              "       [7.02655222e-03],\n",
              "       [8.44558924e-02],\n",
              "       [9.99978483e-01],\n",
              "       [1.21022378e-04],\n",
              "       [2.27238378e-03],\n",
              "       [9.42516781e-04],\n",
              "       [8.01906936e-05],\n",
              "       [5.58401108e-01],\n",
              "       [9.99972939e-01],\n",
              "       [2.69616842e-01],\n",
              "       [9.99978602e-01],\n",
              "       [9.99928057e-01],\n",
              "       [1.25241000e-04],\n",
              "       [3.22357677e-02],\n",
              "       [9.19982135e-01],\n",
              "       [3.36237455e-04],\n",
              "       [9.99977410e-01],\n",
              "       [9.95706379e-01],\n",
              "       [9.99976039e-01],\n",
              "       [9.99974549e-01],\n",
              "       [6.26812543e-05],\n",
              "       [6.79161385e-05],\n",
              "       [9.99986589e-01],\n",
              "       [9.85022008e-01],\n",
              "       [1.54964242e-03],\n",
              "       [9.99925613e-01],\n",
              "       [9.99976635e-01],\n",
              "       [9.14416671e-01],\n",
              "       [6.56406512e-04],\n",
              "       [6.15220308e-01],\n",
              "       [2.52525759e-04],\n",
              "       [9.99334633e-01],\n",
              "       [3.00954125e-04],\n",
              "       [1.00129552e-03],\n",
              "       [9.53986659e-04],\n",
              "       [4.93762142e-04],\n",
              "       [9.99561727e-01],\n",
              "       [3.30264807e-01],\n",
              "       [9.99971747e-01],\n",
              "       [9.98449564e-01],\n",
              "       [1.57998991e-04],\n",
              "       [7.81375682e-04],\n",
              "       [8.86541529e-05],\n",
              "       [3.69368317e-05],\n",
              "       [6.09838971e-05],\n",
              "       [3.92660081e-01],\n",
              "       [9.98912573e-01],\n",
              "       [3.82985943e-03],\n",
              "       [9.99978244e-01],\n",
              "       [1.59918517e-03],\n",
              "       [3.85570914e-01],\n",
              "       [9.68623579e-01],\n",
              "       [9.99976039e-01],\n",
              "       [4.50843945e-04],\n",
              "       [7.88049074e-04],\n",
              "       [3.75351461e-04],\n",
              "       [2.50341773e-01],\n",
              "       [1.80417597e-01],\n",
              "       [4.92341705e-02],\n",
              "       [1.40516125e-02],\n",
              "       [1.15011018e-04],\n",
              "       [2.12802306e-01],\n",
              "       [9.99989450e-01],\n",
              "       [9.92288888e-01],\n",
              "       [3.41521896e-04],\n",
              "       [1.96568741e-04],\n",
              "       [9.91279662e-01],\n",
              "       [1.81723852e-02],\n",
              "       [5.76479221e-03],\n",
              "       [3.03482381e-03],\n",
              "       [7.04532576e-05],\n",
              "       [9.99528408e-01],\n",
              "       [4.19798365e-04],\n",
              "       [6.53508492e-03],\n",
              "       [1.66605935e-02],\n",
              "       [5.62091246e-02],\n",
              "       [9.57774231e-04],\n",
              "       [1.95031869e-04],\n",
              "       [2.60483295e-01],\n",
              "       [9.95760441e-01],\n",
              "       [8.66750896e-01],\n",
              "       [7.01000099e-04],\n",
              "       [1.93957007e-04],\n",
              "       [3.91160283e-05],\n",
              "       [1.11328416e-04],\n",
              "       [1.91173941e-01],\n",
              "       [1.30250165e-03],\n",
              "       [8.67346287e-01],\n",
              "       [4.10591453e-01],\n",
              "       [9.99924481e-01],\n",
              "       [9.99789238e-01],\n",
              "       [4.38691163e-03],\n",
              "       [8.27960321e-04],\n",
              "       [2.03649852e-05],\n",
              "       [1.21567944e-04],\n",
              "       [1.48477848e-04],\n",
              "       [5.21749826e-05],\n",
              "       [2.27103901e-05],\n",
              "       [9.99987483e-01],\n",
              "       [9.99976933e-01],\n",
              "       [2.14094645e-03],\n",
              "       [9.99976099e-01],\n",
              "       [9.99988079e-01],\n",
              "       [6.92797959e-01],\n",
              "       [9.99782801e-01],\n",
              "       [6.67479704e-04],\n",
              "       [8.63944821e-04],\n",
              "       [9.92062688e-01],\n",
              "       [9.99505877e-01],\n",
              "       [4.89130216e-05],\n",
              "       [6.90175235e-01],\n",
              "       [9.99990761e-01],\n",
              "       [9.98036087e-01],\n",
              "       [3.75224117e-05],\n",
              "       [9.99083042e-01],\n",
              "       [7.34493660e-05],\n",
              "       [9.99846756e-01],\n",
              "       [1.84133332e-05],\n",
              "       [8.18498374e-04],\n",
              "       [9.50334434e-05],\n",
              "       [9.99989450e-01],\n",
              "       [1.74162149e-01],\n",
              "       [9.99937654e-01],\n",
              "       [6.04021152e-05],\n",
              "       [1.11609967e-02],\n",
              "       [1.85107559e-01],\n",
              "       [9.99919772e-01],\n",
              "       [3.21938396e-01],\n",
              "       [9.99955833e-01],\n",
              "       [9.11898795e-04],\n",
              "       [9.99986053e-01],\n",
              "       [1.21156321e-04],\n",
              "       [4.32479537e-05],\n",
              "       [2.76875799e-04],\n",
              "       [9.99826014e-01],\n",
              "       [9.99981463e-01],\n",
              "       [8.04744363e-01],\n",
              "       [6.48540854e-01],\n",
              "       [1.52872980e-03],\n",
              "       [8.26031387e-01],\n",
              "       [5.10094978e-05],\n",
              "       [3.93653812e-04],\n",
              "       [1.96365843e-04],\n",
              "       [1.16003612e-04],\n",
              "       [1.18637201e-03],\n",
              "       [1.91217601e-01],\n",
              "       [6.47143602e-01],\n",
              "       [9.80496824e-01],\n",
              "       [1.19343618e-04],\n",
              "       [9.99942839e-01],\n",
              "       [3.62690300e-01],\n",
              "       [3.47006947e-01],\n",
              "       [9.99965131e-01],\n",
              "       [9.97644007e-01],\n",
              "       [9.32059705e-01],\n",
              "       [5.95473510e-04],\n",
              "       [3.88745320e-05],\n",
              "       [9.99914646e-01],\n",
              "       [1.07651087e-03],\n",
              "       [1.15431940e-04],\n",
              "       [1.90600124e-03],\n",
              "       [9.99942780e-01],\n",
              "       [1.09325605e-03],\n",
              "       [4.61960590e-05],\n",
              "       [3.07964598e-04],\n",
              "       [1.46653934e-03],\n",
              "       [1.39573787e-03],\n",
              "       [6.09124184e-01],\n",
              "       [3.06491286e-01],\n",
              "       [6.44380925e-04],\n",
              "       [9.99979377e-01],\n",
              "       [2.75890226e-03],\n",
              "       [8.08489713e-05],\n",
              "       [1.48414474e-04],\n",
              "       [6.29026908e-05],\n",
              "       [2.72829875e-05],\n",
              "       [9.99955893e-01],\n",
              "       [9.36510114e-05],\n",
              "       [9.99975324e-01],\n",
              "       [9.99978602e-01],\n",
              "       [8.65081847e-01],\n",
              "       [2.56510109e-01],\n",
              "       [9.99981701e-01],\n",
              "       [2.92191617e-05],\n",
              "       [9.95209754e-01],\n",
              "       [8.73738993e-03],\n",
              "       [9.89632535e-05],\n",
              "       [6.11514988e-05],\n",
              "       [3.22257285e-03],\n",
              "       [1.89047307e-01],\n",
              "       [6.60434525e-05],\n",
              "       [9.99969780e-01],\n",
              "       [1.27422187e-04],\n",
              "       [2.42703333e-01],\n",
              "       [9.73803163e-01],\n",
              "       [9.99957681e-01],\n",
              "       [9.99986887e-01],\n",
              "       [3.68944928e-03],\n",
              "       [3.05181129e-05],\n",
              "       [2.42015361e-04],\n",
              "       [9.99983251e-01],\n",
              "       [9.49650347e-01],\n",
              "       [6.61898521e-05],\n",
              "       [9.99796927e-01],\n",
              "       [1.34457732e-04],\n",
              "       [1.93863560e-03],\n",
              "       [3.03249896e-01],\n",
              "       [9.96918380e-01],\n",
              "       [1.01430574e-03],\n",
              "       [9.99974668e-01],\n",
              "       [4.61935888e-05],\n",
              "       [4.86654499e-05],\n",
              "       [2.71937370e-05],\n",
              "       [1.69743158e-04],\n",
              "       [9.73841846e-01],\n",
              "       [4.49812287e-05],\n",
              "       [7.52538675e-04],\n",
              "       [3.32264513e-01],\n",
              "       [9.99893248e-01],\n",
              "       [2.48514372e-03],\n",
              "       [5.47653973e-01],\n",
              "       [9.99857366e-01],\n",
              "       [3.51449678e-04],\n",
              "       [4.42948908e-01],\n",
              "       [1.74955014e-04],\n",
              "       [6.90953457e-04],\n",
              "       [9.99977767e-01],\n",
              "       [1.33129116e-03],\n",
              "       [2.94768193e-04],\n",
              "       [5.17274275e-05],\n",
              "       [9.99978065e-01],\n",
              "       [1.72431003e-02],\n",
              "       [6.83710864e-03],\n",
              "       [9.99841452e-01],\n",
              "       [7.23860576e-04],\n",
              "       [9.90211070e-01],\n",
              "       [8.42247158e-03],\n",
              "       [9.99982178e-01],\n",
              "       [9.99875844e-01],\n",
              "       [1.15965456e-02],\n",
              "       [9.99975324e-01],\n",
              "       [1.60931711e-04],\n",
              "       [2.01491144e-04],\n",
              "       [8.35438911e-03],\n",
              "       [3.87931323e-05],\n",
              "       [5.40935211e-02],\n",
              "       [3.20555759e-04],\n",
              "       [4.66792345e-01],\n",
              "       [9.99914825e-01],\n",
              "       [1.77624598e-02],\n",
              "       [7.70092374e-05],\n",
              "       [9.99424756e-01],\n",
              "       [8.82135808e-01],\n",
              "       [5.21642869e-05],\n",
              "       [3.04884762e-01],\n",
              "       [8.96634877e-01],\n",
              "       [3.20119262e-01],\n",
              "       [8.70974362e-01],\n",
              "       [7.71709502e-01],\n",
              "       [2.26571649e-01],\n",
              "       [8.16870772e-04],\n",
              "       [9.02674728e-05],\n",
              "       [9.99968112e-01],\n",
              "       [9.99981582e-01],\n",
              "       [3.25852889e-05],\n",
              "       [2.66323658e-03],\n",
              "       [9.19171260e-04],\n",
              "       [1.34225236e-04],\n",
              "       [4.17913705e-01],\n",
              "       [1.96122844e-02],\n",
              "       [9.99981403e-01],\n",
              "       [9.95488703e-01],\n",
              "       [1.63409510e-04],\n",
              "       [9.99446273e-01],\n",
              "       [2.16236133e-02],\n",
              "       [9.99978602e-01],\n",
              "       [9.99979615e-01],\n",
              "       [2.44255457e-03],\n",
              "       [3.88745320e-05],\n",
              "       [9.37660992e-01],\n",
              "       [4.64694798e-02],\n",
              "       [2.63234833e-04],\n",
              "       [7.34843270e-05],\n",
              "       [4.32665229e-01],\n",
              "       [9.54357907e-04],\n",
              "       [9.99981403e-01],\n",
              "       [9.98495340e-01],\n",
              "       [9.50058966e-05],\n",
              "       [5.80762062e-05],\n",
              "       [9.99965072e-01],\n",
              "       [1.23539142e-01],\n",
              "       [3.75133045e-02],\n",
              "       [9.99901891e-01],\n",
              "       [2.88420473e-04],\n",
              "       [9.99951959e-01],\n",
              "       [9.99147654e-01],\n",
              "       [3.21938396e-01],\n",
              "       [6.94814464e-03],\n",
              "       [4.51579865e-04],\n",
              "       [7.80658229e-05],\n",
              "       [4.67620343e-01],\n",
              "       [9.84856546e-01],\n",
              "       [9.77205217e-01],\n",
              "       [2.33792618e-01],\n",
              "       [9.93540823e-01],\n",
              "       [9.99990165e-01],\n",
              "       [3.24580069e-05],\n",
              "       [4.16862816e-02],\n",
              "       [2.14727572e-03],\n",
              "       [6.39706035e-04],\n",
              "       [1.59374237e-01],\n",
              "       [4.19268399e-05],\n",
              "       [9.62750494e-01],\n",
              "       [9.99947488e-01],\n",
              "       [2.80962419e-02],\n",
              "       [3.62639129e-03],\n",
              "       [1.07322782e-02],\n",
              "       [2.51416885e-03],\n",
              "       [9.99991238e-01],\n",
              "       [9.99976039e-01],\n",
              "       [9.98883009e-01],\n",
              "       [1.24297221e-03],\n",
              "       [9.99982059e-01],\n",
              "       [3.05181129e-05],\n",
              "       [9.71910122e-05],\n",
              "       [2.91838171e-03],\n",
              "       [4.93530214e-01],\n",
              "       [9.72103715e-01],\n",
              "       [9.99982536e-01],\n",
              "       [2.77115323e-04],\n",
              "       [9.97050643e-01],\n",
              "       [2.42579565e-03],\n",
              "       [2.92765362e-05],\n",
              "       [3.43116088e-04],\n",
              "       [2.66239107e-01],\n",
              "       [2.73510086e-04],\n",
              "       [3.68077817e-05],\n",
              "       [3.91762806e-05],\n",
              "       [3.25493820e-05],\n",
              "       [1.15006650e-03],\n",
              "       [3.27842659e-04],\n",
              "       [7.69857201e-04],\n",
              "       [9.78576839e-02],\n",
              "       [2.26495482e-04],\n",
              "       [9.99597371e-01],\n",
              "       [1.08180720e-04],\n",
              "       [5.80284322e-05],\n",
              "       [8.10767472e-01],\n",
              "       [1.57166049e-01],\n",
              "       [9.70151596e-05],\n",
              "       [9.99969244e-01],\n",
              "       [9.90806460e-01],\n",
              "       [4.62532364e-04],\n",
              "       [9.99785542e-01],\n",
              "       [1.77722432e-05],\n",
              "       [9.95257914e-01],\n",
              "       [4.47489263e-04],\n",
              "       [9.99975681e-01],\n",
              "       [3.11509284e-05],\n",
              "       [8.57817591e-04],\n",
              "       [9.99799490e-01],\n",
              "       [9.99892473e-01],\n",
              "       [9.99570906e-01],\n",
              "       [9.44402143e-02],\n",
              "       [2.50497043e-01],\n",
              "       [1.03169798e-04],\n",
              "       [9.99977291e-01],\n",
              "       [1.49962754e-04],\n",
              "       [1.75820634e-04],\n",
              "       [9.99891400e-01],\n",
              "       [9.99988675e-01],\n",
              "       [9.98220384e-01],\n",
              "       [1.89744085e-01],\n",
              "       [3.75762224e-01],\n",
              "       [9.99980748e-01],\n",
              "       [9.99946177e-01],\n",
              "       [5.51875591e-01],\n",
              "       [7.34810383e-05],\n",
              "       [1.52086057e-02],\n",
              "       [3.23713422e-01],\n",
              "       [5.43983746e-03],\n",
              "       [9.78227019e-01],\n",
              "       [1.83558965e-04],\n",
              "       [1.62387470e-04],\n",
              "       [8.77611458e-01],\n",
              "       [9.99978602e-01],\n",
              "       [9.99399900e-01],\n",
              "       [5.09871716e-05],\n",
              "       [1.82270451e-04],\n",
              "       [9.88407373e-01],\n",
              "       [1.06863245e-01],\n",
              "       [9.21704981e-04],\n",
              "       [1.09967557e-04],\n",
              "       [9.99976516e-01],\n",
              "       [9.03575565e-05],\n",
              "       [9.99942064e-01],\n",
              "       [2.07578065e-04],\n",
              "       [3.51759970e-01],\n",
              "       [6.49155190e-05],\n",
              "       [5.81822515e-01],\n",
              "       [1.79233891e-03],\n",
              "       [3.21938396e-01],\n",
              "       [9.99940932e-01],\n",
              "       [1.96633569e-04],\n",
              "       [9.93016839e-01],\n",
              "       [2.69616842e-01],\n",
              "       [3.95282841e-05],\n",
              "       [9.97577548e-01],\n",
              "       [9.99984384e-01],\n",
              "       [1.12247514e-03],\n",
              "       [9.99986112e-01],\n",
              "       [1.88634018e-04],\n",
              "       [9.52957392e-01],\n",
              "       [9.99979913e-01],\n",
              "       [9.99975562e-01],\n",
              "       [1.91605277e-02],\n",
              "       [1.99712887e-02],\n",
              "       [1.30114648e-02],\n",
              "       [1.26313200e-04],\n",
              "       [2.34761712e-04],\n",
              "       [9.99978006e-01],\n",
              "       [9.99969363e-01],\n",
              "       [9.97795165e-01],\n",
              "       [9.16486621e-01],\n",
              "       [9.80711460e-01],\n",
              "       [9.99971867e-01],\n",
              "       [9.98060226e-01],\n",
              "       [9.99990165e-01],\n",
              "       [2.86199211e-04],\n",
              "       [1.06801570e-03],\n",
              "       [5.00048081e-05],\n",
              "       [9.99976158e-01],\n",
              "       [1.33829610e-03],\n",
              "       [9.99976873e-01],\n",
              "       [1.77433365e-04],\n",
              "       [7.90119288e-04],\n",
              "       [9.99976814e-01],\n",
              "       [9.99559343e-01],\n",
              "       [2.47241587e-05],\n",
              "       [3.92541770e-05],\n",
              "       [4.76201683e-01],\n",
              "       [9.99624252e-01],\n",
              "       [9.99987721e-01],\n",
              "       [9.99951482e-01],\n",
              "       [9.99992490e-01],\n",
              "       [9.87547755e-01],\n",
              "       [2.38197375e-04],\n",
              "       [5.68674551e-03],\n",
              "       [1.15699018e-03],\n",
              "       [9.99089777e-01],\n",
              "       [1.65174995e-02],\n",
              "       [9.99935031e-01],\n",
              "       [1.31272187e-04],\n",
              "       [1.91187384e-04],\n",
              "       [9.54435647e-01],\n",
              "       [2.80949840e-04],\n",
              "       [9.90667380e-04],\n",
              "       [9.68658924e-01],\n",
              "       [2.10734038e-03],\n",
              "       [9.99812007e-01],\n",
              "       [9.85577047e-01],\n",
              "       [6.82848506e-04],\n",
              "       [4.19863587e-04],\n",
              "       [9.99751925e-01],\n",
              "       [2.94010650e-04],\n",
              "       [9.93180811e-01],\n",
              "       [7.62477503e-05],\n",
              "       [9.99401689e-01],\n",
              "       [3.21938396e-01],\n",
              "       [8.95172596e-01],\n",
              "       [9.99986947e-01],\n",
              "       [9.99005616e-01],\n",
              "       [2.37391256e-02],\n",
              "       [7.99732804e-01],\n",
              "       [1.32289904e-04],\n",
              "       [9.99942183e-01],\n",
              "       [4.59916219e-02],\n",
              "       [2.19739348e-04],\n",
              "       [9.68432188e-01],\n",
              "       [3.55256452e-05]], dtype=float32)"
            ]
          },
          "metadata": {},
          "execution_count": 75
        }
      ]
    },
    {
      "cell_type": "code",
      "source": [
        "model_4_preds = tf.squeeze(tf.round(model_4_preds))\n",
        "model_4_preds"
      ],
      "metadata": {
        "id": "kpw3nMq5f_c8",
        "colab": {
          "base_uri": "https://localhost:8080/"
        },
        "outputId": "46a380af-dd9e-4291-a450-e905ccf9a76d"
      },
      "execution_count": null,
      "outputs": [
        {
          "output_type": "execute_result",
          "data": {
            "text/plain": [
              "<tf.Tensor: shape=(761,), dtype=float32, numpy=\n",
              "array([0., 0., 1., 1., 0., 0., 1., 1., 0., 0., 0., 0., 0., 0., 1., 0., 0.,\n",
              "       0., 0., 1., 0., 0., 0., 1., 0., 1., 0., 0., 0., 0., 0., 0., 0., 0.,\n",
              "       0., 0., 1., 0., 1., 0., 1., 0., 1., 0., 1., 1., 0., 0., 0., 1., 0.,\n",
              "       0., 0., 0., 0., 1., 0., 0., 0., 1., 1., 0., 0., 1., 0., 1., 0., 0.,\n",
              "       0., 0., 1., 0., 0., 1., 0., 0., 0., 0., 0., 0., 0., 1., 0., 0., 0.,\n",
              "       0., 0., 0., 0., 0., 1., 0., 0., 0., 0., 0., 1., 0., 0., 1., 0., 1.,\n",
              "       0., 0., 1., 1., 0., 0., 0., 1., 0., 0., 0., 1., 0., 1., 0., 1., 0.,\n",
              "       0., 1., 1., 0., 0., 1., 0., 1., 0., 0., 1., 0., 0., 0., 0., 1., 0.,\n",
              "       0., 0., 1., 1., 0., 0., 0., 1., 0., 0., 0., 0., 1., 0., 0., 0., 1.,\n",
              "       0., 0., 0., 1., 0., 0., 0., 1., 1., 0., 0., 0., 1., 1., 1., 0., 1.,\n",
              "       1., 1., 0., 0., 0., 0., 1., 1., 0., 0., 1., 0., 0., 0., 1., 0., 1.,\n",
              "       1., 0., 0., 1., 0., 1., 0., 1., 0., 1., 1., 1., 1., 0., 0., 0., 0.,\n",
              "       0., 1., 1., 0., 0., 0., 0., 0., 1., 1., 0., 0., 0., 0., 1., 0., 1.,\n",
              "       0., 1., 0., 1., 1., 0., 0., 0., 0., 1., 1., 1., 0., 1., 1., 0., 0.,\n",
              "       0., 0., 0., 0., 0., 1., 0., 1., 1., 1., 1., 0., 0., 0., 1., 1., 1.,\n",
              "       0., 0., 1., 0., 1., 1., 1., 0., 0., 0., 1., 1., 0., 0., 1., 0., 0.,\n",
              "       1., 1., 0., 0., 0., 0., 0., 1., 0., 0., 0., 1., 0., 0., 0., 0., 1.,\n",
              "       1., 0., 1., 1., 0., 0., 1., 0., 1., 1., 1., 1., 0., 0., 1., 1., 0.,\n",
              "       1., 1., 1., 0., 1., 0., 1., 0., 0., 0., 0., 1., 0., 1., 1., 0., 0.,\n",
              "       0., 0., 0., 0., 1., 0., 1., 0., 0., 1., 1., 0., 0., 0., 0., 0., 0.,\n",
              "       0., 0., 0., 1., 1., 0., 0., 1., 0., 0., 0., 0., 1., 0., 0., 0., 0.,\n",
              "       0., 0., 0., 1., 1., 0., 0., 0., 0., 0., 0., 1., 0., 1., 1., 0., 0.,\n",
              "       0., 0., 0., 0., 0., 1., 1., 0., 1., 1., 1., 1., 0., 0., 1., 1., 0.,\n",
              "       1., 1., 1., 0., 1., 0., 1., 0., 0., 0., 1., 0., 1., 0., 0., 0., 1.,\n",
              "       0., 1., 0., 1., 0., 0., 0., 1., 1., 1., 1., 0., 1., 0., 0., 0., 0.,\n",
              "       0., 0., 1., 1., 0., 1., 0., 0., 1., 1., 1., 0., 0., 1., 0., 0., 0.,\n",
              "       1., 0., 0., 0., 0., 0., 1., 0., 0., 1., 0., 0., 0., 0., 0., 1., 0.,\n",
              "       1., 1., 1., 0., 1., 0., 1., 0., 0., 0., 0., 0., 0., 1., 0., 0., 1.,\n",
              "       1., 1., 0., 0., 0., 1., 1., 0., 1., 0., 0., 0., 1., 0., 1., 0., 0.,\n",
              "       0., 0., 1., 0., 0., 0., 1., 0., 1., 1., 0., 0., 0., 0., 1., 0., 0.,\n",
              "       0., 1., 0., 0., 1., 0., 1., 0., 1., 1., 0., 1., 0., 0., 0., 0., 0.,\n",
              "       0., 0., 1., 0., 0., 1., 1., 0., 0., 1., 0., 1., 1., 0., 0., 0., 1.,\n",
              "       1., 0., 0., 0., 0., 0., 0., 1., 1., 0., 1., 0., 1., 1., 0., 0., 1.,\n",
              "       0., 0., 0., 0., 0., 1., 1., 0., 0., 1., 0., 0., 1., 0., 1., 1., 0.,\n",
              "       0., 0., 0., 0., 1., 1., 0., 1., 1., 0., 0., 0., 0., 0., 0., 1., 1.,\n",
              "       0., 0., 0., 0., 1., 1., 1., 0., 1., 0., 0., 0., 0., 1., 1., 0., 1.,\n",
              "       0., 0., 0., 0., 0., 0., 0., 0., 0., 0., 0., 0., 0., 1., 0., 0., 1.,\n",
              "       0., 0., 1., 1., 0., 1., 0., 1., 0., 1., 0., 0., 1., 1., 1., 0., 0.,\n",
              "       0., 1., 0., 0., 1., 1., 1., 0., 0., 1., 1., 1., 0., 0., 0., 0., 1.,\n",
              "       0., 0., 1., 1., 1., 0., 0., 1., 0., 0., 0., 1., 0., 1., 0., 0., 0.,\n",
              "       1., 0., 0., 1., 0., 1., 0., 0., 1., 1., 0., 1., 0., 1., 1., 1., 0.,\n",
              "       0., 0., 0., 0., 1., 1., 1., 1., 1., 1., 1., 1., 0., 0., 0., 1., 0.,\n",
              "       1., 0., 0., 1., 1., 0., 0., 0., 1., 1., 1., 1., 1., 0., 0., 0., 1.,\n",
              "       0., 1., 0., 0., 1., 0., 0., 1., 0., 1., 1., 0., 0., 1., 0., 1., 0.,\n",
              "       1., 0., 1., 1., 1., 0., 1., 0., 1., 0., 0., 1., 0.], dtype=float32)>"
            ]
          },
          "metadata": {},
          "execution_count": 76
        }
      ]
    },
    {
      "cell_type": "code",
      "source": [
        "model_4_results= calculate_results_advanced(y_true = val_labels, y_pred= model_4_preds)\n",
        "model_4_results #worst results"
      ],
      "metadata": {
        "id": "FgAksoB0feoZ",
        "colab": {
          "base_uri": "https://localhost:8080/"
        },
        "outputId": "ecd41f86-01bf-441e-cdff-8d9581df89a6"
      },
      "execution_count": null,
      "outputs": [
        {
          "output_type": "execute_result",
          "data": {
            "text/plain": [
              "{'accuracy': 75.68988173455979,\n",
              " 'precision': 0.7550509487812761,\n",
              " 'recall': 0.7568988173455979,\n",
              " 'f1': 0.7553826953426793}"
            ]
          },
          "metadata": {},
          "execution_count": 77
        }
      ]
    },
    {
      "cell_type": "markdown",
      "source": [
        "##convecutional neural network for Text(and other type of sequence)\n",
        "\n",
        "for images its conv2d\n",
        "for text  its conv1d"
      ],
      "metadata": {
        "id": "g4pEuNR-psmz"
      }
    },
    {
      "cell_type": "markdown",
      "source": [
        "##Model 5: Conv1d model"
      ],
      "metadata": {
        "id": "S2VTN47YrP_g"
      }
    },
    {
      "cell_type": "code",
      "source": [
        "from tensorflow.keras import layers\n",
        "\n",
        "text_sample = embedding(text_vectorizer([\"this is a test sample\"]))\n",
        "conv_1d = layers.Conv1D(filters = 32, #32 filters traversing our text data\n",
        "                        kernel_size = 5,#kernel size 5 means it looks at words at a time and as default stride is 1 so it steps 1 forward and get other 5 words\n",
        "                        strides = 1,#stride = 1 it will slide over 1\n",
        "                        padding = \"valid\", # default = 'valid , the output is smaller than input shape, but \"same\" the output is same shape as input\n",
        "                        activation = \"relu\")  # padding \"same\" allows to put entire thing for learning the tokens creating extra layer around it\n",
        "\n",
        "conv_1d_output = conv_1d(text_sample)\n",
        "max_pool = layers.GlobalMaxPool1D()\n",
        "max_pool_output = max_pool(conv_1d_output)\n",
        "\n",
        "text_sample.shape, conv_1d_output.shape, max_pool_output.shape"
      ],
      "metadata": {
        "colab": {
          "base_uri": "https://localhost:8080/"
        },
        "id": "YSZfqHMurlrG",
        "outputId": "6a255299-81ce-4576-ebd1-b484baaa49ea"
      },
      "execution_count": null,
      "outputs": [
        {
          "output_type": "execute_result",
          "data": {
            "text/plain": [
              "(TensorShape([1, 15, 128]), TensorShape([1, 11, 32]), TensorShape([1, 32]))"
            ]
          },
          "metadata": {},
          "execution_count": 78
        }
      ]
    },
    {
      "cell_type": "code",
      "source": [
        "conv_1d_output"
      ],
      "metadata": {
        "colab": {
          "base_uri": "https://localhost:8080/"
        },
        "id": "iAlt6CUd3GZd",
        "outputId": "877e8c5a-a688-4c86-d838-46bbbd06166c"
      },
      "execution_count": null,
      "outputs": [
        {
          "output_type": "execute_result",
          "data": {
            "text/plain": [
              "<tf.Tensor: shape=(1, 11, 32), dtype=float32, numpy=\n",
              "array([[[0.        , 0.        , 0.        , 0.02943734, 0.00844424,\n",
              "         0.        , 0.        , 0.        , 0.        , 0.        ,\n",
              "         0.0024293 , 0.00270947, 0.00245782, 0.        , 0.03677214,\n",
              "         0.        , 0.09445505, 0.05589525, 0.06459787, 0.03778479,\n",
              "         0.        , 0.        , 0.        , 0.        , 0.02130552,\n",
              "         0.01669767, 0.        , 0.        , 0.03003175, 0.        ,\n",
              "         0.00464008, 0.        ],\n",
              "        [0.        , 0.00879888, 0.13682775, 0.0407259 , 0.03331727,\n",
              "         0.0042131 , 0.        , 0.06853147, 0.06576467, 0.        ,\n",
              "         0.        , 0.        , 0.00382771, 0.06349988, 0.04946678,\n",
              "         0.        , 0.        , 0.05928758, 0.        , 0.        ,\n",
              "         0.08159406, 0.        , 0.06106727, 0.        , 0.01550112,\n",
              "         0.03627741, 0.04633816, 0.        , 0.02772658, 0.        ,\n",
              "         0.        , 0.02484252],\n",
              "        [0.        , 0.        , 0.08758123, 0.        , 0.07135063,\n",
              "         0.        , 0.01522255, 0.        , 0.05400561, 0.0218303 ,\n",
              "         0.        , 0.        , 0.00675283, 0.        , 0.0105294 ,\n",
              "         0.        , 0.05356451, 0.        , 0.        , 0.        ,\n",
              "         0.        , 0.        , 0.0273521 , 0.        , 0.01899255,\n",
              "         0.06325421, 0.01654543, 0.        , 0.03316019, 0.09774427,\n",
              "         0.        , 0.        ],\n",
              "        [0.        , 0.05688243, 0.09687428, 0.01979394, 0.08502268,\n",
              "         0.        , 0.        , 0.        , 0.09443679, 0.02834987,\n",
              "         0.        , 0.01163952, 0.        , 0.04510936, 0.        ,\n",
              "         0.03708985, 0.06023124, 0.        , 0.        , 0.08306371,\n",
              "         0.        , 0.05303787, 0.14012288, 0.        , 0.00976217,\n",
              "         0.04851211, 0.        , 0.        , 0.06246358, 0.        ,\n",
              "         0.        , 0.        ],\n",
              "        [0.        , 0.        , 0.03589991, 0.00138344, 0.00768965,\n",
              "         0.        , 0.        , 0.00433316, 0.05412285, 0.        ,\n",
              "         0.04229537, 0.        , 0.01223662, 0.08843414, 0.        ,\n",
              "         0.        , 0.04391015, 0.        , 0.        , 0.06542926,\n",
              "         0.        , 0.02719477, 0.10698853, 0.        , 0.        ,\n",
              "         0.03672291, 0.        , 0.        , 0.01113964, 0.        ,\n",
              "         0.        , 0.        ],\n",
              "        [0.        , 0.02216426, 0.01887137, 0.        , 0.04866936,\n",
              "         0.        , 0.        , 0.057474  , 0.09079687, 0.        ,\n",
              "         0.02764386, 0.00191865, 0.00058457, 0.11295874, 0.00766337,\n",
              "         0.        , 0.04342422, 0.        , 0.        , 0.        ,\n",
              "         0.01632025, 0.        , 0.07126952, 0.        , 0.01285774,\n",
              "         0.03157962, 0.00509271, 0.        , 0.        , 0.        ,\n",
              "         0.        , 0.        ],\n",
              "        [0.        , 0.02216426, 0.01887137, 0.        , 0.04866936,\n",
              "         0.        , 0.        , 0.057474  , 0.09079687, 0.        ,\n",
              "         0.02764386, 0.00191865, 0.00058457, 0.11295874, 0.00766337,\n",
              "         0.        , 0.04342422, 0.        , 0.        , 0.        ,\n",
              "         0.01632025, 0.        , 0.07126952, 0.        , 0.01285774,\n",
              "         0.03157962, 0.00509271, 0.        , 0.        , 0.        ,\n",
              "         0.        , 0.        ],\n",
              "        [0.        , 0.02216426, 0.01887137, 0.        , 0.04866936,\n",
              "         0.        , 0.        , 0.057474  , 0.09079687, 0.        ,\n",
              "         0.02764386, 0.00191865, 0.00058457, 0.11295874, 0.00766337,\n",
              "         0.        , 0.04342422, 0.        , 0.        , 0.        ,\n",
              "         0.01632025, 0.        , 0.07126952, 0.        , 0.01285774,\n",
              "         0.03157962, 0.00509271, 0.        , 0.        , 0.        ,\n",
              "         0.        , 0.        ],\n",
              "        [0.        , 0.02216426, 0.01887137, 0.        , 0.04866936,\n",
              "         0.        , 0.        , 0.057474  , 0.09079687, 0.        ,\n",
              "         0.02764386, 0.00191865, 0.00058457, 0.11295874, 0.00766337,\n",
              "         0.        , 0.04342422, 0.        , 0.        , 0.        ,\n",
              "         0.01632025, 0.        , 0.07126952, 0.        , 0.01285774,\n",
              "         0.03157962, 0.00509271, 0.        , 0.        , 0.        ,\n",
              "         0.        , 0.        ],\n",
              "        [0.        , 0.02216426, 0.01887137, 0.        , 0.04866936,\n",
              "         0.        , 0.        , 0.057474  , 0.09079687, 0.        ,\n",
              "         0.02764386, 0.00191865, 0.00058457, 0.11295874, 0.00766337,\n",
              "         0.        , 0.04342422, 0.        , 0.        , 0.        ,\n",
              "         0.01632025, 0.        , 0.07126952, 0.        , 0.01285774,\n",
              "         0.03157962, 0.00509271, 0.        , 0.        , 0.        ,\n",
              "         0.        , 0.        ],\n",
              "        [0.        , 0.02216426, 0.01887137, 0.        , 0.04866936,\n",
              "         0.        , 0.        , 0.057474  , 0.09079687, 0.        ,\n",
              "         0.02764386, 0.00191865, 0.00058457, 0.11295874, 0.00766337,\n",
              "         0.        , 0.04342422, 0.        , 0.        , 0.        ,\n",
              "         0.01632025, 0.        , 0.07126952, 0.        , 0.01285774,\n",
              "         0.03157962, 0.00509271, 0.        , 0.        , 0.        ,\n",
              "         0.        , 0.        ]]], dtype=float32)>"
            ]
          },
          "metadata": {},
          "execution_count": 79
        }
      ]
    },
    {
      "cell_type": "code",
      "source": [
        "max_pool_output"
      ],
      "metadata": {
        "colab": {
          "base_uri": "https://localhost:8080/"
        },
        "id": "MYJUDVF83bwx",
        "outputId": "e3e7f3f4-b814-49c9-ee84-913c4393480b"
      },
      "execution_count": null,
      "outputs": [
        {
          "output_type": "execute_result",
          "data": {
            "text/plain": [
              "<tf.Tensor: shape=(1, 32), dtype=float32, numpy=\n",
              "array([[0.        , 0.05688243, 0.13682775, 0.0407259 , 0.08502268,\n",
              "        0.0042131 , 0.01522255, 0.06853147, 0.09443679, 0.02834987,\n",
              "        0.04229537, 0.01163952, 0.01223662, 0.11295874, 0.04946678,\n",
              "        0.03708985, 0.09445505, 0.05928758, 0.06459787, 0.08306371,\n",
              "        0.08159406, 0.05303787, 0.14012288, 0.        , 0.02130552,\n",
              "        0.06325421, 0.04633816, 0.        , 0.06246358, 0.09774427,\n",
              "        0.00464008, 0.02484252]], dtype=float32)>"
            ]
          },
          "metadata": {},
          "execution_count": 80
        }
      ]
    },
    {
      "cell_type": "code",
      "source": [
        "from tensorflow.keras import layers\n",
        "\n",
        "# Assuming text_vectorizer converts the string to token indices (integer tensor)\n",
        "inputs = layers.Input(shape=(1,), dtype=\"string\")\n",
        "x = text_vectorizer(inputs)  # Ensure this outputs integers\n",
        "x = embedding(x)  # Embedding expects an integer input\n",
        "x = layers.Conv1D(filters=64,\n",
        "                  kernel_size=5,\n",
        "                  padding=\"valid\",\n",
        "                  activation=\"relu\")(x)\n",
        "x = layers.GlobalMaxPool1D()(x)\n",
        "output = layers.Dense(1, activation=\"sigmoid\")(x)\n",
        "\n",
        "model_5 = tf.keras.Model(inputs, output, name=\"model_5_Conv1D\")\n",
        "\n",
        "model_5.compile(loss=\"binary_crossentropy\",\n",
        "                optimizer=tf.keras.optimizers.Adam(),\n",
        "                metrics=[\"accuracy\"])\n",
        "\n",
        "model_5.fit(train_sentences,\n",
        "            train_labels,\n",
        "            epochs=5,\n",
        "            validation_data=(val_sentences, val_labels),\n",
        "            callbacks=[create_tensorboard_callback(SAVE_DIR, \"conv1D\")])\n"
      ],
      "metadata": {
        "colab": {
          "base_uri": "https://localhost:8080/"
        },
        "id": "ufmlZHE8B4GZ",
        "outputId": "e1c8b300-b5a4-471b-b55b-43a4be110817"
      },
      "execution_count": null,
      "outputs": [
        {
          "output_type": "stream",
          "name": "stdout",
          "text": [
            "Saving TensorBoard log files to: model_logs/conv1D/20240914-120639\n",
            "Epoch 1/5\n",
            "\u001b[1m215/215\u001b[0m \u001b[32m━━━━━━━━━━━━━━━━━━━━\u001b[0m\u001b[37m\u001b[0m \u001b[1m7s\u001b[0m 23ms/step - accuracy: 0.9288 - loss: 0.1966 - val_accuracy: 0.7569 - val_loss: 0.8735\n",
            "Epoch 2/5\n",
            "\u001b[1m215/215\u001b[0m \u001b[32m━━━━━━━━━━━━━━━━━━━━\u001b[0m\u001b[37m\u001b[0m \u001b[1m4s\u001b[0m 16ms/step - accuracy: 0.9727 - loss: 0.0785 - val_accuracy: 0.7424 - val_loss: 1.0032\n",
            "Epoch 3/5\n",
            "\u001b[1m215/215\u001b[0m \u001b[32m━━━━━━━━━━━━━━━━━━━━\u001b[0m\u001b[37m\u001b[0m \u001b[1m4s\u001b[0m 16ms/step - accuracy: 0.9757 - loss: 0.0653 - val_accuracy: 0.7543 - val_loss: 1.1148\n",
            "Epoch 4/5\n",
            "\u001b[1m215/215\u001b[0m \u001b[32m━━━━━━━━━━━━━━━━━━━━\u001b[0m\u001b[37m\u001b[0m \u001b[1m6s\u001b[0m 22ms/step - accuracy: 0.9799 - loss: 0.0524 - val_accuracy: 0.7411 - val_loss: 1.1493\n",
            "Epoch 5/5\n",
            "\u001b[1m215/215\u001b[0m \u001b[32m━━━━━━━━━━━━━━━━━━━━\u001b[0m\u001b[37m\u001b[0m \u001b[1m3s\u001b[0m 16ms/step - accuracy: 0.9839 - loss: 0.0451 - val_accuracy: 0.7424 - val_loss: 1.1682\n"
          ]
        },
        {
          "output_type": "execute_result",
          "data": {
            "text/plain": [
              "<keras.src.callbacks.history.History at 0x7868b4bd8be0>"
            ]
          },
          "metadata": {},
          "execution_count": 81
        }
      ]
    },
    {
      "cell_type": "code",
      "source": [
        "model_5_preds = model_5.predict(val_sentences)\n",
        "model_5_preds"
      ],
      "metadata": {
        "colab": {
          "base_uri": "https://localhost:8080/"
        },
        "id": "B1TYy5NvCdHR",
        "outputId": "41b34192-1b72-4df0-e392-f0f80265963a"
      },
      "execution_count": null,
      "outputs": [
        {
          "output_type": "stream",
          "name": "stdout",
          "text": [
            "\u001b[1m24/24\u001b[0m \u001b[32m━━━━━━━━━━━━━━━━━━━━\u001b[0m\u001b[37m\u001b[0m \u001b[1m0s\u001b[0m 9ms/step\n"
          ]
        },
        {
          "output_type": "execute_result",
          "data": {
            "text/plain": [
              "array([[4.86394137e-01],\n",
              "       [4.12409776e-04],\n",
              "       [8.49825859e-01],\n",
              "       [9.99996722e-01],\n",
              "       [5.15495003e-07],\n",
              "       [1.71597949e-05],\n",
              "       [9.99992549e-01],\n",
              "       [9.99999821e-01],\n",
              "       [3.21094389e-03],\n",
              "       [5.40407538e-01],\n",
              "       [1.62740680e-03],\n",
              "       [6.71721282e-05],\n",
              "       [2.28437051e-01],\n",
              "       [1.31084519e-02],\n",
              "       [9.83732700e-01],\n",
              "       [3.51333022e-01],\n",
              "       [1.69933238e-03],\n",
              "       [9.29464179e-04],\n",
              "       [6.12474442e-01],\n",
              "       [9.77162719e-01],\n",
              "       [1.21197961e-01],\n",
              "       [1.41772052e-08],\n",
              "       [1.52774677e-01],\n",
              "       [9.99797523e-01],\n",
              "       [8.69333506e-01],\n",
              "       [9.99992609e-01],\n",
              "       [7.27832913e-01],\n",
              "       [3.08499177e-04],\n",
              "       [5.45367133e-03],\n",
              "       [9.87405419e-01],\n",
              "       [2.68606731e-04],\n",
              "       [4.80280178e-05],\n",
              "       [1.53510332e-01],\n",
              "       [1.85924068e-01],\n",
              "       [7.99236834e-01],\n",
              "       [1.52209818e-01],\n",
              "       [9.93316948e-01],\n",
              "       [1.92550178e-05],\n",
              "       [9.99999702e-01],\n",
              "       [2.45455727e-02],\n",
              "       [9.79859650e-01],\n",
              "       [3.70143428e-02],\n",
              "       [9.64155614e-01],\n",
              "       [1.27349619e-03],\n",
              "       [9.99534488e-01],\n",
              "       [9.99996185e-01],\n",
              "       [1.99421193e-05],\n",
              "       [1.36543895e-06],\n",
              "       [5.75705469e-02],\n",
              "       [9.76758599e-01],\n",
              "       [2.18394503e-01],\n",
              "       [2.74039718e-04],\n",
              "       [8.05959851e-02],\n",
              "       [9.99038294e-02],\n",
              "       [8.64565955e-05],\n",
              "       [9.99724746e-01],\n",
              "       [1.08211170e-05],\n",
              "       [3.54358405e-01],\n",
              "       [1.99368747e-04],\n",
              "       [6.15171969e-01],\n",
              "       [9.99999642e-01],\n",
              "       [3.97379845e-01],\n",
              "       [7.06229687e-01],\n",
              "       [6.03632450e-01],\n",
              "       [9.30802077e-02],\n",
              "       [9.99402046e-01],\n",
              "       [1.52774677e-01],\n",
              "       [2.14413069e-02],\n",
              "       [1.96250081e-01],\n",
              "       [1.42025920e-08],\n",
              "       [9.99989092e-01],\n",
              "       [6.05443269e-02],\n",
              "       [3.68664251e-03],\n",
              "       [9.45241630e-01],\n",
              "       [6.20871130e-03],\n",
              "       [9.17901546e-02],\n",
              "       [5.46043158e-01],\n",
              "       [2.42956981e-01],\n",
              "       [1.01996225e-03],\n",
              "       [2.17845455e-01],\n",
              "       [5.67311607e-02],\n",
              "       [9.73713100e-01],\n",
              "       [4.50058393e-02],\n",
              "       [6.66188821e-02],\n",
              "       [1.14309467e-01],\n",
              "       [2.46452148e-09],\n",
              "       [1.57283828e-01],\n",
              "       [2.79920369e-01],\n",
              "       [4.72363020e-08],\n",
              "       [7.80228496e-01],\n",
              "       [9.19598043e-01],\n",
              "       [1.05478659e-01],\n",
              "       [4.90869861e-05],\n",
              "       [2.97151558e-07],\n",
              "       [2.04155867e-06],\n",
              "       [2.15723757e-02],\n",
              "       [9.89705741e-01],\n",
              "       [1.88160166e-02],\n",
              "       [3.62576055e-03],\n",
              "       [9.96697247e-01],\n",
              "       [7.24205226e-02],\n",
              "       [9.97542799e-01],\n",
              "       [5.60065985e-01],\n",
              "       [5.52306359e-04],\n",
              "       [9.99934316e-01],\n",
              "       [9.99984801e-01],\n",
              "       [2.86993361e-03],\n",
              "       [1.31108321e-03],\n",
              "       [1.88439107e-03],\n",
              "       [9.99031603e-01],\n",
              "       [2.70698452e-03],\n",
              "       [7.48389065e-01],\n",
              "       [2.82472211e-05],\n",
              "       [9.99997735e-01],\n",
              "       [1.02855541e-01],\n",
              "       [9.99296904e-01],\n",
              "       [6.53410656e-03],\n",
              "       [9.99690056e-01],\n",
              "       [9.45582178e-06],\n",
              "       [3.53991566e-03],\n",
              "       [9.99999881e-01],\n",
              "       [9.94827092e-01],\n",
              "       [2.13482324e-02],\n",
              "       [3.32929999e-01],\n",
              "       [9.98477519e-01],\n",
              "       [1.63705215e-06],\n",
              "       [1.00000000e+00],\n",
              "       [4.65777181e-02],\n",
              "       [5.00875058e-06],\n",
              "       [9.99927104e-01],\n",
              "       [2.67731189e-03],\n",
              "       [2.20644563e-01],\n",
              "       [1.09679322e-05],\n",
              "       [1.85976416e-01],\n",
              "       [9.97968972e-01],\n",
              "       [6.03352254e-03],\n",
              "       [3.62606905e-03],\n",
              "       [4.63018306e-02],\n",
              "       [9.99588251e-01],\n",
              "       [1.00000000e+00],\n",
              "       [6.07271612e-01],\n",
              "       [3.42065381e-04],\n",
              "       [2.56830752e-01],\n",
              "       [9.27496374e-01],\n",
              "       [1.44604102e-01],\n",
              "       [3.64736557e-01],\n",
              "       [1.12975587e-03],\n",
              "       [6.48477144e-05],\n",
              "       [1.00000000e+00],\n",
              "       [9.77417231e-01],\n",
              "       [4.85289916e-02],\n",
              "       [7.99476802e-01],\n",
              "       [9.97747362e-01],\n",
              "       [2.24910445e-06],\n",
              "       [1.81900987e-06],\n",
              "       [1.99752714e-04],\n",
              "       [1.00000000e+00],\n",
              "       [2.44247931e-04],\n",
              "       [2.20608399e-05],\n",
              "       [5.83497919e-02],\n",
              "       [1.00000000e+00],\n",
              "       [1.00000000e+00],\n",
              "       [6.30450606e-01],\n",
              "       [1.15492538e-01],\n",
              "       [8.36079780e-05],\n",
              "       [9.99984920e-01],\n",
              "       [9.21278536e-01],\n",
              "       [9.99741673e-01],\n",
              "       [3.29499356e-02],\n",
              "       [9.99999881e-01],\n",
              "       [9.99971390e-01],\n",
              "       [9.07560766e-01],\n",
              "       [2.39575887e-03],\n",
              "       [2.04027980e-04],\n",
              "       [2.53347680e-03],\n",
              "       [3.06495918e-09],\n",
              "       [6.81717575e-01],\n",
              "       [9.99999702e-01],\n",
              "       [5.27888201e-02],\n",
              "       [9.78453550e-03],\n",
              "       [9.99998271e-01],\n",
              "       [8.22746893e-04],\n",
              "       [1.52774677e-01],\n",
              "       [2.11686638e-04],\n",
              "       [1.00000000e+00],\n",
              "       [8.37796703e-02],\n",
              "       [1.00000000e+00],\n",
              "       [6.30921543e-01],\n",
              "       [1.48314793e-05],\n",
              "       [2.48918543e-04],\n",
              "       [9.05628920e-01],\n",
              "       [6.93414867e-01],\n",
              "       [9.03886557e-01],\n",
              "       [3.56658809e-02],\n",
              "       [9.99933481e-01],\n",
              "       [3.40731516e-02],\n",
              "       [9.96574163e-01],\n",
              "       [9.26360667e-01],\n",
              "       [9.75773036e-01],\n",
              "       [9.88685012e-01],\n",
              "       [1.34215497e-07],\n",
              "       [1.64875318e-03],\n",
              "       [6.70300052e-03],\n",
              "       [3.91125858e-01],\n",
              "       [1.58626333e-01],\n",
              "       [9.86490011e-01],\n",
              "       [9.99978840e-01],\n",
              "       [1.09223299e-06],\n",
              "       [6.68698995e-05],\n",
              "       [9.07680392e-03],\n",
              "       [1.29997982e-02],\n",
              "       [7.88658798e-01],\n",
              "       [3.88451070e-01],\n",
              "       [7.53871024e-01],\n",
              "       [4.39156324e-01],\n",
              "       [6.37086015e-03],\n",
              "       [1.07446290e-03],\n",
              "       [9.99592662e-01],\n",
              "       [9.99955893e-01],\n",
              "       [3.03894505e-02],\n",
              "       [9.99472797e-01],\n",
              "       [7.50545740e-01],\n",
              "       [9.99834478e-01],\n",
              "       [7.55340513e-03],\n",
              "       [9.99111712e-01],\n",
              "       [7.65781283e-01],\n",
              "       [6.42466102e-06],\n",
              "       [4.79958203e-07],\n",
              "       [5.26573513e-06],\n",
              "       [3.29509639e-04],\n",
              "       [5.52735031e-02],\n",
              "       [9.99994159e-01],\n",
              "       [9.99992430e-01],\n",
              "       [4.42139944e-03],\n",
              "       [9.99998927e-01],\n",
              "       [9.99884009e-01],\n",
              "       [4.93403175e-04],\n",
              "       [6.41945051e-04],\n",
              "       [3.75577100e-02],\n",
              "       [2.61011836e-03],\n",
              "       [9.92928565e-01],\n",
              "       [3.75539577e-03],\n",
              "       [1.04055610e-02],\n",
              "       [1.00000000e+00],\n",
              "       [1.10459784e-02],\n",
              "       [9.99845028e-01],\n",
              "       [1.00000000e+00],\n",
              "       [7.93764710e-01],\n",
              "       [9.95412171e-01],\n",
              "       [1.28333647e-06],\n",
              "       [1.14215072e-02],\n",
              "       [1.18239086e-05],\n",
              "       [9.62162673e-01],\n",
              "       [9.51794446e-01],\n",
              "       [1.00000000e+00],\n",
              "       [9.93116140e-01],\n",
              "       [7.62262428e-03],\n",
              "       [9.60096300e-01],\n",
              "       [2.36893278e-02],\n",
              "       [3.34523642e-03],\n",
              "       [9.99544799e-01],\n",
              "       [6.63520247e-02],\n",
              "       [4.63639498e-01],\n",
              "       [7.08647212e-03],\n",
              "       [9.05217603e-03],\n",
              "       [9.99999940e-01],\n",
              "       [8.89005184e-01],\n",
              "       [5.30879378e-01],\n",
              "       [2.51629134e-03],\n",
              "       [9.99920070e-01],\n",
              "       [2.78014570e-01],\n",
              "       [7.23796785e-01],\n",
              "       [9.99996901e-01],\n",
              "       [1.00000000e+00],\n",
              "       [1.47252530e-03],\n",
              "       [1.73916476e-06],\n",
              "       [2.67596632e-01],\n",
              "       [5.51709533e-03],\n",
              "       [8.47390518e-02],\n",
              "       [9.99996722e-01],\n",
              "       [5.03345579e-02],\n",
              "       [8.48668218e-02],\n",
              "       [3.25694233e-02],\n",
              "       [9.99910295e-01],\n",
              "       [1.99117771e-04],\n",
              "       [2.76111960e-01],\n",
              "       [2.42952909e-02],\n",
              "       [3.17587028e-03],\n",
              "       [7.65781283e-01],\n",
              "       [1.00000000e+00],\n",
              "       [5.56313545e-02],\n",
              "       [9.99996722e-01],\n",
              "       [9.99999642e-01],\n",
              "       [2.04836124e-06],\n",
              "       [1.56923592e-01],\n",
              "       [9.99061227e-01],\n",
              "       [2.08632518e-05],\n",
              "       [9.99984920e-01],\n",
              "       [9.99235690e-01],\n",
              "       [9.99994755e-01],\n",
              "       [9.99999642e-01],\n",
              "       [5.72467805e-04],\n",
              "       [4.38472343e-05],\n",
              "       [9.99999762e-01],\n",
              "       [8.63399088e-01],\n",
              "       [1.22426115e-02],\n",
              "       [9.99998629e-01],\n",
              "       [9.99973774e-01],\n",
              "       [5.21144927e-01],\n",
              "       [2.18797773e-02],\n",
              "       [6.70088828e-01],\n",
              "       [2.54490855e-03],\n",
              "       [9.98730183e-01],\n",
              "       [1.79106500e-02],\n",
              "       [6.01587271e-05],\n",
              "       [1.79852799e-01],\n",
              "       [2.33284687e-03],\n",
              "       [9.99984384e-01],\n",
              "       [2.05603838e-02],\n",
              "       [9.98995423e-01],\n",
              "       [9.85494852e-01],\n",
              "       [5.36806647e-06],\n",
              "       [2.41262335e-02],\n",
              "       [4.31769913e-05],\n",
              "       [1.43888428e-05],\n",
              "       [1.57155301e-02],\n",
              "       [6.27579033e-01],\n",
              "       [9.95913506e-01],\n",
              "       [1.27744991e-02],\n",
              "       [9.99992251e-01],\n",
              "       [3.61041457e-05],\n",
              "       [6.70906126e-01],\n",
              "       [9.75075364e-01],\n",
              "       [1.00000000e+00],\n",
              "       [1.86811376e-04],\n",
              "       [6.83352482e-06],\n",
              "       [5.73077500e-01],\n",
              "       [4.55601752e-01],\n",
              "       [6.71394706e-01],\n",
              "       [6.51724683e-03],\n",
              "       [9.64203656e-01],\n",
              "       [4.65324847e-05],\n",
              "       [7.10377395e-02],\n",
              "       [1.00000000e+00],\n",
              "       [9.05496597e-01],\n",
              "       [1.21297561e-01],\n",
              "       [2.27950606e-03],\n",
              "       [7.04129934e-01],\n",
              "       [3.62106383e-01],\n",
              "       [3.78282517e-02],\n",
              "       [7.60837272e-02],\n",
              "       [2.29610130e-03],\n",
              "       [9.99982715e-01],\n",
              "       [4.94503498e-01],\n",
              "       [1.66417763e-01],\n",
              "       [1.97901134e-03],\n",
              "       [3.92808735e-01],\n",
              "       [7.03219464e-03],\n",
              "       [1.66829326e-03],\n",
              "       [8.50513458e-01],\n",
              "       [9.99050617e-01],\n",
              "       [2.99718343e-02],\n",
              "       [1.75572839e-03],\n",
              "       [3.43676174e-06],\n",
              "       [7.70816769e-07],\n",
              "       [8.87086987e-03],\n",
              "       [1.42390519e-01],\n",
              "       [7.80858006e-03],\n",
              "       [7.34320819e-01],\n",
              "       [1.13430284e-02],\n",
              "       [9.99993861e-01],\n",
              "       [9.76888835e-01],\n",
              "       [7.89330959e-01],\n",
              "       [4.02657427e-02],\n",
              "       [2.42840542e-04],\n",
              "       [1.37375253e-06],\n",
              "       [1.23174913e-01],\n",
              "       [2.65114531e-02],\n",
              "       [1.11547422e-04],\n",
              "       [1.00000000e+00],\n",
              "       [1.00000000e+00],\n",
              "       [5.36454916e-02],\n",
              "       [9.99995112e-01],\n",
              "       [1.00000000e+00],\n",
              "       [1.26118213e-01],\n",
              "       [9.86481905e-01],\n",
              "       [1.87889952e-02],\n",
              "       [2.22433964e-03],\n",
              "       [9.89362836e-01],\n",
              "       [9.99959171e-01],\n",
              "       [6.01217398e-05],\n",
              "       [5.05568862e-01],\n",
              "       [9.99969840e-01],\n",
              "       [9.99834359e-01],\n",
              "       [2.06437289e-05],\n",
              "       [8.38315606e-01],\n",
              "       [5.27508200e-05],\n",
              "       [9.99955416e-01],\n",
              "       [2.19843496e-05],\n",
              "       [2.92392895e-02],\n",
              "       [5.06433717e-04],\n",
              "       [1.00000000e+00],\n",
              "       [9.16075349e-01],\n",
              "       [9.99994874e-01],\n",
              "       [5.29654212e-02],\n",
              "       [1.94834009e-01],\n",
              "       [1.84203908e-02],\n",
              "       [9.99605715e-01],\n",
              "       [7.87324548e-01],\n",
              "       [9.99635041e-01],\n",
              "       [4.72958237e-01],\n",
              "       [1.00000000e+00],\n",
              "       [1.33374388e-05],\n",
              "       [1.05735696e-08],\n",
              "       [4.33160967e-05],\n",
              "       [9.98860121e-01],\n",
              "       [9.45859373e-01],\n",
              "       [9.27794993e-01],\n",
              "       [7.59851635e-01],\n",
              "       [4.61479723e-02],\n",
              "       [9.70589340e-01],\n",
              "       [5.66339295e-04],\n",
              "       [1.26136592e-06],\n",
              "       [3.31376184e-04],\n",
              "       [1.04960194e-02],\n",
              "       [1.95124764e-02],\n",
              "       [5.98554946e-02],\n",
              "       [7.63295352e-01],\n",
              "       [3.94117326e-01],\n",
              "       [8.60020634e-07],\n",
              "       [9.99996185e-01],\n",
              "       [8.87447059e-01],\n",
              "       [1.89917460e-01],\n",
              "       [1.00000000e+00],\n",
              "       [9.95634139e-01],\n",
              "       [9.95203435e-01],\n",
              "       [7.75618374e-01],\n",
              "       [2.14751126e-05],\n",
              "       [9.99497592e-01],\n",
              "       [3.43731605e-03],\n",
              "       [7.09933956e-05],\n",
              "       [1.16255932e-01],\n",
              "       [9.97072041e-01],\n",
              "       [6.65505044e-03],\n",
              "       [2.36567506e-03],\n",
              "       [1.05577474e-02],\n",
              "       [1.59650221e-01],\n",
              "       [2.43490972e-02],\n",
              "       [6.50254071e-01],\n",
              "       [9.92164135e-01],\n",
              "       [1.82203114e-01],\n",
              "       [9.99999940e-01],\n",
              "       [1.31932211e-05],\n",
              "       [5.73532416e-05],\n",
              "       [9.58892517e-03],\n",
              "       [6.08526230e-01],\n",
              "       [1.38999383e-06],\n",
              "       [9.99997914e-01],\n",
              "       [9.84023791e-03],\n",
              "       [1.00000000e+00],\n",
              "       [9.99996722e-01],\n",
              "       [5.82388520e-01],\n",
              "       [7.87239969e-02],\n",
              "       [9.99984443e-01],\n",
              "       [1.62711112e-05],\n",
              "       [8.83289814e-01],\n",
              "       [1.65324397e-02],\n",
              "       [7.72874159e-07],\n",
              "       [6.39574416e-03],\n",
              "       [5.36051869e-01],\n",
              "       [7.40133673e-02],\n",
              "       [6.87444699e-04],\n",
              "       [9.99940395e-01],\n",
              "       [5.09714246e-01],\n",
              "       [5.48636615e-02],\n",
              "       [9.82881784e-01],\n",
              "       [1.00000000e+00],\n",
              "       [9.99999583e-01],\n",
              "       [1.14837110e-01],\n",
              "       [6.76662748e-05],\n",
              "       [9.80170057e-07],\n",
              "       [1.00000000e+00],\n",
              "       [3.42732131e-01],\n",
              "       [4.22794255e-04],\n",
              "       [9.99389589e-01],\n",
              "       [1.90295675e-03],\n",
              "       [2.95253266e-02],\n",
              "       [2.12035805e-01],\n",
              "       [9.80739594e-01],\n",
              "       [5.62730420e-04],\n",
              "       [9.99999344e-01],\n",
              "       [1.20474324e-05],\n",
              "       [1.45823651e-05],\n",
              "       [1.86294358e-08],\n",
              "       [1.60241108e-02],\n",
              "       [9.91961539e-01],\n",
              "       [7.42796110e-04],\n",
              "       [2.71784961e-02],\n",
              "       [8.77820194e-01],\n",
              "       [9.99934733e-01],\n",
              "       [8.78389180e-01],\n",
              "       [4.09736603e-01],\n",
              "       [9.99987006e-01],\n",
              "       [2.25554127e-02],\n",
              "       [3.59676957e-01],\n",
              "       [5.34518622e-03],\n",
              "       [2.64633540e-02],\n",
              "       [9.99999642e-01],\n",
              "       [4.53029037e-01],\n",
              "       [2.31049191e-02],\n",
              "       [3.81448248e-04],\n",
              "       [1.00000000e+00],\n",
              "       [1.92709006e-02],\n",
              "       [2.48239171e-02],\n",
              "       [9.99998927e-01],\n",
              "       [8.79382864e-02],\n",
              "       [9.99706388e-01],\n",
              "       [4.52691056e-02],\n",
              "       [1.00000000e+00],\n",
              "       [9.99976516e-01],\n",
              "       [3.71082067e-01],\n",
              "       [1.00000000e+00],\n",
              "       [1.74827874e-02],\n",
              "       [9.72421003e-06],\n",
              "       [9.74217594e-01],\n",
              "       [2.04706099e-02],\n",
              "       [2.14960977e-01],\n",
              "       [1.55645469e-03],\n",
              "       [6.10398531e-01],\n",
              "       [9.99659359e-01],\n",
              "       [2.36390606e-02],\n",
              "       [3.00689226e-05],\n",
              "       [9.95360613e-01],\n",
              "       [9.96589720e-01],\n",
              "       [1.04024459e-03],\n",
              "       [6.94628358e-01],\n",
              "       [8.97861362e-01],\n",
              "       [1.88160166e-02],\n",
              "       [7.80958295e-01],\n",
              "       [6.08696878e-01],\n",
              "       [6.82903901e-02],\n",
              "       [6.95497583e-05],\n",
              "       [3.28460828e-06],\n",
              "       [9.99995708e-01],\n",
              "       [9.99841750e-01],\n",
              "       [2.03577918e-03],\n",
              "       [4.39240634e-02],\n",
              "       [1.54618669e-04],\n",
              "       [1.88234277e-04],\n",
              "       [1.54109493e-01],\n",
              "       [5.73724583e-02],\n",
              "       [9.99832749e-01],\n",
              "       [9.97699082e-01],\n",
              "       [1.62305412e-04],\n",
              "       [9.58877385e-01],\n",
              "       [6.34159371e-02],\n",
              "       [9.99996722e-01],\n",
              "       [9.99999940e-01],\n",
              "       [3.44825280e-03],\n",
              "       [2.14751126e-05],\n",
              "       [5.82877517e-01],\n",
              "       [2.04419647e-03],\n",
              "       [4.76675592e-02],\n",
              "       [8.83695111e-03],\n",
              "       [6.81268796e-02],\n",
              "       [1.84801687e-02],\n",
              "       [9.99991179e-01],\n",
              "       [9.99874711e-01],\n",
              "       [5.35893014e-05],\n",
              "       [2.13669246e-05],\n",
              "       [1.00000000e+00],\n",
              "       [1.01620570e-01],\n",
              "       [7.00620770e-01],\n",
              "       [9.99995291e-01],\n",
              "       [7.62025407e-03],\n",
              "       [9.99999821e-01],\n",
              "       [9.78131056e-01],\n",
              "       [7.87324548e-01],\n",
              "       [5.50789796e-02],\n",
              "       [3.07071228e-02],\n",
              "       [1.31050285e-07],\n",
              "       [2.48389170e-01],\n",
              "       [5.02686389e-02],\n",
              "       [7.34447718e-01],\n",
              "       [8.46324861e-01],\n",
              "       [3.52087706e-01],\n",
              "       [1.00000000e+00],\n",
              "       [9.47198569e-05],\n",
              "       [9.02244568e-01],\n",
              "       [2.61475388e-02],\n",
              "       [6.91199023e-03],\n",
              "       [4.64941701e-03],\n",
              "       [3.14448116e-04],\n",
              "       [5.07978797e-01],\n",
              "       [1.91692278e-01],\n",
              "       [1.07282652e-02],\n",
              "       [4.64614597e-04],\n",
              "       [9.72051144e-01],\n",
              "       [6.87694992e-04],\n",
              "       [9.99997735e-01],\n",
              "       [9.99994755e-01],\n",
              "       [9.74844873e-01],\n",
              "       [1.50437877e-01],\n",
              "       [9.99999762e-01],\n",
              "       [6.76662748e-05],\n",
              "       [8.46168026e-03],\n",
              "       [1.01434044e-03],\n",
              "       [8.54668915e-01],\n",
              "       [9.76071596e-01],\n",
              "       [9.99996841e-01],\n",
              "       [2.00178270e-04],\n",
              "       [2.29443982e-01],\n",
              "       [3.11510414e-02],\n",
              "       [1.19242387e-07],\n",
              "       [7.53878453e-07],\n",
              "       [1.83617743e-03],\n",
              "       [6.34424714e-03],\n",
              "       [1.34390259e-08],\n",
              "       [1.12849348e-08],\n",
              "       [2.56791136e-05],\n",
              "       [1.67313069e-02],\n",
              "       [1.64768542e-04],\n",
              "       [9.06547010e-02],\n",
              "       [2.61948764e-01],\n",
              "       [3.93210803e-06],\n",
              "       [9.99593258e-01],\n",
              "       [2.26322773e-05],\n",
              "       [5.21242945e-03],\n",
              "       [6.42698228e-01],\n",
              "       [4.77457196e-01],\n",
              "       [2.21789978e-03],\n",
              "       [9.96955276e-01],\n",
              "       [7.45065451e-01],\n",
              "       [2.10564248e-02],\n",
              "       [9.99997616e-01],\n",
              "       [1.64558536e-08],\n",
              "       [9.98910666e-01],\n",
              "       [4.45962854e-04],\n",
              "       [9.99997675e-01],\n",
              "       [6.04245409e-09],\n",
              "       [1.82242140e-01],\n",
              "       [9.99999642e-01],\n",
              "       [9.96846318e-01],\n",
              "       [9.99429643e-01],\n",
              "       [8.68893027e-01],\n",
              "       [8.77803564e-01],\n",
              "       [2.17560668e-07],\n",
              "       [9.98735130e-01],\n",
              "       [7.52465241e-03],\n",
              "       [1.62384504e-06],\n",
              "       [9.99982417e-01],\n",
              "       [1.00000000e+00],\n",
              "       [9.91689622e-01],\n",
              "       [2.41361652e-02],\n",
              "       [1.52774677e-01],\n",
              "       [1.00000000e+00],\n",
              "       [9.95549321e-01],\n",
              "       [7.81064987e-01],\n",
              "       [3.44940127e-05],\n",
              "       [1.74290374e-01],\n",
              "       [5.66445291e-01],\n",
              "       [8.92106742e-02],\n",
              "       [4.81078327e-01],\n",
              "       [3.04199039e-05],\n",
              "       [2.66250186e-02],\n",
              "       [1.95574179e-01],\n",
              "       [9.99996722e-01],\n",
              "       [9.99906421e-01],\n",
              "       [4.41609853e-04],\n",
              "       [8.98607366e-04],\n",
              "       [9.96178687e-01],\n",
              "       [2.14268044e-02],\n",
              "       [3.13570723e-03],\n",
              "       [1.71024847e-04],\n",
              "       [9.99946654e-01],\n",
              "       [2.86993361e-03],\n",
              "       [9.99856114e-01],\n",
              "       [7.12638767e-03],\n",
              "       [3.51333022e-01],\n",
              "       [2.02416861e-03],\n",
              "       [6.80424452e-01],\n",
              "       [9.89740193e-01],\n",
              "       [7.87324548e-01],\n",
              "       [9.99999821e-01],\n",
              "       [1.18928790e-01],\n",
              "       [9.90711033e-01],\n",
              "       [5.56313545e-02],\n",
              "       [1.02412096e-05],\n",
              "       [9.93580163e-01],\n",
              "       [1.00000000e+00],\n",
              "       [1.41091973e-01],\n",
              "       [1.00000000e+00],\n",
              "       [1.10805752e-06],\n",
              "       [9.99885798e-01],\n",
              "       [9.99993801e-01],\n",
              "       [9.99996543e-01],\n",
              "       [6.04576571e-03],\n",
              "       [3.52177070e-04],\n",
              "       [8.89969431e-03],\n",
              "       [3.61366460e-06],\n",
              "       [3.31862152e-01],\n",
              "       [9.99997795e-01],\n",
              "       [9.99998033e-01],\n",
              "       [9.38190222e-01],\n",
              "       [8.85425329e-01],\n",
              "       [9.84928370e-01],\n",
              "       [9.99781966e-01],\n",
              "       [9.97281909e-01],\n",
              "       [1.00000000e+00],\n",
              "       [2.07959587e-04],\n",
              "       [2.64284760e-02],\n",
              "       [4.32597917e-05],\n",
              "       [9.99982774e-01],\n",
              "       [4.37993230e-03],\n",
              "       [9.99999702e-01],\n",
              "       [2.01899438e-05],\n",
              "       [9.50403735e-02],\n",
              "       [9.99956846e-01],\n",
              "       [9.93986011e-01],\n",
              "       [5.28164790e-04],\n",
              "       [8.84640089e-04],\n",
              "       [8.23254287e-01],\n",
              "       [8.59614491e-01],\n",
              "       [1.00000000e+00],\n",
              "       [9.99358058e-01],\n",
              "       [1.00000000e+00],\n",
              "       [9.70085859e-01],\n",
              "       [9.21171904e-02],\n",
              "       [1.79750305e-02],\n",
              "       [3.56426998e-03],\n",
              "       [9.65194345e-01],\n",
              "       [6.40068591e-01],\n",
              "       [9.99940872e-01],\n",
              "       [3.17340005e-06],\n",
              "       [1.92595380e-05],\n",
              "       [8.14723313e-01],\n",
              "       [6.51029753e-04],\n",
              "       [2.15519205e-01],\n",
              "       [6.93813264e-01],\n",
              "       [3.41722965e-01],\n",
              "       [9.99997318e-01],\n",
              "       [9.55191970e-01],\n",
              "       [2.19880670e-01],\n",
              "       [8.40036497e-02],\n",
              "       [8.92897606e-01],\n",
              "       [3.57287936e-04],\n",
              "       [9.47155237e-01],\n",
              "       [6.88720820e-03],\n",
              "       [9.86472487e-01],\n",
              "       [7.87324548e-01],\n",
              "       [9.70906913e-01],\n",
              "       [9.99995410e-01],\n",
              "       [9.99999881e-01],\n",
              "       [2.54020244e-01],\n",
              "       [1.69085816e-03],\n",
              "       [1.22364263e-05],\n",
              "       [9.82864738e-01],\n",
              "       [3.63344878e-01],\n",
              "       [2.31842951e-05],\n",
              "       [9.19288278e-01],\n",
              "       [5.47371128e-05]], dtype=float32)"
            ]
          },
          "metadata": {},
          "execution_count": 82
        }
      ]
    },
    {
      "cell_type": "code",
      "source": [
        "model_5_preds = tf.squeeze(tf.round(model_5_preds))\n",
        "model_5_preds[:10]"
      ],
      "metadata": {
        "colab": {
          "base_uri": "https://localhost:8080/"
        },
        "id": "PoDptWlFC2KR",
        "outputId": "cf064b20-89f1-439d-ee62-92d964fd5792"
      },
      "execution_count": null,
      "outputs": [
        {
          "output_type": "execute_result",
          "data": {
            "text/plain": [
              "<tf.Tensor: shape=(10,), dtype=float32, numpy=array([0., 0., 1., 1., 0., 0., 1., 1., 0., 1.], dtype=float32)>"
            ]
          },
          "metadata": {},
          "execution_count": 83
        }
      ]
    },
    {
      "cell_type": "code",
      "source": [
        "calculate_results_advanced(y_true = val_labels, y_pred = model_5_preds)"
      ],
      "metadata": {
        "colab": {
          "base_uri": "https://localhost:8080/"
        },
        "id": "Oa9utfPEC_nd",
        "outputId": "bc444a13-94ae-4d45-e130-f6ac52f4110e"
      },
      "execution_count": null,
      "outputs": [
        {
          "output_type": "execute_result",
          "data": {
            "text/plain": [
              "{'accuracy': 74.24441524310119,\n",
              " 'precision': 0.745717838988172,\n",
              " 'recall': 0.7424441524310118,\n",
              " 'f1': 0.7435675502540654}"
            ]
          },
          "metadata": {},
          "execution_count": 84
        }
      ]
    },
    {
      "cell_type": "code",
      "source": [
        "baseline_results"
      ],
      "metadata": {
        "colab": {
          "base_uri": "https://localhost:8080/"
        },
        "id": "pse2EtOgMzBR",
        "outputId": "f1f7fc07-038e-4205-98a8-dcb1ca3ffc0c"
      },
      "execution_count": null,
      "outputs": [
        {
          "output_type": "execute_result",
          "data": {
            "text/plain": [
              "{'accuracy': 79.89487516425756,\n",
              " 'precision': 0.8095562735335368,\n",
              " 'recall': 0.7989487516425755,\n",
              " 'f1': 0.7905183694503822}"
            ]
          },
          "metadata": {},
          "execution_count": 85
        }
      ]
    },
    {
      "cell_type": "markdown",
      "source": [
        "##Model 6 : Tensorflow Hub Pretrained Sentence Encoder\n",
        "\n",
        "we are using Universal Sentence Encoder\n",
        "https://www.kaggle.com/models/google/universal-sentence-encoder"
      ],
      "metadata": {
        "id": "I2BDyT69H2Ch"
      }
    },
    {
      "cell_type": "code",
      "source": [
        "sample_sentence"
      ],
      "metadata": {
        "colab": {
          "base_uri": "https://localhost:8080/",
          "height": 36
        },
        "id": "UYh_bNhQI2oq",
        "outputId": "50808fb8-9a46-452b-a10d-465919146a86"
      },
      "execution_count": null,
      "outputs": [
        {
          "output_type": "execute_result",
          "data": {
            "text/plain": [
              "'Theres a flood in my street! '"
            ],
            "application/vnd.google.colaboratory.intrinsic+json": {
              "type": "string"
            }
          },
          "metadata": {},
          "execution_count": 86
        }
      ]
    },
    {
      "cell_type": "code",
      "source": [
        "import tensorflow_hub as hub\n",
        "embed = hub.load(\"https://tfhub.dev/google/universal-sentence-encoder/4\")\n",
        "embeddings = embed([\n",
        "     sample_sentence,\n",
        "    \"when you can the universal sentence encoder on a sentences, it turns it into numbers\"])\n",
        "\n",
        "print(embeddings[0][:50])"
      ],
      "metadata": {
        "colab": {
          "base_uri": "https://localhost:8080/"
        },
        "id": "uiMp8izJILP0",
        "outputId": "aaa55c35-5726-4eed-e7ed-1be7ada52c2d"
      },
      "execution_count": null,
      "outputs": [
        {
          "output_type": "stream",
          "name": "stdout",
          "text": [
            "tf.Tensor(\n",
            "[-0.01157025  0.02485911  0.02878051 -0.012715    0.03971541  0.08827761\n",
            "  0.02680988  0.05589838 -0.01068731 -0.00597293  0.00639321 -0.01819516\n",
            "  0.00030816  0.09105889  0.05874645 -0.03180629  0.01512474 -0.05162925\n",
            "  0.00991366 -0.06865345 -0.04209306  0.0267898   0.03011009  0.00321065\n",
            " -0.00337968 -0.04787356  0.0226672  -0.00985927 -0.04063615 -0.01292093\n",
            " -0.04666382  0.05630299 -0.03949255  0.00517682  0.02495827 -0.07014439\n",
            "  0.0287151   0.0494768  -0.00633978 -0.08960193  0.02807119 -0.00808364\n",
            " -0.01360601  0.05998649 -0.10361788 -0.05195372  0.00232958 -0.02332531\n",
            " -0.03758106  0.03327729], shape=(50,), dtype=float32)\n"
          ]
        }
      ]
    },
    {
      "cell_type": "code",
      "source": [
        "embeddings[0].shape #512 dimensional vector"
      ],
      "metadata": {
        "colab": {
          "base_uri": "https://localhost:8080/"
        },
        "id": "JdCWgOGhOW3P",
        "outputId": "07c3972d-6fb0-4f99-cbc8-8eccd3fb3f9c"
      },
      "execution_count": null,
      "outputs": [
        {
          "output_type": "execute_result",
          "data": {
            "text/plain": [
              "TensorShape([512])"
            ]
          },
          "metadata": {},
          "execution_count": 88
        }
      ]
    },
    {
      "cell_type": "code",
      "source": [
        "import tensorflow as tf\n",
        "import tensorflow_hub as hub\n",
        "\n",
        "# Create a Keras layer using the Universal Sentence Encoder\n",
        "sentence_encoder_layer = hub.KerasLayer(\n",
        "    \"https://tfhub.dev/google/universal-sentence-encoder/4\",  # URL of the pre-trained model\n",
        "    input_shape=[],        # Input shape is set to an empty list, meaning it accepts any input size\n",
        "    dtype=tf.string,       # The input data type is a string (i.e., sentences)\n",
        "    trainable=False,       # The layer is non-trainable, so the pre-trained weights will not be updated\n",
        "    name=\"USE\"             # Name of the layer\n",
        ")\n"
      ],
      "metadata": {
        "id": "DF9KZr-aQ-Og"
      },
      "execution_count": null,
      "outputs": []
    },
    {
      "cell_type": "code",
      "source": [
        "#pip uninstall -y tensorflow tf-keras\n"
      ],
      "metadata": {
        "id": "Znjikdw0XAaG"
      },
      "execution_count": null,
      "outputs": []
    },
    {
      "cell_type": "code",
      "source": [
        "\n",
        "#pip install tensorflow==2.15"
      ],
      "metadata": {
        "id": "AYp_dcFoXMHk"
      },
      "execution_count": null,
      "outputs": []
    },
    {
      "cell_type": "code",
      "source": [
        "import tf_keras\n",
        "model_6 = tf_keras.Sequential([\n",
        "    sentence_encoder_layer,\n",
        "    tf_keras.layers.Dense(64, activation = \"relu\"),\n",
        "    tf_keras.layers.Dense(1, activation = \"sigmoid\", name= \"output_layer\")\n",
        "], name = \"model_6_USE\")\n",
        "\n",
        "model_6.compile(loss = \"binary_crossentropy\",\n",
        "                optimizer = tf_keras.optimizers.Adam(),\n",
        "                metrics = ['accuracy'])\n",
        "model_6.summary()"
      ],
      "metadata": {
        "colab": {
          "base_uri": "https://localhost:8080/"
        },
        "id": "4NWSrn8iSZIc",
        "outputId": "c4eda00a-1faa-4bc7-c5fe-8b692e2ddcb2"
      },
      "execution_count": null,
      "outputs": [
        {
          "output_type": "stream",
          "name": "stdout",
          "text": [
            "Model: \"model_6_USE\"\n",
            "_________________________________________________________________\n",
            " Layer (type)                Output Shape              Param #   \n",
            "=================================================================\n",
            " USE (KerasLayer)            (None, 512)               256797824 \n",
            "                                                                 \n",
            " dense (Dense)               (None, 64)                32832     \n",
            "                                                                 \n",
            " output_layer (Dense)        (None, 1)                 65        \n",
            "                                                                 \n",
            "=================================================================\n",
            "Total params: 256830721 (979.73 MB)\n",
            "Trainable params: 32897 (128.50 KB)\n",
            "Non-trainable params: 256797824 (979.61 MB)\n",
            "_________________________________________________________________\n"
          ]
        }
      ]
    },
    {
      "cell_type": "code",
      "source": [
        "#pip install --upgrade tensorflow tensorflow-hub tensorboard\n"
      ],
      "metadata": {
        "id": "PW5SVBU6dZvw"
      },
      "execution_count": null,
      "outputs": []
    },
    {
      "cell_type": "code",
      "source": [
        "model_6_history = model_6.fit(\n",
        "    train_sentences,\n",
        "    train_labels,\n",
        "    epochs = 5,\n",
        "    validation_data= (val_sentences, val_labels),\n",
        "\n",
        ")"
      ],
      "metadata": {
        "colab": {
          "base_uri": "https://localhost:8080/"
        },
        "id": "TlvB9lWIbtUu",
        "outputId": "87a5cbcc-484a-4501-f612-faac639b941d"
      },
      "execution_count": null,
      "outputs": [
        {
          "output_type": "stream",
          "name": "stdout",
          "text": [
            "Epoch 1/5\n",
            "215/215 [==============================] - 7s 15ms/step - loss: 0.5077 - accuracy: 0.7828 - val_loss: 0.4355 - val_accuracy: 0.7937\n",
            "Epoch 2/5\n",
            "215/215 [==============================] - 3s 12ms/step - loss: 0.4156 - accuracy: 0.8182 - val_loss: 0.4250 - val_accuracy: 0.8029\n",
            "Epoch 3/5\n",
            "215/215 [==============================] - 3s 13ms/step - loss: 0.4024 - accuracy: 0.8236 - val_loss: 0.4246 - val_accuracy: 0.8029\n",
            "Epoch 4/5\n",
            "215/215 [==============================] - 4s 19ms/step - loss: 0.3935 - accuracy: 0.8279 - val_loss: 0.4208 - val_accuracy: 0.8081\n",
            "Epoch 5/5\n",
            "215/215 [==============================] - 3s 12ms/step - loss: 0.3867 - accuracy: 0.8320 - val_loss: 0.4192 - val_accuracy: 0.8081\n"
          ]
        }
      ]
    },
    {
      "cell_type": "code",
      "source": [
        "model_6_preds = tf.squeeze(tf.round(model_6.predict(val_sentences)))\n",
        "model_6_preds[:10]"
      ],
      "metadata": {
        "colab": {
          "base_uri": "https://localhost:8080/"
        },
        "id": "efp_xcKHedYT",
        "outputId": "7cf0ada0-2151-4db3-c942-0f113d1db6de"
      },
      "execution_count": null,
      "outputs": [
        {
          "output_type": "stream",
          "name": "stdout",
          "text": [
            "24/24 [==============================] - 1s 10ms/step\n"
          ]
        },
        {
          "output_type": "execute_result",
          "data": {
            "text/plain": [
              "<tf.Tensor: shape=(10,), dtype=float32, numpy=array([0., 0., 1., 1., 0., 1., 1., 1., 0., 0.], dtype=float32)>"
            ]
          },
          "metadata": {},
          "execution_count": 95
        }
      ]
    },
    {
      "cell_type": "code",
      "source": [
        "model_6_results = calculate_results_advanced(val_labels, model_6_preds)\n",
        "model_6_results"
      ],
      "metadata": {
        "colab": {
          "base_uri": "https://localhost:8080/"
        },
        "id": "5k60iikzescY",
        "outputId": "ac356a41-dfbf-403a-e59c-96f058cf91cb"
      },
      "execution_count": null,
      "outputs": [
        {
          "output_type": "execute_result",
          "data": {
            "text/plain": [
              "{'accuracy': 80.81471747700394,\n",
              " 'precision': 0.8070251260667504,\n",
              " 'recall': 0.8081471747700394,\n",
              " 'f1': 0.806885296163228}"
            ]
          },
          "metadata": {},
          "execution_count": 96
        }
      ]
    },
    {
      "cell_type": "code",
      "source": [
        "baseline_results"
      ],
      "metadata": {
        "colab": {
          "base_uri": "https://localhost:8080/"
        },
        "id": "8kqPK8oihXFk",
        "outputId": "22e1ada3-6364-4b87-e88b-e671e54d843e"
      },
      "execution_count": null,
      "outputs": [
        {
          "output_type": "execute_result",
          "data": {
            "text/plain": [
              "{'accuracy': 79.89487516425756,\n",
              " 'precision': 0.8095562735335368,\n",
              " 'recall': 0.7989487516425755,\n",
              " 'f1': 0.7905183694503822}"
            ]
          },
          "metadata": {},
          "execution_count": 97
        }
      ]
    },
    {
      "cell_type": "markdown",
      "source": [
        "#Model 7 : TF hub pretrained USE with 10 % data\n",
        "\n",
        "transfer learning really helps when used on a smaller dataset, lets replicate'model_6' except we use 10% data"
      ],
      "metadata": {
        "id": "nconORGghzkT"
      }
    },
    {
      "cell_type": "markdown",
      "source": [
        "###create 10 % of the data"
      ],
      "metadata": {
        "id": "XMM7FrfRnfW1"
      }
    },
    {
      "cell_type": "code",
      "source": [
        "train_10_percent = train_data_shuffled[[\"text\", \"target\"]].sample(frac = 0.1, random_state = 42)"
      ],
      "metadata": {
        "id": "f-xUHos3nT-f"
      },
      "execution_count": null,
      "outputs": []
    },
    {
      "cell_type": "code",
      "source": [
        "#WARNING: Making data splits like below leads to data leakage\n",
        "#DO NOT MAKE DATA SPLITS WHICH LEAK DATA FROM VALIDATION/ TEST SETS INTO TRAINING SETS\n",
        "# train_sentences_10_percent = train_10_percent[\"text\"].to_list()\n",
        "\n",
        "# train_labels_10_percent = train_10_percent[\"target\"].to_list()\n"
      ],
      "metadata": {
        "id": "RXxHLEnDoo67"
      },
      "execution_count": null,
      "outputs": []
    },
    {
      "cell_type": "code",
      "source": [
        "# fining the total number sentences/labels to be put into train sentences/labels\n",
        "\n",
        "train_sen =int(0.1 * len(train_sentences))\n",
        "train_lab = int(0.1* len(train_labels))"
      ],
      "metadata": {
        "id": "CELSUyf0isVg"
      },
      "execution_count": null,
      "outputs": []
    },
    {
      "cell_type": "code",
      "source": [
        "train_sentences_10_percent = train_sentences[:train_sen]\n",
        "train_labels_10_percent = train_labels[:train_lab]\n",
        "train_labels[:10]"
      ],
      "metadata": {
        "colab": {
          "base_uri": "https://localhost:8080/"
        },
        "id": "-0vKTL8ZSXY9",
        "outputId": "ff01965c-3a4d-43ea-ce72-575b1279b062"
      },
      "execution_count": null,
      "outputs": [
        {
          "output_type": "execute_result",
          "data": {
            "text/plain": [
              "array([0, 0, 1, 1, 1, 1, 1, 1, 1, 0])"
            ]
          },
          "metadata": {},
          "execution_count": 101
        }
      ]
    },
    {
      "cell_type": "code",
      "source": [
        "#check number of each label\n",
        "pd.Series(np.array(train_labels_10_percent)).value_counts()"
      ],
      "metadata": {
        "colab": {
          "base_uri": "https://localhost:8080/",
          "height": 147
        },
        "id": "WbWl2MWbkabm",
        "outputId": "5faee9ce-6f21-44ab-a77d-f2d6df5f570e"
      },
      "execution_count": null,
      "outputs": [
        {
          "output_type": "execute_result",
          "data": {
            "text/plain": [
              "0    364\n",
              "1    321\n",
              "Name: count, dtype: int64"
            ],
            "text/html": [
              "<div>\n",
              "<style scoped>\n",
              "    .dataframe tbody tr th:only-of-type {\n",
              "        vertical-align: middle;\n",
              "    }\n",
              "\n",
              "    .dataframe tbody tr th {\n",
              "        vertical-align: top;\n",
              "    }\n",
              "\n",
              "    .dataframe thead th {\n",
              "        text-align: right;\n",
              "    }\n",
              "</style>\n",
              "<table border=\"1\" class=\"dataframe\">\n",
              "  <thead>\n",
              "    <tr style=\"text-align: right;\">\n",
              "      <th></th>\n",
              "      <th>count</th>\n",
              "    </tr>\n",
              "  </thead>\n",
              "  <tbody>\n",
              "    <tr>\n",
              "      <th>0</th>\n",
              "      <td>364</td>\n",
              "    </tr>\n",
              "    <tr>\n",
              "      <th>1</th>\n",
              "      <td>321</td>\n",
              "    </tr>\n",
              "  </tbody>\n",
              "</table>\n",
              "</div><br><label><b>dtype:</b> int64</label>"
            ]
          },
          "metadata": {},
          "execution_count": 102
        }
      ]
    },
    {
      "cell_type": "code",
      "source": [
        "train_10_percent[\"target\"].value_counts() #not needed"
      ],
      "metadata": {
        "colab": {
          "base_uri": "https://localhost:8080/",
          "height": 178
        },
        "id": "vPLpT_K1qieO",
        "outputId": "9f322afe-55a0-4125-b4bd-454f61642b8d"
      },
      "execution_count": null,
      "outputs": [
        {
          "output_type": "execute_result",
          "data": {
            "text/plain": [
              "target\n",
              "0    413\n",
              "1    348\n",
              "Name: count, dtype: int64"
            ],
            "text/html": [
              "<div>\n",
              "<style scoped>\n",
              "    .dataframe tbody tr th:only-of-type {\n",
              "        vertical-align: middle;\n",
              "    }\n",
              "\n",
              "    .dataframe tbody tr th {\n",
              "        vertical-align: top;\n",
              "    }\n",
              "\n",
              "    .dataframe thead th {\n",
              "        text-align: right;\n",
              "    }\n",
              "</style>\n",
              "<table border=\"1\" class=\"dataframe\">\n",
              "  <thead>\n",
              "    <tr style=\"text-align: right;\">\n",
              "      <th></th>\n",
              "      <th>count</th>\n",
              "    </tr>\n",
              "    <tr>\n",
              "      <th>target</th>\n",
              "      <th></th>\n",
              "    </tr>\n",
              "  </thead>\n",
              "  <tbody>\n",
              "    <tr>\n",
              "      <th>0</th>\n",
              "      <td>413</td>\n",
              "    </tr>\n",
              "    <tr>\n",
              "      <th>1</th>\n",
              "      <td>348</td>\n",
              "    </tr>\n",
              "  </tbody>\n",
              "</table>\n",
              "</div><br><label><b>dtype:</b> int64</label>"
            ]
          },
          "metadata": {},
          "execution_count": 103
        }
      ]
    },
    {
      "cell_type": "code",
      "source": [
        "train_data_shuffled[\"target\"].value_counts() #not needed"
      ],
      "metadata": {
        "colab": {
          "base_uri": "https://localhost:8080/",
          "height": 178
        },
        "id": "qcMOBXPSqz_7",
        "outputId": "c2c10968-19c3-4c44-f733-4b1790841a8c"
      },
      "execution_count": null,
      "outputs": [
        {
          "output_type": "execute_result",
          "data": {
            "text/plain": [
              "target\n",
              "0    4342\n",
              "1    3271\n",
              "Name: count, dtype: int64"
            ],
            "text/html": [
              "<div>\n",
              "<style scoped>\n",
              "    .dataframe tbody tr th:only-of-type {\n",
              "        vertical-align: middle;\n",
              "    }\n",
              "\n",
              "    .dataframe tbody tr th {\n",
              "        vertical-align: top;\n",
              "    }\n",
              "\n",
              "    .dataframe thead th {\n",
              "        text-align: right;\n",
              "    }\n",
              "</style>\n",
              "<table border=\"1\" class=\"dataframe\">\n",
              "  <thead>\n",
              "    <tr style=\"text-align: right;\">\n",
              "      <th></th>\n",
              "      <th>count</th>\n",
              "    </tr>\n",
              "    <tr>\n",
              "      <th>target</th>\n",
              "      <th></th>\n",
              "    </tr>\n",
              "  </thead>\n",
              "  <tbody>\n",
              "    <tr>\n",
              "      <th>0</th>\n",
              "      <td>4342</td>\n",
              "    </tr>\n",
              "    <tr>\n",
              "      <th>1</th>\n",
              "      <td>3271</td>\n",
              "    </tr>\n",
              "  </tbody>\n",
              "</table>\n",
              "</div><br><label><b>dtype:</b> int64</label>"
            ]
          },
          "metadata": {},
          "execution_count": 104
        }
      ]
    },
    {
      "cell_type": "code",
      "source": [
        "from tf_keras.callbacks import EarlyStopping, ModelCheckpoint"
      ],
      "metadata": {
        "id": "t62pSn3sqNhU"
      },
      "execution_count": null,
      "outputs": []
    },
    {
      "cell_type": "code",
      "source": [
        "model_7 = tf_keras.Sequential([\n",
        "    sentence_encoder_layer,\n",
        "    tf_keras.layers.Dense(64, activation = \"relu\"),\n",
        "    tf_keras.layers.Dense(1, activation = \"sigmoid\")\n",
        "], name = \"model_8_USE_10\")\n",
        "\n",
        "model_7.compile(loss = \"binary_crossentropy\",\n",
        "                optimizer = tf_keras.optimizers.Adam(),\n",
        "                metrics = [\"accuracy\"]\n",
        "                )\n",
        "model_7.summary()\n"
      ],
      "metadata": {
        "colab": {
          "base_uri": "https://localhost:8080/"
        },
        "id": "CmIAuvo9-da6",
        "outputId": "eb85c24a-8d19-430a-edf2-b3a44b2b99f1"
      },
      "execution_count": null,
      "outputs": [
        {
          "output_type": "stream",
          "name": "stdout",
          "text": [
            "Model: \"model_8_USE_10\"\n",
            "_________________________________________________________________\n",
            " Layer (type)                Output Shape              Param #   \n",
            "=================================================================\n",
            " USE (KerasLayer)            (None, 512)               256797824 \n",
            "                                                                 \n",
            " dense_1 (Dense)             (None, 64)                32832     \n",
            "                                                                 \n",
            " dense_2 (Dense)             (None, 1)                 65        \n",
            "                                                                 \n",
            "=================================================================\n",
            "Total params: 256830721 (979.73 MB)\n",
            "Trainable params: 32897 (128.50 KB)\n",
            "Non-trainable params: 256797824 (979.61 MB)\n",
            "_________________________________________________________________\n"
          ]
        }
      ]
    },
    {
      "cell_type": "code",
      "source": [
        "model_7_history= model_7.fit(train_sentences_10_percent,\n",
        "            train_labels_10_percent,\n",
        "            epochs = 5,\n",
        "            validation_data=(val_sentences, val_labels),\n",
        "            )"
      ],
      "metadata": {
        "colab": {
          "base_uri": "https://localhost:8080/"
        },
        "id": "8JISvHn4q6_j",
        "outputId": "3aad67e6-c1ab-4769-b097-32ca27f3d391"
      },
      "execution_count": null,
      "outputs": [
        {
          "output_type": "stream",
          "name": "stdout",
          "text": [
            "Epoch 1/5\n",
            "22/22 [==============================] - 2s 49ms/step - loss: 0.6729 - accuracy: 0.6934 - val_loss: 0.6499 - val_accuracy: 0.7582\n",
            "Epoch 2/5\n",
            "22/22 [==============================] - 1s 26ms/step - loss: 0.6100 - accuracy: 0.7869 - val_loss: 0.5912 - val_accuracy: 0.7622\n",
            "Epoch 3/5\n",
            "22/22 [==============================] - 1s 23ms/step - loss: 0.5393 - accuracy: 0.7985 - val_loss: 0.5392 - val_accuracy: 0.7661\n",
            "Epoch 4/5\n",
            "22/22 [==============================] - 1s 26ms/step - loss: 0.4794 - accuracy: 0.8102 - val_loss: 0.5047 - val_accuracy: 0.7753\n",
            "Epoch 5/5\n",
            "22/22 [==============================] - 0s 22ms/step - loss: 0.4399 - accuracy: 0.8234 - val_loss: 0.4832 - val_accuracy: 0.7819\n"
          ]
        }
      ]
    },
    {
      "cell_type": "code",
      "source": [
        "model_7_preds = tf.squeeze(tf.round(model_7.predict(val_sentences)))\n",
        "model_7_preds"
      ],
      "metadata": {
        "colab": {
          "base_uri": "https://localhost:8080/"
        },
        "id": "FKmHSzNmMyl4",
        "outputId": "10e3b31e-7ff7-4833-abb8-a677ed3cd33e"
      },
      "execution_count": null,
      "outputs": [
        {
          "output_type": "stream",
          "name": "stdout",
          "text": [
            "24/24 [==============================] - 1s 17ms/step\n"
          ]
        },
        {
          "output_type": "execute_result",
          "data": {
            "text/plain": [
              "<tf.Tensor: shape=(761,), dtype=float32, numpy=\n",
              "array([0., 0., 1., 1., 0., 1., 1., 1., 0., 0., 0., 0., 0., 0., 0., 0., 0.,\n",
              "       0., 0., 0., 0., 0., 0., 1., 0., 1., 0., 0., 0., 0., 1., 0., 0., 0.,\n",
              "       0., 0., 0., 0., 1., 0., 1., 0., 1., 0., 0., 1., 0., 0., 0., 1., 0.,\n",
              "       0., 0., 1., 0., 1., 0., 0., 0., 0., 1., 0., 0., 0., 0., 0., 0., 1.,\n",
              "       0., 0., 1., 0., 0., 1., 0., 0., 0., 1., 0., 0., 0., 1., 0., 0., 1.,\n",
              "       0., 0., 1., 0., 0., 1., 1., 0., 0., 0., 1., 1., 1., 1., 1., 0., 1.,\n",
              "       1., 0., 1., 1., 0., 0., 0., 1., 0., 0., 1., 1., 1., 1., 1., 1., 0.,\n",
              "       0., 1., 0., 1., 1., 1., 0., 1., 0., 0., 0., 0., 1., 1., 0., 1., 1.,\n",
              "       1., 0., 1., 1., 0., 0., 0., 1., 0., 0., 0., 0., 1., 0., 1., 0., 0.,\n",
              "       1., 0., 0., 1., 0., 0., 0., 1., 1., 0., 0., 1., 1., 0., 0., 0., 1.,\n",
              "       1., 1., 0., 1., 0., 0., 0., 1., 1., 0., 1., 0., 0., 1., 1., 0., 1.,\n",
              "       0., 0., 0., 1., 0., 1., 0., 1., 0., 1., 0., 0., 0., 0., 0., 1., 0.,\n",
              "       0., 1., 1., 0., 0., 0., 0., 0., 0., 0., 0., 1., 0., 1., 1., 0., 1.,\n",
              "       1., 1., 0., 1., 1., 0., 0., 0., 0., 0., 1., 1., 0., 1., 1., 0., 0.,\n",
              "       0., 0., 0., 0., 0., 1., 0., 1., 1., 0., 0., 0., 0., 0., 1., 0., 1.,\n",
              "       0., 0., 1., 0., 0., 1., 0., 0., 0., 0., 1., 1., 1., 0., 0., 0., 1.,\n",
              "       0., 1., 0., 0., 1., 0., 0., 1., 0., 1., 0., 1., 0., 0., 1., 0., 1.,\n",
              "       1., 1., 1., 1., 0., 0., 1., 0., 1., 0., 1., 1., 0., 1., 1., 1., 0.,\n",
              "       1., 1., 0., 0., 1., 0., 1., 0., 0., 1., 1., 1., 1., 1., 0., 0., 0.,\n",
              "       0., 0., 0., 0., 0., 0., 1., 1., 1., 1., 1., 0., 0., 0., 0., 0., 1.,\n",
              "       0., 0., 0., 1., 0., 0., 1., 1., 0., 0., 1., 0., 1., 0., 0., 0., 0.,\n",
              "       0., 0., 0., 1., 0., 0., 0., 0., 1., 0., 0., 0., 0., 1., 0., 0., 1.,\n",
              "       0., 0., 1., 0., 0., 1., 1., 0., 1., 1., 1., 0., 0., 0., 0., 1., 0.,\n",
              "       0., 1., 0., 0., 1., 0., 1., 0., 1., 0., 1., 0., 1., 0., 0., 0., 1.,\n",
              "       0., 1., 1., 1., 0., 0., 0., 1., 1., 0., 1., 1., 0., 0., 0., 0., 0.,\n",
              "       0., 1., 0., 0., 1., 0., 0., 0., 1., 1., 1., 0., 1., 1., 0., 0., 0.,\n",
              "       0., 0., 1., 0., 0., 0., 0., 0., 0., 1., 0., 0., 0., 1., 0., 1., 0.,\n",
              "       1., 1., 1., 0., 1., 0., 0., 1., 0., 1., 1., 1., 1., 1., 0., 0., 0.,\n",
              "       1., 1., 0., 0., 1., 1., 0., 1., 1., 0., 0., 0., 0., 0., 1., 1., 0.,\n",
              "       0., 1., 1., 1., 1., 0., 1., 0., 1., 1., 0., 0., 1., 0., 1., 1., 0.,\n",
              "       0., 1., 0., 0., 1., 0., 0., 0., 1., 1., 0., 1., 0., 0., 1., 0., 0.,\n",
              "       0., 0., 1., 0., 0., 0., 1., 0., 0., 0., 1., 1., 1., 1., 0., 0., 0.,\n",
              "       1., 0., 0., 0., 0., 1., 0., 1., 1., 0., 1., 0., 1., 1., 1., 1., 0.,\n",
              "       0., 1., 0., 1., 0., 1., 1., 0., 0., 1., 0., 1., 1., 0., 1., 1., 0.,\n",
              "       0., 0., 0., 0., 1., 0., 1., 0., 1., 1., 0., 0., 0., 0., 0., 1., 1.,\n",
              "       0., 0., 0., 0., 1., 1., 1., 1., 1., 0., 0., 0., 0., 1., 1., 0., 0.,\n",
              "       0., 0., 0., 0., 0., 1., 0., 0., 0., 0., 0., 0., 0., 1., 1., 0., 1.,\n",
              "       0., 0., 1., 0., 0., 1., 0., 0., 0., 1., 0., 0., 1., 1., 0., 0., 1.,\n",
              "       0., 1., 0., 0., 1., 1., 1., 0., 0., 1., 1., 0., 0., 0., 0., 0., 0.,\n",
              "       0., 0., 0., 1., 1., 0., 0., 1., 0., 0., 0., 1., 0., 1., 0., 0., 1.,\n",
              "       1., 1., 0., 1., 0., 1., 1., 0., 0., 1., 0., 1., 0., 1., 1., 0., 0.,\n",
              "       0., 0., 0., 0., 1., 1., 0., 0., 1., 1., 1., 1., 0., 1., 0., 1., 0.,\n",
              "       1., 0., 0., 1., 1., 0., 0., 1., 1., 1., 0., 1., 0., 0., 0., 0., 0.,\n",
              "       0., 1., 0., 0., 1., 0., 0., 1., 0., 1., 1., 1., 0., 1., 0., 1., 0.,\n",
              "       1., 0., 1., 1., 1., 0., 0., 0., 1., 0., 0., 1., 0.], dtype=float32)>"
            ]
          },
          "metadata": {},
          "execution_count": 108
        }
      ]
    },
    {
      "cell_type": "code",
      "source": [
        "model_7_results = calculate_results_advanced(val_labels, model_7_preds)\n",
        "model_7_results"
      ],
      "metadata": {
        "colab": {
          "base_uri": "https://localhost:8080/"
        },
        "id": "_IOV3CicNVMd",
        "outputId": "e9d2c674-dcc4-4bcb-90a5-943c488f1915"
      },
      "execution_count": null,
      "outputs": [
        {
          "output_type": "execute_result",
          "data": {
            "text/plain": [
              "{'accuracy': 78.18659658344284,\n",
              " 'precision': 0.7816502524289961,\n",
              " 'recall': 0.7818659658344284,\n",
              " 'f1': 0.7817526181847266}"
            ]
          },
          "metadata": {},
          "execution_count": 109
        }
      ]
    },
    {
      "cell_type": "markdown",
      "source": [
        "#Saving and loading Trained Model\n",
        "There are two formats:-\n",
        "1. HDF5 format (more compatble when not using tensoflow)\n",
        "2. The SavedModel format (default)"
      ],
      "metadata": {
        "id": "EfskUFmqN6fN"
      }
    },
    {
      "cell_type": "code",
      "source": [
        "#HDF5\n",
        "model_6_results #best one till now"
      ],
      "metadata": {
        "colab": {
          "base_uri": "https://localhost:8080/"
        },
        "id": "Et0KvI4qOMVj",
        "outputId": "9ad5f331-1163-42ec-f35a-6f6e788345ad"
      },
      "execution_count": null,
      "outputs": [
        {
          "output_type": "execute_result",
          "data": {
            "text/plain": [
              "{'accuracy': 80.81471747700394,\n",
              " 'precision': 0.8070251260667504,\n",
              " 'recall': 0.8081471747700394,\n",
              " 'f1': 0.806885296163228}"
            ]
          },
          "metadata": {},
          "execution_count": 110
        }
      ]
    },
    {
      "cell_type": "code",
      "source": [
        "model_6.save(\"model_6.h5\")"
      ],
      "metadata": {
        "colab": {
          "base_uri": "https://localhost:8080/"
        },
        "id": "26IydEbtRT2f",
        "outputId": "beadace9-b370-465f-db23-55e10ccac8da"
      },
      "execution_count": null,
      "outputs": [
        {
          "output_type": "stream",
          "name": "stderr",
          "text": [
            "/usr/local/lib/python3.10/dist-packages/tf_keras/src/engine/training.py:3098: UserWarning: You are saving your model as an HDF5 file via `model.save()`. This file format is considered legacy. We recommend using instead the native TF-Keras format, e.g. `model.save('my_model.keras')`.\n",
            "  saving_api.save_model(\n"
          ]
        }
      ]
    },
    {
      "cell_type": "code",
      "source": [
        "loaded_model_6 = tf_keras.models.load_model(\"model_6.h5\",\n",
        "                                            custom_objects={\"KerasLayer\": hub.KerasLayer})"
      ],
      "metadata": {
        "id": "a4qTNchsRdC9"
      },
      "execution_count": null,
      "outputs": []
    },
    {
      "cell_type": "code",
      "source": [
        "loaded_model_6.evaluate(val_sentences, val_labels)"
      ],
      "metadata": {
        "colab": {
          "base_uri": "https://localhost:8080/"
        },
        "id": "9zsypqjgTbhJ",
        "outputId": "cc33c80d-2a15-4312-973e-78e299ca75c0"
      },
      "execution_count": null,
      "outputs": [
        {
          "output_type": "stream",
          "name": "stdout",
          "text": [
            "24/24 [==============================] - 1s 10ms/step - loss: 0.4192 - accuracy: 0.8081\n"
          ]
        },
        {
          "output_type": "execute_result",
          "data": {
            "text/plain": [
              "[0.4192354381084442, 0.8081471920013428]"
            ]
          },
          "metadata": {},
          "execution_count": 113
        }
      ]
    },
    {
      "cell_type": "code",
      "source": [
        "#saved model format\n",
        "model_6.save(\"model_6_SavedModel_format\") # no extension needed (stores in a folder)"
      ],
      "metadata": {
        "id": "5UAQzbNtTyjZ"
      },
      "execution_count": null,
      "outputs": []
    },
    {
      "cell_type": "markdown",
      "source": [
        "##Load a trained model"
      ],
      "metadata": {
        "id": "uF_sU1f72_x-"
      }
    },
    {
      "cell_type": "code",
      "source": [
        "model_6_SavedModel = tf_keras.models.load_model(\"model_6_SavedModel_format\") #no custom object needed"
      ],
      "metadata": {
        "id": "w6a9ORg4UEbx"
      },
      "execution_count": null,
      "outputs": []
    },
    {
      "cell_type": "code",
      "source": [
        "model_6_SavedModel.evaluate(val_sentences,val_labels)"
      ],
      "metadata": {
        "colab": {
          "base_uri": "https://localhost:8080/"
        },
        "id": "2ok6hkhqUXE6",
        "outputId": "751f2be9-192e-4132-9d56-4dd91b182f38"
      },
      "execution_count": null,
      "outputs": [
        {
          "output_type": "stream",
          "name": "stdout",
          "text": [
            "24/24 [==============================] - 1s 10ms/step - loss: 0.4192 - accuracy: 0.8081\n"
          ]
        },
        {
          "output_type": "execute_result",
          "data": {
            "text/plain": [
              "[0.4192354381084442, 0.8081471920013428]"
            ]
          },
          "metadata": {},
          "execution_count": 116
        }
      ]
    },
    {
      "cell_type": "markdown",
      "source": [
        "#To download"
      ],
      "metadata": {
        "id": "UM76iy2tU8Hy"
      }
    },
    {
      "cell_type": "code",
      "source": [
        "# from google.colab import files\n",
        "# files.download('model_6_SavedModel_format')"
      ],
      "metadata": {
        "id": "m7BhCB7PVGId"
      },
      "execution_count": null,
      "outputs": []
    },
    {
      "cell_type": "markdown",
      "source": [
        "#Finding the most wrong examples\n",
        "we have to find which of the exaples is our model getting wrong\n",
        "\n",
        "for example if a sample should have a label 0 but our model predicts a prediction probability of 0.999(really close to 1) and vice versa.\n"
      ],
      "metadata": {
        "id": "AQzLsyWkYLsY"
      }
    },
    {
      "cell_type": "code",
      "source": [
        "!wget https://storage.googleapis.com/ztm_tf_course/08_model_6_USE_feature_extractor.zip"
      ],
      "metadata": {
        "colab": {
          "base_uri": "https://localhost:8080/"
        },
        "id": "QcuWJn2k19HH",
        "outputId": "05ac7738-447c-42e1-bd37-249d40efca11"
      },
      "execution_count": null,
      "outputs": [
        {
          "output_type": "stream",
          "name": "stdout",
          "text": [
            "--2024-09-14 12:09:01--  https://storage.googleapis.com/ztm_tf_course/08_model_6_USE_feature_extractor.zip\n",
            "Resolving storage.googleapis.com (storage.googleapis.com)... 142.250.65.123, 172.217.15.251, 172.217.164.27, ...\n",
            "Connecting to storage.googleapis.com (storage.googleapis.com)|142.250.65.123|:443... connected.\n",
            "HTTP request sent, awaiting response... 200 OK\n",
            "Length: 960779165 (916M) [application/zip]\n",
            "Saving to: ‘08_model_6_USE_feature_extractor.zip’\n",
            "\n",
            "08_model_6_USE_feat 100%[===================>] 916.27M  55.7MB/s    in 22s     \n",
            "\n",
            "2024-09-14 12:09:23 (40.7 MB/s) - ‘08_model_6_USE_feature_extractor.zip’ saved [960779165/960779165]\n",
            "\n"
          ]
        }
      ]
    },
    {
      "cell_type": "code",
      "source": [
        "!unzip /content/08_model_6_USE_feature_extractor.zip"
      ],
      "metadata": {
        "colab": {
          "base_uri": "https://localhost:8080/"
        },
        "id": "zQqtUcQ5P96n",
        "outputId": "505811e8-cd58-4350-ff9e-2c1c1b134534"
      },
      "execution_count": null,
      "outputs": [
        {
          "output_type": "stream",
          "name": "stdout",
          "text": [
            "Archive:  /content/08_model_6_USE_feature_extractor.zip\n",
            "   creating: 08_model_6_USE_feature_extractor/\n",
            "   creating: 08_model_6_USE_feature_extractor/assets/\n",
            "   creating: 08_model_6_USE_feature_extractor/variables/\n",
            "  inflating: 08_model_6_USE_feature_extractor/variables/variables.data-00000-of-00001  \n",
            "  inflating: 08_model_6_USE_feature_extractor/variables/variables.index  \n",
            "  inflating: 08_model_6_USE_feature_extractor/saved_model.pb  \n"
          ]
        }
      ]
    },
    {
      "cell_type": "code",
      "source": [
        "model_6_pretrained_model = tf_keras.models.load_model(\"/content/08_model_6_USE_feature_extractor\")\n",
        "model_6_pretrained_model.evaluate(val_sentences, val_labels)"
      ],
      "metadata": {
        "colab": {
          "base_uri": "https://localhost:8080/"
        },
        "id": "F-vN6dseQEqC",
        "outputId": "519779ac-295c-4d57-e204-33f7266cd26f"
      },
      "execution_count": null,
      "outputs": [
        {
          "output_type": "stream",
          "name": "stderr",
          "text": [
            "WARNING:tensorflow:SavedModel saved prior to TF 2.5 detected when loading Keras model. Please ensure that you are saving the model with model.save() or tf.keras.models.save_model(), *NOT* tf.saved_model.save(). To confirm, there should be a file named \"keras_metadata.pb\" in the SavedModel directory.\n"
          ]
        },
        {
          "output_type": "stream",
          "name": "stdout",
          "text": [
            "24/24 [==============================] - 1s 10ms/step - loss: 0.3702 - accuracy: 0.8397\n"
          ]
        },
        {
          "output_type": "execute_result",
          "data": {
            "text/plain": [
              "[0.37024760246276855, 0.8396846055984497]"
            ]
          },
          "metadata": {},
          "execution_count": 120
        }
      ]
    },
    {
      "cell_type": "code",
      "source": [
        "model_6_pred_prob = model_6_pretrained_model.predict(val_sentences)\n",
        "model_6_pred = tf.squeeze(tf.round(model_6_pred_prob))\n",
        "model_6_pred_prob= tf.squeeze(model_6_pred_prob)\n",
        "model_6_pred[:10]"
      ],
      "metadata": {
        "colab": {
          "base_uri": "https://localhost:8080/"
        },
        "id": "CDURaUatQzPt",
        "outputId": "40a00a85-30c1-4010-c0aa-8f0e1386b719"
      },
      "execution_count": null,
      "outputs": [
        {
          "output_type": "stream",
          "name": "stdout",
          "text": [
            "24/24 [==============================] - 1s 11ms/step\n"
          ]
        },
        {
          "output_type": "execute_result",
          "data": {
            "text/plain": [
              "<tf.Tensor: shape=(10,), dtype=float32, numpy=array([0., 0., 1., 1., 0., 1., 1., 1., 0., 0.], dtype=float32)>"
            ]
          },
          "metadata": {},
          "execution_count": 121
        }
      ]
    },
    {
      "cell_type": "code",
      "source": [
        "import pandas as pd\n",
        "val_df = pd.DataFrame({\"text\": val_sentences,\n",
        "                      \"target\": val_labels, #target = 0:not disaster\n",
        "                                            #target = 1 disaster\n",
        "                      \"preds\": model_6_preds,\n",
        "                       \"pred_probs\":model_6_pred_prob})\n",
        "val_df[:10]"
      ],
      "metadata": {
        "colab": {
          "base_uri": "https://localhost:8080/",
          "height": 363
        },
        "id": "M-6bWMZqTCf9",
        "outputId": "8beb5a20-420b-46ea-9faf-085d05310ee1"
      },
      "execution_count": null,
      "outputs": [
        {
          "output_type": "execute_result",
          "data": {
            "text/plain": [
              "                                                text  target  preds  \\\n",
              "0  Fun with my girls! @ Joe Cools - Durban Main P...       0    0.0   \n",
              "1  I am that girl on tv that sadly turns her musi...       0    0.0   \n",
              "2  Dr. Bengston on #wildfire management: ÛÏnumbe...       1    1.0   \n",
              "3  Families to sue over Legionnaires: More than 4...       1    1.0   \n",
              "4             @savannahross_4 see tryna ruin my life       0    0.0   \n",
              "5  Maailiss: Diaporama : sixpenceee: Karymsky Lak...       0    1.0   \n",
              "6  Purple Heart Vet Finds Jihad Threat on His Car...       0    1.0   \n",
              "7  US drone bombs Islamic State target in Syria a...       1    1.0   \n",
              "8  This guy bought my car on Tuesday police knock...       1    0.0   \n",
              "9  GOP debate drinking game. For anyone looking f...       0    0.0   \n",
              "\n",
              "   pred_probs  \n",
              "0    0.075949  \n",
              "1    0.314643  \n",
              "2    0.865555  \n",
              "3    0.965816  \n",
              "4    0.066610  \n",
              "5    0.708420  \n",
              "6    0.679009  \n",
              "7    0.917659  \n",
              "8    0.247940  \n",
              "9    0.058353  "
            ],
            "text/html": [
              "\n",
              "  <div id=\"df-d50a6f78-54db-412c-8ae2-4911c36d2bd4\" class=\"colab-df-container\">\n",
              "    <div>\n",
              "<style scoped>\n",
              "    .dataframe tbody tr th:only-of-type {\n",
              "        vertical-align: middle;\n",
              "    }\n",
              "\n",
              "    .dataframe tbody tr th {\n",
              "        vertical-align: top;\n",
              "    }\n",
              "\n",
              "    .dataframe thead th {\n",
              "        text-align: right;\n",
              "    }\n",
              "</style>\n",
              "<table border=\"1\" class=\"dataframe\">\n",
              "  <thead>\n",
              "    <tr style=\"text-align: right;\">\n",
              "      <th></th>\n",
              "      <th>text</th>\n",
              "      <th>target</th>\n",
              "      <th>preds</th>\n",
              "      <th>pred_probs</th>\n",
              "    </tr>\n",
              "  </thead>\n",
              "  <tbody>\n",
              "    <tr>\n",
              "      <th>0</th>\n",
              "      <td>Fun with my girls! @ Joe Cools - Durban Main P...</td>\n",
              "      <td>0</td>\n",
              "      <td>0.0</td>\n",
              "      <td>0.075949</td>\n",
              "    </tr>\n",
              "    <tr>\n",
              "      <th>1</th>\n",
              "      <td>I am that girl on tv that sadly turns her musi...</td>\n",
              "      <td>0</td>\n",
              "      <td>0.0</td>\n",
              "      <td>0.314643</td>\n",
              "    </tr>\n",
              "    <tr>\n",
              "      <th>2</th>\n",
              "      <td>Dr. Bengston on #wildfire management: ÛÏnumbe...</td>\n",
              "      <td>1</td>\n",
              "      <td>1.0</td>\n",
              "      <td>0.865555</td>\n",
              "    </tr>\n",
              "    <tr>\n",
              "      <th>3</th>\n",
              "      <td>Families to sue over Legionnaires: More than 4...</td>\n",
              "      <td>1</td>\n",
              "      <td>1.0</td>\n",
              "      <td>0.965816</td>\n",
              "    </tr>\n",
              "    <tr>\n",
              "      <th>4</th>\n",
              "      <td>@savannahross_4 see tryna ruin my life</td>\n",
              "      <td>0</td>\n",
              "      <td>0.0</td>\n",
              "      <td>0.066610</td>\n",
              "    </tr>\n",
              "    <tr>\n",
              "      <th>5</th>\n",
              "      <td>Maailiss: Diaporama : sixpenceee: Karymsky Lak...</td>\n",
              "      <td>0</td>\n",
              "      <td>1.0</td>\n",
              "      <td>0.708420</td>\n",
              "    </tr>\n",
              "    <tr>\n",
              "      <th>6</th>\n",
              "      <td>Purple Heart Vet Finds Jihad Threat on His Car...</td>\n",
              "      <td>0</td>\n",
              "      <td>1.0</td>\n",
              "      <td>0.679009</td>\n",
              "    </tr>\n",
              "    <tr>\n",
              "      <th>7</th>\n",
              "      <td>US drone bombs Islamic State target in Syria a...</td>\n",
              "      <td>1</td>\n",
              "      <td>1.0</td>\n",
              "      <td>0.917659</td>\n",
              "    </tr>\n",
              "    <tr>\n",
              "      <th>8</th>\n",
              "      <td>This guy bought my car on Tuesday police knock...</td>\n",
              "      <td>1</td>\n",
              "      <td>0.0</td>\n",
              "      <td>0.247940</td>\n",
              "    </tr>\n",
              "    <tr>\n",
              "      <th>9</th>\n",
              "      <td>GOP debate drinking game. For anyone looking f...</td>\n",
              "      <td>0</td>\n",
              "      <td>0.0</td>\n",
              "      <td>0.058353</td>\n",
              "    </tr>\n",
              "  </tbody>\n",
              "</table>\n",
              "</div>\n",
              "    <div class=\"colab-df-buttons\">\n",
              "\n",
              "  <div class=\"colab-df-container\">\n",
              "    <button class=\"colab-df-convert\" onclick=\"convertToInteractive('df-d50a6f78-54db-412c-8ae2-4911c36d2bd4')\"\n",
              "            title=\"Convert this dataframe to an interactive table.\"\n",
              "            style=\"display:none;\">\n",
              "\n",
              "  <svg xmlns=\"http://www.w3.org/2000/svg\" height=\"24px\" viewBox=\"0 -960 960 960\">\n",
              "    <path d=\"M120-120v-720h720v720H120Zm60-500h600v-160H180v160Zm220 220h160v-160H400v160Zm0 220h160v-160H400v160ZM180-400h160v-160H180v160Zm440 0h160v-160H620v160ZM180-180h160v-160H180v160Zm440 0h160v-160H620v160Z\"/>\n",
              "  </svg>\n",
              "    </button>\n",
              "\n",
              "  <style>\n",
              "    .colab-df-container {\n",
              "      display:flex;\n",
              "      gap: 12px;\n",
              "    }\n",
              "\n",
              "    .colab-df-convert {\n",
              "      background-color: #E8F0FE;\n",
              "      border: none;\n",
              "      border-radius: 50%;\n",
              "      cursor: pointer;\n",
              "      display: none;\n",
              "      fill: #1967D2;\n",
              "      height: 32px;\n",
              "      padding: 0 0 0 0;\n",
              "      width: 32px;\n",
              "    }\n",
              "\n",
              "    .colab-df-convert:hover {\n",
              "      background-color: #E2EBFA;\n",
              "      box-shadow: 0px 1px 2px rgba(60, 64, 67, 0.3), 0px 1px 3px 1px rgba(60, 64, 67, 0.15);\n",
              "      fill: #174EA6;\n",
              "    }\n",
              "\n",
              "    .colab-df-buttons div {\n",
              "      margin-bottom: 4px;\n",
              "    }\n",
              "\n",
              "    [theme=dark] .colab-df-convert {\n",
              "      background-color: #3B4455;\n",
              "      fill: #D2E3FC;\n",
              "    }\n",
              "\n",
              "    [theme=dark] .colab-df-convert:hover {\n",
              "      background-color: #434B5C;\n",
              "      box-shadow: 0px 1px 3px 1px rgba(0, 0, 0, 0.15);\n",
              "      filter: drop-shadow(0px 1px 2px rgba(0, 0, 0, 0.3));\n",
              "      fill: #FFFFFF;\n",
              "    }\n",
              "  </style>\n",
              "\n",
              "    <script>\n",
              "      const buttonEl =\n",
              "        document.querySelector('#df-d50a6f78-54db-412c-8ae2-4911c36d2bd4 button.colab-df-convert');\n",
              "      buttonEl.style.display =\n",
              "        google.colab.kernel.accessAllowed ? 'block' : 'none';\n",
              "\n",
              "      async function convertToInteractive(key) {\n",
              "        const element = document.querySelector('#df-d50a6f78-54db-412c-8ae2-4911c36d2bd4');\n",
              "        const dataTable =\n",
              "          await google.colab.kernel.invokeFunction('convertToInteractive',\n",
              "                                                    [key], {});\n",
              "        if (!dataTable) return;\n",
              "\n",
              "        const docLinkHtml = 'Like what you see? Visit the ' +\n",
              "          '<a target=\"_blank\" href=https://colab.research.google.com/notebooks/data_table.ipynb>data table notebook</a>'\n",
              "          + ' to learn more about interactive tables.';\n",
              "        element.innerHTML = '';\n",
              "        dataTable['output_type'] = 'display_data';\n",
              "        await google.colab.output.renderOutput(dataTable, element);\n",
              "        const docLink = document.createElement('div');\n",
              "        docLink.innerHTML = docLinkHtml;\n",
              "        element.appendChild(docLink);\n",
              "      }\n",
              "    </script>\n",
              "  </div>\n",
              "\n",
              "\n",
              "<div id=\"df-29ba9b57-506c-43d7-88d9-ff6e2a9f67d0\">\n",
              "  <button class=\"colab-df-quickchart\" onclick=\"quickchart('df-29ba9b57-506c-43d7-88d9-ff6e2a9f67d0')\"\n",
              "            title=\"Suggest charts\"\n",
              "            style=\"display:none;\">\n",
              "\n",
              "<svg xmlns=\"http://www.w3.org/2000/svg\" height=\"24px\"viewBox=\"0 0 24 24\"\n",
              "     width=\"24px\">\n",
              "    <g>\n",
              "        <path d=\"M19 3H5c-1.1 0-2 .9-2 2v14c0 1.1.9 2 2 2h14c1.1 0 2-.9 2-2V5c0-1.1-.9-2-2-2zM9 17H7v-7h2v7zm4 0h-2V7h2v10zm4 0h-2v-4h2v4z\"/>\n",
              "    </g>\n",
              "</svg>\n",
              "  </button>\n",
              "\n",
              "<style>\n",
              "  .colab-df-quickchart {\n",
              "      --bg-color: #E8F0FE;\n",
              "      --fill-color: #1967D2;\n",
              "      --hover-bg-color: #E2EBFA;\n",
              "      --hover-fill-color: #174EA6;\n",
              "      --disabled-fill-color: #AAA;\n",
              "      --disabled-bg-color: #DDD;\n",
              "  }\n",
              "\n",
              "  [theme=dark] .colab-df-quickchart {\n",
              "      --bg-color: #3B4455;\n",
              "      --fill-color: #D2E3FC;\n",
              "      --hover-bg-color: #434B5C;\n",
              "      --hover-fill-color: #FFFFFF;\n",
              "      --disabled-bg-color: #3B4455;\n",
              "      --disabled-fill-color: #666;\n",
              "  }\n",
              "\n",
              "  .colab-df-quickchart {\n",
              "    background-color: var(--bg-color);\n",
              "    border: none;\n",
              "    border-radius: 50%;\n",
              "    cursor: pointer;\n",
              "    display: none;\n",
              "    fill: var(--fill-color);\n",
              "    height: 32px;\n",
              "    padding: 0;\n",
              "    width: 32px;\n",
              "  }\n",
              "\n",
              "  .colab-df-quickchart:hover {\n",
              "    background-color: var(--hover-bg-color);\n",
              "    box-shadow: 0 1px 2px rgba(60, 64, 67, 0.3), 0 1px 3px 1px rgba(60, 64, 67, 0.15);\n",
              "    fill: var(--button-hover-fill-color);\n",
              "  }\n",
              "\n",
              "  .colab-df-quickchart-complete:disabled,\n",
              "  .colab-df-quickchart-complete:disabled:hover {\n",
              "    background-color: var(--disabled-bg-color);\n",
              "    fill: var(--disabled-fill-color);\n",
              "    box-shadow: none;\n",
              "  }\n",
              "\n",
              "  .colab-df-spinner {\n",
              "    border: 2px solid var(--fill-color);\n",
              "    border-color: transparent;\n",
              "    border-bottom-color: var(--fill-color);\n",
              "    animation:\n",
              "      spin 1s steps(1) infinite;\n",
              "  }\n",
              "\n",
              "  @keyframes spin {\n",
              "    0% {\n",
              "      border-color: transparent;\n",
              "      border-bottom-color: var(--fill-color);\n",
              "      border-left-color: var(--fill-color);\n",
              "    }\n",
              "    20% {\n",
              "      border-color: transparent;\n",
              "      border-left-color: var(--fill-color);\n",
              "      border-top-color: var(--fill-color);\n",
              "    }\n",
              "    30% {\n",
              "      border-color: transparent;\n",
              "      border-left-color: var(--fill-color);\n",
              "      border-top-color: var(--fill-color);\n",
              "      border-right-color: var(--fill-color);\n",
              "    }\n",
              "    40% {\n",
              "      border-color: transparent;\n",
              "      border-right-color: var(--fill-color);\n",
              "      border-top-color: var(--fill-color);\n",
              "    }\n",
              "    60% {\n",
              "      border-color: transparent;\n",
              "      border-right-color: var(--fill-color);\n",
              "    }\n",
              "    80% {\n",
              "      border-color: transparent;\n",
              "      border-right-color: var(--fill-color);\n",
              "      border-bottom-color: var(--fill-color);\n",
              "    }\n",
              "    90% {\n",
              "      border-color: transparent;\n",
              "      border-bottom-color: var(--fill-color);\n",
              "    }\n",
              "  }\n",
              "</style>\n",
              "\n",
              "  <script>\n",
              "    async function quickchart(key) {\n",
              "      const quickchartButtonEl =\n",
              "        document.querySelector('#' + key + ' button');\n",
              "      quickchartButtonEl.disabled = true;  // To prevent multiple clicks.\n",
              "      quickchartButtonEl.classList.add('colab-df-spinner');\n",
              "      try {\n",
              "        const charts = await google.colab.kernel.invokeFunction(\n",
              "            'suggestCharts', [key], {});\n",
              "      } catch (error) {\n",
              "        console.error('Error during call to suggestCharts:', error);\n",
              "      }\n",
              "      quickchartButtonEl.classList.remove('colab-df-spinner');\n",
              "      quickchartButtonEl.classList.add('colab-df-quickchart-complete');\n",
              "    }\n",
              "    (() => {\n",
              "      let quickchartButtonEl =\n",
              "        document.querySelector('#df-29ba9b57-506c-43d7-88d9-ff6e2a9f67d0 button');\n",
              "      quickchartButtonEl.style.display =\n",
              "        google.colab.kernel.accessAllowed ? 'block' : 'none';\n",
              "    })();\n",
              "  </script>\n",
              "</div>\n",
              "\n",
              "    </div>\n",
              "  </div>\n"
            ],
            "application/vnd.google.colaboratory.intrinsic+json": {
              "type": "dataframe",
              "summary": "{\n  \"name\": \"val_df[:10]\",\n  \"rows\": 10,\n  \"fields\": [\n    {\n      \"column\": \"text\",\n      \"properties\": {\n        \"dtype\": \"string\",\n        \"num_unique_values\": 10,\n        \"samples\": [\n          \"This guy bought my car on Tuesday police knocked my door yday cos he crashed n ran &amp; 2day he text me asking not to send the log book????????\",\n          \"I am that girl on tv that sadly turns her music up to drown out the noise of her family fighting literally every day\",\n          \"Maailiss: Diaporama : sixpenceee: Karymsky Lake is a crater lake located in the Karymsky volcano\\u00e5\\u00cain\\u00e5\\u00caRussia. With a\\u0089\\u00db_ http://t.co/4o460Fm8HN\"\n        ],\n        \"semantic_type\": \"\",\n        \"description\": \"\"\n      }\n    },\n    {\n      \"column\": \"target\",\n      \"properties\": {\n        \"dtype\": \"number\",\n        \"std\": 0,\n        \"min\": 0,\n        \"max\": 1,\n        \"num_unique_values\": 2,\n        \"samples\": [\n          1,\n          0\n        ],\n        \"semantic_type\": \"\",\n        \"description\": \"\"\n      }\n    },\n    {\n      \"column\": \"preds\",\n      \"properties\": {\n        \"dtype\": \"float32\",\n        \"num_unique_values\": 2,\n        \"samples\": [\n          1.0,\n          0.0\n        ],\n        \"semantic_type\": \"\",\n        \"description\": \"\"\n      }\n    },\n    {\n      \"column\": \"pred_probs\",\n      \"properties\": {\n        \"dtype\": \"float32\",\n        \"num_unique_values\": 10,\n        \"samples\": [\n          0.2479395568370819,\n          0.3146432936191559\n        ],\n        \"semantic_type\": \"\",\n        \"description\": \"\"\n      }\n    }\n  ]\n}"
            }
          },
          "metadata": {},
          "execution_count": 122
        }
      ]
    },
    {
      "cell_type": "code",
      "source": [
        "#most wrong values\n",
        "most_wrong = val_df[val_df[\"target\"] != val_df[\"preds\"]].sort_values(\"pred_probs\", ascending = False)\n",
        "most_wrong #these are false positives"
      ],
      "metadata": {
        "colab": {
          "base_uri": "https://localhost:8080/",
          "height": 423
        },
        "id": "OR-lvoIEVeDV",
        "outputId": "d039151d-3abf-4e85-e71d-369a1f711a5d"
      },
      "execution_count": null,
      "outputs": [
        {
          "output_type": "execute_result",
          "data": {
            "text/plain": [
              "                                                  text  target  preds  \\\n",
              "466  USW: 'The damage from abandoning the deal coul...       0    1.0   \n",
              "77   Emergency Dispatchers in Boone County in the h...       0    1.0   \n",
              "601  The first trial in the death of #CecilTheLion ...       0    1.0   \n",
              "552  San Jose Mercury: Governor Brown allows parole...       0    1.0   \n",
              "319  if firefighters acted like cops they'd drive a...       0    1.0   \n",
              "..                                                 ...     ...    ...   \n",
              "357  Watch These Super Strong Magnets Destroy Every...       1    0.0   \n",
              "412  Pandemonium use to be my fav cd ?? I had to ge...       1    0.0   \n",
              "37   OMFG??\\nDidnt expect Drag Me Down to be the fi...       1    0.0   \n",
              "54   @HaydnExists so glad i saved them all at once ...       1    0.0   \n",
              "263  @lucysforsale funny cause my dumb ass was the ...       1    0.0   \n",
              "\n",
              "     pred_probs  \n",
              "466    0.888064  \n",
              "77     0.876249  \n",
              "601    0.875304  \n",
              "552    0.873231  \n",
              "319    0.867273  \n",
              "..          ...  \n",
              "357    0.056312  \n",
              "412    0.056024  \n",
              "37     0.055719  \n",
              "54     0.052181  \n",
              "263    0.043486  \n",
              "\n",
              "[146 rows x 4 columns]"
            ],
            "text/html": [
              "\n",
              "  <div id=\"df-99eaae7a-60af-405a-a1af-0817afcfe033\" class=\"colab-df-container\">\n",
              "    <div>\n",
              "<style scoped>\n",
              "    .dataframe tbody tr th:only-of-type {\n",
              "        vertical-align: middle;\n",
              "    }\n",
              "\n",
              "    .dataframe tbody tr th {\n",
              "        vertical-align: top;\n",
              "    }\n",
              "\n",
              "    .dataframe thead th {\n",
              "        text-align: right;\n",
              "    }\n",
              "</style>\n",
              "<table border=\"1\" class=\"dataframe\">\n",
              "  <thead>\n",
              "    <tr style=\"text-align: right;\">\n",
              "      <th></th>\n",
              "      <th>text</th>\n",
              "      <th>target</th>\n",
              "      <th>preds</th>\n",
              "      <th>pred_probs</th>\n",
              "    </tr>\n",
              "  </thead>\n",
              "  <tbody>\n",
              "    <tr>\n",
              "      <th>466</th>\n",
              "      <td>USW: 'The damage from abandoning the deal coul...</td>\n",
              "      <td>0</td>\n",
              "      <td>1.0</td>\n",
              "      <td>0.888064</td>\n",
              "    </tr>\n",
              "    <tr>\n",
              "      <th>77</th>\n",
              "      <td>Emergency Dispatchers in Boone County in the h...</td>\n",
              "      <td>0</td>\n",
              "      <td>1.0</td>\n",
              "      <td>0.876249</td>\n",
              "    </tr>\n",
              "    <tr>\n",
              "      <th>601</th>\n",
              "      <td>The first trial in the death of #CecilTheLion ...</td>\n",
              "      <td>0</td>\n",
              "      <td>1.0</td>\n",
              "      <td>0.875304</td>\n",
              "    </tr>\n",
              "    <tr>\n",
              "      <th>552</th>\n",
              "      <td>San Jose Mercury: Governor Brown allows parole...</td>\n",
              "      <td>0</td>\n",
              "      <td>1.0</td>\n",
              "      <td>0.873231</td>\n",
              "    </tr>\n",
              "    <tr>\n",
              "      <th>319</th>\n",
              "      <td>if firefighters acted like cops they'd drive a...</td>\n",
              "      <td>0</td>\n",
              "      <td>1.0</td>\n",
              "      <td>0.867273</td>\n",
              "    </tr>\n",
              "    <tr>\n",
              "      <th>...</th>\n",
              "      <td>...</td>\n",
              "      <td>...</td>\n",
              "      <td>...</td>\n",
              "      <td>...</td>\n",
              "    </tr>\n",
              "    <tr>\n",
              "      <th>357</th>\n",
              "      <td>Watch These Super Strong Magnets Destroy Every...</td>\n",
              "      <td>1</td>\n",
              "      <td>0.0</td>\n",
              "      <td>0.056312</td>\n",
              "    </tr>\n",
              "    <tr>\n",
              "      <th>412</th>\n",
              "      <td>Pandemonium use to be my fav cd ?? I had to ge...</td>\n",
              "      <td>1</td>\n",
              "      <td>0.0</td>\n",
              "      <td>0.056024</td>\n",
              "    </tr>\n",
              "    <tr>\n",
              "      <th>37</th>\n",
              "      <td>OMFG??\\nDidnt expect Drag Me Down to be the fi...</td>\n",
              "      <td>1</td>\n",
              "      <td>0.0</td>\n",
              "      <td>0.055719</td>\n",
              "    </tr>\n",
              "    <tr>\n",
              "      <th>54</th>\n",
              "      <td>@HaydnExists so glad i saved them all at once ...</td>\n",
              "      <td>1</td>\n",
              "      <td>0.0</td>\n",
              "      <td>0.052181</td>\n",
              "    </tr>\n",
              "    <tr>\n",
              "      <th>263</th>\n",
              "      <td>@lucysforsale funny cause my dumb ass was the ...</td>\n",
              "      <td>1</td>\n",
              "      <td>0.0</td>\n",
              "      <td>0.043486</td>\n",
              "    </tr>\n",
              "  </tbody>\n",
              "</table>\n",
              "<p>146 rows × 4 columns</p>\n",
              "</div>\n",
              "    <div class=\"colab-df-buttons\">\n",
              "\n",
              "  <div class=\"colab-df-container\">\n",
              "    <button class=\"colab-df-convert\" onclick=\"convertToInteractive('df-99eaae7a-60af-405a-a1af-0817afcfe033')\"\n",
              "            title=\"Convert this dataframe to an interactive table.\"\n",
              "            style=\"display:none;\">\n",
              "\n",
              "  <svg xmlns=\"http://www.w3.org/2000/svg\" height=\"24px\" viewBox=\"0 -960 960 960\">\n",
              "    <path d=\"M120-120v-720h720v720H120Zm60-500h600v-160H180v160Zm220 220h160v-160H400v160Zm0 220h160v-160H400v160ZM180-400h160v-160H180v160Zm440 0h160v-160H620v160ZM180-180h160v-160H180v160Zm440 0h160v-160H620v160Z\"/>\n",
              "  </svg>\n",
              "    </button>\n",
              "\n",
              "  <style>\n",
              "    .colab-df-container {\n",
              "      display:flex;\n",
              "      gap: 12px;\n",
              "    }\n",
              "\n",
              "    .colab-df-convert {\n",
              "      background-color: #E8F0FE;\n",
              "      border: none;\n",
              "      border-radius: 50%;\n",
              "      cursor: pointer;\n",
              "      display: none;\n",
              "      fill: #1967D2;\n",
              "      height: 32px;\n",
              "      padding: 0 0 0 0;\n",
              "      width: 32px;\n",
              "    }\n",
              "\n",
              "    .colab-df-convert:hover {\n",
              "      background-color: #E2EBFA;\n",
              "      box-shadow: 0px 1px 2px rgba(60, 64, 67, 0.3), 0px 1px 3px 1px rgba(60, 64, 67, 0.15);\n",
              "      fill: #174EA6;\n",
              "    }\n",
              "\n",
              "    .colab-df-buttons div {\n",
              "      margin-bottom: 4px;\n",
              "    }\n",
              "\n",
              "    [theme=dark] .colab-df-convert {\n",
              "      background-color: #3B4455;\n",
              "      fill: #D2E3FC;\n",
              "    }\n",
              "\n",
              "    [theme=dark] .colab-df-convert:hover {\n",
              "      background-color: #434B5C;\n",
              "      box-shadow: 0px 1px 3px 1px rgba(0, 0, 0, 0.15);\n",
              "      filter: drop-shadow(0px 1px 2px rgba(0, 0, 0, 0.3));\n",
              "      fill: #FFFFFF;\n",
              "    }\n",
              "  </style>\n",
              "\n",
              "    <script>\n",
              "      const buttonEl =\n",
              "        document.querySelector('#df-99eaae7a-60af-405a-a1af-0817afcfe033 button.colab-df-convert');\n",
              "      buttonEl.style.display =\n",
              "        google.colab.kernel.accessAllowed ? 'block' : 'none';\n",
              "\n",
              "      async function convertToInteractive(key) {\n",
              "        const element = document.querySelector('#df-99eaae7a-60af-405a-a1af-0817afcfe033');\n",
              "        const dataTable =\n",
              "          await google.colab.kernel.invokeFunction('convertToInteractive',\n",
              "                                                    [key], {});\n",
              "        if (!dataTable) return;\n",
              "\n",
              "        const docLinkHtml = 'Like what you see? Visit the ' +\n",
              "          '<a target=\"_blank\" href=https://colab.research.google.com/notebooks/data_table.ipynb>data table notebook</a>'\n",
              "          + ' to learn more about interactive tables.';\n",
              "        element.innerHTML = '';\n",
              "        dataTable['output_type'] = 'display_data';\n",
              "        await google.colab.output.renderOutput(dataTable, element);\n",
              "        const docLink = document.createElement('div');\n",
              "        docLink.innerHTML = docLinkHtml;\n",
              "        element.appendChild(docLink);\n",
              "      }\n",
              "    </script>\n",
              "  </div>\n",
              "\n",
              "\n",
              "<div id=\"df-5631eb2a-a86b-45b7-88ed-279949d782e5\">\n",
              "  <button class=\"colab-df-quickchart\" onclick=\"quickchart('df-5631eb2a-a86b-45b7-88ed-279949d782e5')\"\n",
              "            title=\"Suggest charts\"\n",
              "            style=\"display:none;\">\n",
              "\n",
              "<svg xmlns=\"http://www.w3.org/2000/svg\" height=\"24px\"viewBox=\"0 0 24 24\"\n",
              "     width=\"24px\">\n",
              "    <g>\n",
              "        <path d=\"M19 3H5c-1.1 0-2 .9-2 2v14c0 1.1.9 2 2 2h14c1.1 0 2-.9 2-2V5c0-1.1-.9-2-2-2zM9 17H7v-7h2v7zm4 0h-2V7h2v10zm4 0h-2v-4h2v4z\"/>\n",
              "    </g>\n",
              "</svg>\n",
              "  </button>\n",
              "\n",
              "<style>\n",
              "  .colab-df-quickchart {\n",
              "      --bg-color: #E8F0FE;\n",
              "      --fill-color: #1967D2;\n",
              "      --hover-bg-color: #E2EBFA;\n",
              "      --hover-fill-color: #174EA6;\n",
              "      --disabled-fill-color: #AAA;\n",
              "      --disabled-bg-color: #DDD;\n",
              "  }\n",
              "\n",
              "  [theme=dark] .colab-df-quickchart {\n",
              "      --bg-color: #3B4455;\n",
              "      --fill-color: #D2E3FC;\n",
              "      --hover-bg-color: #434B5C;\n",
              "      --hover-fill-color: #FFFFFF;\n",
              "      --disabled-bg-color: #3B4455;\n",
              "      --disabled-fill-color: #666;\n",
              "  }\n",
              "\n",
              "  .colab-df-quickchart {\n",
              "    background-color: var(--bg-color);\n",
              "    border: none;\n",
              "    border-radius: 50%;\n",
              "    cursor: pointer;\n",
              "    display: none;\n",
              "    fill: var(--fill-color);\n",
              "    height: 32px;\n",
              "    padding: 0;\n",
              "    width: 32px;\n",
              "  }\n",
              "\n",
              "  .colab-df-quickchart:hover {\n",
              "    background-color: var(--hover-bg-color);\n",
              "    box-shadow: 0 1px 2px rgba(60, 64, 67, 0.3), 0 1px 3px 1px rgba(60, 64, 67, 0.15);\n",
              "    fill: var(--button-hover-fill-color);\n",
              "  }\n",
              "\n",
              "  .colab-df-quickchart-complete:disabled,\n",
              "  .colab-df-quickchart-complete:disabled:hover {\n",
              "    background-color: var(--disabled-bg-color);\n",
              "    fill: var(--disabled-fill-color);\n",
              "    box-shadow: none;\n",
              "  }\n",
              "\n",
              "  .colab-df-spinner {\n",
              "    border: 2px solid var(--fill-color);\n",
              "    border-color: transparent;\n",
              "    border-bottom-color: var(--fill-color);\n",
              "    animation:\n",
              "      spin 1s steps(1) infinite;\n",
              "  }\n",
              "\n",
              "  @keyframes spin {\n",
              "    0% {\n",
              "      border-color: transparent;\n",
              "      border-bottom-color: var(--fill-color);\n",
              "      border-left-color: var(--fill-color);\n",
              "    }\n",
              "    20% {\n",
              "      border-color: transparent;\n",
              "      border-left-color: var(--fill-color);\n",
              "      border-top-color: var(--fill-color);\n",
              "    }\n",
              "    30% {\n",
              "      border-color: transparent;\n",
              "      border-left-color: var(--fill-color);\n",
              "      border-top-color: var(--fill-color);\n",
              "      border-right-color: var(--fill-color);\n",
              "    }\n",
              "    40% {\n",
              "      border-color: transparent;\n",
              "      border-right-color: var(--fill-color);\n",
              "      border-top-color: var(--fill-color);\n",
              "    }\n",
              "    60% {\n",
              "      border-color: transparent;\n",
              "      border-right-color: var(--fill-color);\n",
              "    }\n",
              "    80% {\n",
              "      border-color: transparent;\n",
              "      border-right-color: var(--fill-color);\n",
              "      border-bottom-color: var(--fill-color);\n",
              "    }\n",
              "    90% {\n",
              "      border-color: transparent;\n",
              "      border-bottom-color: var(--fill-color);\n",
              "    }\n",
              "  }\n",
              "</style>\n",
              "\n",
              "  <script>\n",
              "    async function quickchart(key) {\n",
              "      const quickchartButtonEl =\n",
              "        document.querySelector('#' + key + ' button');\n",
              "      quickchartButtonEl.disabled = true;  // To prevent multiple clicks.\n",
              "      quickchartButtonEl.classList.add('colab-df-spinner');\n",
              "      try {\n",
              "        const charts = await google.colab.kernel.invokeFunction(\n",
              "            'suggestCharts', [key], {});\n",
              "      } catch (error) {\n",
              "        console.error('Error during call to suggestCharts:', error);\n",
              "      }\n",
              "      quickchartButtonEl.classList.remove('colab-df-spinner');\n",
              "      quickchartButtonEl.classList.add('colab-df-quickchart-complete');\n",
              "    }\n",
              "    (() => {\n",
              "      let quickchartButtonEl =\n",
              "        document.querySelector('#df-5631eb2a-a86b-45b7-88ed-279949d782e5 button');\n",
              "      quickchartButtonEl.style.display =\n",
              "        google.colab.kernel.accessAllowed ? 'block' : 'none';\n",
              "    })();\n",
              "  </script>\n",
              "</div>\n",
              "\n",
              "  <div id=\"id_a3f61c29-f095-4ef1-9856-981092c09a70\">\n",
              "    <style>\n",
              "      .colab-df-generate {\n",
              "        background-color: #E8F0FE;\n",
              "        border: none;\n",
              "        border-radius: 50%;\n",
              "        cursor: pointer;\n",
              "        display: none;\n",
              "        fill: #1967D2;\n",
              "        height: 32px;\n",
              "        padding: 0 0 0 0;\n",
              "        width: 32px;\n",
              "      }\n",
              "\n",
              "      .colab-df-generate:hover {\n",
              "        background-color: #E2EBFA;\n",
              "        box-shadow: 0px 1px 2px rgba(60, 64, 67, 0.3), 0px 1px 3px 1px rgba(60, 64, 67, 0.15);\n",
              "        fill: #174EA6;\n",
              "      }\n",
              "\n",
              "      [theme=dark] .colab-df-generate {\n",
              "        background-color: #3B4455;\n",
              "        fill: #D2E3FC;\n",
              "      }\n",
              "\n",
              "      [theme=dark] .colab-df-generate:hover {\n",
              "        background-color: #434B5C;\n",
              "        box-shadow: 0px 1px 3px 1px rgba(0, 0, 0, 0.15);\n",
              "        filter: drop-shadow(0px 1px 2px rgba(0, 0, 0, 0.3));\n",
              "        fill: #FFFFFF;\n",
              "      }\n",
              "    </style>\n",
              "    <button class=\"colab-df-generate\" onclick=\"generateWithVariable('most_wrong')\"\n",
              "            title=\"Generate code using this dataframe.\"\n",
              "            style=\"display:none;\">\n",
              "\n",
              "  <svg xmlns=\"http://www.w3.org/2000/svg\" height=\"24px\"viewBox=\"0 0 24 24\"\n",
              "       width=\"24px\">\n",
              "    <path d=\"M7,19H8.4L18.45,9,17,7.55,7,17.6ZM5,21V16.75L18.45,3.32a2,2,0,0,1,2.83,0l1.4,1.43a1.91,1.91,0,0,1,.58,1.4,1.91,1.91,0,0,1-.58,1.4L9.25,21ZM18.45,9,17,7.55Zm-12,3A5.31,5.31,0,0,0,4.9,8.1,5.31,5.31,0,0,0,1,6.5,5.31,5.31,0,0,0,4.9,4.9,5.31,5.31,0,0,0,6.5,1,5.31,5.31,0,0,0,8.1,4.9,5.31,5.31,0,0,0,12,6.5,5.46,5.46,0,0,0,6.5,12Z\"/>\n",
              "  </svg>\n",
              "    </button>\n",
              "    <script>\n",
              "      (() => {\n",
              "      const buttonEl =\n",
              "        document.querySelector('#id_a3f61c29-f095-4ef1-9856-981092c09a70 button.colab-df-generate');\n",
              "      buttonEl.style.display =\n",
              "        google.colab.kernel.accessAllowed ? 'block' : 'none';\n",
              "\n",
              "      buttonEl.onclick = () => {\n",
              "        google.colab.notebook.generateWithVariable('most_wrong');\n",
              "      }\n",
              "      })();\n",
              "    </script>\n",
              "  </div>\n",
              "\n",
              "    </div>\n",
              "  </div>\n"
            ],
            "application/vnd.google.colaboratory.intrinsic+json": {
              "type": "dataframe",
              "variable_name": "most_wrong",
              "summary": "{\n  \"name\": \"most_wrong\",\n  \"rows\": 146,\n  \"fields\": [\n    {\n      \"column\": \"text\",\n      \"properties\": {\n        \"dtype\": \"string\",\n        \"num_unique_values\": 146,\n        \"samples\": [\n          \"Santa Fe Springs Studebaker Rd / South St **Trfc Collision-No Inj** http://t.co/6uHih9pbrU\",\n          \"Of course the one day I have to dress professionally aka unsensibly for class is the day I have try and outrun a natural disaster!\",\n          \"Nuclear deal disaster.\\n\\n#IranDeal #NoNuclearIran #BadIranDeal @JebBush @BarackObama http://t.co/z7phPjtqud\"\n        ],\n        \"semantic_type\": \"\",\n        \"description\": \"\"\n      }\n    },\n    {\n      \"column\": \"target\",\n      \"properties\": {\n        \"dtype\": \"number\",\n        \"std\": 0,\n        \"min\": 0,\n        \"max\": 1,\n        \"num_unique_values\": 2,\n        \"samples\": [\n          1,\n          0\n        ],\n        \"semantic_type\": \"\",\n        \"description\": \"\"\n      }\n    },\n    {\n      \"column\": \"preds\",\n      \"properties\": {\n        \"dtype\": \"float32\",\n        \"num_unique_values\": 2,\n        \"samples\": [\n          0.0,\n          1.0\n        ],\n        \"semantic_type\": \"\",\n        \"description\": \"\"\n      }\n    },\n    {\n      \"column\": \"pred_probs\",\n      \"properties\": {\n        \"dtype\": \"float32\",\n        \"num_unique_values\": 146,\n        \"samples\": [\n          0.5172355771064758,\n          0.32730409502983093\n        ],\n        \"semantic_type\": \"\",\n        \"description\": \"\"\n      }\n    }\n  ]\n}"
            }
          },
          "metadata": {},
          "execution_count": 123
        }
      ]
    },
    {
      "cell_type": "code",
      "source": [
        "most_wrong.tail() #false negatives"
      ],
      "metadata": {
        "colab": {
          "base_uri": "https://localhost:8080/",
          "height": 206
        },
        "id": "c9ESlKIVXber",
        "outputId": "d133db05-35f1-46db-a48c-3b394ce50001"
      },
      "execution_count": null,
      "outputs": [
        {
          "output_type": "execute_result",
          "data": {
            "text/plain": [
              "                                                  text  target  preds  \\\n",
              "357  Watch These Super Strong Magnets Destroy Every...       1    0.0   \n",
              "412  Pandemonium use to be my fav cd ?? I had to ge...       1    0.0   \n",
              "37   OMFG??\\nDidnt expect Drag Me Down to be the fi...       1    0.0   \n",
              "54   @HaydnExists so glad i saved them all at once ...       1    0.0   \n",
              "263  @lucysforsale funny cause my dumb ass was the ...       1    0.0   \n",
              "\n",
              "     pred_probs  \n",
              "357    0.056312  \n",
              "412    0.056024  \n",
              "37     0.055719  \n",
              "54     0.052181  \n",
              "263    0.043486  "
            ],
            "text/html": [
              "\n",
              "  <div id=\"df-4c9446d1-a2e6-4c1f-9189-c9da37ba4606\" class=\"colab-df-container\">\n",
              "    <div>\n",
              "<style scoped>\n",
              "    .dataframe tbody tr th:only-of-type {\n",
              "        vertical-align: middle;\n",
              "    }\n",
              "\n",
              "    .dataframe tbody tr th {\n",
              "        vertical-align: top;\n",
              "    }\n",
              "\n",
              "    .dataframe thead th {\n",
              "        text-align: right;\n",
              "    }\n",
              "</style>\n",
              "<table border=\"1\" class=\"dataframe\">\n",
              "  <thead>\n",
              "    <tr style=\"text-align: right;\">\n",
              "      <th></th>\n",
              "      <th>text</th>\n",
              "      <th>target</th>\n",
              "      <th>preds</th>\n",
              "      <th>pred_probs</th>\n",
              "    </tr>\n",
              "  </thead>\n",
              "  <tbody>\n",
              "    <tr>\n",
              "      <th>357</th>\n",
              "      <td>Watch These Super Strong Magnets Destroy Every...</td>\n",
              "      <td>1</td>\n",
              "      <td>0.0</td>\n",
              "      <td>0.056312</td>\n",
              "    </tr>\n",
              "    <tr>\n",
              "      <th>412</th>\n",
              "      <td>Pandemonium use to be my fav cd ?? I had to ge...</td>\n",
              "      <td>1</td>\n",
              "      <td>0.0</td>\n",
              "      <td>0.056024</td>\n",
              "    </tr>\n",
              "    <tr>\n",
              "      <th>37</th>\n",
              "      <td>OMFG??\\nDidnt expect Drag Me Down to be the fi...</td>\n",
              "      <td>1</td>\n",
              "      <td>0.0</td>\n",
              "      <td>0.055719</td>\n",
              "    </tr>\n",
              "    <tr>\n",
              "      <th>54</th>\n",
              "      <td>@HaydnExists so glad i saved them all at once ...</td>\n",
              "      <td>1</td>\n",
              "      <td>0.0</td>\n",
              "      <td>0.052181</td>\n",
              "    </tr>\n",
              "    <tr>\n",
              "      <th>263</th>\n",
              "      <td>@lucysforsale funny cause my dumb ass was the ...</td>\n",
              "      <td>1</td>\n",
              "      <td>0.0</td>\n",
              "      <td>0.043486</td>\n",
              "    </tr>\n",
              "  </tbody>\n",
              "</table>\n",
              "</div>\n",
              "    <div class=\"colab-df-buttons\">\n",
              "\n",
              "  <div class=\"colab-df-container\">\n",
              "    <button class=\"colab-df-convert\" onclick=\"convertToInteractive('df-4c9446d1-a2e6-4c1f-9189-c9da37ba4606')\"\n",
              "            title=\"Convert this dataframe to an interactive table.\"\n",
              "            style=\"display:none;\">\n",
              "\n",
              "  <svg xmlns=\"http://www.w3.org/2000/svg\" height=\"24px\" viewBox=\"0 -960 960 960\">\n",
              "    <path d=\"M120-120v-720h720v720H120Zm60-500h600v-160H180v160Zm220 220h160v-160H400v160Zm0 220h160v-160H400v160ZM180-400h160v-160H180v160Zm440 0h160v-160H620v160ZM180-180h160v-160H180v160Zm440 0h160v-160H620v160Z\"/>\n",
              "  </svg>\n",
              "    </button>\n",
              "\n",
              "  <style>\n",
              "    .colab-df-container {\n",
              "      display:flex;\n",
              "      gap: 12px;\n",
              "    }\n",
              "\n",
              "    .colab-df-convert {\n",
              "      background-color: #E8F0FE;\n",
              "      border: none;\n",
              "      border-radius: 50%;\n",
              "      cursor: pointer;\n",
              "      display: none;\n",
              "      fill: #1967D2;\n",
              "      height: 32px;\n",
              "      padding: 0 0 0 0;\n",
              "      width: 32px;\n",
              "    }\n",
              "\n",
              "    .colab-df-convert:hover {\n",
              "      background-color: #E2EBFA;\n",
              "      box-shadow: 0px 1px 2px rgba(60, 64, 67, 0.3), 0px 1px 3px 1px rgba(60, 64, 67, 0.15);\n",
              "      fill: #174EA6;\n",
              "    }\n",
              "\n",
              "    .colab-df-buttons div {\n",
              "      margin-bottom: 4px;\n",
              "    }\n",
              "\n",
              "    [theme=dark] .colab-df-convert {\n",
              "      background-color: #3B4455;\n",
              "      fill: #D2E3FC;\n",
              "    }\n",
              "\n",
              "    [theme=dark] .colab-df-convert:hover {\n",
              "      background-color: #434B5C;\n",
              "      box-shadow: 0px 1px 3px 1px rgba(0, 0, 0, 0.15);\n",
              "      filter: drop-shadow(0px 1px 2px rgba(0, 0, 0, 0.3));\n",
              "      fill: #FFFFFF;\n",
              "    }\n",
              "  </style>\n",
              "\n",
              "    <script>\n",
              "      const buttonEl =\n",
              "        document.querySelector('#df-4c9446d1-a2e6-4c1f-9189-c9da37ba4606 button.colab-df-convert');\n",
              "      buttonEl.style.display =\n",
              "        google.colab.kernel.accessAllowed ? 'block' : 'none';\n",
              "\n",
              "      async function convertToInteractive(key) {\n",
              "        const element = document.querySelector('#df-4c9446d1-a2e6-4c1f-9189-c9da37ba4606');\n",
              "        const dataTable =\n",
              "          await google.colab.kernel.invokeFunction('convertToInteractive',\n",
              "                                                    [key], {});\n",
              "        if (!dataTable) return;\n",
              "\n",
              "        const docLinkHtml = 'Like what you see? Visit the ' +\n",
              "          '<a target=\"_blank\" href=https://colab.research.google.com/notebooks/data_table.ipynb>data table notebook</a>'\n",
              "          + ' to learn more about interactive tables.';\n",
              "        element.innerHTML = '';\n",
              "        dataTable['output_type'] = 'display_data';\n",
              "        await google.colab.output.renderOutput(dataTable, element);\n",
              "        const docLink = document.createElement('div');\n",
              "        docLink.innerHTML = docLinkHtml;\n",
              "        element.appendChild(docLink);\n",
              "      }\n",
              "    </script>\n",
              "  </div>\n",
              "\n",
              "\n",
              "<div id=\"df-5cfbecb9-d145-4130-8105-53e4d18ff84b\">\n",
              "  <button class=\"colab-df-quickchart\" onclick=\"quickchart('df-5cfbecb9-d145-4130-8105-53e4d18ff84b')\"\n",
              "            title=\"Suggest charts\"\n",
              "            style=\"display:none;\">\n",
              "\n",
              "<svg xmlns=\"http://www.w3.org/2000/svg\" height=\"24px\"viewBox=\"0 0 24 24\"\n",
              "     width=\"24px\">\n",
              "    <g>\n",
              "        <path d=\"M19 3H5c-1.1 0-2 .9-2 2v14c0 1.1.9 2 2 2h14c1.1 0 2-.9 2-2V5c0-1.1-.9-2-2-2zM9 17H7v-7h2v7zm4 0h-2V7h2v10zm4 0h-2v-4h2v4z\"/>\n",
              "    </g>\n",
              "</svg>\n",
              "  </button>\n",
              "\n",
              "<style>\n",
              "  .colab-df-quickchart {\n",
              "      --bg-color: #E8F0FE;\n",
              "      --fill-color: #1967D2;\n",
              "      --hover-bg-color: #E2EBFA;\n",
              "      --hover-fill-color: #174EA6;\n",
              "      --disabled-fill-color: #AAA;\n",
              "      --disabled-bg-color: #DDD;\n",
              "  }\n",
              "\n",
              "  [theme=dark] .colab-df-quickchart {\n",
              "      --bg-color: #3B4455;\n",
              "      --fill-color: #D2E3FC;\n",
              "      --hover-bg-color: #434B5C;\n",
              "      --hover-fill-color: #FFFFFF;\n",
              "      --disabled-bg-color: #3B4455;\n",
              "      --disabled-fill-color: #666;\n",
              "  }\n",
              "\n",
              "  .colab-df-quickchart {\n",
              "    background-color: var(--bg-color);\n",
              "    border: none;\n",
              "    border-radius: 50%;\n",
              "    cursor: pointer;\n",
              "    display: none;\n",
              "    fill: var(--fill-color);\n",
              "    height: 32px;\n",
              "    padding: 0;\n",
              "    width: 32px;\n",
              "  }\n",
              "\n",
              "  .colab-df-quickchart:hover {\n",
              "    background-color: var(--hover-bg-color);\n",
              "    box-shadow: 0 1px 2px rgba(60, 64, 67, 0.3), 0 1px 3px 1px rgba(60, 64, 67, 0.15);\n",
              "    fill: var(--button-hover-fill-color);\n",
              "  }\n",
              "\n",
              "  .colab-df-quickchart-complete:disabled,\n",
              "  .colab-df-quickchart-complete:disabled:hover {\n",
              "    background-color: var(--disabled-bg-color);\n",
              "    fill: var(--disabled-fill-color);\n",
              "    box-shadow: none;\n",
              "  }\n",
              "\n",
              "  .colab-df-spinner {\n",
              "    border: 2px solid var(--fill-color);\n",
              "    border-color: transparent;\n",
              "    border-bottom-color: var(--fill-color);\n",
              "    animation:\n",
              "      spin 1s steps(1) infinite;\n",
              "  }\n",
              "\n",
              "  @keyframes spin {\n",
              "    0% {\n",
              "      border-color: transparent;\n",
              "      border-bottom-color: var(--fill-color);\n",
              "      border-left-color: var(--fill-color);\n",
              "    }\n",
              "    20% {\n",
              "      border-color: transparent;\n",
              "      border-left-color: var(--fill-color);\n",
              "      border-top-color: var(--fill-color);\n",
              "    }\n",
              "    30% {\n",
              "      border-color: transparent;\n",
              "      border-left-color: var(--fill-color);\n",
              "      border-top-color: var(--fill-color);\n",
              "      border-right-color: var(--fill-color);\n",
              "    }\n",
              "    40% {\n",
              "      border-color: transparent;\n",
              "      border-right-color: var(--fill-color);\n",
              "      border-top-color: var(--fill-color);\n",
              "    }\n",
              "    60% {\n",
              "      border-color: transparent;\n",
              "      border-right-color: var(--fill-color);\n",
              "    }\n",
              "    80% {\n",
              "      border-color: transparent;\n",
              "      border-right-color: var(--fill-color);\n",
              "      border-bottom-color: var(--fill-color);\n",
              "    }\n",
              "    90% {\n",
              "      border-color: transparent;\n",
              "      border-bottom-color: var(--fill-color);\n",
              "    }\n",
              "  }\n",
              "</style>\n",
              "\n",
              "  <script>\n",
              "    async function quickchart(key) {\n",
              "      const quickchartButtonEl =\n",
              "        document.querySelector('#' + key + ' button');\n",
              "      quickchartButtonEl.disabled = true;  // To prevent multiple clicks.\n",
              "      quickchartButtonEl.classList.add('colab-df-spinner');\n",
              "      try {\n",
              "        const charts = await google.colab.kernel.invokeFunction(\n",
              "            'suggestCharts', [key], {});\n",
              "      } catch (error) {\n",
              "        console.error('Error during call to suggestCharts:', error);\n",
              "      }\n",
              "      quickchartButtonEl.classList.remove('colab-df-spinner');\n",
              "      quickchartButtonEl.classList.add('colab-df-quickchart-complete');\n",
              "    }\n",
              "    (() => {\n",
              "      let quickchartButtonEl =\n",
              "        document.querySelector('#df-5cfbecb9-d145-4130-8105-53e4d18ff84b button');\n",
              "      quickchartButtonEl.style.display =\n",
              "        google.colab.kernel.accessAllowed ? 'block' : 'none';\n",
              "    })();\n",
              "  </script>\n",
              "</div>\n",
              "\n",
              "    </div>\n",
              "  </div>\n"
            ],
            "application/vnd.google.colaboratory.intrinsic+json": {
              "type": "dataframe",
              "summary": "{\n  \"name\": \"most_wrong\",\n  \"rows\": 5,\n  \"fields\": [\n    {\n      \"column\": \"text\",\n      \"properties\": {\n        \"dtype\": \"string\",\n        \"num_unique_values\": 5,\n        \"samples\": [\n          \"Pandemonium use to be my fav cd ?? I had to get it http://t.co/6WhUgaeM3C\",\n          \"@lucysforsale funny cause my dumb ass was the young one to get n trouble the most lol\",\n          \"OMFG??\\nDidnt expect Drag Me Down to be the first song Pandora played \\n\\nOMFG I SCREAMED SO LOUD\\nMy coworker is scared http://t.co/VzcvAdkcQp\"\n        ],\n        \"semantic_type\": \"\",\n        \"description\": \"\"\n      }\n    },\n    {\n      \"column\": \"target\",\n      \"properties\": {\n        \"dtype\": \"number\",\n        \"std\": 0,\n        \"min\": 1,\n        \"max\": 1,\n        \"num_unique_values\": 1,\n        \"samples\": [\n          1\n        ],\n        \"semantic_type\": \"\",\n        \"description\": \"\"\n      }\n    },\n    {\n      \"column\": \"preds\",\n      \"properties\": {\n        \"dtype\": \"float32\",\n        \"num_unique_values\": 1,\n        \"samples\": [\n          0.0\n        ],\n        \"semantic_type\": \"\",\n        \"description\": \"\"\n      }\n    },\n    {\n      \"column\": \"pred_probs\",\n      \"properties\": {\n        \"dtype\": \"float32\",\n        \"num_unique_values\": 5,\n        \"samples\": [\n          0.056023892015218735\n        ],\n        \"semantic_type\": \"\",\n        \"description\": \"\"\n      }\n    }\n  ]\n}"
            }
          },
          "metadata": {},
          "execution_count": 124
        }
      ]
    },
    {
      "cell_type": "markdown",
      "source": [
        "##check false positive(model predicted 1 when should have been 0)"
      ],
      "metadata": {
        "id": "becMP2kxhVdA"
      }
    },
    {
      "cell_type": "code",
      "source": [
        "for row in most_wrong[:10].itertuples():\n",
        "  _, text,target, preds, pred_prob = row\n",
        "  print(f\"target: {target}, preds: {preds}, pred_prob: {pred_prob}\")\n",
        "  print(f\"text:\\n{text}\\n\")\n",
        "  print(\"-------\\n\")"
      ],
      "metadata": {
        "colab": {
          "base_uri": "https://localhost:8080/"
        },
        "id": "_kytomfDXYFy",
        "outputId": "a620ef35-2020-4f5c-e8b1-20d0a88012de"
      },
      "execution_count": null,
      "outputs": [
        {
          "output_type": "stream",
          "name": "stdout",
          "text": [
            "target: 0, preds: 1.0, pred_prob: 0.8880637288093567\n",
            "text:\n",
            "USW: 'The damage from abandoning the deal could well create a new level of uncertainty...economic upheaval &amp; military unrest'\n",
            "\n",
            "-------\n",
            "\n",
            "target: 0, preds: 1.0, pred_prob: 0.8762493133544922\n",
            "text:\n",
            "Emergency Dispatchers in Boone County in the hot seat http://t.co/5fHkxtrhYU\n",
            "\n",
            "-------\n",
            "\n",
            "target: 0, preds: 1.0, pred_prob: 0.8753042817115784\n",
            "text:\n",
            "The first trial in the death of #CecilTheLion was just postponed http://t.co/fnmJE8GF7m http://t.co/nYe8ae2ifr\n",
            "\n",
            "-------\n",
            "\n",
            "target: 0, preds: 1.0, pred_prob: 0.8732314109802246\n",
            "text:\n",
            "San Jose Mercury: Governor Brown allows parole for California school bus hijacker  http://t.co/GpCeCp9kHv\n",
            "\n",
            "-------\n",
            "\n",
            "target: 0, preds: 1.0, pred_prob: 0.8672730922698975\n",
            "text:\n",
            "if firefighters acted like cops they'd drive around shooting a flamethrower at burning buildings\n",
            "\n",
            "-------\n",
            "\n",
            "target: 0, preds: 1.0, pred_prob: 0.8659653067588806\n",
            "text:\n",
            "The government is concerned about the population explosion and the population is concerned about the government explosion. - Joe Moore\n",
            "\n",
            "-------\n",
            "\n",
            "target: 0, preds: 1.0, pred_prob: 0.8375670313835144\n",
            "text:\n",
            "Family mourns drowning of 'superhero' toddler with rare epilepsy: Bradley Diebold suffered hundreds of epilepticÛ_ http://t.co/unsayJDTu7\n",
            "\n",
            "-------\n",
            "\n",
            "target: 0, preds: 1.0, pred_prob: 0.8069027662277222\n",
            "text:\n",
            "New doco tonight at 9pm Setanta Sports Ireland freeview. The largest police presence at a soccer game in Ireland stop prevent the rioting\n",
            "\n",
            "-------\n",
            "\n",
            "target: 0, preds: 1.0, pred_prob: 0.7962478399276733\n",
            "text:\n",
            "VIDEO: Slain Mexican Journalist Unknowingly Predicted His Own Death http://t.co/QxhOwCv16R via @BreitbartNews\n",
            "\n",
            "-------\n",
            "\n",
            "target: 0, preds: 1.0, pred_prob: 0.7719911932945251\n",
            "text:\n",
            "Bad News for US: China Russia Bolstering Military Cooperation in Asia / Sputnik International http://t.co/9q9Rk3fOf7 via @SputnikInt\n",
            "\n",
            "-------\n",
            "\n"
          ]
        }
      ]
    },
    {
      "cell_type": "markdown",
      "source": [
        "##check false negative(model predicted 0 when should have been 1)"
      ],
      "metadata": {
        "id": "38rVzK5Yi8eX"
      }
    },
    {
      "cell_type": "code",
      "source": [
        "for row in most_wrong[:-10].itertuples():\n",
        "  _,text,target,preds,pred_prob = row\n",
        "  print(f\"target: {target}, preds: {preds}, pred_prob: {pred_prob}\")\n",
        "  print(f\"text:\\n{text}\\n\")\n",
        "  print(\"-------\\n\")"
      ],
      "metadata": {
        "colab": {
          "base_uri": "https://localhost:8080/"
        },
        "id": "6QO3caW1jDm3",
        "outputId": "dde0a567-a26e-47db-b6c5-a5810e413561"
      },
      "execution_count": null,
      "outputs": [
        {
          "output_type": "stream",
          "name": "stdout",
          "text": [
            "target: 0, preds: 1.0, pred_prob: 0.8880637288093567\n",
            "text:\n",
            "USW: 'The damage from abandoning the deal could well create a new level of uncertainty...economic upheaval &amp; military unrest'\n",
            "\n",
            "-------\n",
            "\n",
            "target: 0, preds: 1.0, pred_prob: 0.8762493133544922\n",
            "text:\n",
            "Emergency Dispatchers in Boone County in the hot seat http://t.co/5fHkxtrhYU\n",
            "\n",
            "-------\n",
            "\n",
            "target: 0, preds: 1.0, pred_prob: 0.8753042817115784\n",
            "text:\n",
            "The first trial in the death of #CecilTheLion was just postponed http://t.co/fnmJE8GF7m http://t.co/nYe8ae2ifr\n",
            "\n",
            "-------\n",
            "\n",
            "target: 0, preds: 1.0, pred_prob: 0.8732314109802246\n",
            "text:\n",
            "San Jose Mercury: Governor Brown allows parole for California school bus hijacker  http://t.co/GpCeCp9kHv\n",
            "\n",
            "-------\n",
            "\n",
            "target: 0, preds: 1.0, pred_prob: 0.8672730922698975\n",
            "text:\n",
            "if firefighters acted like cops they'd drive around shooting a flamethrower at burning buildings\n",
            "\n",
            "-------\n",
            "\n",
            "target: 0, preds: 1.0, pred_prob: 0.8659653067588806\n",
            "text:\n",
            "The government is concerned about the population explosion and the population is concerned about the government explosion. - Joe Moore\n",
            "\n",
            "-------\n",
            "\n",
            "target: 0, preds: 1.0, pred_prob: 0.8375670313835144\n",
            "text:\n",
            "Family mourns drowning of 'superhero' toddler with rare epilepsy: Bradley Diebold suffered hundreds of epilepticÛ_ http://t.co/unsayJDTu7\n",
            "\n",
            "-------\n",
            "\n",
            "target: 0, preds: 1.0, pred_prob: 0.8069027662277222\n",
            "text:\n",
            "New doco tonight at 9pm Setanta Sports Ireland freeview. The largest police presence at a soccer game in Ireland stop prevent the rioting\n",
            "\n",
            "-------\n",
            "\n",
            "target: 0, preds: 1.0, pred_prob: 0.7962478399276733\n",
            "text:\n",
            "VIDEO: Slain Mexican Journalist Unknowingly Predicted His Own Death http://t.co/QxhOwCv16R via @BreitbartNews\n",
            "\n",
            "-------\n",
            "\n",
            "target: 0, preds: 1.0, pred_prob: 0.7719911932945251\n",
            "text:\n",
            "Bad News for US: China Russia Bolstering Military Cooperation in Asia / Sputnik International http://t.co/9q9Rk3fOf7 via @SputnikInt\n",
            "\n",
            "-------\n",
            "\n",
            "target: 0, preds: 1.0, pred_prob: 0.7703779935836792\n",
            "text:\n",
            "I think bombing Iran would be kinder... https://t.co/GVm70U2bPm\n",
            "\n",
            "-------\n",
            "\n",
            "target: 0, preds: 1.0, pred_prob: 0.7690434455871582\n",
            "text:\n",
            "Canceling Deal for 2 Warships #France Agrees to Repay #Russia via @nytimes http://t.co/f2gwxEPrAk\n",
            "\n",
            "-------\n",
            "\n",
            "target: 0, preds: 1.0, pred_prob: 0.7500433325767517\n",
            "text:\n",
            "@crobscarla your lifetime odds of dying from an airplane accident are 1 in 8015.\n",
            "\n",
            "-------\n",
            "\n",
            "target: 0, preds: 1.0, pred_prob: 0.725673258304596\n",
            "text:\n",
            "#Landslide! Trump 25.5% Bush 12.5% http://t.co/xY41z0O5ei via @pollster @realdonaldtrump\n",
            "\n",
            "-------\n",
            "\n",
            "target: 0, preds: 1.0, pred_prob: 0.7084203958511353\n",
            "text:\n",
            "Maailiss: Diaporama : sixpenceee: Karymsky Lake is a crater lake located in the Karymsky volcanoåÊinåÊRussia. With aÛ_ http://t.co/4o460Fm8HN\n",
            "\n",
            "-------\n",
            "\n",
            "target: 0, preds: 1.0, pred_prob: 0.7069777250289917\n",
            "text:\n",
            "@atljw @cnnbrk fine line btw mass murderer and terrorist. Yes we don't know if there's polit. or social aspect yet; however he went to a\n",
            "\n",
            "-------\n",
            "\n",
            "target: 0, preds: 1.0, pred_prob: 0.7042393088340759\n",
            "text:\n",
            "@NWSPocatello BG-16: So far brunt of storm just to our north. Grayed out w/ dust &amp; rain to N blue sky interspersed w/ clouds to S.\n",
            "\n",
            "-------\n",
            "\n",
            "target: 0, preds: 1.0, pred_prob: 0.6991403698921204\n",
            "text:\n",
            "#landslide while on a trip in #skardu https://t.co/nqNWkTRhsA\n",
            "\n",
            "-------\n",
            "\n",
            "target: 0, preds: 1.0, pred_prob: 0.6790085434913635\n",
            "text:\n",
            "Purple Heart Vet Finds Jihad Threat on His Car at Mall: ÛÏAll of you Islamaphobe vets... http://t.co/hWnyXXKczz\n",
            "\n",
            "-------\n",
            "\n",
            "target: 0, preds: 1.0, pred_prob: 0.6775833964347839\n",
            "text:\n",
            "PATRICK ROY 1998-99 UPPER DECK SPX #171 FINITE 1620 MADE COLORADO AVALANCHE MINT http://t.co/uHfM1r3Tq5 http://t.co/QulgaKebHB\n",
            "\n",
            "-------\n",
            "\n",
            "target: 0, preds: 1.0, pred_prob: 0.675117552280426\n",
            "text:\n",
            "#Vancouver to host 100s of electronic art events including @MUTEK_Montreal. http://t.co/vjBhxN9x1O #ISEA2015\n",
            "\n",
            "-------\n",
            "\n",
            "target: 0, preds: 1.0, pred_prob: 0.6664126515388489\n",
            "text:\n",
            "@nikostar :(\n",
            "Y'all have lakes in Ohio? I thought all y'all had was abject desolation and Subway restaurants.\n",
            "\n",
            "-------\n",
            "\n",
            "target: 0, preds: 1.0, pred_prob: 0.645372211933136\n",
            "text:\n",
            "Hat #russian soviet army kgb  military #cossack #ushanka  LINK:\n",
            "http://t.co/bla42Rdt1O http://t.co/EInSQS8tFq\n",
            "\n",
            "-------\n",
            "\n",
            "target: 0, preds: 1.0, pred_prob: 0.6192388534545898\n",
            "text:\n",
            "Who is bringing the tornadoes and floods. Who is bringing the climate change. God is after America He is plaguing her\n",
            " \n",
            "#FARRAKHAN #QUOTE\n",
            "\n",
            "-------\n",
            "\n",
            "target: 0, preds: 1.0, pred_prob: 0.6052284240722656\n",
            "text:\n",
            "@steveycheese99 @MapMyRun where you being electrocuted all the way round? The map sure looks like it.\n",
            "\n",
            "-------\n",
            "\n",
            "target: 0, preds: 1.0, pred_prob: 0.6014766097068787\n",
            "text:\n",
            "The sky's clear the storm has passed but it's still raining in my head\n",
            "\n",
            "-------\n",
            "\n",
            "target: 1, preds: 0.0, pred_prob: 0.5945627093315125\n",
            "text:\n",
            "Truly a scene of chaos unprecedented in frenzy. Pandemonium even. Utter disorder. That anyone survived such mania is astounding. @catovitch\n",
            "\n",
            "-------\n",
            "\n",
            "target: 0, preds: 1.0, pred_prob: 0.5862913131713867\n",
            "text:\n",
            "Nuclear deal disaster.\n",
            "\n",
            "#IranDeal #NoNuclearIran #BadIranDeal @JebBush @BarackObama http://t.co/z7phPjtqud\n",
            "\n",
            "-------\n",
            "\n",
            "target: 1, preds: 0.0, pred_prob: 0.5832943320274353\n",
            "text:\n",
            "@noah_anyname The utopian impulse inevitably ends in gulags and mass murder.\n",
            "\n",
            "-------\n",
            "\n",
            "target: 0, preds: 1.0, pred_prob: 0.5787637233734131\n",
            "text:\n",
            "WFTV Eyewitness News: TN school psychologist arrested in Florida on child porn charges http://t.co/lgGLf5yrMe\n",
            "\n",
            "-------\n",
            "\n",
            "target: 0, preds: 1.0, pred_prob: 0.5781577825546265\n",
            "text:\n",
            "@joshcorman  #infosec rather you knew it or not your a firefighter  now days  you often  run into burning buildings Deal with it.\n",
            "\n",
            "-------\n",
            "\n",
            "target: 0, preds: 1.0, pred_prob: 0.5765383839607239\n",
            "text:\n",
            "Students COLLIDE this Fri/Sat - register http://t.co/PwjJimRfLy #nlccollide http://t.co/3w0pxFyyri\n",
            "\n",
            "-------\n",
            "\n",
            "target: 0, preds: 1.0, pred_prob: 0.5662183165550232\n",
            "text:\n",
            "To Supply and Install New FRP Emergency Slide  at Tunas KijangBank Negara Malaysia [Closing Date: 2015-08-14]... http://t.co/ZpqwKHFhNf\n",
            "\n",
            "-------\n",
            "\n",
            "target: 0, preds: 1.0, pred_prob: 0.5650227665901184\n",
            "text:\n",
            "Arsonists being blamed for a blaze at a plastics recycling business in Adelaide | @pcaldicott7 reports. #7NewsAdl http://t.co/r1Xwdnvb0g\n",
            "\n",
            "-------\n",
            "\n",
            "target: 0, preds: 1.0, pred_prob: 0.5621185898780823\n",
            "text:\n",
            "@That_fat_guy there's literally a video of an elephant he had tied up in metal cables and electrocuted to death\n",
            "\n",
            "-------\n",
            "\n",
            "target: 0, preds: 1.0, pred_prob: 0.5589244365692139\n",
            "text:\n",
            "Statistically I'm at more of risk of getting killed by a cop than I am of dying in an airplane accident.\n",
            "\n",
            "-------\n",
            "\n",
            "target: 0, preds: 1.0, pred_prob: 0.5559450387954712\n",
            "text:\n",
            "Leicester_Merc : ICYMI - #Ashes 2015: Australia collapse at Trent Bridge - how Twitter reaÛ_ http://t.co/HqeWMREysO) http://t.co/y4y8fclJED\n",
            "\n",
            "-------\n",
            "\n",
            "target: 1, preds: 0.0, pred_prob: 0.5467244386672974\n",
            "text:\n",
            "Looks like a perfect storm-free evening coming up.  Check out the outdoor happenings featured at http://t.co/hUzrHgmkSY #EventsPalmBeach.\n",
            "\n",
            "-------\n",
            "\n",
            "target: 0, preds: 1.0, pred_prob: 0.538686215877533\n",
            "text:\n",
            "Toronto going crazy for the blue jays. Can you imagine if the leafs get good? The city might literally explode.\n",
            "\n",
            "-------\n",
            "\n",
            "target: 0, preds: 1.0, pred_prob: 0.5362486839294434\n",
            "text:\n",
            ".@RaniaKhalek true. I faced everything from 'Is Bin Laden your uncle?' to 'Hopefully Afghanistan will be bombed'. Children can be very ugly.\n",
            "\n",
            "-------\n",
            "\n",
            "target: 0, preds: 1.0, pred_prob: 0.5351709127426147\n",
            "text:\n",
            "#Allah describes piling up #wealth thinking it would last #forever as the description of the people of #Hellfire in Surah Humaza. #Reflect\n",
            "\n",
            "-------\n",
            "\n",
            "target: 0, preds: 1.0, pred_prob: 0.5347509980201721\n",
            "text:\n",
            "City program to help turn blight into greenspace: The Tennessee Housing DevelopmentÛ_ http://t.co/ZZcbBQyJ1q  #news http://t.co/KKSgHsblFH\n",
            "\n",
            "-------\n",
            "\n",
            "target: 1, preds: 0.0, pred_prob: 0.5327327847480774\n",
            "text:\n",
            "The president spoke of Kennedy's diplomacy to avert nuclear disaster during the Cold War to bolster his own pitch for Congress' approval\n",
            "\n",
            "-------\n",
            "\n",
            "target: 1, preds: 0.0, pred_prob: 0.5326544642448425\n",
            "text:\n",
            "Sadly the tent fly did not survive this hailstorm and now I have tears in the roof and water in the tent.  Only... http://t.co/zCt5cchOJ0\n",
            "\n",
            "-------\n",
            "\n",
            "target: 1, preds: 0.0, pred_prob: 0.5182229280471802\n",
            "text:\n",
            "INEC Office in Abia Set Ablaze - http://t.co/3ImaomknnA\n",
            "\n",
            "-------\n",
            "\n",
            "target: 0, preds: 1.0, pred_prob: 0.5172355771064758\n",
            "text:\n",
            "Santa Fe Springs Studebaker Rd / South St **Trfc Collision-No Inj** http://t.co/6uHih9pbrU\n",
            "\n",
            "-------\n",
            "\n",
            "target: 0, preds: 1.0, pred_prob: 0.5163326859474182\n",
            "text:\n",
            "RT @DianneG: Gunshot wound #9 is in the bicep. only 1 of the 10 wounds that is not in the chest/torso area.  #KerrickTrial #JonathanFerrell\n",
            "\n",
            "-------\n",
            "\n",
            "target: 0, preds: 1.0, pred_prob: 0.5117583274841309\n",
            "text:\n",
            "@justicemalala @nkeajresq Nkea destroyed lives in Gambia as a mercenary judge.\n",
            "\n",
            "-------\n",
            "\n",
            "target: 1, preds: 0.0, pred_prob: 0.5075660943984985\n",
            "text:\n",
            "@alextucker VOLCANO BOWL DRINK\n",
            "\n",
            "-------\n",
            "\n",
            "target: 1, preds: 0.0, pred_prob: 0.5054410696029663\n",
            "text:\n",
            "$10M SETTLEMENT attained using our illustrations to help jurors understand the true devastation of internal injuries: http://t.co/2BaXg1WdPP\n",
            "\n",
            "-------\n",
            "\n",
            "target: 1, preds: 0.0, pred_prob: 0.5017884373664856\n",
            "text:\n",
            "Check this out! Lightning reshapes rocks at the atomic level http://t.co/l1gH8064YV #scichat #science\n",
            "\n",
            "-------\n",
            "\n",
            "target: 0, preds: 1.0, pred_prob: 0.4991745054721832\n",
            "text:\n",
            "The Body Bags has a show on 08/07/2015 at 07:30 PM @ Tremont Music Hall in Charlotte NC http://t.co/FpKiqbus9r #concert\n",
            "\n",
            "-------\n",
            "\n",
            "target: 0, preds: 1.0, pred_prob: 0.49485963582992554\n",
            "text:\n",
            "He came to a land which was engulfed in tribal war and turned it into a land of peace i.e. Madinah. #ProphetMuhammad #islam\n",
            "\n",
            "-------\n",
            "\n",
            "target: 0, preds: 1.0, pred_prob: 0.49312669038772583\n",
            "text:\n",
            "Dying with debt can be costly for survivors\n",
            "\n",
            "-------\n",
            "\n",
            "target: 0, preds: 1.0, pred_prob: 0.4916929006576538\n",
            "text:\n",
            "if they kill off Val I'm rioting #Emmerdale\n",
            "\n",
            "-------\n",
            "\n",
            "target: 0, preds: 1.0, pred_prob: 0.4871390461921692\n",
            "text:\n",
            "@SterlingKnight  Who had a car crashsterling!Who was driving in the carMel or JoeySterling Knight???????\n",
            "\n",
            "-------\n",
            "\n",
            "target: 1, preds: 0.0, pred_prob: 0.4812476634979248\n",
            "text:\n",
            "In the words of Charlie Daniels 'Fire on the mountain run boys run.'Û_ https://t.co/fz1HAEj255\n",
            "\n",
            "-------\n",
            "\n",
            "target: 1, preds: 0.0, pred_prob: 0.4801311790943146\n",
            "text:\n",
            "I accidentally killed an 87 day snap streak and now I wanna accidentally fall off a cliff ????????????????????\n",
            "\n",
            "-------\n",
            "\n",
            "target: 0, preds: 1.0, pred_prob: 0.47164100408554077\n",
            "text:\n",
            "A true #TBT  Eyewitness News WBRE WYOU http://t.co/JHVigsX5Jg\n",
            "\n",
            "-------\n",
            "\n",
            "target: 1, preds: 0.0, pred_prob: 0.46613121032714844\n",
            "text:\n",
            "#coppednews Haunting memories drawn by survivors http://t.co/Wx11d69gEZ\n",
            "\n",
            "-------\n",
            "\n",
            "target: 1, preds: 0.0, pred_prob: 0.46134084463119507\n",
            "text:\n",
            "OMG NIXON LIVES! That is Richard M. Nixon Tricky Dicky right there in the picture isn't it. Hiding in Calgary he... http://t.co/MIUsvPxQTE\n",
            "\n",
            "-------\n",
            "\n",
            "target: 0, preds: 1.0, pred_prob: 0.459810346364975\n",
            "text:\n",
            "@petereallen @HuffPostUK @bbc5live How significant do you think the iconic pic of Church (maybe) ruins and less substantial efforts razed?\n",
            "\n",
            "-------\n",
            "\n",
            "target: 0, preds: 1.0, pred_prob: 0.4503224194049835\n",
            "text:\n",
            "Finnish Nuclear Plant to Move Ahead After Financing Secured-&gt; http://t.co/uHkXMXaB9l\n",
            "\n",
            "-------\n",
            "\n",
            "target: 0, preds: 1.0, pred_prob: 0.4479747712612152\n",
            "text:\n",
            "Hollywood Movie About Trapped Miners Released in Chile http://t.co/EXQKmlg4NJ\n",
            "\n",
            "-------\n",
            "\n",
            "target: 0, preds: 1.0, pred_prob: 0.44681328535079956\n",
            "text:\n",
            "Devastation: coming to a @Target and find the @Starbucks closed ?? #momneedscoffee #asap #iwontmakeit\n",
            "\n",
            "-------\n",
            "\n",
            "target: 1, preds: 0.0, pred_prob: 0.44615644216537476\n",
            "text:\n",
            "My brother-n-law riooooos got the call to head up north and fight the wild fires. Dudes a beast atÛ_ https://t.co/463P0yS0Eb\n",
            "\n",
            "-------\n",
            "\n",
            "target: 1, preds: 0.0, pred_prob: 0.4442974030971527\n",
            "text:\n",
            "I am not an American but I have family who have served in the military work in the emergency services and work in... http://t.co/Pl2VzLrKVK\n",
            "\n",
            "-------\n",
            "\n",
            "target: 1, preds: 0.0, pred_prob: 0.4433843493461609\n",
            "text:\n",
            "@malistkiss Sunnis continue to believe they are more righteous and they continually harm Shias. Defeats the ideals of Islam.\n",
            "\n",
            "-------\n",
            "\n",
            "target: 1, preds: 0.0, pred_prob: 0.4360860586166382\n",
            "text:\n",
            "A Santa Ana Police Union Blocks Video of the Raid at Sky High Holistic Pot Dispensary - The Atlantic http://t.co/yvV1RlghfT #SmartNews\n",
            "\n",
            "-------\n",
            "\n",
            "target: 1, preds: 0.0, pred_prob: 0.43578121066093445\n",
            "text:\n",
            "Angry Woman Openly Accuses NEMA Of Stealing Relief Materials Meant For IDPs: An angry Internally Displaced wom... http://t.co/TEq7SrI57P\n",
            "\n",
            "-------\n",
            "\n",
            "target: 1, preds: 0.0, pred_prob: 0.43278998136520386\n",
            "text:\n",
            "This desperation dislocation\n",
            "Separation condemnation\n",
            "Revelation in temptation\n",
            "Isolation desolation\n",
            "Let it go and so to find away\n",
            "\n",
            "-------\n",
            "\n",
            "target: 1, preds: 0.0, pred_prob: 0.43154868483543396\n",
            "text:\n",
            "South Sac Florin Rd / Franklin Blvd **Trfc Collision-1141 Enrt** http://t.co/Es1b3lywAy\n",
            "\n",
            "-------\n",
            "\n",
            "target: 1, preds: 0.0, pred_prob: 0.43079954385757446\n",
            "text:\n",
            "RT patrickjbutler: Excellent damiengayle eyewitness account of Kids Company closure: 'You drop the bomb and expectÛ_ http://t.co/pHH1VmLfoo\n",
            "\n",
            "-------\n",
            "\n",
            "target: 0, preds: 1.0, pred_prob: 0.42661523818969727\n",
            "text:\n",
            "Hollywood movie about trapped miners released in Chile\n",
            "\n",
            "-------\n",
            "\n",
            "target: 1, preds: 0.0, pred_prob: 0.41568082571029663\n",
            "text:\n",
            "I'm grateful for our first responders - @MNPDNashville @NashvilleFD and others - who acted so swiftly to save countless lives today.\n",
            "\n",
            "-------\n",
            "\n",
            "target: 0, preds: 1.0, pred_prob: 0.4143790006637573\n",
            "text:\n",
            "Reusing advanced in life equipments in transit to drumming champaign damage: FdbDP\n",
            "\n",
            "-------\n",
            "\n",
            "target: 0, preds: 1.0, pred_prob: 0.4141182601451874\n",
            "text:\n",
            "Ignition Knock (Detonation) Sensor ACDelco GM Original Equipment 213-4678 http://t.co/O2jD4TbrwA http://t.co/JFx6qiyiVF\n",
            "\n",
            "-------\n",
            "\n",
            "target: 0, preds: 1.0, pred_prob: 0.41361406445503235\n",
            "text:\n",
            "Tell the United Nations: Plantations are NOT forests! https://t.co/cic7h64Qv8 via @RainforestResq\n",
            "\n",
            "-------\n",
            "\n",
            "target: 1, preds: 0.0, pred_prob: 0.4123912453651428\n",
            "text:\n",
            "'i'm a Gemini' *children screaming buildings burning police sirens in the distance*\n",
            "\n",
            "-------\n",
            "\n",
            "target: 0, preds: 1.0, pred_prob: 0.4087684750556946\n",
            "text:\n",
            "Hollywood movie about trapped miners released in Chile http://t.co/xe0EE1Fzfh\n",
            "\n",
            "-------\n",
            "\n",
            "target: 0, preds: 1.0, pred_prob: 0.4017482399940491\n",
            "text:\n",
            "A new type of ADHD? Head injuries in children linked to long-term attention problems http://t.co/I4FZ75Utnh\n",
            "\n",
            "-------\n",
            "\n",
            "target: 0, preds: 1.0, pred_prob: 0.4014083743095398\n",
            "text:\n",
            "Mere sight of a gun makes police ÛÒ and public ÛÒ more aggressive experts say http://t.co/N4NEUIyt2k\n",
            "\n",
            "-------\n",
            "\n",
            "target: 0, preds: 1.0, pred_prob: 0.3873046040534973\n",
            "text:\n",
            "Police unions retard justice &amp; drain gov $ but cops vote 4 Rs so Rs go after teachers unions instead! @DCCC @VJ44 @Lawrence @JBouie @mmfa\n",
            "\n",
            "-------\n",
            "\n",
            "target: 1, preds: 0.0, pred_prob: 0.38649067282676697\n",
            "text:\n",
            "@Michael5SOS California is in a drought. what are you gonna do about this issue? if you want to be president this attitude won't work with m\n",
            "\n",
            "-------\n",
            "\n",
            "target: 0, preds: 1.0, pred_prob: 0.3842611610889435\n",
            "text:\n",
            "@accionempresa ChinaÛªs stock market crash this summer has sparked interest from bargain hunt... http://t.co/gO0pkrFzMF @gerenciatodos å¨\n",
            "\n",
            "-------\n",
            "\n",
            "target: 1, preds: 0.0, pred_prob: 0.3725617229938507\n",
            "text:\n",
            "If abortion is murder then blowjobs are cannibalism and masturbation is mass genocide.\n",
            "\n",
            "-------\n",
            "\n",
            "target: 1, preds: 0.0, pred_prob: 0.3712237775325775\n",
            "text:\n",
            "'It looks like a mudslide' poor thing! ?? #greatbritishbakeoff\n",
            "\n",
            "-------\n",
            "\n",
            "target: 1, preds: 0.0, pred_prob: 0.3676157593727112\n",
            "text:\n",
            "http://t.co/qr3YPEkfOe \n",
            "Seems they declared war against government..\n",
            "\n",
            "-------\n",
            "\n",
            "target: 1, preds: 0.0, pred_prob: 0.3525628447532654\n",
            "text:\n",
            "So grateful for all the support flooding in from @NetkiCorp dinner guests! THANK YOU ALL! https://t.co/ELTne5v1Qn\n",
            "\n",
            "-------\n",
            "\n",
            "target: 1, preds: 0.0, pred_prob: 0.3505284786224365\n",
            "text:\n",
            "'It looks like a mudslide!' And #GBBO is back with a belter!\n",
            "\n",
            "-------\n",
            "\n",
            "target: 1, preds: 0.0, pred_prob: 0.3476731777191162\n",
            "text:\n",
            "The Adventures of Mineness #9   The Famine Is Over http://t.co/spYmIQNeCj\n",
            "\n",
            "-------\n",
            "\n",
            "target: 1, preds: 0.0, pred_prob: 0.3476006090641022\n",
            "text:\n",
            "You Are Invited to The Expo Explosion Summer Event 2015! \n",
            "WHEN: August 14th Friday 2015\n",
            "WHERE: Ben E Keith... http://t.co/yh4R7Ug21a\n",
            "\n",
            "-------\n",
            "\n",
            "target: 1, preds: 0.0, pred_prob: 0.3440134823322296\n",
            "text:\n",
            "Small casualty on the way to Colorado http://t.co/hDVmhSQXHm\n",
            "\n",
            "-------\n",
            "\n",
            "target: 0, preds: 1.0, pred_prob: 0.3427446782588959\n",
            "text:\n",
            "A tornado flew around my room before you came\n",
            "\n",
            "-------\n",
            "\n",
            "target: 1, preds: 0.0, pred_prob: 0.3378598392009735\n",
            "text:\n",
            "TWIA board approves 5 percent rate hike: The Texas Windstorm Insurance Association (TWIA) Board of Directors v... http://t.co/TWPl0NL8cx\n",
            "\n",
            "-------\n",
            "\n",
            "target: 1, preds: 0.0, pred_prob: 0.3374646306037903\n",
            "text:\n",
            "Medieval airplane hijacker hard shell: casting the star deviating: dYxTmrYDu\n",
            "\n",
            "-------\n",
            "\n",
            "target: 1, preds: 0.0, pred_prob: 0.32874491810798645\n",
            "text:\n",
            "Economic Collapse Investing: Specific actions and strategies to securing lasting wealth from the financial blowout. http://t.co/JZwRisXEPF\n",
            "\n",
            "-------\n",
            "\n",
            "target: 1, preds: 0.0, pred_prob: 0.32730409502983093\n",
            "text:\n",
            "Of course the one day I have to dress professionally aka unsensibly for class is the day I have try and outrun a natural disaster!\n",
            "\n",
            "-------\n",
            "\n",
            "target: 1, preds: 0.0, pred_prob: 0.3127528131008148\n",
            "text:\n",
            "Windstorm lastingness perquisite - acquiesce in a twister retreat: ZiUW http://t.co/iRt4kkgsJx\n",
            "\n",
            "-------\n",
            "\n",
            "target: 1, preds: 0.0, pred_prob: 0.3104795515537262\n",
            "text:\n",
            "#hot  Funtenna: hijacking computers to send data as sound waves [Black Hat 2015] http://t.co/J2aQs5loxu #prebreak #best\n",
            "\n",
            "-------\n",
            "\n",
            "target: 1, preds: 0.0, pred_prob: 0.2979815900325775\n",
            "text:\n",
            "FreeBesieged: .MartinMJ22 YouGov Which '#Tory landslide' ... you can't POSSIBLY mean the wafer-thin majority of #GÛ_ http://t.co/2q3fuEReY5\n",
            "\n",
            "-------\n",
            "\n",
            "target: 1, preds: 0.0, pred_prob: 0.29587462544441223\n",
            "text:\n",
            "Black Eye 9: A space battle occurred at Star M27329 involving 1 fleets totaling 1236 ships with 7 destroyed\n",
            "\n",
            "-------\n",
            "\n",
            "target: 1, preds: 0.0, pred_prob: 0.2903956174850464\n",
            "text:\n",
            "A country Chim can survive!\n",
            "\n",
            "-------\n",
            "\n",
            "target: 1, preds: 0.0, pred_prob: 0.28903108835220337\n",
            "text:\n",
            "My baby girls car wreak this afternoon thank God no serious injuries and she was wearing her seatbelt!!!... http://t.co/NJQV45ndS2\n",
            "\n",
            "-------\n",
            "\n",
            "target: 1, preds: 0.0, pred_prob: 0.28676578402519226\n",
            "text:\n",
            "EUROCRISIS Guardian Greece's tax revenues collapse as debt crisis continues: As talks continue over proposed âÂ... http://t.co/bBm9sR1wOw\n",
            "\n",
            "-------\n",
            "\n",
            "target: 1, preds: 0.0, pred_prob: 0.2829262316226959\n",
            "text:\n",
            "Truth...\n",
            "https://t.co/4ZQrsAQrRT\n",
            "#News\n",
            "#BBC\n",
            "#CNN\n",
            "#Islam\n",
            "#Truth\n",
            "#god\n",
            "#ISIS\n",
            "#terrorism\n",
            "#Quran\n",
            "#Lies http://t.co/6ar3UKvsxw\n",
            "\n",
            "-------\n",
            "\n",
            "target: 1, preds: 0.0, pred_prob: 0.2806340456008911\n",
            "text:\n",
            "Heat wave gotta be over 9000 today\n",
            "\n",
            "-------\n",
            "\n",
            "target: 1, preds: 0.0, pred_prob: 0.27060380578041077\n",
            "text:\n",
            "@Hurricane_Dame ???????? I don't have them they out here\n",
            "\n",
            "-------\n",
            "\n",
            "target: 1, preds: 0.0, pred_prob: 0.2580674886703491\n",
            "text:\n",
            "... The pain of those seconds must have been awful as her heart burst and her lungs collapsed and there was no air and...\n",
            "\n",
            "-------\n",
            "\n",
            "target: 1, preds: 0.0, pred_prob: 0.25369328260421753\n",
            "text:\n",
            "@blairmcdougall and when will you be commenting on Ian Taylor's dealings with mass - murderer Arkan?\n",
            "\n",
            "-------\n",
            "\n",
            "target: 1, preds: 0.0, pred_prob: 0.2479395568370819\n",
            "text:\n",
            "This guy bought my car on Tuesday police knocked my door yday cos he crashed n ran &amp; 2day he text me asking not to send the log book????????\n",
            "\n",
            "-------\n",
            "\n",
            "target: 1, preds: 0.0, pred_prob: 0.24365606904029846\n",
            "text:\n",
            "Zeal is a volcano the peak of which the grass of indecisiveness does not grow\n",
            "\n",
            "-------\n",
            "\n",
            "target: 1, preds: 0.0, pred_prob: 0.2374361753463745\n",
            "text:\n",
            "Pandemonium In Aba As Woman Delivers Baby Without Face (Photos) - http://t.co/xRP0rTkFfJ\n",
            "\n",
            "-------\n",
            "\n",
            "target: 1, preds: 0.0, pred_prob: 0.23427021503448486\n",
            "text:\n",
            "@author_mike Amen today is the Day of Salvation. THX brother Mike for your great encouragement. - http://t.co/cybKsXHF7d Coming US Tsunami\n",
            "\n",
            "-------\n",
            "\n",
            "target: 1, preds: 0.0, pred_prob: 0.2334291785955429\n",
            "text:\n",
            "#hot  Funtenna: hijacking computers to send data as sound waves [Black Hat 2015] http://t.co/qj3PVgaVN7 #prebreak #best\n",
            "\n",
            "-------\n",
            "\n",
            "target: 1, preds: 0.0, pred_prob: 0.22915498912334442\n",
            "text:\n",
            "@ameenshaikh3 sir i just only wanted to make a point about @sureshpprabhu you made and said he is lying about bridge collapse.\n",
            "\n",
            "-------\n",
            "\n",
            "target: 1, preds: 0.0, pred_prob: 0.22795742750167847\n",
            "text:\n",
            "We're #hiring! Click to apply: RN II/EMERGENCY SERVICES/FT/7P-7A - http://t.co/NV3Uxv9IMX #Nursing #Houston TX http://t.co/ej30IhrEA9\n",
            "\n",
            "-------\n",
            "\n",
            "target: 1, preds: 0.0, pred_prob: 0.22605307400226593\n",
            "text:\n",
            "Slip Sliding Away - Flash Floods Info for Writers w/Tony Nester @SonoranRattler #writingtips http://t.co/sLTtOrRLHs\n",
            "\n",
            "-------\n",
            "\n",
            "target: 1, preds: 0.0, pred_prob: 0.21578320860862732\n",
            "text:\n",
            "Near them on the sand half sunk a shattered visage lies... http://t.co/0kCCG1BT06\n",
            "\n",
            "-------\n",
            "\n",
            "target: 1, preds: 0.0, pred_prob: 0.21046124398708344\n",
            "text:\n",
            "@Sweet2Young -runs at her for setting my forest on fire and bites the shit out of her neck-\n",
            "\n",
            "-------\n",
            "\n",
            "target: 1, preds: 0.0, pred_prob: 0.2071499526500702\n",
            "text:\n",
            "@Cali74142290 lol natural disaster/hospital crisis something is needed to get rid of some cast members....\n",
            "\n",
            "-------\n",
            "\n",
            "target: 1, preds: 0.0, pred_prob: 0.19936788082122803\n",
            "text:\n",
            "A diamond is just a piece of charcoal that handled stress exceptionally well. We are hard pressed on every side but not crushed.2 cor4:8\n",
            "\n",
            "-------\n",
            "\n",
            "target: 1, preds: 0.0, pred_prob: 0.19397933781147003\n",
            "text:\n",
            "Got my first gamer troll I just demolished a kid from Philly with Toronto on MLB and he was upset #BacktoBack #ChargedUp ??????\n",
            "\n",
            "-------\n",
            "\n",
            "target: 1, preds: 0.0, pred_prob: 0.19045189023017883\n",
            "text:\n",
            "@Ashayo @MsMiggi Hi Ashayo! I believe there will be VODs on YouTube after the presentation but there is nothing like seeing it live :)\n",
            "\n",
            "-------\n",
            "\n",
            "target: 1, preds: 0.0, pred_prob: 0.19016414880752563\n",
            "text:\n",
            "@ThatSabineGirl you get me sis. this planet could do with a huge dose of obliteration.\n",
            "\n",
            "-------\n",
            "\n",
            "target: 1, preds: 0.0, pred_prob: 0.1892160028219223\n",
            "text:\n",
            "GREAT CONDITION Easton Cyclone Softball Bat Fastpitch (-9) 29/20 SK398 http://t.co/rA2mAjPkq2 http://t.co/y7gHHYK05b\n",
            "\n",
            "-------\n",
            "\n",
            "target: 1, preds: 0.0, pred_prob: 0.17563842236995697\n",
            "text:\n",
            "I waited 2.5 hours to get a cab my feet are bleeding\n",
            "\n",
            "-------\n",
            "\n",
            "target: 1, preds: 0.0, pred_prob: 0.17291969060897827\n",
            "text:\n",
            "Our builder is having a dental emergency. Which has ruined my plan to emotionally blackmail him this afternoon with my bump.\n",
            "\n",
            "-------\n",
            "\n",
            "target: 1, preds: 0.0, pred_prob: 0.16808536648750305\n",
            "text:\n",
            "@tiggr_ why only Squad Obliteration?\n",
            "\n",
            "-------\n",
            "\n",
            "target: 1, preds: 0.0, pred_prob: 0.16346126794815063\n",
            "text:\n",
            "@xDescry I was wrong to call it trusty actually.. considering it spontaneously collapsed on me that's not very trusty.\n",
            "\n",
            "-------\n",
            "\n",
            "target: 1, preds: 0.0, pred_prob: 0.14536350965499878\n",
            "text:\n",
            "I will adamantly opposed to nuclear weapons.\n",
            "\n",
            "-------\n",
            "\n",
            "target: 1, preds: 0.0, pred_prob: 0.13413961231708527\n",
            "text:\n",
            "I agree with certain cultural appropriation things but honestly if u looked at my house it screams appropriation bc Buddhas and stuff-\n",
            "\n",
            "-------\n",
            "\n",
            "target: 1, preds: 0.0, pred_prob: 0.11584334820508957\n",
            "text:\n",
            "Detonate (feat. M.O.P.) by Apollo Brown http://t.co/fllaBzGCRc\n",
            "\n",
            "-------\n",
            "\n",
            "target: 1, preds: 0.0, pred_prob: 0.1147489845752716\n",
            "text:\n",
            "#Tweet4Taiji is a dolphin worship group based on superstitions! Just take a look at their tweets!\n",
            "\n",
            "-------\n",
            "\n",
            "target: 1, preds: 0.0, pred_prob: 0.11423365771770477\n",
            "text:\n",
            ":StarMade: :Stardate 3: :Planetary Annihilation:: http://t.co/I2hHvIUmTm via @YouTube\n",
            "\n",
            "-------\n",
            "\n",
            "target: 1, preds: 0.0, pred_prob: 0.11031802743673325\n",
            "text:\n",
            "@TheHammers_ @tonycottee1986 alsowhat if some of the 1st team players got injured?Then Bilic would get slated for playing themhe can't win\n",
            "\n",
            "-------\n",
            "\n"
          ]
        }
      ]
    },
    {
      "cell_type": "code",
      "source": [
        "test_data"
      ],
      "metadata": {
        "colab": {
          "base_uri": "https://localhost:8080/",
          "height": 441
        },
        "id": "D5LH9QUyjnL3",
        "outputId": "2fb53c0a-0b65-4d16-e3ea-f7440d92c10b"
      },
      "execution_count": null,
      "outputs": [
        {
          "output_type": "execute_result",
          "data": {
            "text/plain": [
              "         id keyword location  \\\n",
              "0         0     NaN      NaN   \n",
              "1         2     NaN      NaN   \n",
              "2         3     NaN      NaN   \n",
              "3         9     NaN      NaN   \n",
              "4        11     NaN      NaN   \n",
              "...     ...     ...      ...   \n",
              "3258  10861     NaN      NaN   \n",
              "3259  10865     NaN      NaN   \n",
              "3260  10868     NaN      NaN   \n",
              "3261  10874     NaN      NaN   \n",
              "3262  10875     NaN      NaN   \n",
              "\n",
              "                                                   text  \n",
              "0                    Just happened a terrible car crash  \n",
              "1     Heard about #earthquake is different cities, s...  \n",
              "2     there is a forest fire at spot pond, geese are...  \n",
              "3              Apocalypse lighting. #Spokane #wildfires  \n",
              "4         Typhoon Soudelor kills 28 in China and Taiwan  \n",
              "...                                                 ...  \n",
              "3258  EARTHQUAKE SAFETY LOS ANGELES ÛÒ SAFETY FASTE...  \n",
              "3259  Storm in RI worse than last hurricane. My city...  \n",
              "3260  Green Line derailment in Chicago http://t.co/U...  \n",
              "3261  MEG issues Hazardous Weather Outlook (HWO) htt...  \n",
              "3262  #CityofCalgary has activated its Municipal Eme...  \n",
              "\n",
              "[3263 rows x 4 columns]"
            ],
            "text/html": [
              "\n",
              "  <div id=\"df-0042e6a4-59e2-43f6-8a65-bde58870774f\" class=\"colab-df-container\">\n",
              "    <div>\n",
              "<style scoped>\n",
              "    .dataframe tbody tr th:only-of-type {\n",
              "        vertical-align: middle;\n",
              "    }\n",
              "\n",
              "    .dataframe tbody tr th {\n",
              "        vertical-align: top;\n",
              "    }\n",
              "\n",
              "    .dataframe thead th {\n",
              "        text-align: right;\n",
              "    }\n",
              "</style>\n",
              "<table border=\"1\" class=\"dataframe\">\n",
              "  <thead>\n",
              "    <tr style=\"text-align: right;\">\n",
              "      <th></th>\n",
              "      <th>id</th>\n",
              "      <th>keyword</th>\n",
              "      <th>location</th>\n",
              "      <th>text</th>\n",
              "    </tr>\n",
              "  </thead>\n",
              "  <tbody>\n",
              "    <tr>\n",
              "      <th>0</th>\n",
              "      <td>0</td>\n",
              "      <td>NaN</td>\n",
              "      <td>NaN</td>\n",
              "      <td>Just happened a terrible car crash</td>\n",
              "    </tr>\n",
              "    <tr>\n",
              "      <th>1</th>\n",
              "      <td>2</td>\n",
              "      <td>NaN</td>\n",
              "      <td>NaN</td>\n",
              "      <td>Heard about #earthquake is different cities, s...</td>\n",
              "    </tr>\n",
              "    <tr>\n",
              "      <th>2</th>\n",
              "      <td>3</td>\n",
              "      <td>NaN</td>\n",
              "      <td>NaN</td>\n",
              "      <td>there is a forest fire at spot pond, geese are...</td>\n",
              "    </tr>\n",
              "    <tr>\n",
              "      <th>3</th>\n",
              "      <td>9</td>\n",
              "      <td>NaN</td>\n",
              "      <td>NaN</td>\n",
              "      <td>Apocalypse lighting. #Spokane #wildfires</td>\n",
              "    </tr>\n",
              "    <tr>\n",
              "      <th>4</th>\n",
              "      <td>11</td>\n",
              "      <td>NaN</td>\n",
              "      <td>NaN</td>\n",
              "      <td>Typhoon Soudelor kills 28 in China and Taiwan</td>\n",
              "    </tr>\n",
              "    <tr>\n",
              "      <th>...</th>\n",
              "      <td>...</td>\n",
              "      <td>...</td>\n",
              "      <td>...</td>\n",
              "      <td>...</td>\n",
              "    </tr>\n",
              "    <tr>\n",
              "      <th>3258</th>\n",
              "      <td>10861</td>\n",
              "      <td>NaN</td>\n",
              "      <td>NaN</td>\n",
              "      <td>EARTHQUAKE SAFETY LOS ANGELES ÛÒ SAFETY FASTE...</td>\n",
              "    </tr>\n",
              "    <tr>\n",
              "      <th>3259</th>\n",
              "      <td>10865</td>\n",
              "      <td>NaN</td>\n",
              "      <td>NaN</td>\n",
              "      <td>Storm in RI worse than last hurricane. My city...</td>\n",
              "    </tr>\n",
              "    <tr>\n",
              "      <th>3260</th>\n",
              "      <td>10868</td>\n",
              "      <td>NaN</td>\n",
              "      <td>NaN</td>\n",
              "      <td>Green Line derailment in Chicago http://t.co/U...</td>\n",
              "    </tr>\n",
              "    <tr>\n",
              "      <th>3261</th>\n",
              "      <td>10874</td>\n",
              "      <td>NaN</td>\n",
              "      <td>NaN</td>\n",
              "      <td>MEG issues Hazardous Weather Outlook (HWO) htt...</td>\n",
              "    </tr>\n",
              "    <tr>\n",
              "      <th>3262</th>\n",
              "      <td>10875</td>\n",
              "      <td>NaN</td>\n",
              "      <td>NaN</td>\n",
              "      <td>#CityofCalgary has activated its Municipal Eme...</td>\n",
              "    </tr>\n",
              "  </tbody>\n",
              "</table>\n",
              "<p>3263 rows × 4 columns</p>\n",
              "</div>\n",
              "    <div class=\"colab-df-buttons\">\n",
              "\n",
              "  <div class=\"colab-df-container\">\n",
              "    <button class=\"colab-df-convert\" onclick=\"convertToInteractive('df-0042e6a4-59e2-43f6-8a65-bde58870774f')\"\n",
              "            title=\"Convert this dataframe to an interactive table.\"\n",
              "            style=\"display:none;\">\n",
              "\n",
              "  <svg xmlns=\"http://www.w3.org/2000/svg\" height=\"24px\" viewBox=\"0 -960 960 960\">\n",
              "    <path d=\"M120-120v-720h720v720H120Zm60-500h600v-160H180v160Zm220 220h160v-160H400v160Zm0 220h160v-160H400v160ZM180-400h160v-160H180v160Zm440 0h160v-160H620v160ZM180-180h160v-160H180v160Zm440 0h160v-160H620v160Z\"/>\n",
              "  </svg>\n",
              "    </button>\n",
              "\n",
              "  <style>\n",
              "    .colab-df-container {\n",
              "      display:flex;\n",
              "      gap: 12px;\n",
              "    }\n",
              "\n",
              "    .colab-df-convert {\n",
              "      background-color: #E8F0FE;\n",
              "      border: none;\n",
              "      border-radius: 50%;\n",
              "      cursor: pointer;\n",
              "      display: none;\n",
              "      fill: #1967D2;\n",
              "      height: 32px;\n",
              "      padding: 0 0 0 0;\n",
              "      width: 32px;\n",
              "    }\n",
              "\n",
              "    .colab-df-convert:hover {\n",
              "      background-color: #E2EBFA;\n",
              "      box-shadow: 0px 1px 2px rgba(60, 64, 67, 0.3), 0px 1px 3px 1px rgba(60, 64, 67, 0.15);\n",
              "      fill: #174EA6;\n",
              "    }\n",
              "\n",
              "    .colab-df-buttons div {\n",
              "      margin-bottom: 4px;\n",
              "    }\n",
              "\n",
              "    [theme=dark] .colab-df-convert {\n",
              "      background-color: #3B4455;\n",
              "      fill: #D2E3FC;\n",
              "    }\n",
              "\n",
              "    [theme=dark] .colab-df-convert:hover {\n",
              "      background-color: #434B5C;\n",
              "      box-shadow: 0px 1px 3px 1px rgba(0, 0, 0, 0.15);\n",
              "      filter: drop-shadow(0px 1px 2px rgba(0, 0, 0, 0.3));\n",
              "      fill: #FFFFFF;\n",
              "    }\n",
              "  </style>\n",
              "\n",
              "    <script>\n",
              "      const buttonEl =\n",
              "        document.querySelector('#df-0042e6a4-59e2-43f6-8a65-bde58870774f button.colab-df-convert');\n",
              "      buttonEl.style.display =\n",
              "        google.colab.kernel.accessAllowed ? 'block' : 'none';\n",
              "\n",
              "      async function convertToInteractive(key) {\n",
              "        const element = document.querySelector('#df-0042e6a4-59e2-43f6-8a65-bde58870774f');\n",
              "        const dataTable =\n",
              "          await google.colab.kernel.invokeFunction('convertToInteractive',\n",
              "                                                    [key], {});\n",
              "        if (!dataTable) return;\n",
              "\n",
              "        const docLinkHtml = 'Like what you see? Visit the ' +\n",
              "          '<a target=\"_blank\" href=https://colab.research.google.com/notebooks/data_table.ipynb>data table notebook</a>'\n",
              "          + ' to learn more about interactive tables.';\n",
              "        element.innerHTML = '';\n",
              "        dataTable['output_type'] = 'display_data';\n",
              "        await google.colab.output.renderOutput(dataTable, element);\n",
              "        const docLink = document.createElement('div');\n",
              "        docLink.innerHTML = docLinkHtml;\n",
              "        element.appendChild(docLink);\n",
              "      }\n",
              "    </script>\n",
              "  </div>\n",
              "\n",
              "\n",
              "<div id=\"df-5a0717fc-ab87-4137-be83-2c331366c8f6\">\n",
              "  <button class=\"colab-df-quickchart\" onclick=\"quickchart('df-5a0717fc-ab87-4137-be83-2c331366c8f6')\"\n",
              "            title=\"Suggest charts\"\n",
              "            style=\"display:none;\">\n",
              "\n",
              "<svg xmlns=\"http://www.w3.org/2000/svg\" height=\"24px\"viewBox=\"0 0 24 24\"\n",
              "     width=\"24px\">\n",
              "    <g>\n",
              "        <path d=\"M19 3H5c-1.1 0-2 .9-2 2v14c0 1.1.9 2 2 2h14c1.1 0 2-.9 2-2V5c0-1.1-.9-2-2-2zM9 17H7v-7h2v7zm4 0h-2V7h2v10zm4 0h-2v-4h2v4z\"/>\n",
              "    </g>\n",
              "</svg>\n",
              "  </button>\n",
              "\n",
              "<style>\n",
              "  .colab-df-quickchart {\n",
              "      --bg-color: #E8F0FE;\n",
              "      --fill-color: #1967D2;\n",
              "      --hover-bg-color: #E2EBFA;\n",
              "      --hover-fill-color: #174EA6;\n",
              "      --disabled-fill-color: #AAA;\n",
              "      --disabled-bg-color: #DDD;\n",
              "  }\n",
              "\n",
              "  [theme=dark] .colab-df-quickchart {\n",
              "      --bg-color: #3B4455;\n",
              "      --fill-color: #D2E3FC;\n",
              "      --hover-bg-color: #434B5C;\n",
              "      --hover-fill-color: #FFFFFF;\n",
              "      --disabled-bg-color: #3B4455;\n",
              "      --disabled-fill-color: #666;\n",
              "  }\n",
              "\n",
              "  .colab-df-quickchart {\n",
              "    background-color: var(--bg-color);\n",
              "    border: none;\n",
              "    border-radius: 50%;\n",
              "    cursor: pointer;\n",
              "    display: none;\n",
              "    fill: var(--fill-color);\n",
              "    height: 32px;\n",
              "    padding: 0;\n",
              "    width: 32px;\n",
              "  }\n",
              "\n",
              "  .colab-df-quickchart:hover {\n",
              "    background-color: var(--hover-bg-color);\n",
              "    box-shadow: 0 1px 2px rgba(60, 64, 67, 0.3), 0 1px 3px 1px rgba(60, 64, 67, 0.15);\n",
              "    fill: var(--button-hover-fill-color);\n",
              "  }\n",
              "\n",
              "  .colab-df-quickchart-complete:disabled,\n",
              "  .colab-df-quickchart-complete:disabled:hover {\n",
              "    background-color: var(--disabled-bg-color);\n",
              "    fill: var(--disabled-fill-color);\n",
              "    box-shadow: none;\n",
              "  }\n",
              "\n",
              "  .colab-df-spinner {\n",
              "    border: 2px solid var(--fill-color);\n",
              "    border-color: transparent;\n",
              "    border-bottom-color: var(--fill-color);\n",
              "    animation:\n",
              "      spin 1s steps(1) infinite;\n",
              "  }\n",
              "\n",
              "  @keyframes spin {\n",
              "    0% {\n",
              "      border-color: transparent;\n",
              "      border-bottom-color: var(--fill-color);\n",
              "      border-left-color: var(--fill-color);\n",
              "    }\n",
              "    20% {\n",
              "      border-color: transparent;\n",
              "      border-left-color: var(--fill-color);\n",
              "      border-top-color: var(--fill-color);\n",
              "    }\n",
              "    30% {\n",
              "      border-color: transparent;\n",
              "      border-left-color: var(--fill-color);\n",
              "      border-top-color: var(--fill-color);\n",
              "      border-right-color: var(--fill-color);\n",
              "    }\n",
              "    40% {\n",
              "      border-color: transparent;\n",
              "      border-right-color: var(--fill-color);\n",
              "      border-top-color: var(--fill-color);\n",
              "    }\n",
              "    60% {\n",
              "      border-color: transparent;\n",
              "      border-right-color: var(--fill-color);\n",
              "    }\n",
              "    80% {\n",
              "      border-color: transparent;\n",
              "      border-right-color: var(--fill-color);\n",
              "      border-bottom-color: var(--fill-color);\n",
              "    }\n",
              "    90% {\n",
              "      border-color: transparent;\n",
              "      border-bottom-color: var(--fill-color);\n",
              "    }\n",
              "  }\n",
              "</style>\n",
              "\n",
              "  <script>\n",
              "    async function quickchart(key) {\n",
              "      const quickchartButtonEl =\n",
              "        document.querySelector('#' + key + ' button');\n",
              "      quickchartButtonEl.disabled = true;  // To prevent multiple clicks.\n",
              "      quickchartButtonEl.classList.add('colab-df-spinner');\n",
              "      try {\n",
              "        const charts = await google.colab.kernel.invokeFunction(\n",
              "            'suggestCharts', [key], {});\n",
              "      } catch (error) {\n",
              "        console.error('Error during call to suggestCharts:', error);\n",
              "      }\n",
              "      quickchartButtonEl.classList.remove('colab-df-spinner');\n",
              "      quickchartButtonEl.classList.add('colab-df-quickchart-complete');\n",
              "    }\n",
              "    (() => {\n",
              "      let quickchartButtonEl =\n",
              "        document.querySelector('#df-5a0717fc-ab87-4137-be83-2c331366c8f6 button');\n",
              "      quickchartButtonEl.style.display =\n",
              "        google.colab.kernel.accessAllowed ? 'block' : 'none';\n",
              "    })();\n",
              "  </script>\n",
              "</div>\n",
              "\n",
              "  <div id=\"id_c1ba2655-f1e7-407c-b97b-348e91ba7e95\">\n",
              "    <style>\n",
              "      .colab-df-generate {\n",
              "        background-color: #E8F0FE;\n",
              "        border: none;\n",
              "        border-radius: 50%;\n",
              "        cursor: pointer;\n",
              "        display: none;\n",
              "        fill: #1967D2;\n",
              "        height: 32px;\n",
              "        padding: 0 0 0 0;\n",
              "        width: 32px;\n",
              "      }\n",
              "\n",
              "      .colab-df-generate:hover {\n",
              "        background-color: #E2EBFA;\n",
              "        box-shadow: 0px 1px 2px rgba(60, 64, 67, 0.3), 0px 1px 3px 1px rgba(60, 64, 67, 0.15);\n",
              "        fill: #174EA6;\n",
              "      }\n",
              "\n",
              "      [theme=dark] .colab-df-generate {\n",
              "        background-color: #3B4455;\n",
              "        fill: #D2E3FC;\n",
              "      }\n",
              "\n",
              "      [theme=dark] .colab-df-generate:hover {\n",
              "        background-color: #434B5C;\n",
              "        box-shadow: 0px 1px 3px 1px rgba(0, 0, 0, 0.15);\n",
              "        filter: drop-shadow(0px 1px 2px rgba(0, 0, 0, 0.3));\n",
              "        fill: #FFFFFF;\n",
              "      }\n",
              "    </style>\n",
              "    <button class=\"colab-df-generate\" onclick=\"generateWithVariable('test_data')\"\n",
              "            title=\"Generate code using this dataframe.\"\n",
              "            style=\"display:none;\">\n",
              "\n",
              "  <svg xmlns=\"http://www.w3.org/2000/svg\" height=\"24px\"viewBox=\"0 0 24 24\"\n",
              "       width=\"24px\">\n",
              "    <path d=\"M7,19H8.4L18.45,9,17,7.55,7,17.6ZM5,21V16.75L18.45,3.32a2,2,0,0,1,2.83,0l1.4,1.43a1.91,1.91,0,0,1,.58,1.4,1.91,1.91,0,0,1-.58,1.4L9.25,21ZM18.45,9,17,7.55Zm-12,3A5.31,5.31,0,0,0,4.9,8.1,5.31,5.31,0,0,0,1,6.5,5.31,5.31,0,0,0,4.9,4.9,5.31,5.31,0,0,0,6.5,1,5.31,5.31,0,0,0,8.1,4.9,5.31,5.31,0,0,0,12,6.5,5.46,5.46,0,0,0,6.5,12Z\"/>\n",
              "  </svg>\n",
              "    </button>\n",
              "    <script>\n",
              "      (() => {\n",
              "      const buttonEl =\n",
              "        document.querySelector('#id_c1ba2655-f1e7-407c-b97b-348e91ba7e95 button.colab-df-generate');\n",
              "      buttonEl.style.display =\n",
              "        google.colab.kernel.accessAllowed ? 'block' : 'none';\n",
              "\n",
              "      buttonEl.onclick = () => {\n",
              "        google.colab.notebook.generateWithVariable('test_data');\n",
              "      }\n",
              "      })();\n",
              "    </script>\n",
              "  </div>\n",
              "\n",
              "    </div>\n",
              "  </div>\n"
            ],
            "application/vnd.google.colaboratory.intrinsic+json": {
              "type": "dataframe",
              "variable_name": "test_data",
              "summary": "{\n  \"name\": \"test_data\",\n  \"rows\": 3263,\n  \"fields\": [\n    {\n      \"column\": \"id\",\n      \"properties\": {\n        \"dtype\": \"number\",\n        \"std\": 3146,\n        \"min\": 0,\n        \"max\": 10875,\n        \"num_unique_values\": 3263,\n        \"samples\": [\n          8051,\n          425,\n          1330\n        ],\n        \"semantic_type\": \"\",\n        \"description\": \"\"\n      }\n    },\n    {\n      \"column\": \"keyword\",\n      \"properties\": {\n        \"dtype\": \"category\",\n        \"num_unique_values\": 221,\n        \"samples\": [\n          \"injury\",\n          \"nuclear%20reactor\",\n          \"engulfed\"\n        ],\n        \"semantic_type\": \"\",\n        \"description\": \"\"\n      }\n    },\n    {\n      \"column\": \"location\",\n      \"properties\": {\n        \"dtype\": \"category\",\n        \"num_unique_values\": 1602,\n        \"samples\": [\n          \"UAE\",\n          \"Tokio / Tokyo\",\n          \"Texas\"\n        ],\n        \"semantic_type\": \"\",\n        \"description\": \"\"\n      }\n    },\n    {\n      \"column\": \"text\",\n      \"properties\": {\n        \"dtype\": \"string\",\n        \"num_unique_values\": 3243,\n        \"samples\": [\n          \"Latest: USA: Huge sinkhole swallows up Brooklyn intersection http://t.co/vspKHg3nZy\",\n          \"I liked a @YouTube video http://t.co/a5YTAw9Vih S.O.S. Rona Guide - The Red Whirlwind\",\n          \"HitchBot travels Europe and greeted with open arms. Gets destroyed after two weeks in america. There's a lesson to be learned here.\"\n        ],\n        \"semantic_type\": \"\",\n        \"description\": \"\"\n      }\n    }\n  ]\n}"
            }
          },
          "metadata": {},
          "execution_count": 127
        }
      ]
    },
    {
      "cell_type": "code",
      "source": [
        "test_sentences = test_data[\"text\"].to_list()\n",
        "test_samples = random.sample(test_sentences, 10)#pick 10 sentences\n",
        "for test_sample in test_samples:\n",
        "  pred_probs = tf.squeeze(model_6_pretrained_model.predict([test_sample]))\n",
        "  pred= tf.round(pred_probs)\n",
        "  print(f\"pred: {int(pred)}, probs: {pred_probs}\")\n",
        "  print(f\"text_sample: \\n{text_sample}\\n\")\n",
        "  print(\"........\\n\")"
      ],
      "metadata": {
        "colab": {
          "base_uri": "https://localhost:8080/"
        },
        "collapsed": true,
        "id": "zN-6col7q94T",
        "outputId": "48d6aaab-8480-48bd-95ad-d8b2a77f4035"
      },
      "execution_count": null,
      "outputs": [
        {
          "output_type": "stream",
          "name": "stdout",
          "text": [
            "1/1 [==============================] - 0s 44ms/step\n",
            "pred: 1, probs: 0.9628240466117859\n",
            "text_sample: \n",
            "[[[ 0.02239764 -0.01245258 -0.04062137 ... -0.04477341 -0.05737216\n",
            "   -0.00197347]\n",
            "  [ 0.06805478 -0.03506765 -0.0541717  ...  0.03582341 -0.09578142\n",
            "    0.02340902]\n",
            "  [-0.05957595 -0.02578719 -0.05945874 ... -0.05576746 -0.05607562\n",
            "    0.00593478]\n",
            "  ...\n",
            "  [-0.02733136 -0.00046978 -0.03324375 ... -0.01999495 -0.03667902\n",
            "   -0.05314578]\n",
            "  [-0.02733136 -0.00046978 -0.03324375 ... -0.01999495 -0.03667902\n",
            "   -0.05314578]\n",
            "  [-0.02733136 -0.00046978 -0.03324375 ... -0.01999495 -0.03667902\n",
            "   -0.05314578]]]\n",
            "\n",
            "........\n",
            "\n",
            "1/1 [==============================] - 0s 44ms/step\n",
            "pred: 0, probs: 0.4614371359348297\n",
            "text_sample: \n",
            "[[[ 0.02239764 -0.01245258 -0.04062137 ... -0.04477341 -0.05737216\n",
            "   -0.00197347]\n",
            "  [ 0.06805478 -0.03506765 -0.0541717  ...  0.03582341 -0.09578142\n",
            "    0.02340902]\n",
            "  [-0.05957595 -0.02578719 -0.05945874 ... -0.05576746 -0.05607562\n",
            "    0.00593478]\n",
            "  ...\n",
            "  [-0.02733136 -0.00046978 -0.03324375 ... -0.01999495 -0.03667902\n",
            "   -0.05314578]\n",
            "  [-0.02733136 -0.00046978 -0.03324375 ... -0.01999495 -0.03667902\n",
            "   -0.05314578]\n",
            "  [-0.02733136 -0.00046978 -0.03324375 ... -0.01999495 -0.03667902\n",
            "   -0.05314578]]]\n",
            "\n",
            "........\n",
            "\n",
            "1/1 [==============================] - 0s 45ms/step\n",
            "pred: 0, probs: 0.058652326464653015\n",
            "text_sample: \n",
            "[[[ 0.02239764 -0.01245258 -0.04062137 ... -0.04477341 -0.05737216\n",
            "   -0.00197347]\n",
            "  [ 0.06805478 -0.03506765 -0.0541717  ...  0.03582341 -0.09578142\n",
            "    0.02340902]\n",
            "  [-0.05957595 -0.02578719 -0.05945874 ... -0.05576746 -0.05607562\n",
            "    0.00593478]\n",
            "  ...\n",
            "  [-0.02733136 -0.00046978 -0.03324375 ... -0.01999495 -0.03667902\n",
            "   -0.05314578]\n",
            "  [-0.02733136 -0.00046978 -0.03324375 ... -0.01999495 -0.03667902\n",
            "   -0.05314578]\n",
            "  [-0.02733136 -0.00046978 -0.03324375 ... -0.01999495 -0.03667902\n",
            "   -0.05314578]]]\n",
            "\n",
            "........\n",
            "\n",
            "1/1 [==============================] - 0s 52ms/step\n",
            "pred: 0, probs: 0.37634408473968506\n",
            "text_sample: \n",
            "[[[ 0.02239764 -0.01245258 -0.04062137 ... -0.04477341 -0.05737216\n",
            "   -0.00197347]\n",
            "  [ 0.06805478 -0.03506765 -0.0541717  ...  0.03582341 -0.09578142\n",
            "    0.02340902]\n",
            "  [-0.05957595 -0.02578719 -0.05945874 ... -0.05576746 -0.05607562\n",
            "    0.00593478]\n",
            "  ...\n",
            "  [-0.02733136 -0.00046978 -0.03324375 ... -0.01999495 -0.03667902\n",
            "   -0.05314578]\n",
            "  [-0.02733136 -0.00046978 -0.03324375 ... -0.01999495 -0.03667902\n",
            "   -0.05314578]\n",
            "  [-0.02733136 -0.00046978 -0.03324375 ... -0.01999495 -0.03667902\n",
            "   -0.05314578]]]\n",
            "\n",
            "........\n",
            "\n",
            "1/1 [==============================] - 0s 43ms/step\n",
            "pred: 1, probs: 0.9806599617004395\n",
            "text_sample: \n",
            "[[[ 0.02239764 -0.01245258 -0.04062137 ... -0.04477341 -0.05737216\n",
            "   -0.00197347]\n",
            "  [ 0.06805478 -0.03506765 -0.0541717  ...  0.03582341 -0.09578142\n",
            "    0.02340902]\n",
            "  [-0.05957595 -0.02578719 -0.05945874 ... -0.05576746 -0.05607562\n",
            "    0.00593478]\n",
            "  ...\n",
            "  [-0.02733136 -0.00046978 -0.03324375 ... -0.01999495 -0.03667902\n",
            "   -0.05314578]\n",
            "  [-0.02733136 -0.00046978 -0.03324375 ... -0.01999495 -0.03667902\n",
            "   -0.05314578]\n",
            "  [-0.02733136 -0.00046978 -0.03324375 ... -0.01999495 -0.03667902\n",
            "   -0.05314578]]]\n",
            "\n",
            "........\n",
            "\n",
            "1/1 [==============================] - 0s 44ms/step\n",
            "pred: 1, probs: 0.6853220462799072\n",
            "text_sample: \n",
            "[[[ 0.02239764 -0.01245258 -0.04062137 ... -0.04477341 -0.05737216\n",
            "   -0.00197347]\n",
            "  [ 0.06805478 -0.03506765 -0.0541717  ...  0.03582341 -0.09578142\n",
            "    0.02340902]\n",
            "  [-0.05957595 -0.02578719 -0.05945874 ... -0.05576746 -0.05607562\n",
            "    0.00593478]\n",
            "  ...\n",
            "  [-0.02733136 -0.00046978 -0.03324375 ... -0.01999495 -0.03667902\n",
            "   -0.05314578]\n",
            "  [-0.02733136 -0.00046978 -0.03324375 ... -0.01999495 -0.03667902\n",
            "   -0.05314578]\n",
            "  [-0.02733136 -0.00046978 -0.03324375 ... -0.01999495 -0.03667902\n",
            "   -0.05314578]]]\n",
            "\n",
            "........\n",
            "\n",
            "1/1 [==============================] - 0s 43ms/step\n",
            "pred: 0, probs: 0.09474162757396698\n",
            "text_sample: \n",
            "[[[ 0.02239764 -0.01245258 -0.04062137 ... -0.04477341 -0.05737216\n",
            "   -0.00197347]\n",
            "  [ 0.06805478 -0.03506765 -0.0541717  ...  0.03582341 -0.09578142\n",
            "    0.02340902]\n",
            "  [-0.05957595 -0.02578719 -0.05945874 ... -0.05576746 -0.05607562\n",
            "    0.00593478]\n",
            "  ...\n",
            "  [-0.02733136 -0.00046978 -0.03324375 ... -0.01999495 -0.03667902\n",
            "   -0.05314578]\n",
            "  [-0.02733136 -0.00046978 -0.03324375 ... -0.01999495 -0.03667902\n",
            "   -0.05314578]\n",
            "  [-0.02733136 -0.00046978 -0.03324375 ... -0.01999495 -0.03667902\n",
            "   -0.05314578]]]\n",
            "\n",
            "........\n",
            "\n",
            "1/1 [==============================] - 0s 48ms/step\n",
            "pred: 1, probs: 0.7712296843528748\n",
            "text_sample: \n",
            "[[[ 0.02239764 -0.01245258 -0.04062137 ... -0.04477341 -0.05737216\n",
            "   -0.00197347]\n",
            "  [ 0.06805478 -0.03506765 -0.0541717  ...  0.03582341 -0.09578142\n",
            "    0.02340902]\n",
            "  [-0.05957595 -0.02578719 -0.05945874 ... -0.05576746 -0.05607562\n",
            "    0.00593478]\n",
            "  ...\n",
            "  [-0.02733136 -0.00046978 -0.03324375 ... -0.01999495 -0.03667902\n",
            "   -0.05314578]\n",
            "  [-0.02733136 -0.00046978 -0.03324375 ... -0.01999495 -0.03667902\n",
            "   -0.05314578]\n",
            "  [-0.02733136 -0.00046978 -0.03324375 ... -0.01999495 -0.03667902\n",
            "   -0.05314578]]]\n",
            "\n",
            "........\n",
            "\n",
            "1/1 [==============================] - 0s 47ms/step\n",
            "pred: 1, probs: 0.7669727802276611\n",
            "text_sample: \n",
            "[[[ 0.02239764 -0.01245258 -0.04062137 ... -0.04477341 -0.05737216\n",
            "   -0.00197347]\n",
            "  [ 0.06805478 -0.03506765 -0.0541717  ...  0.03582341 -0.09578142\n",
            "    0.02340902]\n",
            "  [-0.05957595 -0.02578719 -0.05945874 ... -0.05576746 -0.05607562\n",
            "    0.00593478]\n",
            "  ...\n",
            "  [-0.02733136 -0.00046978 -0.03324375 ... -0.01999495 -0.03667902\n",
            "   -0.05314578]\n",
            "  [-0.02733136 -0.00046978 -0.03324375 ... -0.01999495 -0.03667902\n",
            "   -0.05314578]\n",
            "  [-0.02733136 -0.00046978 -0.03324375 ... -0.01999495 -0.03667902\n",
            "   -0.05314578]]]\n",
            "\n",
            "........\n",
            "\n",
            "1/1 [==============================] - 0s 55ms/step\n",
            "pred: 0, probs: 0.059987232089042664\n",
            "text_sample: \n",
            "[[[ 0.02239764 -0.01245258 -0.04062137 ... -0.04477341 -0.05737216\n",
            "   -0.00197347]\n",
            "  [ 0.06805478 -0.03506765 -0.0541717  ...  0.03582341 -0.09578142\n",
            "    0.02340902]\n",
            "  [-0.05957595 -0.02578719 -0.05945874 ... -0.05576746 -0.05607562\n",
            "    0.00593478]\n",
            "  ...\n",
            "  [-0.02733136 -0.00046978 -0.03324375 ... -0.01999495 -0.03667902\n",
            "   -0.05314578]\n",
            "  [-0.02733136 -0.00046978 -0.03324375 ... -0.01999495 -0.03667902\n",
            "   -0.05314578]\n",
            "  [-0.02733136 -0.00046978 -0.03324375 ... -0.01999495 -0.03667902\n",
            "   -0.05314578]]]\n",
            "\n",
            "........\n",
            "\n"
          ]
        }
      ]
    },
    {
      "cell_type": "markdown",
      "source": [
        "##prediction on my name"
      ],
      "metadata": {
        "id": "XN9WIkGPj-io"
      }
    },
    {
      "cell_type": "code",
      "source": [
        "pred_probs = model_6_pretrained_model.predict([\"My name is ayush\"])\n",
        "pred= tf.round(pred_probs)\n",
        "int(pred)"
      ],
      "metadata": {
        "colab": {
          "base_uri": "https://localhost:8080/"
        },
        "id": "YKIrQ30gdCou",
        "outputId": "57b334f5-7908-4adf-f754-0fa9c22a5899"
      },
      "execution_count": null,
      "outputs": [
        {
          "output_type": "stream",
          "name": "stdout",
          "text": [
            "1/1 [==============================] - 0s 146ms/step\n"
          ]
        },
        {
          "output_type": "execute_result",
          "data": {
            "text/plain": [
              "0"
            ]
          },
          "metadata": {},
          "execution_count": 138
        }
      ]
    },
    {
      "cell_type": "markdown",
      "source": [
        "#speed/score trade off\n"
      ],
      "metadata": {
        "id": "jichX3xRmnN_"
      }
    },
    {
      "cell_type": "code",
      "source": [
        "model_6_results"
      ],
      "metadata": {
        "colab": {
          "base_uri": "https://localhost:8080/"
        },
        "id": "nl94agsAnFIB",
        "outputId": "c490adae-9c1f-4b50-d73d-766668962b22"
      },
      "execution_count": null,
      "outputs": [
        {
          "output_type": "execute_result",
          "data": {
            "text/plain": [
              "{'accuracy': 80.81471747700394,\n",
              " 'precision': 0.8070251260667504,\n",
              " 'recall': 0.8081471747700394,\n",
              " 'f1': 0.806885296163228}"
            ]
          },
          "metadata": {},
          "execution_count": 139
        }
      ]
    },
    {
      "cell_type": "code",
      "source": [
        "baseline_results"
      ],
      "metadata": {
        "colab": {
          "base_uri": "https://localhost:8080/"
        },
        "id": "gnHiC9YynNCn",
        "outputId": "3a8de9f0-3dbf-4d52-ee23-6379c320c4ef"
      },
      "execution_count": null,
      "outputs": [
        {
          "output_type": "execute_result",
          "data": {
            "text/plain": [
              "{'accuracy': 79.89487516425756,\n",
              " 'precision': 0.8095562735335368,\n",
              " 'recall': 0.7989487516425755,\n",
              " 'f1': 0.7905183694503822}"
            ]
          },
          "metadata": {},
          "execution_count": 140
        }
      ]
    },
    {
      "cell_type": "markdown",
      "source": [
        "###pred_timer() to measure time the model makes"
      ],
      "metadata": {
        "id": "FhTOOvY1rUYM"
      }
    },
    {
      "cell_type": "code",
      "source": [
        "import time\n",
        "def pred_timer(model,sample):\n",
        "  start_time = time.perf_counter() #start time\n",
        "  model.predict(sample)\n",
        "  end_time= time.perf_counter() #end_time\n",
        "  total_time= end_time-start_time\n",
        "  time_per_pred= total_time/len(sample)\n",
        "  return total_time, time_per_pred\n"
      ],
      "metadata": {
        "id": "oWjouJECpbkf"
      },
      "execution_count": null,
      "outputs": []
    },
    {
      "cell_type": "code",
      "source": [
        "#calculate tf hub sentence encoder\n",
        "model_6_total_pred_time, model_6_time_per_pred = pred_timer(model_6_pretrained_model,val_sentences)\n",
        "model_6_total_pred_time, model_6_time_per_pred"
      ],
      "metadata": {
        "colab": {
          "base_uri": "https://localhost:8080/"
        },
        "id": "swoI8BXwtlql",
        "outputId": "50b30f03-5ccf-42de-e791-4d16f41f57e5"
      },
      "execution_count": null,
      "outputs": [
        {
          "output_type": "stream",
          "name": "stdout",
          "text": [
            "24/24 [==============================] - 1s 24ms/step\n"
          ]
        },
        {
          "output_type": "execute_result",
          "data": {
            "text/plain": [
              "(0.83129841400023, 0.0010923763653091065)"
            ]
          },
          "metadata": {},
          "execution_count": 144
        }
      ]
    },
    {
      "cell_type": "code",
      "source": [
        "#calculate baseline time\n",
        "baseline_total_time, baseline_time_per_pred = pred_timer(model_0, val_sentences)\n",
        "baseline_total_time, baseline_time_per_pred"
      ],
      "metadata": {
        "colab": {
          "base_uri": "https://localhost:8080/"
        },
        "id": "VmPbUU_IudO0",
        "outputId": "80b524bc-2944-40c4-c1df-8b4b580e5c34"
      },
      "execution_count": null,
      "outputs": [
        {
          "output_type": "execute_result",
          "data": {
            "text/plain": [
              "(0.047455799999625015, 6.235978974983576e-05)"
            ]
          },
          "metadata": {},
          "execution_count": 145
        }
      ]
    }
  ]
}